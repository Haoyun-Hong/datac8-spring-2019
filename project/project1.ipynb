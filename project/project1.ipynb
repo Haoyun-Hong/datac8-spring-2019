{
 "cells": [
  {
   "cell_type": "markdown",
   "metadata": {},
   "source": [
    "## World Progress"
   ]
  },
  {
   "cell_type": "markdown",
   "metadata": {},
   "source": [
    "In this project, you'll explore data from [Gapminder.org](http://gapminder.org), a website dedicated to providing a fact-based view of the world and how it has changed. That site includes several data visualizations and presentations, but also publishes the raw data that we will use in this project to recreate and extend some of their most famous visualizations.\n",
    "\n",
    "The Gapminder website collects data from many sources and compiles them into tables that describe many countries around the world. All of the data they aggregate are published in the [Systema Globalis](https://github.com/open-numbers/ddf--gapminder--systema_globalis/blob/master/README.md). Their goal is \"to compile all public statistics; Social, Economic and Environmental; into a comparable total dataset.\" All data sets in this project are copied directly from the Systema Globalis without any changes.\n",
    "\n",
    "This project is dedicated to [Hans Rosling](https://en.wikipedia.org/wiki/Hans_Rosling) (1948-2017), who championed the use of data to understand and prioritize global development challenges."
   ]
  },
  {
   "cell_type": "markdown",
   "metadata": {},
   "source": [
    "### Logistics\n",
    "\n",
    "**Deadline.** This project is due at 11:59pm on Friday 3/1. Projects will be accepted up to 2 days (48 hours) late; a project submitted less than 24 hours after the deadline will receive 2/3 credit, a project submitted between 24 and 48 hours after the deadline will receive 1/3 credit, and a project submitted 48 hours or more after the deadline will receive no credit. It's **much** better to be early than late, so start working now.\n",
    "\n",
    "**Checkpoint.** For full credit, you must also complete the first 8 questions and submit them by 11:59pm on Friday 2/22. You will have some lab time to work on these questions, but we recommend that you start the project before lab and leave time to finish the checkpoint afterward.\n",
    "\n",
    "**Partners.** You may work with one other partner; your partner must be from your assigned lab section. Only one of you is required to submit the project. On [okpy.org](http://okpy.org), the person who submits should also designate their partner so that both of you receive credit.\n",
    "\n",
    "**Rules.** Don't share your code with anybody but your partner. You are welcome to discuss questions with other students, but don't share the answers. The experience of solving the problems in this project will prepare you for exams (and life). If someone asks you for the answer, resist! Instead, you can demonstrate how you would solve a similar problem.\n",
    "\n",
    "**Support.** You are not alone! Come to office hours, post on Piazza, and talk to your classmates. If you want to ask about the details of your solution to a problem, make a private Piazza post and the staff will respond. If you're ever feeling overwhelmed or don't know how to make progress, email your TA or tutor for help. You can find contact information for the staff on the [course website](http://data8.org/sp19/staff.html).\n",
    "\n",
    "**Tests.** The tests that are given are **not comprehensive** and passing the tests for a question **does not** mean that you answered the question correctly. Tests usually only check that your table has the correct column labels. However, more tests will be applied to verify the correctness of your submission in order to assign your final score, so be careful and check your work! You might want to create your own checks along the way to see if your answers make sense. Additionally, before you submit, make sure that none of your cells take a very long time to run (several minutes).\n",
    "\n",
    "**Free Response Questions:** Make sure that you put the answers to the written questions in the indicated cell we provide. Check to make sure that you have a [Gradescope](http://gradescope.com) account, which is where the scores to the free response questions will be posted. If you do not, make sure to reach out to your assigned (u)GSI.\n",
    "\n",
    "**Advice.** Develop your answers incrementally. To perform a complicated table manipulation, break it up into steps, perform each step on a different line, give a new name to each result, and check that each intermediate result is what you expect. You can add any additional names or functions you want to the provided cells. Make sure that you are using distinct and meaningful variable names throughout the notebook. Along that line, **DO NOT** reuse the variable names that we use when we grade your answers. For example, in Question 1 of the Global Poverty section, we ask you to assign an answer to `latest`. Do not reassign the variable name `latest` to anything else in your notebook, otherwise there is the chance that our tests grade against what `latest` was reassigned to.\n",
    "\n",
    "You **never** have to use just one line in this project or any others. Use intermediate variables and multiple lines as much as you would like!  \n",
    "\n",
    "To get started, load `datascience`, `numpy`, `plots`, and `ok`."
   ]
  },
  {
   "cell_type": "code",
   "execution_count": 41,
   "metadata": {},
   "outputs": [
    {
     "name": "stdout",
     "output_type": "stream",
     "text": [
      "=====================================================================\n",
      "Assignment: World Progress\n",
      "OK, version v1.12.5\n",
      "=====================================================================\n",
      "\n"
     ]
    }
   ],
   "source": [
    "from datascience import *\n",
    "import numpy as np\n",
    "\n",
    "%matplotlib inline\n",
    "import matplotlib.pyplot as plots\n",
    "plots.style.use('fivethirtyeight')\n",
    "\n",
    "from client.api.notebook import Notebook\n",
    "ok = Notebook('project1.ok')"
   ]
  },
  {
   "cell_type": "markdown",
   "metadata": {},
   "source": [
    "Before continuing the assignment, select \"Save and Checkpoint\" in the File menu and then execute the submit cell below. The result will contain a link that you can use to check that your assignment has been submitted successfully. If you submit more than once before the deadline, we will only grade your final submission. If you mistakenly submit the wrong one, you can head to okpy.org and flag the correct version. There will be another submit cell at the end of the assignment when you finish!"
   ]
  },
  {
   "cell_type": "code",
   "execution_count": 42,
   "metadata": {},
   "outputs": [
    {
     "data": {
      "application/javascript": [
       "IPython.notebook.save_checkpoint();"
      ],
      "text/plain": [
       "<IPython.core.display.Javascript object>"
      ]
     },
     "metadata": {},
     "output_type": "display_data"
    },
    {
     "data": {
      "application/javascript": [
       "IPython.notebook.save_notebook();"
      ],
      "text/plain": [
       "<IPython.core.display.Javascript object>"
      ]
     },
     "metadata": {},
     "output_type": "display_data"
    },
    {
     "name": "stdout",
     "output_type": "stream",
     "text": [
      "Saving notebook... Saved 'project1.ipynb'.\n",
      "Submit... 100% complete\n",
      "Submission successful for user: haoyunhong@berkeley.edu\n",
      "URL: https://okpy.org/cal/data8/sp19/project1/submissions/NL9wKL\n",
      "\n"
     ]
    }
   ],
   "source": [
    "_ = ok.submit()"
   ]
  },
  {
   "cell_type": "markdown",
   "metadata": {
    "deletable": false,
    "editable": false
   },
   "source": [
    "## 1. Global Population Growth\n"
   ]
  },
  {
   "cell_type": "markdown",
   "metadata": {
    "deletable": false,
    "editable": false
   },
   "source": [
    "The global population of humans reached 1 billion around 1800, 3 billion around 1960, and 7 billion around 2011. The potential impact of exponential population growth has concerned scientists, economists, and politicians alike.\n",
    "\n",
    "The UN Population Division estimates that the world population will likely continue to grow throughout the 21st century, but at a slower rate, perhaps reaching 11 billion by 2100. However, the UN does not rule out scenarios of more extreme growth.\n",
    "\n",
    "<a href=\"http://www.pewresearch.org/fact-tank/2015/06/08/scientists-more-worried-than-public-about-worlds-growing-population/ft_15-06-04_popcount/\"> \n",
    " <img src=\"pew_population_projection.png\"/> \n",
    "</a>\n",
    "\n",
    "In this section, we will examine some of the factors that influence population growth and how they are changing around the world.\n",
    "\n",
    "The first table we will consider is the total population of each country over time. Run the cell below."
   ]
  },
  {
   "cell_type": "code",
   "execution_count": 43,
   "metadata": {
    "deletable": false,
    "editable": false
   },
   "outputs": [
    {
     "data": {
      "text/html": [
       "<table border=\"1\" class=\"dataframe\">\n",
       "    <thead>\n",
       "        <tr>\n",
       "            <th>geo</th> <th>time</th> <th>population_total</th>\n",
       "        </tr>\n",
       "    </thead>\n",
       "    <tbody>\n",
       "        <tr>\n",
       "            <td>abw </td> <td>1800</td> <td>19286           </td>\n",
       "        </tr>\n",
       "        <tr>\n",
       "            <td>abw </td> <td>1801</td> <td>19286           </td>\n",
       "        </tr>\n",
       "        <tr>\n",
       "            <td>abw </td> <td>1802</td> <td>19286           </td>\n",
       "        </tr>\n",
       "    </tbody>\n",
       "</table>\n",
       "<p>... (87792 rows omitted)</p>"
      ],
      "text/plain": [
       "<IPython.core.display.HTML object>"
      ]
     },
     "metadata": {},
     "output_type": "display_data"
    }
   ],
   "source": [
    "population = Table.read_table('population.csv')\n",
    "population.show(3)"
   ]
  },
  {
   "cell_type": "markdown",
   "metadata": {},
   "source": [
    "**Note:** The population csv file can also be found [here](https://github.com/open-numbers/ddf--gapminder--systema_globalis/raw/master/ddf--datapoints--population_total--by--geo--time.csv). The data for this project was downloaded in February 2017."
   ]
  },
  {
   "cell_type": "markdown",
   "metadata": {
    "deletable": false,
    "editable": false
   },
   "source": [
    "### Bangladesh\n",
    "\n",
    "In the `population` table, the `geo` column contains three-letter codes established by the [International Organization for Standardization](https://en.wikipedia.org/wiki/International_Organization_for_Standardization) (ISO) in the [Alpha-3](https://en.wikipedia.org/wiki/ISO_3166-1_alpha-3#Current_codes) standard. We will begin by taking a close look at Bangladesh. Inspect the standard to find the 3-letter code for Bangladesh."
   ]
  },
  {
   "cell_type": "markdown",
   "metadata": {
    "deletable": false,
    "editable": false
   },
   "source": [
    "**Question 1.** Create a table called `b_pop` that has two columns labeled `time` and `population_total`. The first column should contain the years from 1970 through 2015 (including both 1970 and 2015) and the second should contain the population of Bangladesh in each of those years."
   ]
  },
  {
   "cell_type": "code",
   "execution_count": 44,
   "metadata": {
    "deletable": false
   },
   "outputs": [
    {
     "data": {
      "text/html": [
       "<table border=\"1\" class=\"dataframe\">\n",
       "    <thead>\n",
       "        <tr>\n",
       "            <th>time</th> <th>population_total</th>\n",
       "        </tr>\n",
       "    </thead>\n",
       "    <tbody>\n",
       "        <tr>\n",
       "            <td>1970</td> <td>65048701        </td>\n",
       "        </tr>\n",
       "        <tr>\n",
       "            <td>1971</td> <td>66417450        </td>\n",
       "        </tr>\n",
       "        <tr>\n",
       "            <td>1972</td> <td>67578486        </td>\n",
       "        </tr>\n",
       "        <tr>\n",
       "            <td>1973</td> <td>68658472        </td>\n",
       "        </tr>\n",
       "        <tr>\n",
       "            <td>1974</td> <td>69837960        </td>\n",
       "        </tr>\n",
       "        <tr>\n",
       "            <td>1975</td> <td>71247153        </td>\n",
       "        </tr>\n",
       "        <tr>\n",
       "            <td>1976</td> <td>72930206        </td>\n",
       "        </tr>\n",
       "        <tr>\n",
       "            <td>1977</td> <td>74848466        </td>\n",
       "        </tr>\n",
       "        <tr>\n",
       "            <td>1978</td> <td>76948378        </td>\n",
       "        </tr>\n",
       "        <tr>\n",
       "            <td>1979</td> <td>79141947        </td>\n",
       "        </tr>\n",
       "    </tbody>\n",
       "</table>\n",
       "<p>... (36 rows omitted)</p>"
      ],
      "text/plain": [
       "time | population_total\n",
       "1970 | 65048701\n",
       "1971 | 66417450\n",
       "1972 | 67578486\n",
       "1973 | 68658472\n",
       "1974 | 69837960\n",
       "1975 | 71247153\n",
       "1976 | 72930206\n",
       "1977 | 74848466\n",
       "1978 | 76948378\n",
       "1979 | 79141947\n",
       "... (36 rows omitted)"
      ]
     },
     "execution_count": 44,
     "metadata": {},
     "output_type": "execute_result"
    }
   ],
   "source": [
    "b_pop = population.where(\"geo\", \"bgd\").where(\"time\", are.between(1970, 2016)).drop(\"geo\")\n",
    "b_pop"
   ]
  },
  {
   "cell_type": "code",
   "execution_count": 45,
   "metadata": {
    "deletable": false,
    "editable": false,
    "scrolled": false
   },
   "outputs": [
    {
     "name": "stdout",
     "output_type": "stream",
     "text": [
      "~~~~~~~~~~~~~~~~~~~~~~~~~~~~~~~~~~~~~~~~~~~~~~~~~~~~~~~~~~~~~~~~~~~~~\n",
      "Running tests\n",
      "\n",
      "---------------------------------------------------------------------\n",
      "Test summary\n",
      "    Passed: 3\n",
      "    Failed: 0\n",
      "[ooooooooook] 100.0% passed\n",
      "\n"
     ]
    }
   ],
   "source": [
    "_ = ok.grade('q1_1')"
   ]
  },
  {
   "cell_type": "markdown",
   "metadata": {
    "deletable": false,
    "editable": false
   },
   "source": [
    "Run the following cell to create a table called `b_five` that has the population of Bangladesh every five years. At a glance, it appears that the population of Bangladesh has been growing quickly indeed!"
   ]
  },
  {
   "cell_type": "code",
   "execution_count": 46,
   "metadata": {
    "deletable": false,
    "editable": false
   },
   "outputs": [
    {
     "data": {
      "text/html": [
       "<table border=\"1\" class=\"dataframe\">\n",
       "    <thead>\n",
       "        <tr>\n",
       "            <th>time</th> <th>population_total</th>\n",
       "        </tr>\n",
       "    </thead>\n",
       "    <tbody>\n",
       "        <tr>\n",
       "            <td>1970</td> <td>65,048,701      </td>\n",
       "        </tr>\n",
       "        <tr>\n",
       "            <td>1975</td> <td>71,247,153      </td>\n",
       "        </tr>\n",
       "        <tr>\n",
       "            <td>1980</td> <td>81,364,176      </td>\n",
       "        </tr>\n",
       "        <tr>\n",
       "            <td>1985</td> <td>93,015,182      </td>\n",
       "        </tr>\n",
       "        <tr>\n",
       "            <td>1990</td> <td>105,983,136     </td>\n",
       "        </tr>\n",
       "        <tr>\n",
       "            <td>1995</td> <td>118,427,768     </td>\n",
       "        </tr>\n",
       "        <tr>\n",
       "            <td>2000</td> <td>131,280,739     </td>\n",
       "        </tr>\n",
       "        <tr>\n",
       "            <td>2005</td> <td>142,929,979     </td>\n",
       "        </tr>\n",
       "        <tr>\n",
       "            <td>2010</td> <td>151,616,777     </td>\n",
       "        </tr>\n",
       "        <tr>\n",
       "            <td>2015</td> <td>160,995,642     </td>\n",
       "        </tr>\n",
       "    </tbody>\n",
       "</table>"
      ],
      "text/plain": [
       "time | population_total\n",
       "1970 | 65,048,701\n",
       "1975 | 71,247,153\n",
       "1980 | 81,364,176\n",
       "1985 | 93,015,182\n",
       "1990 | 105,983,136\n",
       "1995 | 118,427,768\n",
       "2000 | 131,280,739\n",
       "2005 | 142,929,979\n",
       "2010 | 151,616,777\n",
       "2015 | 160,995,642"
      ]
     },
     "execution_count": 46,
     "metadata": {},
     "output_type": "execute_result"
    }
   ],
   "source": [
    "b_pop.set_format('population_total', NumberFormatter)\n",
    "\n",
    "fives = np.arange(1970, 2016, 5) # 1970, 1975, 1980, ...\n",
    "b_five = b_pop.sort('time').where('time', are.contained_in(fives))\n",
    "b_five"
   ]
  },
  {
   "cell_type": "markdown",
   "metadata": {
    "deletable": false,
    "editable": false
   },
   "source": [
    "**Question 2.** Assign `b_1970_through_2010` to a table that has the same columns as `b_five` and has one row for every five years from 1970 through 2010 (but not 2015). Then, use that table to assign `initial` to an array that contains the population for every five year interval from 1970 to 2010. Finally, assign `changed` to an array that contains the population for every five year interval from 1975 to 2015.\n",
    "\n",
    "*Hint*: You may find the `exclude` method to be helpful ([Docs](http://data8.org/datascience/_autosummary/datascience.tables.Table.exclude.html))."
   ]
  },
  {
   "cell_type": "code",
   "execution_count": 47,
   "metadata": {
    "deletable": false
   },
   "outputs": [],
   "source": [
    "b_1970_through_2010 = b_five.exclude(b_five.num_rows-1)\n",
    "initial=b_1970_through_2010.column(\"population_total\")\n",
    "changed=b_five.exclude(0).column(\"population_total\")"
   ]
  },
  {
   "cell_type": "markdown",
   "metadata": {
    "deletable": false,
    "editable": false
   },
   "source": [
    "We have provided the code below that uses `b_1970_through_2010`, `initial`, and `changed` in order to add a column to the table called `annual_growth`. Don't worry about the calculation of the growth rates; run the test below to test your solution.\n",
    "\n",
    "If you are interested in how we came up with the formula for growth rates, consult the [growth rates](https://www.inferentialthinking.com/chapters/03/2/1/growth) section of the textbook."
   ]
  },
  {
   "cell_type": "code",
   "execution_count": 48,
   "metadata": {
    "deletable": false,
    "editable": false
   },
   "outputs": [
    {
     "data": {
      "text/html": [
       "<table border=\"1\" class=\"dataframe\">\n",
       "    <thead>\n",
       "        <tr>\n",
       "            <th>time</th> <th>population_total</th> <th>annual_growth</th>\n",
       "        </tr>\n",
       "    </thead>\n",
       "    <tbody>\n",
       "        <tr>\n",
       "            <td>1970</td> <td>65,048,701      </td> <td>1.84%        </td>\n",
       "        </tr>\n",
       "        <tr>\n",
       "            <td>1975</td> <td>71,247,153      </td> <td>2.69%        </td>\n",
       "        </tr>\n",
       "        <tr>\n",
       "            <td>1980</td> <td>81,364,176      </td> <td>2.71%        </td>\n",
       "        </tr>\n",
       "        <tr>\n",
       "            <td>1985</td> <td>93,015,182      </td> <td>2.64%        </td>\n",
       "        </tr>\n",
       "        <tr>\n",
       "            <td>1990</td> <td>105,983,136     </td> <td>2.25%        </td>\n",
       "        </tr>\n",
       "        <tr>\n",
       "            <td>1995</td> <td>118,427,768     </td> <td>2.08%        </td>\n",
       "        </tr>\n",
       "        <tr>\n",
       "            <td>2000</td> <td>131,280,739     </td> <td>1.71%        </td>\n",
       "        </tr>\n",
       "        <tr>\n",
       "            <td>2005</td> <td>142,929,979     </td> <td>1.19%        </td>\n",
       "        </tr>\n",
       "        <tr>\n",
       "            <td>2010</td> <td>151,616,777     </td> <td>1.21%        </td>\n",
       "        </tr>\n",
       "    </tbody>\n",
       "</table>"
      ],
      "text/plain": [
       "time | population_total | annual_growth\n",
       "1970 | 65,048,701       | 1.84%\n",
       "1975 | 71,247,153       | 2.69%\n",
       "1980 | 81,364,176       | 2.71%\n",
       "1985 | 93,015,182       | 2.64%\n",
       "1990 | 105,983,136      | 2.25%\n",
       "1995 | 118,427,768      | 2.08%\n",
       "2000 | 131,280,739      | 1.71%\n",
       "2005 | 142,929,979      | 1.19%\n",
       "2010 | 151,616,777      | 1.21%"
      ]
     },
     "execution_count": 48,
     "metadata": {},
     "output_type": "execute_result"
    }
   ],
   "source": [
    "b_five_growth = b_1970_through_2010.with_column('annual_growth', (changed/initial)**0.2-1)\n",
    "b_five_growth.set_format('annual_growth', PercentFormatter)"
   ]
  },
  {
   "cell_type": "code",
   "execution_count": 49,
   "metadata": {
    "deletable": false,
    "editable": false
   },
   "outputs": [
    {
     "name": "stdout",
     "output_type": "stream",
     "text": [
      "~~~~~~~~~~~~~~~~~~~~~~~~~~~~~~~~~~~~~~~~~~~~~~~~~~~~~~~~~~~~~~~~~~~~~\n",
      "Running tests\n",
      "\n",
      "---------------------------------------------------------------------\n",
      "Test summary\n",
      "    Passed: 4\n",
      "    Failed: 0\n",
      "[ooooooooook] 100.0% passed\n",
      "\n"
     ]
    }
   ],
   "source": [
    "_ = ok.grade('q1_2')"
   ]
  },
  {
   "cell_type": "markdown",
   "metadata": {
    "deletable": false,
    "editable": false
   },
   "source": [
    "While the population has grown every five years since 1970, the annual growth rate decreased dramatically from 1985 to 2005. Let's look at some other information in order to develop a possible explanation. Run the next cell to load three additional tables of measurements about countries over time."
   ]
  },
  {
   "cell_type": "code",
   "execution_count": 50,
   "metadata": {
    "deletable": false,
    "editable": false
   },
   "outputs": [],
   "source": [
    "life_expectancy = Table.read_table('life_expectancy.csv')\n",
    "child_mortality = Table.read_table('child_mortality.csv').relabel(2, 'child_mortality_under_5_per_1000_born')\n",
    "fertility = Table.read_table('fertility.csv')"
   ]
  },
  {
   "cell_type": "markdown",
   "metadata": {
    "deletable": false,
    "editable": false
   },
   "source": [
    "The `life_expectancy` table contains a statistic that is often used to measure how long people live, called *life expectancy at birth*. This number, for a country in a given year, [does not measure how long babies born in that year are expected to live](http://blogs.worldbank.org/opendata/what-does-life-expectancy-birth-really-mean). Instead, it measures how long someone would live, on average, if the *mortality conditions* in that year persisted throughout their lifetime. These \"mortality conditions\" describe what fraction of people at each age survived the year. So, it is a way of measuring the proportion of people that are staying alive, aggregated over different age groups in the population."
   ]
  },
  {
   "cell_type": "markdown",
   "metadata": {},
   "source": [
    "Run the following cells below to see `life_expectancy`, `child_mortality`, and `fertility`. Refer back to these tables as they will be helpful for answering further questions!"
   ]
  },
  {
   "cell_type": "code",
   "execution_count": 51,
   "metadata": {},
   "outputs": [
    {
     "data": {
      "text/html": [
       "<table border=\"1\" class=\"dataframe\">\n",
       "    <thead>\n",
       "        <tr>\n",
       "            <th>geo</th> <th>time</th> <th>life_expectancy_years</th>\n",
       "        </tr>\n",
       "    </thead>\n",
       "    <tbody>\n",
       "        <tr>\n",
       "            <td>afg </td> <td>1800</td> <td>28.21                </td>\n",
       "        </tr>\n",
       "        <tr>\n",
       "            <td>afg </td> <td>1801</td> <td>28.2                 </td>\n",
       "        </tr>\n",
       "        <tr>\n",
       "            <td>afg </td> <td>1802</td> <td>28.19                </td>\n",
       "        </tr>\n",
       "        <tr>\n",
       "            <td>afg </td> <td>1803</td> <td>28.18                </td>\n",
       "        </tr>\n",
       "        <tr>\n",
       "            <td>afg </td> <td>1804</td> <td>28.17                </td>\n",
       "        </tr>\n",
       "        <tr>\n",
       "            <td>afg </td> <td>1805</td> <td>28.16                </td>\n",
       "        </tr>\n",
       "        <tr>\n",
       "            <td>afg </td> <td>1806</td> <td>28.15                </td>\n",
       "        </tr>\n",
       "        <tr>\n",
       "            <td>afg </td> <td>1807</td> <td>28.14                </td>\n",
       "        </tr>\n",
       "        <tr>\n",
       "            <td>afg </td> <td>1808</td> <td>28.13                </td>\n",
       "        </tr>\n",
       "        <tr>\n",
       "            <td>afg </td> <td>1809</td> <td>28.12                </td>\n",
       "        </tr>\n",
       "    </tbody>\n",
       "</table>\n",
       "<p>... (43847 rows omitted)</p>"
      ],
      "text/plain": [
       "geo  | time | life_expectancy_years\n",
       "afg  | 1800 | 28.21\n",
       "afg  | 1801 | 28.2\n",
       "afg  | 1802 | 28.19\n",
       "afg  | 1803 | 28.18\n",
       "afg  | 1804 | 28.17\n",
       "afg  | 1805 | 28.16\n",
       "afg  | 1806 | 28.15\n",
       "afg  | 1807 | 28.14\n",
       "afg  | 1808 | 28.13\n",
       "afg  | 1809 | 28.12\n",
       "... (43847 rows omitted)"
      ]
     },
     "execution_count": 51,
     "metadata": {},
     "output_type": "execute_result"
    }
   ],
   "source": [
    "life_expectancy"
   ]
  },
  {
   "cell_type": "code",
   "execution_count": 52,
   "metadata": {},
   "outputs": [
    {
     "data": {
      "text/html": [
       "<table border=\"1\" class=\"dataframe\">\n",
       "    <thead>\n",
       "        <tr>\n",
       "            <th>geo</th> <th>time</th> <th>child_mortality_under_5_per_1000_born</th>\n",
       "        </tr>\n",
       "    </thead>\n",
       "    <tbody>\n",
       "        <tr>\n",
       "            <td>afg </td> <td>1800</td> <td>468.6                                </td>\n",
       "        </tr>\n",
       "        <tr>\n",
       "            <td>afg </td> <td>1801</td> <td>468.6                                </td>\n",
       "        </tr>\n",
       "        <tr>\n",
       "            <td>afg </td> <td>1802</td> <td>468.6                                </td>\n",
       "        </tr>\n",
       "        <tr>\n",
       "            <td>afg </td> <td>1803</td> <td>468.6                                </td>\n",
       "        </tr>\n",
       "        <tr>\n",
       "            <td>afg </td> <td>1804</td> <td>468.6                                </td>\n",
       "        </tr>\n",
       "        <tr>\n",
       "            <td>afg </td> <td>1805</td> <td>468.6                                </td>\n",
       "        </tr>\n",
       "        <tr>\n",
       "            <td>afg </td> <td>1806</td> <td>470                                  </td>\n",
       "        </tr>\n",
       "        <tr>\n",
       "            <td>afg </td> <td>1807</td> <td>470                                  </td>\n",
       "        </tr>\n",
       "        <tr>\n",
       "            <td>afg </td> <td>1808</td> <td>470                                  </td>\n",
       "        </tr>\n",
       "        <tr>\n",
       "            <td>afg </td> <td>1809</td> <td>470                                  </td>\n",
       "        </tr>\n",
       "    </tbody>\n",
       "</table>\n",
       "<p>... (40746 rows omitted)</p>"
      ],
      "text/plain": [
       "geo  | time | child_mortality_under_5_per_1000_born\n",
       "afg  | 1800 | 468.6\n",
       "afg  | 1801 | 468.6\n",
       "afg  | 1802 | 468.6\n",
       "afg  | 1803 | 468.6\n",
       "afg  | 1804 | 468.6\n",
       "afg  | 1805 | 468.6\n",
       "afg  | 1806 | 470\n",
       "afg  | 1807 | 470\n",
       "afg  | 1808 | 470\n",
       "afg  | 1809 | 470\n",
       "... (40746 rows omitted)"
      ]
     },
     "execution_count": 52,
     "metadata": {},
     "output_type": "execute_result"
    }
   ],
   "source": [
    "child_mortality"
   ]
  },
  {
   "cell_type": "code",
   "execution_count": 53,
   "metadata": {},
   "outputs": [
    {
     "data": {
      "text/html": [
       "<table border=\"1\" class=\"dataframe\">\n",
       "    <thead>\n",
       "        <tr>\n",
       "            <th>geo</th> <th>time</th> <th>children_per_woman_total_fertility</th>\n",
       "        </tr>\n",
       "    </thead>\n",
       "    <tbody>\n",
       "        <tr>\n",
       "            <td>afg </td> <td>1800</td> <td>7                                 </td>\n",
       "        </tr>\n",
       "        <tr>\n",
       "            <td>afg </td> <td>1801</td> <td>7                                 </td>\n",
       "        </tr>\n",
       "        <tr>\n",
       "            <td>afg </td> <td>1802</td> <td>7                                 </td>\n",
       "        </tr>\n",
       "        <tr>\n",
       "            <td>afg </td> <td>1803</td> <td>7                                 </td>\n",
       "        </tr>\n",
       "        <tr>\n",
       "            <td>afg </td> <td>1804</td> <td>7                                 </td>\n",
       "        </tr>\n",
       "        <tr>\n",
       "            <td>afg </td> <td>1805</td> <td>7                                 </td>\n",
       "        </tr>\n",
       "        <tr>\n",
       "            <td>afg </td> <td>1806</td> <td>7                                 </td>\n",
       "        </tr>\n",
       "        <tr>\n",
       "            <td>afg </td> <td>1807</td> <td>7                                 </td>\n",
       "        </tr>\n",
       "        <tr>\n",
       "            <td>afg </td> <td>1808</td> <td>7                                 </td>\n",
       "        </tr>\n",
       "        <tr>\n",
       "            <td>afg </td> <td>1809</td> <td>7                                 </td>\n",
       "        </tr>\n",
       "    </tbody>\n",
       "</table>\n",
       "<p>... (43402 rows omitted)</p>"
      ],
      "text/plain": [
       "geo  | time | children_per_woman_total_fertility\n",
       "afg  | 1800 | 7\n",
       "afg  | 1801 | 7\n",
       "afg  | 1802 | 7\n",
       "afg  | 1803 | 7\n",
       "afg  | 1804 | 7\n",
       "afg  | 1805 | 7\n",
       "afg  | 1806 | 7\n",
       "afg  | 1807 | 7\n",
       "afg  | 1808 | 7\n",
       "afg  | 1809 | 7\n",
       "... (43402 rows omitted)"
      ]
     },
     "execution_count": 53,
     "metadata": {},
     "output_type": "execute_result"
    }
   ],
   "source": [
    "fertility"
   ]
  },
  {
   "cell_type": "markdown",
   "metadata": {
    "deletable": false,
    "editable": false
   },
   "source": [
    "**Question 3.** Perhaps population is growing more slowly because people aren't living as long. Use the `life_expectancy` table to draw a line graph with the years 1970 and later on the horizontal axis that shows how the *life expectancy at birth* has changed in Bangladesh."
   ]
  },
  {
   "cell_type": "code",
   "execution_count": 54,
   "metadata": {
    "deletable": false,
    "manual_grade": true,
    "manual_problem_id": "global_pop_3"
   },
   "outputs": [
    {
     "data": {
      "image/png": "[encoded data removed]",
      "text/plain": [
       "<Figure size 432x288 with 1 Axes>"
      ]
     },
     "metadata": {},
     "output_type": "display_data"
    }
   ],
   "source": [
    "life_expectancy.where(\"geo\", \"bgd\").where(\"time\", are.above(1969)).plot(\"time\", \"life_expectancy_years\")"
   ]
  },
  {
   "cell_type": "markdown",
   "metadata": {
    "deletable": false,
    "editable": false
   },
   "source": [
    "**Question 4.** Assuming everything else stays the same, does the graph above help directly explain why the population growth rate decreased from 1985 to 2010 in Bangladesh? Why or why not? What happened in Bangladesh in 1991, and does that event explain the change in population growth rate?"
   ]
  },
  {
   "cell_type": "markdown",
   "metadata": {
    "collapsed": true,
    "deletable": false,
    "manual_grade": true,
    "manual_problem_id": "global_pop_4"
   },
   "source": [
    "*The graph does not help explain why the population growth rate decreased from 1985 to 2010, since it shows that life expectancy years has been growing generally during this period of time. Thus, it does not support the claim that population is growing more slowly because people aren't living as long. In 1991, Bangladesh seemed to be struck by one of the deadliest cyclone, which killed at least 138,886 poeople. This particular event might explain why there is a sudden drop of life expectancy years in Bangladesh shown by the graph above. *"
   ]
  },
  {
   "cell_type": "markdown",
   "metadata": {
    "deletable": false,
    "editable": false
   },
   "source": [
    "The `fertility` table contains a statistic that is often used to measure how many babies are being born, the *total fertility rate*. This number describes the [number of children a woman would have in her lifetime](https://www.measureevaluation.org/prh/rh_indicators/specific/fertility/total-fertility-rate), on average, if the current rates of birth by age of the mother persisted throughout her child bearing years, assuming she survived through age 49. "
   ]
  },
  {
   "cell_type": "markdown",
   "metadata": {
    "deletable": false
   },
   "source": [
    "**Question 5.** Write a function `fertility_over_time` that takes the Alpha-3 code of a `country` and a `start` year. It returns a two-column table with labels `Year` and `Children per woman` that can be used to generate a line chart of the country's fertility rate each year, starting at the `start` year. The plot should include the `start` year and all later years that appear in the `fertility` table. \n",
    "\n",
    "Then, in the next cell, call your `fertility_over_time` function on the Alpha-3 code for Bangladesh and the year 1970 in order to plot how Bangladesh's fertility rate has changed since 1970. Note that the function `fertility_over_time` should not return the plot itself. **The expression that draws the line plot is provided for you; please don't change it.**"
   ]
  },
  {
   "cell_type": "code",
   "execution_count": 55,
   "metadata": {
    "deletable": false
   },
   "outputs": [],
   "source": [
    "def fertility_over_time(country, start):\n",
    "    \"\"\"Create a two-column table that describes a country's total fertility rate each year.\"\"\"\n",
    "    country_fertility = fertility.where(\"geo\", country)\n",
    "    country_fertility_after_start = country_fertility.where(\"time\", are.above(start-1)).column(\"children_per_woman_total_fertility\")\n",
    "    return Table().with_column(\"Year\", country_fertility.where(\"time\", are.above(start-1)).column(\"time\"),\n",
    "                              \"Children per woman\", country_fertility_after_start)"
   ]
  },
  {
   "cell_type": "code",
   "execution_count": 56,
   "metadata": {
    "deletable": false
   },
   "outputs": [
    {
     "data": {
      "image/png": "[encoded data removed]",
      "text/plain": [
       "<Figure size 432x288 with 1 Axes>"
      ]
     },
     "metadata": {},
     "output_type": "display_data"
    }
   ],
   "source": [
    "bangladesh_code = \"bgd\"\n",
    "fertility_over_time(bangladesh_code, 1970).plot(0, 1) # You should *not* change this line."
   ]
  },
  {
   "cell_type": "code",
   "execution_count": 57,
   "metadata": {
    "deletable": false,
    "editable": false
   },
   "outputs": [
    {
     "name": "stdout",
     "output_type": "stream",
     "text": [
      "~~~~~~~~~~~~~~~~~~~~~~~~~~~~~~~~~~~~~~~~~~~~~~~~~~~~~~~~~~~~~~~~~~~~~\n",
      "Running tests\n",
      "\n",
      "---------------------------------------------------------------------\n",
      "Test summary\n",
      "    Passed: 2\n",
      "    Failed: 0\n",
      "[ooooooooook] 100.0% passed\n",
      "\n"
     ]
    }
   ],
   "source": [
    "_ = ok.grade('q1_5')"
   ]
  },
  {
   "cell_type": "markdown",
   "metadata": {
    "deletable": false
   },
   "source": [
    "**Question 6.** Assuming everything else is constant, does the graph above help directly explain why the population growth rate decreased from 1985 to 2010 in Bangladesh? Why or why not?"
   ]
  },
  {
   "cell_type": "markdown",
   "metadata": {
    "deletable": false,
    "manual_grade": true,
    "manual_problem_id": "global_pop_6"
   },
   "source": [
    "*The graph does explain to some extent why the population growth rate decreased from 1985 to 2010, since it can be shown directly on the graph, there is a significant decrease on fertility rate during that period of time. However, lower fertility rates might not be the only reason why population growth rate decreased during from 1985 to 2010. There may be other factors associated. *"
   ]
  },
  {
   "cell_type": "markdown",
   "metadata": {
    "deletable": false,
    "editable": false
   },
   "source": [
    "It has been observed that lower fertility rates are often associated with lower child mortality rates. The link has been attributed to family planning: if parents can expect that their children will all survive into adulthood, then they will choose to have fewer children. We can see if this association is evident in Bangladesh by plotting the relationship between total fertility rate and [child mortality rate per 1000 children](https://en.wikipedia.org/wiki/Child_mortality)."
   ]
  },
  {
   "cell_type": "markdown",
   "metadata": {
    "deletable": false
   },
   "source": [
    "**Question 7.** Using both the `fertility` and `child_mortality` tables, draw a scatter diagram with one point for each year, starting with 1970, that has Bangladesh's total fertility on the horizontal axis and its child mortality on the vertical axis. \n",
    "\n",
    "**The expression that draws the scatter diagram is provided for you; please don't change it.** Instead, create a table called `post_1969_fertility_and_child_mortality` with the appropriate column labels and data in order to generate the chart correctly. Use the label `Children per woman` to describe total fertility and the label `Child deaths per 1000 born` to describe child mortality."
   ]
  },
  {
   "cell_type": "code",
   "execution_count": 58,
   "metadata": {
    "deletable": false
   },
   "outputs": [
    {
     "data": {
      "image/png": "[encoded data removed]",
      "text/plain": [
       "<Figure size 360x360 with 1 Axes>"
      ]
     },
     "metadata": {},
     "output_type": "display_data"
    }
   ],
   "source": [
    "bgd_fertility = fertility.where(\"geo\", \"bgd\").where(\"time\", are.above(1969))\n",
    "bgd_child_mortality = child_mortality.where(\"geo\", \"bgd\").where(\"time\", are.above(1969))\n",
    "post_1969_fertility_and_child_mortality = Table().with_column(\"Children per woman\", bgd_fertility.column(\"children_per_woman_total_fertility\"),\n",
    "                                                            \"Child deaths per 1000 born\", bgd_child_mortality.column(\"child_mortality_under_5_per_1000_born\"))\n",
    "\n",
    "post_1969_fertility_and_child_mortality.scatter('Children per woman', 'Child deaths per 1000 born') # You should *not* change this line."
   ]
  },
  {
   "cell_type": "code",
   "execution_count": 59,
   "metadata": {
    "deletable": false,
    "editable": false
   },
   "outputs": [
    {
     "name": "stdout",
     "output_type": "stream",
     "text": [
      "~~~~~~~~~~~~~~~~~~~~~~~~~~~~~~~~~~~~~~~~~~~~~~~~~~~~~~~~~~~~~~~~~~~~~\n",
      "Running tests\n",
      "\n",
      "---------------------------------------------------------------------\n",
      "Test summary\n",
      "    Passed: 2\n",
      "    Failed: 0\n",
      "[ooooooooook] 100.0% passed\n",
      "\n"
     ]
    }
   ],
   "source": [
    "_ = ok.grade('q1_7')"
   ]
  },
  {
   "cell_type": "markdown",
   "metadata": {
    "deletable": false,
    "editable": false
   },
   "source": [
    "**Question 8.** In one or two sentences, describe the association (if any) that is illustrated by this scatter diagram. Does the diagram show that reduced child mortality causes parents to choose to have fewer children?"
   ]
  },
  {
   "cell_type": "markdown",
   "metadata": {
    "deletable": false,
    "manual_grade": true,
    "manual_problem_id": "global_pop_8"
   },
   "source": [
    "*From the graph shown above, there seem to be a strong association between fertility rates and child mortality rates. The higher fertility rates are, the higher the child mortality rates are. The positive assocation relationship is pretty strong. However, this diagram does not show that reduced child mortality cuases parents to choose to have fewer children, since association relationship does not lead to causation relationship. There might other factors that are not shown on the graph which may cause parents to choose to have fewer children such as economic status, etc. Therefore, it does not prove any causation between chidl mortality and fertility rates in Bangladesh. *"
   ]
  },
  {
   "cell_type": "markdown",
   "metadata": {
    "deletable": false,
    "editable": false
   },
   "source": [
    "### The World\n",
    "\n",
    "The change observed in Bangladesh since 1970 can also be observed in many other developing countries: health services improve, life expectancy increases, and child mortality decreases. At the same time, the fertility rate often plummets, and so the population growth rate decreases despite increasing longevity."
   ]
  },
  {
   "cell_type": "markdown",
   "metadata": {
    "deletable": false,
    "editable": false
   },
   "source": [
    "Run the cell below to generate two overlaid histograms, one for 1960 and one for 2010, that show the distributions of total fertility rates for these two years among all 201 countries in the `fertility` table."
   ]
  },
  {
   "cell_type": "code",
   "execution_count": 60,
   "metadata": {
    "deletable": false,
    "editable": false
   },
   "outputs": [
    {
     "data": {
      "image/png": "[encoded data removed]",
      "text/plain": [
       "<Figure size 432x288 with 1 Axes>"
      ]
     },
     "metadata": {},
     "output_type": "display_data"
    }
   ],
   "source": [
    "Table().with_columns(\n",
    "    '1960', fertility.where('time', 1960).column(2),\n",
    "    '2010', fertility.where('time', 2010).column(2)\n",
    ").hist(bins=np.arange(0, 10, 0.5), unit='child')\n",
    "_ = plots.xlabel('Children per woman')\n",
    "_ = plots.xticks(np.arange(10))"
   ]
  },
  {
   "cell_type": "markdown",
   "metadata": {
    "deletable": false,
    "editable": false
   },
   "source": [
    "**Question 9.** Assign `fertility_statements` to a list of the numbers of each statement below that can be correctly inferred from these histograms.\n",
    "1. About the same number of countries had a fertility rate between 3.5 and 4.5 in both 1960 and 2010.\n",
    "1. In 2010, about 40% of countries had a fertility rate between 1.5 and 2 (inclusive).\n",
    "1. In 1960, less than 20% of countries had a fertility rate below 3.\n",
    "1. More countries had a fertility rate above 3 in 1960 than in 2010.\n",
    "1. At least half of countries had a fertility rate between 5 and 8 (inclusive) in 1960.\n",
    "1. At least half of countries had a fertility rate below 3 in 2010."
   ]
  },
  {
   "cell_type": "code",
   "execution_count": 61,
   "metadata": {
    "deletable": false
   },
   "outputs": [],
   "source": [
    "fertility_statements = [1,3,4,5,6]"
   ]
  },
  {
   "cell_type": "code",
   "execution_count": 62,
   "metadata": {
    "deletable": false,
    "editable": false
   },
   "outputs": [
    {
     "name": "stdout",
     "output_type": "stream",
     "text": [
      "~~~~~~~~~~~~~~~~~~~~~~~~~~~~~~~~~~~~~~~~~~~~~~~~~~~~~~~~~~~~~~~~~~~~~\n",
      "Running tests\n",
      "\n",
      "---------------------------------------------------------------------\n",
      "Test summary\n",
      "    Passed: 1\n",
      "    Failed: 0\n",
      "[ooooooooook] 100.0% passed\n",
      "\n"
     ]
    }
   ],
   "source": [
    "_ = ok.grade('q1_9')"
   ]
  },
  {
   "cell_type": "markdown",
   "metadata": {
    "deletable": false,
    "editable": false
   },
   "source": [
    "**Question 10.** Draw a line plot of the world population from 1800 through 2005. The world population is the sum of all the country's populations. "
   ]
  },
  {
   "cell_type": "code",
   "execution_count": 63,
   "metadata": {
    "deletable": false,
    "manual_grade": true,
    "manual_problem_id": "global_pop_10"
   },
   "outputs": [
    {
     "data": {
      "image/png": "[encoded data removed]",
      "text/plain": [
       "<Figure size 432x288 with 1 Axes>"
      ]
     },
     "metadata": {},
     "output_type": "display_data"
    }
   ],
   "source": [
    "population.where(\"time\", are.between(1800, 2006)).group(\"time\",sum).drop(\"geo sum\").plot(\"time\", \"population_total sum\")"
   ]
  },
  {
   "cell_type": "markdown",
   "metadata": {
    "deletable": false,
    "editable": false
   },
   "source": [
    "**Question 11.** Create a function `stats_for_year` that takes a `year` and returns a table of statistics. The table it returns should have four columns: `geo`, `population_total`, `children_per_woman_total_fertility`, and `child_mortality_under_5_per_1000_born`. Each row should contain one Alpha-3 country code and three statistics: population, fertility rate, and child mortality for that `year` from the `population`, `fertility` and `child_mortality` tables. Only include rows for which all three statistics are available for the country and year.\n",
    "\n",
    "In addition, restrict the result to country codes that appears in `big_50`, an array of the 50 most populous countries in 2010. This restriction will speed up computations later in the project.\n",
    "\n",
    "*Hint*: The tests for this question are quite comprehensive, so if you pass the tests, your function is probably correct. However, without calling your function yourself and looking at the output, it will be very difficult to understand any problems you have, so try your best to write the function correctly and check that it works before you rely on the `ok` tests to confirm your work."
   ]
  },
  {
   "cell_type": "code",
   "execution_count": 64,
   "metadata": {
    "deletable": false
   },
   "outputs": [],
   "source": [
    "# We first create a population table that only includes the \n",
    "# 50 countries with the largest 2010 populations. We focus on \n",
    "# these 50 countries only so that plotting later will run faster.\n",
    "big_50 = population.where('time', 2010).sort(2, descending=True).take(np.arange(50)).column('geo')\n",
    "population_of_big_50 = population.where('time', are.above(1959)).where('geo', are.contained_in(big_50))\n",
    "\n",
    "def stats_for_year(year):\n",
    "    \"\"\"Return a table of the stats for each country that year.\"\"\"\n",
    "    p = population_of_big_50.where('time', year).drop('time')\n",
    "    f = fertility.where('time', year).drop('time')\n",
    "    c = child_mortality.where('time', year).drop('time')\n",
    "    \n",
    "    return Table().with_column(\"geo\", big_50).join(\"geo\", p).join(\"geo\", f).join(\"geo\", c)"
   ]
  },
  {
   "cell_type": "markdown",
   "metadata": {
    "deletable": false,
    "editable": false
   },
   "source": [
    "Try calling your function `stats_for_year` on any year between 1960 and 2010 in the cell below.  Try to understand the output of `stats_for_year`."
   ]
  },
  {
   "cell_type": "code",
   "execution_count": 65,
   "metadata": {},
   "outputs": [
    {
     "data": {
      "text/html": [
       "<table border=\"1\" class=\"dataframe\">\n",
       "    <thead>\n",
       "        <tr>\n",
       "            <th>geo</th> <th>population_total</th> <th>children_per_woman_total_fertility</th> <th>child_mortality_under_5_per_1000_born</th>\n",
       "        </tr>\n",
       "    </thead>\n",
       "    <tbody>\n",
       "        <tr>\n",
       "            <td>afg </td> <td>19701940        </td> <td>7.73                              </td> <td>137                                  </td>\n",
       "        </tr>\n",
       "        <tr>\n",
       "            <td>arg </td> <td>37057453        </td> <td>2.48                              </td> <td>20.2                                 </td>\n",
       "        </tr>\n",
       "        <tr>\n",
       "            <td>bgd </td> <td>131280739       </td> <td>3.12                              </td> <td>88                                   </td>\n",
       "        </tr>\n",
       "        <tr>\n",
       "            <td>bra </td> <td>175786441       </td> <td>2.36                              </td> <td>32.4                                 </td>\n",
       "        </tr>\n",
       "        <tr>\n",
       "            <td>can </td> <td>30701903        </td> <td>1.51                              </td> <td>6.2                                  </td>\n",
       "        </tr>\n",
       "        <tr>\n",
       "            <td>chn </td> <td>1269974572      </td> <td>1.45                              </td> <td>36.9                                 </td>\n",
       "        </tr>\n",
       "        <tr>\n",
       "            <td>cod </td> <td>48048664        </td> <td>7.09                              </td> <td>161                                  </td>\n",
       "        </tr>\n",
       "        <tr>\n",
       "            <td>col </td> <td>40403959        </td> <td>2.64                              </td> <td>25.1                                 </td>\n",
       "        </tr>\n",
       "        <tr>\n",
       "            <td>deu </td> <td>81895925        </td> <td>1.35                              </td> <td>5.4                                  </td>\n",
       "        </tr>\n",
       "        <tr>\n",
       "            <td>dza </td> <td>31183658        </td> <td>2.51                              </td> <td>39.7                                 </td>\n",
       "        </tr>\n",
       "    </tbody>\n",
       "</table>\n",
       "<p>... (40 rows omitted)</p>"
      ],
      "text/plain": [
       "geo  | population_total | children_per_woman_total_fertility | child_mortality_under_5_per_1000_born\n",
       "afg  | 19701940         | 7.73                               | 137\n",
       "arg  | 37057453         | 2.48                               | 20.2\n",
       "bgd  | 131280739        | 3.12                               | 88\n",
       "bra  | 175786441        | 2.36                               | 32.4\n",
       "can  | 30701903         | 1.51                               | 6.2\n",
       "chn  | 1269974572       | 1.45                               | 36.9\n",
       "cod  | 48048664         | 7.09                               | 161\n",
       "col  | 40403959         | 2.64                               | 25.1\n",
       "deu  | 81895925         | 1.35                               | 5.4\n",
       "dza  | 31183658         | 2.51                               | 39.7\n",
       "... (40 rows omitted)"
      ]
     },
     "execution_count": 65,
     "metadata": {},
     "output_type": "execute_result"
    }
   ],
   "source": [
    "stats_for_year(2000)"
   ]
  },
  {
   "cell_type": "code",
   "execution_count": 66,
   "metadata": {
    "deletable": false,
    "editable": false
   },
   "outputs": [
    {
     "name": "stdout",
     "output_type": "stream",
     "text": [
      "~~~~~~~~~~~~~~~~~~~~~~~~~~~~~~~~~~~~~~~~~~~~~~~~~~~~~~~~~~~~~~~~~~~~~\n",
      "Running tests\n",
      "\n",
      "---------------------------------------------------------------------\n",
      "Test summary\n",
      "    Passed: 4\n",
      "    Failed: 0\n",
      "[ooooooooook] 100.0% passed\n",
      "\n"
     ]
    }
   ],
   "source": [
    "_ = ok.grade('q1_11')"
   ]
  },
  {
   "cell_type": "markdown",
   "metadata": {
    "deletable": false,
    "editable": false
   },
   "source": [
    "**Question 12.** Create a table called `pop_by_decade` with two columns called `decade` and `population`. It has a row for each `year` since 1960 that starts a decade. The `population` column contains the total population of all countries included in the result of `stats_for_year(year)` for the first `year` of the decade. For example, 1960 is the first year of the 1960's decade. You should see that these countries contain most of the world's population.\n",
    "\n",
    "*Hint:* One approach is to define a function `pop_for_year` that computes this total population, then `apply` it to the `decade` column.  The `stats_for_year` function from the previous question may be useful here.\n",
    "\n",
    "**Note:** The `pop_by_decade` cell is directly below the cell containing the helper function `pop_for_year`. This is where you will generate the `pop_by_decade` table!"
   ]
  },
  {
   "cell_type": "code",
   "execution_count": 67,
   "metadata": {},
   "outputs": [],
   "source": [
    "def pop_for_year(year):\n",
    "    return np.sum(stats_for_year(year).column(\"population_total\"))"
   ]
  },
  {
   "cell_type": "markdown",
   "metadata": {
    "deletable": false,
    "editable": false
   },
   "source": [
    "This test is just a sanity check for your helper function if you choose to use it. You will not lose points for not implementing the function `pop_for_year`."
   ]
  },
  {
   "cell_type": "code",
   "execution_count": 68,
   "metadata": {},
   "outputs": [
    {
     "name": "stdout",
     "output_type": "stream",
     "text": [
      "~~~~~~~~~~~~~~~~~~~~~~~~~~~~~~~~~~~~~~~~~~~~~~~~~~~~~~~~~~~~~~~~~~~~~\n",
      "Running tests\n",
      "\n",
      "---------------------------------------------------------------------\n",
      "Test summary\n",
      "    Passed: 1\n",
      "    Failed: 0\n",
      "[ooooooooook] 100.0% passed\n",
      "\n"
     ]
    }
   ],
   "source": [
    "_ = ok.grade('q1_12_0')"
   ]
  },
  {
   "cell_type": "code",
   "execution_count": 69,
   "metadata": {
    "deletable": false
   },
   "outputs": [
    {
     "data": {
      "text/html": [
       "<table border=\"1\" class=\"dataframe\">\n",
       "    <thead>\n",
       "        <tr>\n",
       "            <th>decade</th> <th>population</th>\n",
       "        </tr>\n",
       "    </thead>\n",
       "    <tbody>\n",
       "        <tr>\n",
       "            <td>1960  </td> <td>2,624,944,597</td>\n",
       "        </tr>\n",
       "        <tr>\n",
       "            <td>1970  </td> <td>3,211,487,418</td>\n",
       "        </tr>\n",
       "        <tr>\n",
       "            <td>1980  </td> <td>3,880,722,003</td>\n",
       "        </tr>\n",
       "        <tr>\n",
       "            <td>1990  </td> <td>4,648,434,558</td>\n",
       "        </tr>\n",
       "        <tr>\n",
       "            <td>2000  </td> <td>5,367,553,063</td>\n",
       "        </tr>\n",
       "        <tr>\n",
       "            <td>2010  </td> <td>6,040,810,517</td>\n",
       "        </tr>\n",
       "    </tbody>\n",
       "</table>"
      ],
      "text/plain": [
       "decade | population\n",
       "1960   | 2,624,944,597\n",
       "1970   | 3,211,487,418\n",
       "1980   | 3,880,722,003\n",
       "1990   | 4,648,434,558\n",
       "2000   | 5,367,553,063\n",
       "2010   | 6,040,810,517"
      ]
     },
     "execution_count": 69,
     "metadata": {},
     "output_type": "execute_result"
    }
   ],
   "source": [
    "decades = Table().with_column('decade', np.arange(1960, 2011, 10))\n",
    "\n",
    "pop_by_decade = decades.with_column(\"population\", decades.apply(pop_for_year, \"decade\"))\n",
    "pop_by_decade.set_format(1, NumberFormatter)"
   ]
  },
  {
   "cell_type": "code",
   "execution_count": 70,
   "metadata": {
    "deletable": false,
    "editable": false
   },
   "outputs": [
    {
     "name": "stdout",
     "output_type": "stream",
     "text": [
      "~~~~~~~~~~~~~~~~~~~~~~~~~~~~~~~~~~~~~~~~~~~~~~~~~~~~~~~~~~~~~~~~~~~~~\n",
      "Running tests\n",
      "\n",
      "---------------------------------------------------------------------\n",
      "Test summary\n",
      "    Passed: 2\n",
      "    Failed: 0\n",
      "[ooooooooook] 100.0% passed\n",
      "\n"
     ]
    }
   ],
   "source": [
    "_ = ok.grade('q1_12')"
   ]
  },
  {
   "cell_type": "markdown",
   "metadata": {
    "deletable": false,
    "editable": false
   },
   "source": [
    "The `countries` table describes various characteristics of countries. The `country` column contains the same codes as the `geo` column in each of the other data tables (`population`, `fertility`, and `child_mortality`). The `world_6region` column classifies each country into a region of the world. Run the cell below to inspect the data."
   ]
  },
  {
   "cell_type": "code",
   "execution_count": 71,
   "metadata": {
    "deletable": false,
    "editable": false
   },
   "outputs": [
    {
     "data": {
      "text/html": [
       "<table border=\"1\" class=\"dataframe\">\n",
       "    <thead>\n",
       "        <tr>\n",
       "            <th>country</th> <th>name</th> <th>world_6region</th>\n",
       "        </tr>\n",
       "    </thead>\n",
       "    <tbody>\n",
       "        <tr>\n",
       "            <td>afg      </td> <td>Afghanistan          </td> <td>south_asia              </td>\n",
       "        </tr>\n",
       "        <tr>\n",
       "            <td>akr_a_dhe</td> <td>Akrotiri and Dhekelia</td> <td>europe_central_asia     </td>\n",
       "        </tr>\n",
       "        <tr>\n",
       "            <td>alb      </td> <td>Albania              </td> <td>europe_central_asia     </td>\n",
       "        </tr>\n",
       "        <tr>\n",
       "            <td>dza      </td> <td>Algeria              </td> <td>middle_east_north_africa</td>\n",
       "        </tr>\n",
       "        <tr>\n",
       "            <td>asm      </td> <td>American Samoa       </td> <td>east_asia_pacific       </td>\n",
       "        </tr>\n",
       "        <tr>\n",
       "            <td>and      </td> <td>Andorra              </td> <td>europe_central_asia     </td>\n",
       "        </tr>\n",
       "        <tr>\n",
       "            <td>ago      </td> <td>Angola               </td> <td>sub_saharan_africa      </td>\n",
       "        </tr>\n",
       "        <tr>\n",
       "            <td>aia      </td> <td>Anguilla             </td> <td>america                 </td>\n",
       "        </tr>\n",
       "        <tr>\n",
       "            <td>atg      </td> <td>Antigua and Barbuda  </td> <td>america                 </td>\n",
       "        </tr>\n",
       "        <tr>\n",
       "            <td>arg      </td> <td>Argentina            </td> <td>america                 </td>\n",
       "        </tr>\n",
       "    </tbody>\n",
       "</table>\n",
       "<p>... (245 rows omitted)</p>"
      ],
      "text/plain": [
       "country   | name                  | world_6region\n",
       "afg       | Afghanistan           | south_asia\n",
       "akr_a_dhe | Akrotiri and Dhekelia | europe_central_asia\n",
       "alb       | Albania               | europe_central_asia\n",
       "dza       | Algeria               | middle_east_north_africa\n",
       "asm       | American Samoa        | east_asia_pacific\n",
       "and       | Andorra               | europe_central_asia\n",
       "ago       | Angola                | sub_saharan_africa\n",
       "aia       | Anguilla              | america\n",
       "atg       | Antigua and Barbuda   | america\n",
       "arg       | Argentina             | america\n",
       "... (245 rows omitted)"
      ]
     },
     "execution_count": 71,
     "metadata": {},
     "output_type": "execute_result"
    }
   ],
   "source": [
    "countries = Table.read_table('countries.csv').where('country', are.contained_in(population.group('geo').column(0)))\n",
    "countries.select('country', 'name', 'world_6region')"
   ]
  },
  {
   "cell_type": "markdown",
   "metadata": {
    "deletable": false,
    "editable": false
   },
   "source": [
    "**Question 13.** Create a table called `region_counts` that has two columns, `region` and `count`. It should describe the count of how many countries in each region appear in the result of `stats_for_year(1960)`. For example, one row would have `south_asia` as its `world_6region` value and an integer as its `count` value: the number of large South Asian countries for which we have population, fertility, and child mortality numbers from 1960."
   ]
  },
  {
   "cell_type": "code",
   "execution_count": 72,
   "metadata": {
    "deletable": false
   },
   "outputs": [
    {
     "data": {
      "text/html": [
       "<table border=\"1\" class=\"dataframe\">\n",
       "    <thead>\n",
       "        <tr>\n",
       "            <th>region</th> <th>count</th>\n",
       "        </tr>\n",
       "    </thead>\n",
       "    <tbody>\n",
       "        <tr>\n",
       "            <td>america                 </td> <td>8    </td>\n",
       "        </tr>\n",
       "        <tr>\n",
       "            <td>east_asia_pacific       </td> <td>10   </td>\n",
       "        </tr>\n",
       "        <tr>\n",
       "            <td>europe_central_asia     </td> <td>10   </td>\n",
       "        </tr>\n",
       "        <tr>\n",
       "            <td>middle_east_north_africa</td> <td>7    </td>\n",
       "        </tr>\n",
       "        <tr>\n",
       "            <td>south_asia              </td> <td>5    </td>\n",
       "        </tr>\n",
       "        <tr>\n",
       "            <td>sub_saharan_africa      </td> <td>10   </td>\n",
       "        </tr>\n",
       "    </tbody>\n",
       "</table>"
      ],
      "text/plain": [
       "region                   | count\n",
       "america                  | 8\n",
       "east_asia_pacific        | 10\n",
       "europe_central_asia      | 10\n",
       "middle_east_north_africa | 7\n",
       "south_asia               | 5\n",
       "sub_saharan_africa       | 10"
      ]
     },
     "execution_count": 72,
     "metadata": {},
     "output_type": "execute_result"
    }
   ],
   "source": [
    "region_counts = stats_for_year(1960).join(\"geo\", countries, \"country\").group(\"world_6region\").relabel(\"world_6region\", \"region\")\n",
    "region_counts"
   ]
  },
  {
   "cell_type": "code",
   "execution_count": 73,
   "metadata": {
    "deletable": false,
    "editable": false
   },
   "outputs": [
    {
     "name": "stdout",
     "output_type": "stream",
     "text": [
      "~~~~~~~~~~~~~~~~~~~~~~~~~~~~~~~~~~~~~~~~~~~~~~~~~~~~~~~~~~~~~~~~~~~~~\n",
      "Running tests\n",
      "\n",
      "---------------------------------------------------------------------\n",
      "Test summary\n",
      "    Passed: 2\n",
      "    Failed: 0\n",
      "[ooooooooook] 100.0% passed\n",
      "\n"
     ]
    }
   ],
   "source": [
    "_ = ok.grade('q1_13')"
   ]
  },
  {
   "cell_type": "markdown",
   "metadata": {
    "deletable": false,
    "editable": false
   },
   "source": [
    "The following scatter diagram compares total fertility rate and child mortality rate for each country in 1960. The area of each dot represents the population of the country, and the color represents its region of the world. Run the cell. Do you think you can identify any of the dots?"
   ]
  },
  {
   "cell_type": "code",
   "execution_count": 74,
   "metadata": {
    "deletable": false
   },
   "outputs": [
    {
     "data": {
      "image/png": "[encoded data removed]",
      "text/plain": [
       "<Figure size 360x360 with 1 Axes>"
      ]
     },
     "metadata": {},
     "output_type": "display_data"
    }
   ],
   "source": [
    "from functools import lru_cache as cache\n",
    "\n",
    "# This cache annotation makes sure that if the same year\n",
    "# is passed as an argument twice, the work of computing\n",
    "# the result is only carried out once.\n",
    "@cache(None)\n",
    "def stats_relabeled(year):\n",
    "    \"\"\"Relabeled and cached version of stats_for_year.\"\"\"\n",
    "    return stats_for_year(year).relabel(2, 'Children per woman').relabel(3, 'Child deaths per 1000 born')\n",
    "\n",
    "def fertility_vs_child_mortality(year):\n",
    "    \"\"\"Draw a color scatter diagram comparing child mortality and fertility.\"\"\"\n",
    "    with_region = stats_relabeled(year).join('geo', countries.select('country', 'world_6region'), 'country')\n",
    "    with_region.scatter(2, 3, sizes=1, colors=4, s=500)\n",
    "    plots.xlim(0,10)\n",
    "    plots.ylim(-50, 500)\n",
    "    plots.title(year)\n",
    "\n",
    "fertility_vs_child_mortality(1960)"
   ]
  },
  {
   "cell_type": "markdown",
   "metadata": {
    "deletable": false
   },
   "source": [
    "**Question 14.** Assign `scatter_statements` to a list of the numbers of each statement below that can be inferred from this scatter diagram for 1960. \n",
    "1. The `europe_central_asia` region had the lowest child mortality rate.\n",
    "1. The lowest child mortality rate of any country was from an `east_asia_pacific` country.\n",
    "1. Most countries had a fertility rate above 5.\n",
    "1. There was an association between child mortality and fertility.\n",
    "1. The two largest countries by population also had the two highest child mortality rate."
   ]
  },
  {
   "cell_type": "code",
   "execution_count": 75,
   "metadata": {
    "deletable": false
   },
   "outputs": [],
   "source": [
    "scatter_statements = [3]"
   ]
  },
  {
   "cell_type": "code",
   "execution_count": 76,
   "metadata": {
    "deletable": false,
    "editable": false
   },
   "outputs": [
    {
     "name": "stdout",
     "output_type": "stream",
     "text": [
      "~~~~~~~~~~~~~~~~~~~~~~~~~~~~~~~~~~~~~~~~~~~~~~~~~~~~~~~~~~~~~~~~~~~~~\n",
      "Running tests\n",
      "\n",
      "---------------------------------------------------------------------\n",
      "Test summary\n",
      "    Passed: 1\n",
      "    Failed: 0\n",
      "[ooooooooook] 100.0% passed\n",
      "\n"
     ]
    }
   ],
   "source": [
    "_ = ok.grade('q1_14')"
   ]
  },
  {
   "cell_type": "markdown",
   "metadata": {
    "deletable": false
   },
   "source": [
    "The result of the cell below is interactive. Drag the slider to the right to see how countries have changed over time. You'll find that the great divide between so-called \"Western\" and \"developing\" countries that existed in the 1960's has nearly disappeared. This shift in fertility rates is the reason that the global population is expected to grow more slowly in the 21st century than it did in the 19th and 20th centuries.\n",
    "\n",
    "**Note:** Don't worry if a red warning pops up when running the cell below. You'll still be able to run the cell!"
   ]
  },
  {
   "cell_type": "code",
   "execution_count": 77,
   "metadata": {
    "deletable": false,
    "scrolled": false
   },
   "outputs": [
    {
     "name": "stderr",
     "output_type": "stream",
     "text": [
      "/srv/app/venv/lib/python3.6/site-packages/datascience/tables.py:192: FutureWarning: Implicit column method lookup is deprecated.\n",
      "  warnings.warn(\"Implicit column method lookup is deprecated.\", FutureWarning)\n"
     ]
    },
    {
     "data": {
      "application/vnd.jupyter.widget-view+json": {
       "model_id": "ad878d482d2c4e47885fcdc3e5ef0d97",
       "version_major": 2,
       "version_minor": 0
      },
      "text/plain": [
       "interactive(children=(IntSlider(value=1960, description='year', max=2015, min=1960), Output()), _dom_classes=(…"
      ]
     },
     "metadata": {},
     "output_type": "display_data"
    }
   ],
   "source": [
    "import ipywidgets as widgets\n",
    "\n",
    "# This part takes a few minutes to run because it \n",
    "# computes 55 tables in advance: one for each year.\n",
    "Table().with_column('Year', np.arange(1960, 2016)).apply(stats_relabeled, 'Year')\n",
    "\n",
    "_ = widgets.interact(fertility_vs_child_mortality, \n",
    "                     year=widgets.IntSlider(min=1960, max=2015, value=1960))"
   ]
  },
  {
   "cell_type": "markdown",
   "metadata": {
    "deletable": false,
    "editable": false
   },
   "source": [
    "Now is a great time to take a break and watch the same data presented by [Hans Rosling in a 2010 TEDx talk](https://www.gapminder.org/videos/reducing-child-mortality-a-moral-and-environmental-imperative) with smoother animation and witty commentary."
   ]
  },
  {
   "cell_type": "markdown",
   "metadata": {
    "deletable": false,
    "editable": false
   },
   "source": [
    "## 2. Global Poverty\n"
   ]
  },
  {
   "cell_type": "markdown",
   "metadata": {
    "deletable": false,
    "editable": false
   },
   "source": [
    "In 1800, 85% of the world's 1 billion people lived in *extreme poverty*, defined by the United Nations as \"a condition characterized by severe deprivation of basic human needs, including food, safe drinking water, sanitation facilities, health, shelter, education and information.\" A common measure of extreme poverty is a person living on less than \\$1.25 per day.\n",
    "\n",
    "In 2018, the proportion of people living in extreme poverty was estimated to be 8%. Although the world rate of extreme poverty has declined consistently for hundreds of years, the number of people living in extreme poverty is still over 600 million. The United Nations recently adopted an [ambitious goal](http://www.un.org/sustainabledevelopment/poverty/): \"By 2030, eradicate extreme poverty for all people everywhere.\"\n",
    "In this section, we will examine extreme poverty trends around the world."
   ]
  },
  {
   "cell_type": "markdown",
   "metadata": {
    "deletable": false,
    "editable": false
   },
   "source": [
    "First, load the population and poverty rate by country and year and the country descriptions. While the `population` table has values for every recent year for many countries, the `poverty` table only includes certain years for each country in which a measurement of the rate of extreme poverty was available."
   ]
  },
  {
   "cell_type": "code",
   "execution_count": 78,
   "metadata": {
    "deletable": false,
    "editable": false
   },
   "outputs": [
    {
     "data": {
      "text/html": [
       "<table border=\"1\" class=\"dataframe\">\n",
       "    <thead>\n",
       "        <tr>\n",
       "            <th>geo</th> <th>time</th> <th>extreme_poverty_percent_people_below_125_a_day</th>\n",
       "        </tr>\n",
       "    </thead>\n",
       "    <tbody>\n",
       "        <tr>\n",
       "            <td>alb </td> <td>1996</td> <td>0.2                                           </td>\n",
       "        </tr>\n",
       "        <tr>\n",
       "            <td>alb </td> <td>2002</td> <td>0.73                                          </td>\n",
       "        </tr>\n",
       "        <tr>\n",
       "            <td>alb </td> <td>2004</td> <td>0.53                                          </td>\n",
       "        </tr>\n",
       "    </tbody>\n",
       "</table>\n",
       "<p>... (1096 rows omitted)</p>"
      ],
      "text/plain": [
       "<IPython.core.display.HTML object>"
      ]
     },
     "metadata": {},
     "output_type": "display_data"
    }
   ],
   "source": [
    "population = Table.read_table('population.csv')\n",
    "countries = Table.read_table('countries.csv').where('country', are.contained_in(population.group('geo').column(0)))\n",
    "poverty = Table.read_table('poverty.csv')\n",
    "poverty.show(3)"
   ]
  },
  {
   "cell_type": "markdown",
   "metadata": {
    "deletable": false,
    "editable": false
   },
   "source": [
    "**Question 1.** Assign `latest_poverty` to a three-column table with one row for each country that appears in the `poverty` table. The first column should contain the 3-letter code for the country. The second column should contain the *most recent_poverty_total year* for which an extreme poverty rate is available for the country. The third column should contain the poverty rate in that year. **Do not change the last line, so that the labels of your table are set correctly.**\n",
    "\n",
    "*Hint*: think about how ```group``` works: it does a sequential search of the table (from top to bottom) and collects values in the array in the order in which they appear, and then applies a function to that array. The `first` function may be helpful, but you are not required to use it."
   ]
  },
  {
   "cell_type": "code",
   "execution_count": 79,
   "metadata": {
    "deletable": false
   },
   "outputs": [
    {
     "data": {
      "text/html": [
       "<table border=\"1\" class=\"dataframe\">\n",
       "    <thead>\n",
       "        <tr>\n",
       "            <th>geo</th> <th>time</th> <th>poverty_percent</th>\n",
       "        </tr>\n",
       "    </thead>\n",
       "    <tbody>\n",
       "        <tr>\n",
       "            <td>ago </td> <td>2009</td> <td>43.37          </td>\n",
       "        </tr>\n",
       "        <tr>\n",
       "            <td>alb </td> <td>2012</td> <td>0.46           </td>\n",
       "        </tr>\n",
       "        <tr>\n",
       "            <td>arg </td> <td>2011</td> <td>1.41           </td>\n",
       "        </tr>\n",
       "        <tr>\n",
       "            <td>arm </td> <td>2012</td> <td>1.75           </td>\n",
       "        </tr>\n",
       "        <tr>\n",
       "            <td>aus </td> <td>2003</td> <td>1.36           </td>\n",
       "        </tr>\n",
       "        <tr>\n",
       "            <td>aut </td> <td>2004</td> <td>0.34           </td>\n",
       "        </tr>\n",
       "        <tr>\n",
       "            <td>aze </td> <td>2008</td> <td>0.31           </td>\n",
       "        </tr>\n",
       "        <tr>\n",
       "            <td>bdi </td> <td>2006</td> <td>81.32          </td>\n",
       "        </tr>\n",
       "        <tr>\n",
       "            <td>bel </td> <td>2000</td> <td>0.5            </td>\n",
       "        </tr>\n",
       "        <tr>\n",
       "            <td>ben </td> <td>2012</td> <td>51.61          </td>\n",
       "        </tr>\n",
       "    </tbody>\n",
       "</table>\n",
       "<p>... (135 rows omitted)</p>"
      ],
      "text/plain": [
       "geo  | time | poverty_percent\n",
       "ago  | 2009 | 43.37\n",
       "alb  | 2012 | 0.46\n",
       "arg  | 2011 | 1.41\n",
       "arm  | 2012 | 1.75\n",
       "aus  | 2003 | 1.36\n",
       "aut  | 2004 | 0.34\n",
       "aze  | 2008 | 0.31\n",
       "bdi  | 2006 | 81.32\n",
       "bel  | 2000 | 0.5\n",
       "ben  | 2012 | 51.61\n",
       "... (135 rows omitted)"
      ]
     },
     "execution_count": 79,
     "metadata": {},
     "output_type": "execute_result"
    }
   ],
   "source": [
    "def first(values):\n",
    "    return values.item(0)\n",
    "latest_poverty = poverty.sort(\"time\", descending=True).group(\"geo\", first)\n",
    "latest_poverty.relabel(0, 'geo').relabel(1, 'time').relabel(2, 'poverty_percent') # You should *not* change this line."
   ]
  },
  {
   "cell_type": "code",
   "execution_count": 80,
   "metadata": {
    "deletable": false
   },
   "outputs": [
    {
     "name": "stdout",
     "output_type": "stream",
     "text": [
      "~~~~~~~~~~~~~~~~~~~~~~~~~~~~~~~~~~~~~~~~~~~~~~~~~~~~~~~~~~~~~~~~~~~~~\n",
      "Running tests\n",
      "\n",
      "---------------------------------------------------------------------\n",
      "Test summary\n",
      "    Passed: 2\n",
      "    Failed: 0\n",
      "[ooooooooook] 100.0% passed\n",
      "\n"
     ]
    }
   ],
   "source": [
    "_ = ok.grade('q2_1')"
   ]
  },
  {
   "cell_type": "markdown",
   "metadata": {
    "deletable": false,
    "editable": false
   },
   "source": [
    "**Question 2.** Using both `latest_poverty` and `population`, create a four-column table called `recent_poverty_total` with one row for each country in `latest_poverty`. The four columns should have the following labels and contents:\n",
    "1. `geo` contains the 3-letter country code,\n",
    "1. `poverty_percent` contains the most recent poverty percent,\n",
    "1. `population_total` contains the population of the country in 2010,\n",
    "1. `poverty_total` contains the number of people in poverty **rounded to the nearest integer**, based on the 2010 population and most recent poverty rate."
   ]
  },
  {
   "cell_type": "code",
   "execution_count": 101,
   "metadata": {
    "deletable": false
   },
   "outputs": [
    {
     "data": {
      "text/html": [
       "<table border=\"1\" class=\"dataframe\">\n",
       "    <thead>\n",
       "        <tr>\n",
       "            <th>geo</th> <th>poverty_percent</th> <th>population_total</th> <th>poverty_total</th>\n",
       "        </tr>\n",
       "    </thead>\n",
       "    <tbody>\n",
       "        <tr>\n",
       "            <td>ago </td> <td>43.37          </td> <td>21219954        </td> <td>9.20309e+06  </td>\n",
       "        </tr>\n",
       "        <tr>\n",
       "            <td>alb </td> <td>0.46           </td> <td>2901883         </td> <td>13349        </td>\n",
       "        </tr>\n",
       "        <tr>\n",
       "            <td>arg </td> <td>1.41           </td> <td>41222875        </td> <td>581243       </td>\n",
       "        </tr>\n",
       "        <tr>\n",
       "            <td>arm </td> <td>1.75           </td> <td>2963496         </td> <td>51861        </td>\n",
       "        </tr>\n",
       "        <tr>\n",
       "            <td>aus </td> <td>1.36           </td> <td>22162863        </td> <td>301415       </td>\n",
       "        </tr>\n",
       "        <tr>\n",
       "            <td>aut </td> <td>0.34           </td> <td>8391986         </td> <td>28533        </td>\n",
       "        </tr>\n",
       "        <tr>\n",
       "            <td>aze </td> <td>0.31           </td> <td>9099893         </td> <td>28210        </td>\n",
       "        </tr>\n",
       "        <tr>\n",
       "            <td>bdi </td> <td>81.32          </td> <td>9461117         </td> <td>7.69378e+06  </td>\n",
       "        </tr>\n",
       "        <tr>\n",
       "            <td>bel </td> <td>0.5            </td> <td>10929978        </td> <td>54650        </td>\n",
       "        </tr>\n",
       "        <tr>\n",
       "            <td>ben </td> <td>51.61          </td> <td>9509798         </td> <td>4.90801e+06  </td>\n",
       "        </tr>\n",
       "    </tbody>\n",
       "</table>\n",
       "<p>... (135 rows omitted)</p>"
      ],
      "text/plain": [
       "geo  | poverty_percent | population_total | poverty_total\n",
       "ago  | 43.37           | 21219954         | 9.20309e+06\n",
       "alb  | 0.46            | 2901883          | 13349\n",
       "arg  | 1.41            | 41222875         | 581243\n",
       "arm  | 1.75            | 2963496          | 51861\n",
       "aus  | 1.36            | 22162863         | 301415\n",
       "aut  | 0.34            | 8391986          | 28533\n",
       "aze  | 0.31            | 9099893          | 28210\n",
       "bdi  | 81.32           | 9461117          | 7.69378e+06\n",
       "bel  | 0.5             | 10929978         | 54650\n",
       "ben  | 51.61           | 9509798          | 4.90801e+06\n",
       "... (135 rows omitted)"
      ]
     },
     "execution_count": 101,
     "metadata": {},
     "output_type": "execute_result"
    }
   ],
   "source": [
    "poverty_and_pop=latest_poverty.drop(\"time\").join(\"geo\", population).where(\"time\",2010).drop(\"time\")\n",
    "poverty_total=np.round(poverty_and_pop.column(\"poverty_percent\")*poverty_and_pop.column(\"population_total\")*0.01)\n",
    "recent_poverty_total = poverty_and_pop.with_column(\"poverty_total\", poverty_total)\n",
    "recent_poverty_total"
   ]
  },
  {
   "cell_type": "code",
   "execution_count": 102,
   "metadata": {
    "deletable": false,
    "editable": false
   },
   "outputs": [
    {
     "name": "stdout",
     "output_type": "stream",
     "text": [
      "~~~~~~~~~~~~~~~~~~~~~~~~~~~~~~~~~~~~~~~~~~~~~~~~~~~~~~~~~~~~~~~~~~~~~\n",
      "Running tests\n",
      "\n",
      "---------------------------------------------------------------------\n",
      "Test summary\n",
      "    Passed: 3\n",
      "    Failed: 0\n",
      "[ooooooooook] 100.0% passed\n",
      "\n"
     ]
    }
   ],
   "source": [
    "_ = ok.grade('q2_2')"
   ]
  },
  {
   "cell_type": "markdown",
   "metadata": {
    "deletable": false
   },
   "source": [
    "**Question 3.** Assuming that the `poverty_total` numbers in the `recent_poverty_total` table describe *all* people in 2010 living in extreme poverty, assign the name `poverty_percent` to the known percentage of the world's 2010 population that were living in extreme poverty. You should find a number that is above the 2018 global estimate of 8%, since many country-specific poverty rates are older than 2018.\n",
    "\n",
    "*Hint*: The sum of the `population_total` column in the `recent_poverty_total` table is not the world population, because only a subset of the world's countries have known poverty rates. Use the `population` table to compute the world's 2010 total population."
   ]
  },
  {
   "cell_type": "code",
   "execution_count": 107,
   "metadata": {
    "deletable": false
   },
   "outputs": [
    {
     "data": {
      "text/plain": [
       "14.299370218520854"
      ]
     },
     "execution_count": 107,
     "metadata": {},
     "output_type": "execute_result"
    }
   ],
   "source": [
    "poverty_percent = np.sum(recent_poverty_total.column(\"poverty_total\"))/np.sum(population.where(\"time\", 2010).column(\"population_total\"))*100\n",
    "poverty_percent"
   ]
  },
  {
   "cell_type": "code",
   "execution_count": 108,
   "metadata": {
    "deletable": false,
    "editable": false
   },
   "outputs": [
    {
     "name": "stdout",
     "output_type": "stream",
     "text": [
      "~~~~~~~~~~~~~~~~~~~~~~~~~~~~~~~~~~~~~~~~~~~~~~~~~~~~~~~~~~~~~~~~~~~~~\n",
      "Running tests\n",
      "\n",
      "---------------------------------------------------------------------\n",
      "Test summary\n",
      "    Passed: 1\n",
      "    Failed: 0\n",
      "[ooooooooook] 100.0% passed\n",
      "\n"
     ]
    }
   ],
   "source": [
    "_ = ok.grade('q2_3')"
   ]
  },
  {
   "cell_type": "markdown",
   "metadata": {
    "deletable": false,
    "editable": false
   },
   "source": [
    "The `countries` table includes not only the name and region of countries, but also their positions on the globe."
   ]
  },
  {
   "cell_type": "code",
   "execution_count": 109,
   "metadata": {
    "deletable": false,
    "editable": false
   },
   "outputs": [
    {
     "data": {
      "text/html": [
       "<table border=\"1\" class=\"dataframe\">\n",
       "    <thead>\n",
       "        <tr>\n",
       "            <th>country</th> <th>name</th> <th>world_4region</th> <th>latitude</th> <th>longitude</th>\n",
       "        </tr>\n",
       "    </thead>\n",
       "    <tbody>\n",
       "        <tr>\n",
       "            <td>afg      </td> <td>Afghanistan          </td> <td>asia         </td> <td>33      </td> <td>66       </td>\n",
       "        </tr>\n",
       "        <tr>\n",
       "            <td>akr_a_dhe</td> <td>Akrotiri and Dhekelia</td> <td>europe       </td> <td>nan     </td> <td>nan      </td>\n",
       "        </tr>\n",
       "        <tr>\n",
       "            <td>alb      </td> <td>Albania              </td> <td>europe       </td> <td>41      </td> <td>20       </td>\n",
       "        </tr>\n",
       "        <tr>\n",
       "            <td>dza      </td> <td>Algeria              </td> <td>africa       </td> <td>28      </td> <td>3        </td>\n",
       "        </tr>\n",
       "        <tr>\n",
       "            <td>asm      </td> <td>American Samoa       </td> <td>asia         </td> <td>-11.056 </td> <td>-171.082 </td>\n",
       "        </tr>\n",
       "        <tr>\n",
       "            <td>and      </td> <td>Andorra              </td> <td>europe       </td> <td>42.5078 </td> <td>1.52109  </td>\n",
       "        </tr>\n",
       "        <tr>\n",
       "            <td>ago      </td> <td>Angola               </td> <td>africa       </td> <td>-12.5   </td> <td>18.5     </td>\n",
       "        </tr>\n",
       "        <tr>\n",
       "            <td>aia      </td> <td>Anguilla             </td> <td>americas     </td> <td>18.2167 </td> <td>-63.05   </td>\n",
       "        </tr>\n",
       "        <tr>\n",
       "            <td>atg      </td> <td>Antigua and Barbuda  </td> <td>americas     </td> <td>17.05   </td> <td>-61.8    </td>\n",
       "        </tr>\n",
       "        <tr>\n",
       "            <td>arg      </td> <td>Argentina            </td> <td>americas     </td> <td>-34     </td> <td>-64      </td>\n",
       "        </tr>\n",
       "    </tbody>\n",
       "</table>\n",
       "<p>... (245 rows omitted)</p>"
      ],
      "text/plain": [
       "country   | name                  | world_4region | latitude | longitude\n",
       "afg       | Afghanistan           | asia          | 33       | 66\n",
       "akr_a_dhe | Akrotiri and Dhekelia | europe        | nan      | nan\n",
       "alb       | Albania               | europe        | 41       | 20\n",
       "dza       | Algeria               | africa        | 28       | 3\n",
       "asm       | American Samoa        | asia          | -11.056  | -171.082\n",
       "and       | Andorra               | europe        | 42.5078  | 1.52109\n",
       "ago       | Angola                | africa        | -12.5    | 18.5\n",
       "aia       | Anguilla              | americas      | 18.2167  | -63.05\n",
       "atg       | Antigua and Barbuda   | americas      | 17.05    | -61.8\n",
       "arg       | Argentina             | americas      | -34      | -64\n",
       "... (245 rows omitted)"
      ]
     },
     "execution_count": 109,
     "metadata": {},
     "output_type": "execute_result"
    }
   ],
   "source": [
    "countries.select('country', 'name', 'world_4region', 'latitude', 'longitude')"
   ]
  },
  {
   "cell_type": "markdown",
   "metadata": {
    "deletable": false,
    "editable": false
   },
   "source": [
    "**Question 4.** Using both `countries` and `recent_poverty_total`, create a five-column table called `poverty_map` with one row for every country in `recent_poverty_total`.  The four columns should have the following labels and contents:\n",
    "1. `latitude` contains the country's latitude,\n",
    "1. `longitude` contains the country's longitude,\n",
    "1. `name` contains the country's name,\n",
    "1. `region` contains the country's region from the `world_4region` column of `countries`,\n",
    "1. `poverty_total` contains the country's poverty total."
   ]
  },
  {
   "cell_type": "code",
   "execution_count": 112,
   "metadata": {
    "deletable": false
   },
   "outputs": [
    {
     "data": {
      "text/html": [
       "<table border=\"1\" class=\"dataframe\">\n",
       "    <thead>\n",
       "        <tr>\n",
       "            <th>latitude</th> <th>longitude</th> <th>name</th> <th>region</th> <th>poverty_total</th>\n",
       "        </tr>\n",
       "    </thead>\n",
       "    <tbody>\n",
       "        <tr>\n",
       "            <td>-12.5   </td> <td>18.5     </td> <td>Angola    </td> <td>africa  </td> <td>9.20309e+06  </td>\n",
       "        </tr>\n",
       "        <tr>\n",
       "            <td>41      </td> <td>20       </td> <td>Albania   </td> <td>europe  </td> <td>13349        </td>\n",
       "        </tr>\n",
       "        <tr>\n",
       "            <td>-34     </td> <td>-64      </td> <td>Argentina </td> <td>americas</td> <td>581243       </td>\n",
       "        </tr>\n",
       "        <tr>\n",
       "            <td>40.25   </td> <td>45       </td> <td>Armenia   </td> <td>europe  </td> <td>51861        </td>\n",
       "        </tr>\n",
       "        <tr>\n",
       "            <td>-25     </td> <td>135      </td> <td>Australia </td> <td>asia    </td> <td>301415       </td>\n",
       "        </tr>\n",
       "        <tr>\n",
       "            <td>47.3333 </td> <td>13.3333  </td> <td>Austria   </td> <td>europe  </td> <td>28533        </td>\n",
       "        </tr>\n",
       "        <tr>\n",
       "            <td>40.5    </td> <td>47.5     </td> <td>Azerbaijan</td> <td>europe  </td> <td>28210        </td>\n",
       "        </tr>\n",
       "        <tr>\n",
       "            <td>-3.5    </td> <td>30       </td> <td>Burundi   </td> <td>africa  </td> <td>7.69378e+06  </td>\n",
       "        </tr>\n",
       "        <tr>\n",
       "            <td>50.75   </td> <td>4.5      </td> <td>Belgium   </td> <td>europe  </td> <td>54650        </td>\n",
       "        </tr>\n",
       "        <tr>\n",
       "            <td>9.5     </td> <td>2.25     </td> <td>Benin     </td> <td>africa  </td> <td>4.90801e+06  </td>\n",
       "        </tr>\n",
       "    </tbody>\n",
       "</table>\n",
       "<p>... (135 rows omitted)</p>"
      ],
      "text/plain": [
       "latitude | longitude | name       | region   | poverty_total\n",
       "-12.5    | 18.5      | Angola     | africa   | 9.20309e+06\n",
       "41       | 20        | Albania    | europe   | 13349\n",
       "-34      | -64       | Argentina  | americas | 581243\n",
       "40.25    | 45        | Armenia    | europe   | 51861\n",
       "-25      | 135       | Australia  | asia     | 301415\n",
       "47.3333  | 13.3333   | Austria    | europe   | 28533\n",
       "40.5     | 47.5      | Azerbaijan | europe   | 28210\n",
       "-3.5     | 30        | Burundi    | africa   | 7.69378e+06\n",
       "50.75    | 4.5       | Belgium    | europe   | 54650\n",
       "9.5      | 2.25      | Benin      | africa   | 4.90801e+06\n",
       "... (135 rows omitted)"
      ]
     },
     "execution_count": 112,
     "metadata": {},
     "output_type": "execute_result"
    }
   ],
   "source": [
    "poverty_map = recent_poverty_total.join(\"geo\", countries, \"country\").select(\"latitude\", \"longitude\", \"name\", \"world_4region\", \"poverty_total\").relabel(\"world_4region\", \"region\")\n",
    "poverty_map"
   ]
  },
  {
   "cell_type": "code",
   "execution_count": 113,
   "metadata": {
    "deletable": false,
    "editable": false
   },
   "outputs": [
    {
     "name": "stdout",
     "output_type": "stream",
     "text": [
      "~~~~~~~~~~~~~~~~~~~~~~~~~~~~~~~~~~~~~~~~~~~~~~~~~~~~~~~~~~~~~~~~~~~~~\n",
      "Running tests\n",
      "\n",
      "---------------------------------------------------------------------\n",
      "Test summary\n",
      "    Passed: 2\n",
      "    Failed: 0\n",
      "[ooooooooook] 100.0% passed\n",
      "\n"
     ]
    }
   ],
   "source": [
    "_ = ok.grade('q2_4')"
   ]
  },
  {
   "cell_type": "markdown",
   "metadata": {
    "deletable": false,
    "editable": false
   },
   "source": [
    "Run the cell below to draw a map of the world in which the areas of circles represent the number of people living in extreme poverty. Double-click on the map to zoom in."
   ]
  },
  {
   "cell_type": "code",
   "execution_count": 114,
   "metadata": {
    "deletable": false,
    "editable": false
   },
   "outputs": [
    {
     "name": "stderr",
     "output_type": "stream",
     "text": [
      "/srv/app/venv/lib/python3.6/site-packages/datascience/maps.py:368: FutureWarning: circle_marker is deprecated. Use add_children(CircleMarker) instead\n",
      "  f(**self._folium_kwargs)\n"
     ]
    },
    {
     "data": {
      "text/html": [
       "<div style=\"width:100%;\"><div style=\"position:relative;width:100%;height:0;padding-bottom:60%;\"><iframe src=\"data:text/html;base64,CiAgICAgICAgPCFET0NUWVBFIGh0bWw+CiAgICAgICAgPGhlYWQ+CiAgICAgICAgICAgIAogICAgICAgIAogICAgICAgICAgICA8bWV0YSBodHRwLWVxdWl2PSJjb250ZW50LXR5cGUiIGNvbnRlbnQ9InRleHQvaHRtbDsgY2hhcnNldD1VVEYtOCIgLz4KICAgICAgICAKICAgICAgICAgICAgCiAgICAgICAgCiAgICAgICAgICAgIDxzY3JpcHQgc3JjPSJodHRwczovL2NkbmpzLmNsb3VkZmxhcmUuY29tL2FqYXgvbGlicy9sZWFmbGV0LzAuNy4zL2xlYWZsZXQuanMiPjwvc2NyaXB0PgogICAgICAgIAogICAgICAgIAogICAgICAgIAogICAgICAgICAgICAKICAgICAgICAKICAgICAgICAgICAgPHNjcmlwdCBzcmM9Imh0dHBzOi8vYWpheC5nb29nbGVhcGlzLmNvbS9hamF4L2xpYnMvanF1ZXJ5LzEuMTEuMS9qcXVlcnkubWluLmpzIj48L3NjcmlwdD4KICAgICAgICAKICAgICAgICAKICAgICAgICAKICAgICAgICAgICAgCiAgICAgICAgCiAgICAgICAgICAgIDxzY3JpcHQgc3JjPSJodHRwczovL21heGNkbi5ib290c3RyYXBjZG4uY29tL2Jvb3RzdHJhcC8zLjIuMC9qcy9ib290c3RyYXAubWluLmpzIj48L3NjcmlwdD4KICAgICAgICAKICAgICAgICAKICAgICAgICAKICAgICAgICAgICAgCiAgICAgICAgCiAgICAgICAgICAgIDxzY3JpcHQgc3JjPSJodHRwczovL2NkbmpzLmNsb3VkZmxhcmUuY29tL2FqYXgvbGlicy9MZWFmbGV0LmF3ZXNvbWUtbWFya2Vycy8yLjAuMi9sZWFmbGV0LmF3ZXNvbWUtbWFya2Vycy5taW4uanMiPjwvc2NyaXB0PgogICAgICAgIAogICAgICAgIAogICAgICAgIAogICAgICAgICAgICAKICAgICAgICAKICAgICAgICAgICAgPHNjcmlwdCBzcmM9Imh0dHBzOi8vY2RuanMuY2xvdWRmbGFyZS5jb20vYWpheC9saWJzL2xlYWZsZXQubWFya2VyY2x1c3Rlci8wLjQuMC9sZWFmbGV0Lm1hcmtlcmNsdXN0ZXItc3JjLmpzIj48L3NjcmlwdD4KICAgICAgICAKICAgICAgICAKICAgICAgICAKICAgICAgICAgICAgCiAgICAgICAgCiAgICAgICAgICAgIDxzY3JpcHQgc3JjPSJodHRwczovL2NkbmpzLmNsb3VkZmxhcmUuY29tL2FqYXgvbGlicy9sZWFmbGV0Lm1hcmtlcmNsdXN0ZXIvMC40LjAvbGVhZmxldC5tYXJrZXJjbHVzdGVyLmpzIj48L3NjcmlwdD4KICAgICAgICAKICAgICAgICAKICAgICAgICAKICAgICAgICAgICAgCiAgICAgICAgCiAgICAgICAgICAgIDxsaW5rIHJlbD0ic3R5bGVzaGVldCIgaHJlZj0iaHR0cHM6Ly9jZG5qcy5jbG91ZGZsYXJlLmNvbS9hamF4L2xpYnMvbGVhZmxldC8wLjcuMy9sZWFmbGV0LmNzcyIgLz4KICAgICAgICAKICAgICAgICAKICAgICAgICAKICAgICAgICAgICAgCiAgICAgICAgCiAgICAgICAgICAgIDxsaW5rIHJlbD0ic3R5bGVzaGVldCIgaHJlZj0iaHR0cHM6Ly9tYXhjZG4uYm9vdHN0cmFwY2RuLmNvbS9ib290c3RyYXAvMy4yLjAvY3NzL2Jvb3RzdHJhcC5taW4uY3NzIiAvPgogICAgICAgIAogICAgICAgIAogICAgICAgIAogICAgICAgICAgICAKICAgICAgICAKICAgICAgICAgICAgPGxpbmsgcmVsPSJzdHlsZXNoZWV0IiBocmVmPSJodHRwczovL21heGNkbi5ib290c3RyYXBjZG4uY29tL2Jvb3RzdHJhcC8zLjIuMC9jc3MvYm9vdHN0cmFwLXRoZW1lLm1pbi5jc3MiIC8+CiAgICAgICAgCiAgICAgICAgCiAgICAgICAgCiAgICAgICAgICAgIAogICAgICAgIAogICAgICAgICAgICA8bGluayByZWw9InN0eWxlc2hlZXQiIGhyZWY9Imh0dHBzOi8vbWF4Y2RuLmJvb3RzdHJhcGNkbi5jb20vZm9udC1hd2Vzb21lLzQuMS4wL2Nzcy9mb250LWF3ZXNvbWUubWluLmNzcyIgLz4KICAgICAgICAKICAgICAgICAKICAgICAgICAKICAgICAgICAgICAgCiAgICAgICAgCiAgICAgICAgICAgIDxsaW5rIHJlbD0ic3R5bGVzaGVldCIgaHJlZj0iaHR0cHM6Ly9jZG5qcy5jbG91ZGZsYXJlLmNvbS9hamF4L2xpYnMvTGVhZmxldC5hd2Vzb21lLW1hcmtlcnMvMi4wLjIvbGVhZmxldC5hd2Vzb21lLW1hcmtlcnMuY3NzIiAvPgogICAgICAgIAogICAgICAgIAogICAgICAgIAogICAgICAgICAgICAKICAgICAgICAKICAgICAgICAgICAgPGxpbmsgcmVsPSJzdHlsZXNoZWV0IiBocmVmPSJodHRwczovL2NkbmpzLmNsb3VkZmxhcmUuY29tL2FqYXgvbGlicy9sZWFmbGV0Lm1hcmtlcmNsdXN0ZXIvMC40LjAvTWFya2VyQ2x1c3Rlci5EZWZhdWx0LmNzcyIgLz4KICAgICAgICAKICAgICAgICAKICAgICAgICAKICAgICAgICAgICAgCiAgICAgICAgCiAgICAgICAgICAgIDxsaW5rIHJlbD0ic3R5bGVzaGVldCIgaHJlZj0iaHR0cHM6Ly9jZG5qcy5jbG91ZGZsYXJlLmNvbS9hamF4L2xpYnMvbGVhZmxldC5tYXJrZXJjbHVzdGVyLzAuNC4wL01hcmtlckNsdXN0ZXIuY3NzIiAvPgogICAgICAgIAogICAgICAgIAogICAgICAgIAogICAgICAgICAgICAKICAgICAgICAKICAgICAgICAgICAgPGxpbmsgcmVsPSJzdHlsZXNoZWV0IiBocmVmPSJodHRwczovL3Jhdy5naXRodWJ1c2VyY29udGVudC5jb20vcHl0aG9uLXZpc3VhbGl6YXRpb24vZm9saXVtL21hc3Rlci9mb2xpdW0vdGVtcGxhdGVzL2xlYWZsZXQuYXdlc29tZS5yb3RhdGUuY3NzIiAvPgogICAgICAgIAogICAgICAgIAogICAgICAgIAogICAgICAgICAgICAKICAgICAgICAgICAgPHN0eWxlPgoKICAgICAgICAgICAgaHRtbCwgYm9keSB7CiAgICAgICAgICAgICAgICB3aWR0aDogMTAwJTsKICAgICAgICAgICAgICAgIGhlaWdodDogMTAwJTsKICAgICAgICAgICAgICAgIG1hcmdpbjogMDsKICAgICAgICAgICAgICAgIHBhZGRpbmc6IDA7CiAgICAgICAgICAgICAgICB9CgogICAgICAgICAgICAjbWFwIHsKICAgICAgICAgICAgICAgIHBvc2l0aW9uOmFic29sdXRlOwogICAgICAgICAgICAgICAgdG9wOjA7CiAgICAgICAgICAgICAgICBib3R0b206MDsKICAgICAgICAgICAgICAgIHJpZ2h0OjA7CiAgICAgICAgICAgICAgICBsZWZ0OjA7CiAgICAgICAgICAgICAgICB9CiAgICAgICAgICAgIDwvc3R5bGU+CiAgICAgICAgICAgIAogICAgICAgIAogICAgICAgICAgICAKICAgICAgICAgICAgPHN0eWxlPiAjbWFwXzNkYmM0M2JhZGM1MTQyYjFiNzA5ZmU1NzMyZTM3ZmY3IHsKICAgICAgICAgICAgICAgIHBvc2l0aW9uIDogcmVsYXRpdmU7CiAgICAgICAgICAgICAgICB3aWR0aCA6IDk2MC4wcHg7CiAgICAgICAgICAgICAgICBoZWlnaHQ6IDUwMC4wcHg7CiAgICAgICAgICAgICAgICBsZWZ0OiAwLjAlOwogICAgICAgICAgICAgICAgdG9wOiAwLjAlOwogICAgICAgICAgICAgICAgfQogICAgICAgICAgICA8L3N0eWxlPgogICAgICAgIAogICAgICAgIAogICAgICAgIAogICAgICAgIDwvaGVhZD4KICAgICAgICA8Ym9keT4KICAgICAgICAgICAgCiAgICAgICAgCiAgICAgICAgICAgIAogICAgICAgICAgICA8ZGl2IGNsYXNzPSJmb2xpdW0tbWFwIiBpZD0ibWFwXzNkYmM0M2JhZGM1MTQyYjFiNzA5ZmU1NzMyZTM3ZmY3IiA+PC9kaXY+CiAgICAgICAgCiAgICAgICAgCiAgICAgICAgCiAgICAgICAgPC9ib2R5PgogICAgICAgIDxzY3JpcHQ+CiAgICAgICAgICAgIAogICAgICAgIAogICAgICAgICAgICAKCiAgICAgICAgICAgIHZhciBzb3V0aFdlc3QgPSBMLmxhdExuZygtOTAsIC0xODApOwogICAgICAgICAgICB2YXIgbm9ydGhFYXN0ID0gTC5sYXRMbmcoOTAsIDE4MCk7CiAgICAgICAgICAgIHZhciBib3VuZHMgPSBMLmxhdExuZ0JvdW5kcyhzb3V0aFdlc3QsIG5vcnRoRWFzdCk7CgogICAgICAgICAgICB2YXIgbWFwXzNkYmM0M2JhZGM1MTQyYjFiNzA5ZmU1NzMyZTM3ZmY3ID0gTC5tYXAoJ21hcF8zZGJjNDNiYWRjNTE0MmIxYjcwOWZlNTczMmUzN2ZmNycsIHsKICAgICAgICAgICAgICAgICAgICAgICAgICAgICAgICAgICAgICAgICAgIGNlbnRlcjpbMTUuMCwzMi4xNzg3MDk5OTk5OTk5OTVdLAogICAgICAgICAgICAgICAgICAgICAgICAgICAgICAgICAgICAgICAgICAgem9vbTogMSwKICAgICAgICAgICAgICAgICAgICAgICAgICAgICAgICAgICAgICAgICAgIG1heEJvdW5kczogYm91bmRzLAogICAgICAgICAgICAgICAgICAgICAgICAgICAgICAgICAgICAgICAgICAgbGF5ZXJzOiBbXSwKICAgICAgICAgICAgICAgICAgICAgICAgICAgICAgICAgICAgICAgICAgIGNyczogTC5DUlMuRVBTRzM4NTcKICAgICAgICAgICAgICAgICAgICAgICAgICAgICAgICAgICAgICAgICB9KTsKICAgICAgICAgICAgCiAgICAgICAgCiAgICAgICAgCiAgICAgICAgICAgIAogICAgICAgICAgICB2YXIgdGlsZV9sYXllcl9iNjkzNjRlYzAxZjM0NjE3YmRmYjIwYjljYmI0YTg0YyA9IEwudGlsZUxheWVyKAogICAgICAgICAgICAgICAgJ2h0dHBzOi8ve3N9LnRpbGUub3BlbnN0cmVldG1hcC5vcmcve3p9L3t4fS97eX0ucG5nJywKICAgICAgICAgICAgICAgIHsKICAgICAgICAgICAgICAgICAgICBtYXhab29tOiAxNywKICAgICAgICAgICAgICAgICAgICBtaW5ab29tOiAtMSwKICAgICAgICAgICAgICAgICAgICBhdHRyaWJ1dGlvbjogJ0RhdGEgYnkgPGEgaHJlZj0iaHR0cDovL29wZW5zdHJlZXRtYXAub3JnIj5PcGVuU3RyZWV0TWFwPC9hPiwgdW5kZXIgPGEgaHJlZj0iaHR0cDovL3d3dy5vcGVuc3RyZWV0bWFwLm9yZy9jb3B5cmlnaHQiPk9EYkw8L2E+LicsCiAgICAgICAgICAgICAgICAgICAgZGV0ZWN0UmV0aW5hOiBmYWxzZQogICAgICAgICAgICAgICAgICAgIH0KICAgICAgICAgICAgICAgICkuYWRkVG8obWFwXzNkYmM0M2JhZGM1MTQyYjFiNzA5ZmU1NzMyZTM3ZmY3KTsKCiAgICAgICAgCiAgICAgICAgCiAgICAgICAgICAgIAoKICAgICAgICAgICAgdmFyIGNpcmNsZV9tYXJrZXJfMDRmOWQ0YWM4OTE2NDI2MTljZmI2NTFlZDFlYTk5YTcgPSBMLmNpcmNsZSgKICAgICAgICAgICAgICAgIFstMTIuNSwxOC41XSwKICAgICAgICAgICAgICAgIDEzNjU2Mi42ODcyMzU2OTM4MywKICAgICAgICAgICAgICAgIHsKICAgICAgICAgICAgICAgICAgICBjb2xvcjogJ05vbmUnLAogICAgICAgICAgICAgICAgICAgIGZpbGxDb2xvcjogJ2JsdWUnLAogICAgICAgICAgICAgICAgICAgIGZpbGxPcGFjaXR5OiAwLjYKICAgICAgICAgICAgICAgICAgICB9CiAgICAgICAgICAgICAgICApCiAgICAgICAgICAgICAgICAuYWRkVG8obWFwXzNkYmM0M2JhZGM1MTQyYjFiNzA5ZmU1NzMyZTM3ZmY3KTsKICAgICAgICAgICAgCiAgICAgICAgCiAgICAgICAgICAgIAogICAgICAgICAgICB2YXIgcG9wdXBfMzRkMWQzZGMxZjhkNGFhNWIwNDJhYTFkNjdmODRjZWIgPSBMLnBvcHVwKHttYXhXaWR0aDogJzMwMCd9KTsKCiAgICAgICAgICAgIAogICAgICAgICAgICAgICAgdmFyIGh0bWxfNWViNjI3N2ZhOWQyNDNmODg3ZTM5ZTMwMTUwN2I0ODcgPSAkKCcgICAgICAgICA8ZGl2IGlkPSJodG1sXzVlYjYyNzdmYTlkMjQzZjg4N2UzOWUzMDE1MDdiNDg3IiAgICAgICAgICAgICAgICAgc3R5bGU9IndpZHRoOiAxMDAuMCU7IGhlaWdodDogMTAwLjAlOyI+ICAgICAgICAgICAgICAgICBBbmdvbGE8L2Rpdj4gICAgICAgICAgICAgICAgICcpWzBdOwogICAgICAgICAgICAgICAgcG9wdXBfMzRkMWQzZGMxZjhkNGFhNWIwNDJhYTFkNjdmODRjZWIuc2V0Q29udGVudChodG1sXzVlYjYyNzdmYTlkMjQzZjg4N2UzOWUzMDE1MDdiNDg3KTsKICAgICAgICAgICAgCgogICAgICAgICAgICBjaXJjbGVfbWFya2VyXzA0ZjlkNGFjODkxNjQyNjE5Y2ZiNjUxZWQxZWE5OWE3LmJpbmRQb3B1cChwb3B1cF8zNGQxZDNkYzFmOGQ0YWE1YjA0MmFhMWQ2N2Y4NGNlYik7CgogICAgICAgICAgICAKICAgICAgICAKICAgICAgICAKICAgICAgICAgICAgCgogICAgICAgICAgICB2YXIgY2lyY2xlX21hcmtlcl9kOTNkMGRiMTIwYmY0MjZmOTFlMmQ0MDU5NmU4ODY1MyA9IEwuY2lyY2xlKAogICAgICAgICAgICAgICAgWzQxLjAsMjAuMF0sCiAgICAgICAgICAgICAgICA1MjAxLjAzMTU5MDgzMTg5MzUsCiAgICAgICAgICAgICAgICB7CiAgICAgICAgICAgICAgICAgICAgY29sb3I6ICdOb25lJywKICAgICAgICAgICAgICAgICAgICBmaWxsQ29sb3I6ICdibGFjaycsCiAgICAgICAgICAgICAgICAgICAgZmlsbE9wYWNpdHk6IDAuNgogICAgICAgICAgICAgICAgICAgIH0KICAgICAgICAgICAgICAgICkKICAgICAgICAgICAgICAgIC5hZGRUbyhtYXBfM2RiYzQzYmFkYzUxNDJiMWI3MDlmZTU3MzJlMzdmZjcpOwogICAgICAgICAgICAKICAgICAgICAKICAgICAgICAgICAgCiAgICAgICAgICAgIHZhciBwb3B1cF80MWIxMzZiYTJlMTc0ODZhYTlkZmRlOWI2YzE3ZjgwYSA9IEwucG9wdXAoe21heFdpZHRoOiAnMzAwJ30pOwoKICAgICAgICAgICAgCiAgICAgICAgICAgICAgICB2YXIgaHRtbF80MzQ2NWJiZmE4OWY0N2ExOTRiZWJlNjBhODM1NjEyYyA9ICQoJyAgICAgICAgIDxkaXYgaWQ9Imh0bWxfNDM0NjViYmZhODlmNDdhMTk0YmViZTYwYTgzNTYxMmMiICAgICAgICAgICAgICAgICBzdHlsZT0id2lkdGg6IDEwMC4wJTsgaGVpZ2h0OiAxMDAuMCU7Ij4gICAgICAgICAgICAgICAgIEFsYmFuaWE8L2Rpdj4gICAgICAgICAgICAgICAgICcpWzBdOwogICAgICAgICAgICAgICAgcG9wdXBfNDFiMTM2YmEyZTE3NDg2YWE5ZGZkZTliNmMxN2Y4MGEuc2V0Q29udGVudChodG1sXzQzNDY1YmJmYTg5ZjQ3YTE5NGJlYmU2MGE4MzU2MTJjKTsKICAgICAgICAgICAgCgogICAgICAgICAgICBjaXJjbGVfbWFya2VyX2Q5M2QwZGIxMjBiZjQyNmY5MWUyZDQwNTk2ZTg4NjUzLmJpbmRQb3B1cChwb3B1cF80MWIxMzZiYTJlMTc0ODZhYTlkZmRlOWI2YzE3ZjgwYSk7CgogICAgICAgICAgICAKICAgICAgICAKICAgICAgICAKICAgICAgICAgICAgCgogICAgICAgICAgICB2YXIgY2lyY2xlX21hcmtlcl9mNTBjZGE5ZjI5MzQ0NjU2YjFlYmE1OTIzNjA0YWVhOSA9IEwuY2lyY2xlKAogICAgICAgICAgICAgICAgWy0zNC4wLC02NC4wXSwKICAgICAgICAgICAgICAgIDM0MzE5Ljc0MDMwODk4OTMzLAogICAgICAgICAgICAgICAgewogICAgICAgICAgICAgICAgICAgIGNvbG9yOiAnTm9uZScsCiAgICAgICAgICAgICAgICAgICAgZmlsbENvbG9yOiAnZ3JlZW4nLAogICAgICAgICAgICAgICAgICAgIGZpbGxPcGFjaXR5OiAwLjYKICAgICAgICAgICAgICAgICAgICB9CiAgICAgICAgICAgICAgICApCiAgICAgICAgICAgICAgICAuYWRkVG8obWFwXzNkYmM0M2JhZGM1MTQyYjFiNzA5ZmU1NzMyZTM3ZmY3KTsKICAgICAgICAgICAgCiAgICAgICAgCiAgICAgICAgICAgIAogICAgICAgICAgICB2YXIgcG9wdXBfZWIyZTUyNGJiMDkxNDMzMjg2MGVmYmY4MDI2ZDU2MGQgPSBMLnBvcHVwKHttYXhXaWR0aDogJzMwMCd9KTsKCiAgICAgICAgICAgIAogICAgICAgICAgICAgICAgdmFyIGh0bWxfNjFkM2I1YjhhYmZkNDU1Mzg0ODRiYzAwMDA3YjMwODcgPSAkKCcgICAgICAgICA8ZGl2IGlkPSJodG1sXzYxZDNiNWI4YWJmZDQ1NTM4NDg0YmMwMDAwN2IzMDg3IiAgICAgICAgICAgICAgICAgc3R5bGU9IndpZHRoOiAxMDAuMCU7IGhlaWdodDogMTAwLjAlOyI+ICAgICAgICAgICAgICAgICBBcmdlbnRpbmE8L2Rpdj4gICAgICAgICAgICAgICAgICcpWzBdOwogICAgICAgICAgICAgICAgcG9wdXBfZWIyZTUyNGJiMDkxNDMzMjg2MGVmYmY4MDI2ZDU2MGQuc2V0Q29udGVudChodG1sXzYxZDNiNWI4YWJmZDQ1NTM4NDg0YmMwMDAwN2IzMDg3KTsKICAgICAgICAgICAgCgogICAgICAgICAgICBjaXJjbGVfbWFya2VyX2Y1MGNkYTlmMjkzNDQ2NTZiMWViYTU5MjM2MDRhZWE5LmJpbmRQb3B1cChwb3B1cF9lYjJlNTI0YmIwOTE0MzMyODYwZWZiZjgwMjZkNTYwZCk7CgogICAgICAgICAgICAKICAgICAgICAKICAgICAgICAKICAgICAgICAgICAgCgogICAgICAgICAgICB2YXIgY2lyY2xlX21hcmtlcl9lZWM2NWRkMDlmNjE0MjdhOGJlM2Y2YWFjMDg4MzlhZSA9IEwuY2lyY2xlKAogICAgICAgICAgICAgICAgWzQwLjI1LDQ1LjBdLAogICAgICAgICAgICAgICAgMTAyNTEuNDU2Mzg5MDk0NDYsCiAgICAgICAgICAgICAgICB7CiAgICAgICAgICAgICAgICAgICAgY29sb3I6ICdOb25lJywKICAgICAgICAgICAgICAgICAgICBmaWxsQ29sb3I6ICdibGFjaycsCiAgICAgICAgICAgICAgICAgICAgZmlsbE9wYWNpdHk6IDAuNgogICAgICAgICAgICAgICAgICAgIH0KICAgICAgICAgICAgICAgICkKICAgICAgICAgICAgICAgIC5hZGRUbyhtYXBfM2RiYzQzYmFkYzUxNDJiMWI3MDlmZTU3MzJlMzdmZjcpOwogICAgICAgICAgICAKICAgICAgICAKICAgICAgICAgICAgCiAgICAgICAgICAgIHZhciBwb3B1cF9jZGM3MzhkZmNhYTM0N2RkODAwNWJhMDkyNWRiMWU3MiA9IEwucG9wdXAoe21heFdpZHRoOiAnMzAwJ30pOwoKICAgICAgICAgICAgCiAgICAgICAgICAgICAgICB2YXIgaHRtbF80ZDZkNDViNTRkNzA0ZjliOWY0NTAzNzYwMjQ1OWY3MSA9ICQoJyAgICAgICAgIDxkaXYgaWQ9Imh0bWxfNGQ2ZDQ1YjU0ZDcwNGY5YjlmNDUwMzc2MDI0NTlmNzEiICAgICAgICAgICAgICAgICBzdHlsZT0id2lkdGg6IDEwMC4wJTsgaGVpZ2h0OiAxMDAuMCU7Ij4gICAgICAgICAgICAgICAgIEFybWVuaWE8L2Rpdj4gICAgICAgICAgICAgICAgICcpWzBdOwogICAgICAgICAgICAgICAgcG9wdXBfY2RjNzM4ZGZjYWEzNDdkZDgwMDViYTA5MjVkYjFlNzIuc2V0Q29udGVudChodG1sXzRkNmQ0NWI1NGQ3MDRmOWI5ZjQ1MDM3NjAyNDU5ZjcxKTsKICAgICAgICAgICAgCgogICAgICAgICAgICBjaXJjbGVfbWFya2VyX2VlYzY1ZGQwOWY2MTQyN2E4YmUzZjZhYWMwODgzOWFlLmJpbmRQb3B1cChwb3B1cF9jZGM3MzhkZmNhYTM0N2RkODAwNWJhMDkyNWRiMWU3Mik7CgogICAgICAgICAgICAKICAgICAgICAKICAgICAgICAKICAgICAgICAgICAgCgogICAgICAgICAgICB2YXIgY2lyY2xlX21hcmtlcl85Zjc0YmYyMmI5ZTA0YzhjYThiYjY5ZjY5ZWFhOGJhMSA9IEwuY2lyY2xlKAogICAgICAgICAgICAgICAgWy0yNS4wLDEzNS4wXSwKICAgICAgICAgICAgICAgIDI0NzE0LjI1Njg0Mzk5ODA1NywKICAgICAgICAgICAgICAgIHsKICAgICAgICAgICAgICAgICAgICBjb2xvcjogJ05vbmUnLAogICAgICAgICAgICAgICAgICAgIGZpbGxDb2xvcjogJ3JlZCcsCiAgICAgICAgICAgICAgICAgICAgZmlsbE9wYWNpdHk6IDAuNgogICAgICAgICAgICAgICAgICAgIH0KICAgICAgICAgICAgICAgICkKICAgICAgICAgICAgICAgIC5hZGRUbyhtYXBfM2RiYzQzYmFkYzUxNDJiMWI3MDlmZTU3MzJlMzdmZjcpOwogICAgICAgICAgICAKICAgICAgICAKICAgICAgICAgICAgCiAgICAgICAgICAgIHZhciBwb3B1cF9mMzRlYjk1ZmZhOWY0ZmVmYjAwOTlmOWY2ZWZkNTc5MyA9IEwucG9wdXAoe21heFdpZHRoOiAnMzAwJ30pOwoKICAgICAgICAgICAgCiAgICAgICAgICAgICAgICB2YXIgaHRtbF9hZmU4NDAzMDdlYWI0YjhmYjNhOGQ3MDA0YWM1NGY4NyA9ICQoJyAgICAgICAgIDxkaXYgaWQ9Imh0bWxfYWZlODQwMzA3ZWFiNGI4ZmIzYThkNzAwNGFjNTRmODciICAgICAgICAgICAgICAgICBzdHlsZT0id2lkdGg6IDEwMC4wJTsgaGVpZ2h0OiAxMDAuMCU7Ij4gICAgICAgICAgICAgICAgIEF1c3RyYWxpYTwvZGl2PiAgICAgICAgICAgICAgICAgJylbMF07CiAgICAgICAgICAgICAgICBwb3B1cF9mMzRlYjk1ZmZhOWY0ZmVmYjAwOTlmOWY2ZWZkNTc5My5zZXRDb250ZW50KGh0bWxfYWZlODQwMzA3ZWFiNGI4ZmIzYThkNzAwNGFjNTRmODcpOwogICAgICAgICAgICAKCiAgICAgICAgICAgIGNpcmNsZV9tYXJrZXJfOWY3NGJmMjJiOWUwNGM4Y2E4YmI2OWY2OWVhYThiYTEuYmluZFBvcHVwKHBvcHVwX2YzNGViOTVmZmE5ZjRmZWZiMDA5OWY5ZjZlZmQ1NzkzKTsKCiAgICAgICAgICAgIAogICAgICAgIAogICAgICAgIAogICAgICAgICAgICAKCiAgICAgICAgICAgIHZhciBjaXJjbGVfbWFya2VyX2JhYTA4MWY5OTQ1OTQzNjI5ZTJjYzVkNmM0YTRlYTYxID0gTC5jaXJjbGUoCiAgICAgICAgICAgICAgICBbNDcuMzMzMzMsMTMuMzMzMzI5OTk5OTk5OTk4XSwKICAgICAgICAgICAgICAgIDc2MDMuOTQyODM2Mjc0OTA4LAogICAgICAgICAgICAgICAgewogICAgICAgICAgICAgICAgICAgIGNvbG9yOiAnTm9uZScsCiAgICAgICAgICAgICAgICAgICAgZmlsbENvbG9yOiAnYmxhY2snLAogICAgICAgICAgICAgICAgICAgIGZpbGxPcGFjaXR5OiAwLjYKICAgICAgICAgICAgICAgICAgICB9CiAgICAgICAgICAgICAgICApCiAgICAgICAgICAgICAgICAuYWRkVG8obWFwXzNkYmM0M2JhZGM1MTQyYjFiNzA5ZmU1NzMyZTM3ZmY3KTsKICAgICAgICAgICAgCiAgICAgICAgCiAgICAgICAgICAgIAogICAgICAgICAgICB2YXIgcG9wdXBfOGZjNDQ1ZTg4MWE0NDUxN2I2OWNjNTBhNGUzNDE5YzggPSBMLnBvcHVwKHttYXhXaWR0aDogJzMwMCd9KTsKCiAgICAgICAgICAgIAogICAgICAgICAgICAgICAgdmFyIGh0bWxfZDE3MTE2ZGQ4ZTc1NGY5ZGI4OWYwNWM4ZTFlNjE2NzQgPSAkKCcgICAgICAgICA8ZGl2IGlkPSJodG1sX2QxNzExNmRkOGU3NTRmOWRiODlmMDVjOGUxZTYxNjc0IiAgICAgICAgICAgICAgICAgc3R5bGU9IndpZHRoOiAxMDAuMCU7IGhlaWdodDogMTAwLjAlOyI+ICAgICAgICAgICAgICAgICBBdXN0cmlhPC9kaXY+ICAgICAgICAgICAgICAgICAnKVswXTsKICAgICAgICAgICAgICAgIHBvcHVwXzhmYzQ0NWU4ODFhNDQ1MTdiNjljYzUwYTRlMzQxOWM4LnNldENvbnRlbnQoaHRtbF9kMTcxMTZkZDhlNzU0ZjlkYjg5ZjA1YzhlMWU2MTY3NCk7CiAgICAgICAgICAgIAoKICAgICAgICAgICAgY2lyY2xlX21hcmtlcl9iYWEwODFmOTk0NTk0MzYyOWUyY2M1ZDZjNGE0ZWE2MS5iaW5kUG9wdXAocG9wdXBfOGZjNDQ1ZTg4MWE0NDUxN2I2OWNjNTBhNGUzNDE5YzgpOwoKICAgICAgICAgICAgCiAgICAgICAgCiAgICAgICAgCiAgICAgICAgICAgIAoKICAgICAgICAgICAgdmFyIGNpcmNsZV9tYXJrZXJfMjM5MTMwYjc2MjA5NGY1NGI2MTY1MTgxNzMyNjUyNzQgPSBMLmNpcmNsZSgKICAgICAgICAgICAgICAgIFs0MC41LDQ3LjVdLAogICAgICAgICAgICAgICAgNzU2MC43ODExNjQwNzMzOTEsCiAgICAgICAgICAgICAgICB7CiAgICAgICAgICAgICAgICAgICAgY29sb3I6ICdOb25lJywKICAgICAgICAgICAgICAgICAgICBmaWxsQ29sb3I6ICdibGFjaycsCiAgICAgICAgICAgICAgICAgICAgZmlsbE9wYWNpdHk6IDAuNgogICAgICAgICAgICAgICAgICAgIH0KICAgICAgICAgICAgICAgICkKICAgICAgICAgICAgICAgIC5hZGRUbyhtYXBfM2RiYzQzYmFkYzUxNDJiMWI3MDlmZTU3MzJlMzdmZjcpOwogICAgICAgICAgICAKICAgICAgICAKICAgICAgICAgICAgCiAgICAgICAgICAgIHZhciBwb3B1cF8zZTExZmEyNTg5MmI0OGNhYmIxMTI5ODUyODVjM2Q1NCA9IEwucG9wdXAoe21heFdpZHRoOiAnMzAwJ30pOwoKICAgICAgICAgICAgCiAgICAgICAgICAgICAgICB2YXIgaHRtbF82YTkwYTlmMzdiYzE0ZjgxOTNlNjYxMzVlMjQyODgzNiA9ICQoJyAgICAgICAgIDxkaXYgaWQ9Imh0bWxfNmE5MGE5ZjM3YmMxNGY4MTkzZTY2MTM1ZTI0Mjg4MzYiICAgICAgICAgICAgICAgICBzdHlsZT0id2lkdGg6IDEwMC4wJTsgaGVpZ2h0OiAxMDAuMCU7Ij4gICAgICAgICAgICAgICAgIEF6ZXJiYWlqYW48L2Rpdj4gICAgICAgICAgICAgICAgICcpWzBdOwogICAgICAgICAgICAgICAgcG9wdXBfM2UxMWZhMjU4OTJiNDhjYWJiMTEyOTg1Mjg1YzNkNTQuc2V0Q29udGVudChodG1sXzZhOTBhOWYzN2JjMTRmODE5M2U2NjEzNWUyNDI4ODM2KTsKICAgICAgICAgICAgCgogICAgICAgICAgICBjaXJjbGVfbWFya2VyXzIzOTEzMGI3NjIwOTRmNTRiNjE2NTE4MTczMjY1Mjc0LmJpbmRQb3B1cChwb3B1cF8zZTExZmEyNTg5MmI0OGNhYmIxMTI5ODUyODVjM2Q1NCk7CgogICAgICAgICAgICAKICAgICAgICAKICAgICAgICAKICAgICAgICAgICAgCgogICAgICAgICAgICB2YXIgY2lyY2xlX21hcmtlcl80YTRiMmM3NGQ4NTk0NTNmYWRiNjg3Nzg0YmIyOGUyNyA9IEwuY2lyY2xlKAogICAgICAgICAgICAgICAgWy0zLjUsMzAuMF0sCiAgICAgICAgICAgICAgICAxMjQ4NjMuMzU3MDE3NDgwOTYsCiAgICAgICAgICAgICAgICB7CiAgICAgICAgICAgICAgICAgICAgY29sb3I6ICdOb25lJywKICAgICAgICAgICAgICAgICAgICBmaWxsQ29sb3I6ICdibHVlJywKICAgICAgICAgICAgICAgICAgICBmaWxsT3BhY2l0eTogMC42CiAgICAgICAgICAgICAgICAgICAgfQogICAgICAgICAgICAgICAgKQogICAgICAgICAgICAgICAgLmFkZFRvKG1hcF8zZGJjNDNiYWRjNTE0MmIxYjcwOWZlNTczMmUzN2ZmNyk7CiAgICAgICAgICAgIAogICAgICAgIAogICAgICAgICAgICAKICAgICAgICAgICAgdmFyIHBvcHVwXzQ2YmQ3ZGQ0MTQ4YzRlMjdhMTI5YmJhMWMxNGU1ODIzID0gTC5wb3B1cCh7bWF4V2lkdGg6ICczMDAnfSk7CgogICAgICAgICAgICAKICAgICAgICAgICAgICAgIHZhciBodG1sXzliYTI3Y2YyMTFlYTRmOWE5ZGE3ZDc3YjUzMWU3NmMwID0gJCgnICAgICAgICAgPGRpdiBpZD0iaHRtbF85YmEyN2NmMjExZWE0ZjlhOWRhN2Q3N2I1MzFlNzZjMCIgICAgICAgICAgICAgICAgIHN0eWxlPSJ3aWR0aDogMTAwLjAlOyBoZWlnaHQ6IDEwMC4wJTsiPiAgICAgICAgICAgICAgICAgQnVydW5kaTwvZGl2PiAgICAgICAgICAgICAgICAgJylbMF07CiAgICAgICAgICAgICAgICBwb3B1cF80NmJkN2RkNDE0OGM0ZTI3YTEyOWJiYTFjMTRlNTgyMy5zZXRDb250ZW50KGh0bWxfOWJhMjdjZjIxMWVhNGY5YTlkYTdkNzdiNTMxZTc2YzApOwogICAgICAgICAgICAKCiAgICAgICAgICAgIGNpcmNsZV9tYXJrZXJfNGE0YjJjNzRkODU5NDUzZmFkYjY4Nzc4NGJiMjhlMjcuYmluZFBvcHVwKHBvcHVwXzQ2YmQ3ZGQ0MTQ4YzRlMjdhMTI5YmJhMWMxNGU1ODIzKTsKCiAgICAgICAgICAgIAogICAgICAgIAogICAgICAgIAogICAgICAgICAgICAKCiAgICAgICAgICAgIHZhciBjaXJjbGVfbWFya2VyXzdkMWViYjQ1NzBhNTRhZDFhMzVlOTkzOGJhZGIzZThkID0gTC5jaXJjbGUoCiAgICAgICAgICAgICAgICBbNTAuNzUsNC41XSwKICAgICAgICAgICAgICAgIDEwNTIzLjUwMDA2OTg5NDc3LAogICAgICAgICAgICAgICAgewogICAgICAgICAgICAgICAgICAgIGNvbG9yOiAnTm9uZScsCiAgICAgICAgICAgICAgICAgICAgZmlsbENvbG9yOiAnYmxhY2snLAogICAgICAgICAgICAgICAgICAgIGZpbGxPcGFjaXR5OiAwLjYKICAgICAgICAgICAgICAgICAgICB9CiAgICAgICAgICAgICAgICApCiAgICAgICAgICAgICAgICAuYWRkVG8obWFwXzNkYmM0M2JhZGM1MTQyYjFiNzA5ZmU1NzMyZTM3ZmY3KTsKICAgICAgICAgICAgCiAgICAgICAgCiAgICAgICAgICAgIAogICAgICAgICAgICB2YXIgcG9wdXBfNThkYTJjNjMwNDc2NGFjZmIyZDNiN2JlNmM1OGNjNjUgPSBMLnBvcHVwKHttYXhXaWR0aDogJzMwMCd9KTsKCiAgICAgICAgICAgIAogICAgICAgICAgICAgICAgdmFyIGh0bWxfOWUxOGE1N2FmNWM3NGVmYjkzYjA4YmU3NTI4MmViMjIgPSAkKCcgICAgICAgICA8ZGl2IGlkPSJodG1sXzllMThhNTdhZjVjNzRlZmI5M2IwOGJlNzUyODJlYjIyIiAgICAgICAgICAgICAgICAgc3R5bGU9IndpZHRoOiAxMDAuMCU7IGhlaWdodDogMTAwLjAlOyI+ICAgICAgICAgICAgICAgICBCZWxnaXVtPC9kaXY+ICAgICAgICAgICAgICAgICAnKVswXTsKICAgICAgICAgICAgICAgIHBvcHVwXzU4ZGEyYzYzMDQ3NjRhY2ZiMmQzYjdiZTZjNThjYzY1LnNldENvbnRlbnQoaHRtbF85ZTE4YTU3YWY1Yzc0ZWZiOTNiMDhiZTc1MjgyZWIyMik7CiAgICAgICAgICAgIAoKICAgICAgICAgICAgY2lyY2xlX21hcmtlcl83ZDFlYmI0NTcwYTU0YWQxYTM1ZTk5MzhiYWRiM2U4ZC5iaW5kUG9wdXAocG9wdXBfNThkYTJjNjMwNDc2NGFjZmIyZDNiN2JlNmM1OGNjNjUpOwoKICAgICAgICAgICAgCiAgICAgICAgCiAgICAgICAgCiAgICAgICAgICAgIAoKICAgICAgICAgICAgdmFyIGNpcmNsZV9tYXJrZXJfYmNiZWRlZDBhYmJkNGJhMWFmODVlOThlMWI1MDMzNmYgPSBMLmNpcmNsZSgKICAgICAgICAgICAgICAgIFs5LjUsMi4yNV0sCiAgICAgICAgICAgICAgICA5OTcyOC4xMzgzMTI2MDI1NiwKICAgICAgICAgICAgICAgIHsKICAgICAgICAgICAgICAgICAgICBjb2xvcjogJ05vbmUnLAogICAgICAgICAgICAgICAgICAgIGZpbGxDb2xvcjogJ2JsdWUnLAogICAgICAgICAgICAgICAgICAgIGZpbGxPcGFjaXR5OiAwLjYKICAgICAgICAgICAgICAgICAgICB9CiAgICAgICAgICAgICAgICApCiAgICAgICAgICAgICAgICAuYWRkVG8obWFwXzNkYmM0M2JhZGM1MTQyYjFiNzA5ZmU1NzMyZTM3ZmY3KTsKICAgICAgICAgICAgCiAgICAgICAgCiAgICAgICAgICAgIAogICAgICAgICAgICB2YXIgcG9wdXBfYzNmOGQ1NjhiMzg3NDYxZjkwZGRlNmQ2ZWM1N2Q0MWQgPSBMLnBvcHVwKHttYXhXaWR0aDogJzMwMCd9KTsKCiAgICAgICAgICAgIAogICAgICAgICAgICAgICAgdmFyIGh0bWxfMGY2NDkzOGE0MzQwNGRkNjhhOTFkNGJlNWU4YjIyNmEgPSAkKCcgICAgICAgICA8ZGl2IGlkPSJodG1sXzBmNjQ5MzhhNDM0MDRkZDY4YTkxZDRiZTVlOGIyMjZhIiAgICAgICAgICAgICAgICAgc3R5bGU9IndpZHRoOiAxMDAuMCU7IGhlaWdodDogMTAwLjAlOyI+ICAgICAgICAgICAgICAgICBCZW5pbjwvZGl2PiAgICAgICAgICAgICAgICAgJylbMF07CiAgICAgICAgICAgICAgICBwb3B1cF9jM2Y4ZDU2OGIzODc0NjFmOTBkZGU2ZDZlYzU3ZDQxZC5zZXRDb250ZW50KGh0bWxfMGY2NDkzOGE0MzQwNGRkNjhhOTFkNGJlNWU4YjIyNmEpOwogICAgICAgICAgICAKCiAgICAgICAgICAgIGNpcmNsZV9tYXJrZXJfYmNiZWRlZDBhYmJkNGJhMWFmODVlOThlMWI1MDMzNmYuYmluZFBvcHVwKHBvcHVwX2MzZjhkNTY4YjM4NzQ2MWY5MGRkZTZkNmVjNTdkNDFkKTsKCiAgICAgICAgICAgIAogICAgICAgIAogICAgICAgIAogICAgICAgICAgICAKCiAgICAgICAgICAgIHZhciBjaXJjbGVfbWFya2VyX2I1ZTA5MzNiMjJlMDQ5YWVhNmRlZGZlYmI3ZGMwMzdmID0gTC5jaXJjbGUoCiAgICAgICAgICAgICAgICBbMTIuNSwtMS42NjY2N10sCiAgICAgICAgICAgICAgICAxMTg2NzQuNjc3MDYwODA5MzUsCiAgICAgICAgICAgICAgICB7CiAgICAgICAgICAgICAgICAgICAgY29sb3I6ICdOb25lJywKICAgICAgICAgICAgICAgICAgICBmaWxsQ29sb3I6ICdibHVlJywKICAgICAgICAgICAgICAgICAgICBmaWxsT3BhY2l0eTogMC42CiAgICAgICAgICAgICAgICAgICAgfQogICAgICAgICAgICAgICAgKQogICAgICAgICAgICAgICAgLmFkZFRvKG1hcF8zZGJjNDNiYWRjNTE0MmIxYjcwOWZlNTczMmUzN2ZmNyk7CiAgICAgICAgICAgIAogICAgICAgIAogICAgICAgICAgICAKICAgICAgICAgICAgdmFyIHBvcHVwX2YwZTkxNzAzZjUyYTQ5YTNhNjMwNDJjOWZmNTI1M2ZmID0gTC5wb3B1cCh7bWF4V2lkdGg6ICczMDAnfSk7CgogICAgICAgICAgICAKICAgICAgICAgICAgICAgIHZhciBodG1sX2MyMDRmZGNmMjg4NTQ2NTVhZWZmNTI2OGY1OGZiNmM0ID0gJCgnICAgICAgICAgPGRpdiBpZD0iaHRtbF9jMjA0ZmRjZjI4ODU0NjU1YWVmZjUyNjhmNThmYjZjNCIgICAgICAgICAgICAgICAgIHN0eWxlPSJ3aWR0aDogMTAwLjAlOyBoZWlnaHQ6IDEwMC4wJTsiPiAgICAgICAgICAgICAgICAgQnVya2luYSBGYXNvPC9kaXY+ICAgICAgICAgICAgICAgICAnKVswXTsKICAgICAgICAgICAgICAgIHBvcHVwX2YwZTkxNzAzZjUyYTQ5YTNhNjMwNDJjOWZmNTI1M2ZmLnNldENvbnRlbnQoaHRtbF9jMjA0ZmRjZjI4ODU0NjU1YWVmZjUyNjhmNThmYjZjNCk7CiAgICAgICAgICAgIAoKICAgICAgICAgICAgY2lyY2xlX21hcmtlcl9iNWUwOTMzYjIyZTA0OWFlYTZkZWRmZWJiN2RjMDM3Zi5iaW5kUG9wdXAocG9wdXBfZjBlOTE3MDNmNTJhNDlhM2E2MzA0MmM5ZmY1MjUzZmYpOwoKICAgICAgICAgICAgCiAgICAgICAgCiAgICAgICAgCiAgICAgICAgICAgIAoKICAgICAgICAgICAgdmFyIGNpcmNsZV9tYXJrZXJfNTk2MGFmZDBkMzIxNDE1NTkwMjc4NzkwZDVhZDZlYTggPSBMLmNpcmNsZSgKICAgICAgICAgICAgICAgIFsyNC4wLDkwLjBdLAogICAgICAgICAgICAgICAgMzY0NTI4Ljc3MDcyNjk2NjYsCiAgICAgICAgICAgICAgICB7CiAgICAgICAgICAgICAgICAgICAgY29sb3I6ICdOb25lJywKICAgICAgICAgICAgICAgICAgICBmaWxsQ29sb3I6ICdyZWQnLAogICAgICAgICAgICAgICAgICAgIGZpbGxPcGFjaXR5OiAwLjYKICAgICAgICAgICAgICAgICAgICB9CiAgICAgICAgICAgICAgICApCiAgICAgICAgICAgICAgICAuYWRkVG8obWFwXzNkYmM0M2JhZGM1MTQyYjFiNzA5ZmU1NzMyZTM3ZmY3KTsKICAgICAgICAgICAgCiAgICAgICAgCiAgICAgICAgICAgIAogICAgICAgICAgICB2YXIgcG9wdXBfYzljODcxYzgwNzZmNDc4OTk1NmYxODFiMGEwOGEzZjEgPSBMLnBvcHVwKHttYXhXaWR0aDogJzMwMCd9KTsKCiAgICAgICAgICAgIAogICAgICAgICAgICAgICAgdmFyIGh0bWxfNTVjY2FjNzA3NDcwNDhjZGFmYzJiNzQ2NmU0ZTM2OWEgPSAkKCcgICAgICAgICA8ZGl2IGlkPSJodG1sXzU1Y2NhYzcwNzQ3MDQ4Y2RhZmMyYjc0NjZlNGUzNjlhIiAgICAgICAgICAgICAgICAgc3R5bGU9IndpZHRoOiAxMDAuMCU7IGhlaWdodDogMTAwLjAlOyI+ICAgICAgICAgICAgICAgICBCYW5nbGFkZXNoPC9kaXY+ICAgICAgICAgICAgICAgICAnKVswXTsKICAgICAgICAgICAgICAgIHBvcHVwX2M5Yzg3MWM4MDc2ZjQ3ODk5NTZmMTgxYjBhMDhhM2YxLnNldENvbnRlbnQoaHRtbF81NWNjYWM3MDc0NzA0OGNkYWZjMmI3NDY2ZTRlMzY5YSk7CiAgICAgICAgICAgIAoKICAgICAgICAgICAgY2lyY2xlX21hcmtlcl81OTYwYWZkMGQzMjE0MTU1OTAyNzg3OTBkNWFkNmVhOC5iaW5kUG9wdXAocG9wdXBfYzljODcxYzgwNzZmNDc4OTk1NmYxODFiMGEwOGEzZjEpOwoKICAgICAgICAgICAgCiAgICAgICAgCiAgICAgICAgCiAgICAgICAgICAgIAoKICAgICAgICAgICAgdmFyIGNpcmNsZV9tYXJrZXJfMDg4ZDVjY2RmYzdjNDAxMWJjMTgyNzhlYmE0ZDQ4YWQgPSBMLmNpcmNsZSgKICAgICAgICAgICAgICAgIFs0Mi42NjY2NywyNS4yNV0sCiAgICAgICAgICAgICAgICAxNjg4Ny43NzE5NDU3ODMxMjYsCiAgICAgICAgICAgICAgICB7CiAgICAgICAgICAgICAgICAgICAgY29sb3I6ICdOb25lJywKICAgICAgICAgICAgICAgICAgICBmaWxsQ29sb3I6ICdibGFjaycsCiAgICAgICAgICAgICAgICAgICAgZmlsbE9wYWNpdHk6IDAuNgogICAgICAgICAgICAgICAgICAgIH0KICAgICAgICAgICAgICAgICkKICAgICAgICAgICAgICAgIC5hZGRUbyhtYXBfM2RiYzQzYmFkYzUxNDJiMWI3MDlmZTU3MzJlMzdmZjcpOwogICAgICAgICAgICAKICAgICAgICAKICAgICAgICAgICAgCiAgICAgICAgICAgIHZhciBwb3B1cF8xNjY4ZDg1Y2NiYWE0YjNiYjI1ODQ2MjExYjYyODJlMCA9IEwucG9wdXAoe21heFdpZHRoOiAnMzAwJ30pOwoKICAgICAgICAgICAgCiAgICAgICAgICAgICAgICB2YXIgaHRtbF85ZjZjZTM2Y2U4NzM0YWQxOTcyY2MwMjc2MDZlZDE3MSA9ICQoJyAgICAgICAgIDxkaXYgaWQ9Imh0bWxfOWY2Y2UzNmNlODczNGFkMTk3MmNjMDI3NjA2ZWQxNzEiICAgICAgICAgICAgICAgICBzdHlsZT0id2lkdGg6IDEwMC4wJTsgaGVpZ2h0OiAxMDAuMCU7Ij4gICAgICAgICAgICAgICAgIEJ1bGdhcmlhPC9kaXY+ICAgICAgICAgICAgICAgICAnKVswXTsKICAgICAgICAgICAgICAgIHBvcHVwXzE2NjhkODVjY2JhYTRiM2JiMjU4NDYyMTFiNjI4MmUwLnNldENvbnRlbnQoaHRtbF85ZjZjZTM2Y2U4NzM0YWQxOTcyY2MwMjc2MDZlZDE3MSk7CiAgICAgICAgICAgIAoKICAgICAgICAgICAgY2lyY2xlX21hcmtlcl8wODhkNWNjZGZjN2M0MDExYmMxODI3OGViYTRkNDhhZC5iaW5kUG9wdXAocG9wdXBfMTY2OGQ4NWNjYmFhNGIzYmIyNTg0NjIxMWI2MjgyZTApOwoKICAgICAgICAgICAgCiAgICAgICAgCiAgICAgICAgCiAgICAgICAgICAgIAoKICAgICAgICAgICAgdmFyIGNpcmNsZV9tYXJrZXJfMGZiNmI5YzkyMTk2NGUwZTllNTk1YzhhZTAyYWFlZTIgPSBMLmNpcmNsZSgKICAgICAgICAgICAgICAgIFs0NC4yNSwxNy44MzMzM10sCiAgICAgICAgICAgICAgICAxNzYzLjEwMzQ4OTM0NjgxNzIsCiAgICAgICAgICAgICAgICB7CiAgICAgICAgICAgICAgICAgICAgY29sb3I6ICdOb25lJywKICAgICAgICAgICAgICAgICAgICBmaWxsQ29sb3I6ICdibGFjaycsCiAgICAgICAgICAgICAgICAgICAgZmlsbE9wYWNpdHk6IDAuNgogICAgICAgICAgICAgICAgICAgIH0KICAgICAgICAgICAgICAgICkKICAgICAgICAgICAgICAgIC5hZGRUbyhtYXBfM2RiYzQzYmFkYzUxNDJiMWI3MDlmZTU3MzJlMzdmZjcpOwogICAgICAgICAgICAKICAgICAgICAKICAgICAgICAgICAgCiAgICAgICAgICAgIHZhciBwb3B1cF81MDY4MDRmY2EwNjA0N2EyYWJkMzFjM2I1YjhhY2ZkNiA9IEwucG9wdXAoe21heFdpZHRoOiAnMzAwJ30pOwoKICAgICAgICAgICAgCiAgICAgICAgICAgICAgICB2YXIgaHRtbF85NWI1YzkyYmUxMjg0ZmZiOGE3ZGIwOTA2ZjhiZTdmZCA9ICQoJyAgICAgICAgIDxkaXYgaWQ9Imh0bWxfOTViNWM5MmJlMTI4NGZmYjhhN2RiMDkwNmY4YmU3ZmQiICAgICAgICAgICAgICAgICBzdHlsZT0id2lkdGg6IDEwMC4wJTsgaGVpZ2h0OiAxMDAuMCU7Ij4gICAgICAgICAgICAgICAgIEJvc25pYSBhbmQgSGVyemVnb3ZpbmE8L2Rpdj4gICAgICAgICAgICAgICAgICcpWzBdOwogICAgICAgICAgICAgICAgcG9wdXBfNTA2ODA0ZmNhMDYwNDdhMmFiZDMxYzNiNWI4YWNmZDYuc2V0Q29udGVudChodG1sXzk1YjVjOTJiZTEyODRmZmI4YTdkYjA5MDZmOGJlN2ZkKTsKICAgICAgICAgICAgCgogICAgICAgICAgICBjaXJjbGVfbWFya2VyXzBmYjZiOWM5MjE5NjRlMGU5ZTU5NWM4YWUwMmFhZWUyLmJpbmRQb3B1cChwb3B1cF81MDY4MDRmY2EwNjA0N2EyYWJkMzFjM2I1YjhhY2ZkNik7CgogICAgICAgICAgICAKICAgICAgICAKICAgICAgICAKICAgICAgICAgICAgCgogICAgICAgICAgICB2YXIgY2lyY2xlX21hcmtlcl9hODAyMWU2ZjY5ZGM0NDM3YTU2YjViMzk2OTg3YTE2MyA9IEwuY2lyY2xlKAogICAgICAgICAgICAgICAgWzUzLjAsMjguMF0sCiAgICAgICAgICAgICAgICAwLjAsCiAgICAgICAgICAgICAgICB7CiAgICAgICAgICAgICAgICAgICAgY29sb3I6ICdOb25lJywKICAgICAgICAgICAgICAgICAgICBmaWxsQ29sb3I6ICdibGFjaycsCiAgICAgICAgICAgICAgICAgICAgZmlsbE9wYWNpdHk6IDAuNgogICAgICAgICAgICAgICAgICAgIH0KICAgICAgICAgICAgICAgICkKICAgICAgICAgICAgICAgIC5hZGRUbyhtYXBfM2RiYzQzYmFkYzUxNDJiMWI3MDlmZTU3MzJlMzdmZjcpOwogICAgICAgICAgICAKICAgICAgICAKICAgICAgICAgICAgCiAgICAgICAgICAgIHZhciBwb3B1cF85MDBjZWM5YWUxYzQ0NTg5OTg0M2ZjMGU0MWRhOGNlMSA9IEwucG9wdXAoe21heFdpZHRoOiAnMzAwJ30pOwoKICAgICAgICAgICAgCiAgICAgICAgICAgICAgICB2YXIgaHRtbF85NGNhY2QwNDhmZTQ0NmEyOTAwYWNkOGZjMzQ4ZGEzNCA9ICQoJyAgICAgICAgIDxkaXYgaWQ9Imh0bWxfOTRjYWNkMDQ4ZmU0NDZhMjkwMGFjZDhmYzM0OGRhMzQiICAgICAgICAgICAgICAgICBzdHlsZT0id2lkdGg6IDEwMC4wJTsgaGVpZ2h0OiAxMDAuMCU7Ij4gICAgICAgICAgICAgICAgIEJlbGFydXM8L2Rpdj4gICAgICAgICAgICAgICAgICcpWzBdOwogICAgICAgICAgICAgICAgcG9wdXBfOTAwY2VjOWFlMWM0NDU4OTk4NDNmYzBlNDFkYThjZTEuc2V0Q29udGVudChodG1sXzk0Y2FjZDA0OGZlNDQ2YTI5MDBhY2Q4ZmMzNDhkYTM0KTsKICAgICAgICAgICAgCgogICAgICAgICAgICBjaXJjbGVfbWFya2VyX2E4MDIxZTZmNjlkYzQ0MzdhNTZiNWIzOTY5ODdhMTYzLmJpbmRQb3B1cChwb3B1cF85MDBjZWM5YWUxYzQ0NTg5OTg0M2ZjMGU0MWRhOGNlMSk7CgogICAgICAgICAgICAKICAgICAgICAKICAgICAgICAKICAgICAgICAgICAgCgogICAgICAgICAgICB2YXIgY2lyY2xlX21hcmtlcl8xYmZiNWQ2ZmVkNzA0YjY1OTVjMTQyZDhlNjdhZWMxMyA9IEwuY2lyY2xlKAogICAgICAgICAgICAgICAgWzE3LjQ5OTUyLC04OC4xOTc1Nl0sCiAgICAgICAgICAgICAgICA4OTIwLjQwMzg0NjUzODkyMiwKICAgICAgICAgICAgICAgIHsKICAgICAgICAgICAgICAgICAgICBjb2xvcjogJ05vbmUnLAogICAgICAgICAgICAgICAgICAgIGZpbGxDb2xvcjogJ2dyZWVuJywKICAgICAgICAgICAgICAgICAgICBmaWxsT3BhY2l0eTogMC42CiAgICAgICAgICAgICAgICAgICAgfQogICAgICAgICAgICAgICAgKQogICAgICAgICAgICAgICAgLmFkZFRvKG1hcF8zZGJjNDNiYWRjNTE0MmIxYjcwOWZlNTczMmUzN2ZmNyk7CiAgICAgICAgICAgIAogICAgICAgIAogICAgICAgICAgICAKICAgICAgICAgICAgdmFyIHBvcHVwX2Q3NGY4NDE4ZTYxYzQ1M2I5NGRmMzk1YTQ5MzhmMTY2ID0gTC5wb3B1cCh7bWF4V2lkdGg6ICczMDAnfSk7CgogICAgICAgICAgICAKICAgICAgICAgICAgICAgIHZhciBodG1sXzM1ZjFkZDBiMjUxZjQzODdiNWQ1ZDczMmZkOGViM2FhID0gJCgnICAgICAgICAgPGRpdiBpZD0iaHRtbF8zNWYxZGQwYjI1MWY0Mzg3YjVkNWQ3MzJmZDhlYjNhYSIgICAgICAgICAgICAgICAgIHN0eWxlPSJ3aWR0aDogMTAwLjAlOyBoZWlnaHQ6IDEwMC4wJTsiPiAgICAgICAgICAgICAgICAgQmVsaXplPC9kaXY+ICAgICAgICAgICAgICAgICAnKVswXTsKICAgICAgICAgICAgICAgIHBvcHVwX2Q3NGY4NDE4ZTYxYzQ1M2I5NGRmMzk1YTQ5MzhmMTY2LnNldENvbnRlbnQoaHRtbF8zNWYxZGQwYjI1MWY0Mzg3YjVkNWQ3MzJmZDhlYjNhYSk7CiAgICAgICAgICAgIAoKICAgICAgICAgICAgY2lyY2xlX21hcmtlcl8xYmZiNWQ2ZmVkNzA0YjY1OTVjMTQyZDhlNjdhZWMxMy5iaW5kUG9wdXAocG9wdXBfZDc0Zjg0MThlNjFjNDUzYjk0ZGYzOTVhNDkzOGYxNjYpOwoKICAgICAgICAgICAgCiAgICAgICAgCiAgICAgICAgCiAgICAgICAgICAgIAoKICAgICAgICAgICAgdmFyIGNpcmNsZV9tYXJrZXJfNzFkNjI3YTI0MThmNDI3MWJhYTMxYjc1Y2RkOTQ1MjYgPSBMLmNpcmNsZSgKICAgICAgICAgICAgICAgIFstMTcuMCwtNjUuMF0sCiAgICAgICAgICAgICAgICA0MDA0OC4yOTIxMzQ0OTc1NTUsCiAgICAgICAgICAgICAgICB7CiAgICAgICAgICAgICAgICAgICAgY29sb3I6ICdOb25lJywKICAgICAgICAgICAgICAgICAgICBmaWxsQ29sb3I6ICdncmVlbicsCiAgICAgICAgICAgICAgICAgICAgZmlsbE9wYWNpdHk6IDAuNgogICAgICAgICAgICAgICAgICAgIH0KICAgICAgICAgICAgICAgICkKICAgICAgICAgICAgICAgIC5hZGRUbyhtYXBfM2RiYzQzYmFkYzUxNDJiMWI3MDlmZTU3MzJlMzdmZjcpOwogICAgICAgICAgICAKICAgICAgICAKICAgICAgICAgICAgCiAgICAgICAgICAgIHZhciBwb3B1cF80ZGE5NjcyZjhhMDE0YWE2ODc4ZjM4ODA3NGZkMjkxNSA9IEwucG9wdXAoe21heFdpZHRoOiAnMzAwJ30pOwoKICAgICAgICAgICAgCiAgICAgICAgICAgICAgICB2YXIgaHRtbF9iMzNiZjdjNmQ2ZGM0NmJkOTY0NjBiN2EwODk0MTNlZiA9ICQoJyAgICAgICAgIDxkaXYgaWQ9Imh0bWxfYjMzYmY3YzZkNmRjNDZiZDk2NDYwYjdhMDg5NDEzZWYiICAgICAgICAgICAgICAgICBzdHlsZT0id2lkdGg6IDEwMC4wJTsgaGVpZ2h0OiAxMDAuMCU7Ij4gICAgICAgICAgICAgICAgIEJvbGl2aWE8L2Rpdj4gICAgICAgICAgICAgICAgICcpWzBdOwogICAgICAgICAgICAgICAgcG9wdXBfNGRhOTY3MmY4YTAxNGFhNjg3OGYzODgwNzRmZDI5MTUuc2V0Q29udGVudChodG1sX2IzM2JmN2M2ZDZkYzQ2YmQ5NjQ2MGI3YTA4OTQxM2VmKTsKICAgICAgICAgICAgCgogICAgICAgICAgICBjaXJjbGVfbWFya2VyXzcxZDYyN2EyNDE4ZjQyNzFiYWEzMWI3NWNkZDk0NTI2LmJpbmRQb3B1cChwb3B1cF80ZGE5NjcyZjhhMDE0YWE2ODc4ZjM4ODA3NGZkMjkxNSk7CgogICAgICAgICAgICAKICAgICAgICAKICAgICAgICAKICAgICAgICAgICAgCgogICAgICAgICAgICB2YXIgY2lyY2xlX21hcmtlcl8wYTg3YTJiMGRkYWM0MzIwOGEzYWI2NWNiNzVjZDUwNiA9IEwuY2lyY2xlKAogICAgICAgICAgICAgICAgWy0xMC4wLC01NS4wXSwKICAgICAgICAgICAgICAgIDEyMjg1My4wNDM4NjY4MjQyNCwKICAgICAgICAgICAgICAgIHsKICAgICAgICAgICAgICAgICAgICBjb2xvcjogJ05vbmUnLAogICAgICAgICAgICAgICAgICAgIGZpbGxDb2xvcjogJ2dyZWVuJywKICAgICAgICAgICAgICAgICAgICBmaWxsT3BhY2l0eTogMC42CiAgICAgICAgICAgICAgICAgICAgfQogICAgICAgICAgICAgICAgKQogICAgICAgICAgICAgICAgLmFkZFRvKG1hcF8zZGJjNDNiYWRjNTE0MmIxYjcwOWZlNTczMmUzN2ZmNyk7CiAgICAgICAgICAgIAogICAgICAgIAogICAgICAgICAgICAKICAgICAgICAgICAgdmFyIHBvcHVwXzE5ZmRhNzgwODJiYTRhY2JiNDZiYTViMWUyZjZmNzE3ID0gTC5wb3B1cCh7bWF4V2lkdGg6ICczMDAnfSk7CgogICAgICAgICAgICAKICAgICAgICAgICAgICAgIHZhciBodG1sXzZjMDA2NzZlN2Q2YTQ4NTZhMDliMDc1MmQxZjMxMjA3ID0gJCgnICAgICAgICAgPGRpdiBpZD0iaHRtbF82YzAwNjc2ZTdkNmE0ODU2YTA5YjA3NTJkMWYzMTIwNyIgICAgICAgICAgICAgICAgIHN0eWxlPSJ3aWR0aDogMTAwLjAlOyBoZWlnaHQ6IDEwMC4wJTsiPiAgICAgICAgICAgICAgICAgQnJhemlsPC9kaXY+ICAgICAgICAgICAgICAgICAnKVswXTsKICAgICAgICAgICAgICAgIHBvcHVwXzE5ZmRhNzgwODJiYTRhY2JiNDZiYTViMWUyZjZmNzE3LnNldENvbnRlbnQoaHRtbF82YzAwNjc2ZTdkNmE0ODU2YTA5YjA3NTJkMWYzMTIwNyk7CiAgICAgICAgICAgIAoKICAgICAgICAgICAgY2lyY2xlX21hcmtlcl8wYTg3YTJiMGRkYWM0MzIwOGEzYWI2NWNiNzVjZDUwNi5iaW5kUG9wdXAocG9wdXBfMTlmZGE3ODA4MmJhNGFjYmI0NmJhNWIxZTJmNmY3MTcpOwoKICAgICAgICAgICAgCiAgICAgICAgCiAgICAgICAgCiAgICAgICAgICAgIAoKICAgICAgICAgICAgdmFyIGNpcmNsZV9tYXJrZXJfM2E4Y2U0MDgwNTAxNGM1Nzg3ZWRmYWFiNzAzMjkwZDQgPSBMLmNpcmNsZSgKICAgICAgICAgICAgICAgIFsyNy41LDkwLjVdLAogICAgICAgICAgICAgICAgNTg5My44MDY0NjEwMTgxMzMsCiAgICAgICAgICAgICAgICB7CiAgICAgICAgICAgICAgICAgICAgY29sb3I6ICdOb25lJywKICAgICAgICAgICAgICAgICAgICBmaWxsQ29sb3I6ICdyZWQnLAogICAgICAgICAgICAgICAgICAgIGZpbGxPcGFjaXR5OiAwLjYKICAgICAgICAgICAgICAgICAgICB9CiAgICAgICAgICAgICAgICApCiAgICAgICAgICAgICAgICAuYWRkVG8obWFwXzNkYmM0M2JhZGM1MTQyYjFiNzA5ZmU1NzMyZTM3ZmY3KTsKICAgICAgICAgICAgCiAgICAgICAgCiAgICAgICAgICAgIAogICAgICAgICAgICB2YXIgcG9wdXBfNzZmOTE5ZmQxMjFjNGMxOTk1MzQ5ODFmMDdmZGY0MzQgPSBMLnBvcHVwKHttYXhXaWR0aDogJzMwMCd9KTsKCiAgICAgICAgICAgIAogICAgICAgICAgICAgICAgdmFyIGh0bWxfYWQ1MzBkYTliOTJjNDc1MzgyY2NmMTU2Y2FhNTQ5ZmMgPSAkKCcgICAgICAgICA8ZGl2IGlkPSJodG1sX2FkNTMwZGE5YjkyYzQ3NTM4MmNjZjE1NmNhYTU0OWZjIiAgICAgICAgICAgICAgICAgc3R5bGU9IndpZHRoOiAxMDAuMCU7IGhlaWdodDogMTAwLjAlOyI+ICAgICAgICAgICAgICAgICBCaHV0YW48L2Rpdj4gICAgICAgICAgICAgICAgICcpWzBdOwogICAgICAgICAgICAgICAgcG9wdXBfNzZmOTE5ZmQxMjFjNGMxOTk1MzQ5ODFmMDdmZGY0MzQuc2V0Q29udGVudChodG1sX2FkNTMwZGE5YjkyYzQ3NTM4MmNjZjE1NmNhYTU0OWZjKTsKICAgICAgICAgICAgCgogICAgICAgICAgICBjaXJjbGVfbWFya2VyXzNhOGNlNDA4MDUwMTRjNTc4N2VkZmFhYjcwMzI5MGQ0LmJpbmRQb3B1cChwb3B1cF83NmY5MTlmZDEyMWM0YzE5OTUzNDk4MWYwN2ZkZjQzNCk7CgogICAgICAgICAgICAKICAgICAgICAKICAgICAgICAKICAgICAgICAgICAgCgogICAgICAgICAgICB2YXIgY2lyY2xlX21hcmtlcl9jYmM1ZjA0YTdlYmY0Mjc5OGIzNWRmNmYyN2IwMjU1YSA9IEwuY2lyY2xlKAogICAgICAgICAgICAgICAgWy0yMi4wLDI0LjBdLAogICAgICAgICAgICAgICAgMjM1ODkuOTE5Njc5NzA5MzYsCiAgICAgICAgICAgICAgICB7CiAgICAgICAgICAgICAgICAgICAgY29sb3I6ICdOb25lJywKICAgICAgICAgICAgICAgICAgICBmaWxsQ29sb3I6ICdibHVlJywKICAgICAgICAgICAgICAgICAgICBmaWxsT3BhY2l0eTogMC42CiAgICAgICAgICAgICAgICAgICAgfQogICAgICAgICAgICAgICAgKQogICAgICAgICAgICAgICAgLmFkZFRvKG1hcF8zZGJjNDNiYWRjNTE0MmIxYjcwOWZlNTczMmUzN2ZmNyk7CiAgICAgICAgICAgIAogICAgICAgIAogICAgICAgICAgICAKICAgICAgICAgICAgdmFyIHBvcHVwX2FhYzdhNzk0NmZkYzQxMTU5NzE5YzU0ZjYyZjhmZDAzID0gTC5wb3B1cCh7bWF4V2lkdGg6ICczMDAnfSk7CgogICAgICAgICAgICAKICAgICAgICAgICAgICAgIHZhciBodG1sXzhlODQxNWNlMjI1YzRmMGJiMGUyMGNjZWY2NDc0YTY1ID0gJCgnICAgICAgICAgPGRpdiBpZD0iaHRtbF84ZTg0MTVjZTIyNWM0ZjBiYjBlMjBjY2VmNjQ3NGE2NSIgICAgICAgICAgICAgICAgIHN0eWxlPSJ3aWR0aDogMTAwLjAlOyBoZWlnaHQ6IDEwMC4wJTsiPiAgICAgICAgICAgICAgICAgQm90c3dhbmE8L2Rpdj4gICAgICAgICAgICAgICAgICcpWzBdOwogICAgICAgICAgICAgICAgcG9wdXBfYWFjN2E3OTQ2ZmRjNDExNTk3MTljNTRmNjJmOGZkMDMuc2V0Q29udGVudChodG1sXzhlODQxNWNlMjI1YzRmMGJiMGUyMGNjZWY2NDc0YTY1KTsKICAgICAgICAgICAgCgogICAgICAgICAgICBjaXJjbGVfbWFya2VyX2NiYzVmMDRhN2ViZjQyNzk4YjM1ZGY2ZjI3YjAyNTVhLmJpbmRQb3B1cChwb3B1cF9hYWM3YTc5NDZmZGM0MTE1OTcxOWM1NGY2MmY4ZmQwMyk7CgogICAgICAgICAgICAKICAgICAgICAKICAgICAgICAKICAgICAgICAgICAgCgogICAgICAgICAgICB2YXIgY2lyY2xlX21hcmtlcl8yNDdjNzRlOTczMGM0NDg1YWY2MWIxZTZiNDkzMzE1YiA9IEwuY2lyY2xlKAogICAgICAgICAgICAgICAgWzcuMCwyMS4wXSwKICAgICAgICAgICAgICAgIDc1MjI4LjY0NzY0MDI1Njk4LAogICAgICAgICAgICAgICAgewogICAgICAgICAgICAgICAgICAgIGNvbG9yOiAnTm9uZScsCiAgICAgICAgICAgICAgICAgICAgZmlsbENvbG9yOiAnYmx1ZScsCiAgICAgICAgICAgICAgICAgICAgZmlsbE9wYWNpdHk6IDAuNgogICAgICAgICAgICAgICAgICAgIH0KICAgICAgICAgICAgICAgICkKICAgICAgICAgICAgICAgIC5hZGRUbyhtYXBfM2RiYzQzYmFkYzUxNDJiMWI3MDlmZTU3MzJlMzdmZjcpOwogICAgICAgICAgICAKICAgICAgICAKICAgICAgICAgICAgCiAgICAgICAgICAgIHZhciBwb3B1cF8wNGZkNGU2ZjJiZGU0YmQ4OTBlNGQzODBjNjkzNDU3YiA9IEwucG9wdXAoe21heFdpZHRoOiAnMzAwJ30pOwoKICAgICAgICAgICAgCiAgICAgICAgICAgICAgICB2YXIgaHRtbF9jYjE5ODJkNDFmY2E0NjRmODljNzQ1NWMwNTg4YWIxZSA9ICQoJyAgICAgICAgIDxkaXYgaWQ9Imh0bWxfY2IxOTgyZDQxZmNhNDY0Zjg5Yzc0NTVjMDU4OGFiMWUiICAgICAgICAgICAgICAgICBzdHlsZT0id2lkdGg6IDEwMC4wJTsgaGVpZ2h0OiAxMDAuMCU7Ij4gICAgICAgICAgICAgICAgIENlbnRyYWwgQWZyaWNhbiBSZXB1YmxpYzwvZGl2PiAgICAgICAgICAgICAgICAgJylbMF07CiAgICAgICAgICAgICAgICBwb3B1cF8wNGZkNGU2ZjJiZGU0YmQ4OTBlNGQzODBjNjkzNDU3Yi5zZXRDb250ZW50KGh0bWxfY2IxOTgyZDQxZmNhNDY0Zjg5Yzc0NTVjMDU4OGFiMWUpOwogICAgICAgICAgICAKCiAgICAgICAgICAgIGNpcmNsZV9tYXJrZXJfMjQ3Yzc0ZTk3MzBjNDQ4NWFmNjFiMWU2YjQ5MzMxNWIuYmluZFBvcHVwKHBvcHVwXzA0ZmQ0ZTZmMmJkZTRiZDg5MGU0ZDM4MGM2OTM0NTdiKTsKCiAgICAgICAgICAgIAogICAgICAgIAogICAgICAgIAogICAgICAgICAgICAKCiAgICAgICAgICAgIHZhciBjaXJjbGVfbWFya2VyX2JjYWUyM2VkZjMzYTQ2ODBhNGU4Mjk5NjMzYTY1OTFjID0gTC5jaXJjbGUoCiAgICAgICAgICAgICAgICBbNjAuMTA4NjcsLTExMy42NDI1ODAwMDAwMDAwMV0sCiAgICAgICAgICAgICAgICAxNTMzMy43NTA3NTg5MjE4NDIsCiAgICAgICAgICAgICAgICB7CiAgICAgICAgICAgICAgICAgICAgY29sb3I6ICdOb25lJywKICAgICAgICAgICAgICAgICAgICBmaWxsQ29sb3I6ICdncmVlbicsCiAgICAgICAgICAgICAgICAgICAgZmlsbE9wYWNpdHk6IDAuNgogICAgICAgICAgICAgICAgICAgIH0KICAgICAgICAgICAgICAgICkKICAgICAgICAgICAgICAgIC5hZGRUbyhtYXBfM2RiYzQzYmFkYzUxNDJiMWI3MDlmZTU3MzJlMzdmZjcpOwogICAgICAgICAgICAKICAgICAgICAKICAgICAgICAgICAgCiAgICAgICAgICAgIHZhciBwb3B1cF9hZjU5NmViMzczOTA0YzJiOTE0NzZhNmNhOTc4YjhkZiA9IEwucG9wdXAoe21heFdpZHRoOiAnMzAwJ30pOwoKICAgICAgICAgICAgCiAgICAgICAgICAgICAgICB2YXIgaHRtbF85MGE4ZDBhNzZlYTI0OWY4YWE1MDAyZGIzMDI1ZGJhZCA9ICQoJyAgICAgICAgIDxkaXYgaWQ9Imh0bWxfOTBhOGQwYTc2ZWEyNDlmOGFhNTAwMmRiMzAyNWRiYWQiICAgICAgICAgICAgICAgICBzdHlsZT0id2lkdGg6IDEwMC4wJTsgaGVpZ2h0OiAxMDAuMCU7Ij4gICAgICAgICAgICAgICAgIENhbmFkYTwvZGl2PiAgICAgICAgICAgICAgICAgJylbMF07CiAgICAgICAgICAgICAgICBwb3B1cF9hZjU5NmViMzczOTA0YzJiOTE0NzZhNmNhOTc4YjhkZi5zZXRDb250ZW50KGh0bWxfOTBhOGQwYTc2ZWEyNDlmOGFhNTAwMmRiMzAyNWRiYWQpOwogICAgICAgICAgICAKCiAgICAgICAgICAgIGNpcmNsZV9tYXJrZXJfYmNhZTIzZWRmMzNhNDY4MGE0ZTgyOTk2MzNhNjU5MWMuYmluZFBvcHVwKHBvcHVwX2FmNTk2ZWIzNzM5MDRjMmI5MTQ3NmE2Y2E5NzhiOGRmKTsKCiAgICAgICAgICAgIAogICAgICAgIAogICAgICAgIAogICAgICAgICAgICAKCiAgICAgICAgICAgIHZhciBjaXJjbGVfbWFya2VyXzRiZTcyZjU3NDVjMTRhMDVhNjBhMDExYzk0OGJiOWQyID0gTC5jaXJjbGUoCiAgICAgICAgICAgICAgICBbNDcuMDAwMTYsOC4wMTQyN10sCiAgICAgICAgICAgICAgICAxMDMxMC45ODA0NTc1NDY0NiwKICAgICAgICAgICAgICAgIHsKICAgICAgICAgICAgICAgICAgICBjb2xvcjogJ05vbmUnLAogICAgICAgICAgICAgICAgICAgIGZpbGxDb2xvcjogJ2JsYWNrJywKICAgICAgICAgICAgICAgICAgICBmaWxsT3BhY2l0eTogMC42CiAgICAgICAgICAgICAgICAgICAgfQogICAgICAgICAgICAgICAgKQogICAgICAgICAgICAgICAgLmFkZFRvKG1hcF8zZGJjNDNiYWRjNTE0MmIxYjcwOWZlNTczMmUzN2ZmNyk7CiAgICAgICAgICAgIAogICAgICAgIAogICAgICAgICAgICAKICAgICAgICAgICAgdmFyIHBvcHVwXzgzZGUxYTM4ZDYyYTQ2M2RhZjQ2NGE4YzJiZTU0MzQwID0gTC5wb3B1cCh7bWF4V2lkdGg6ICczMDAnfSk7CgogICAgICAgICAgICAKICAgICAgICAgICAgICAgIHZhciBodG1sXzU0ZWUyOWE1OWZiZTQxZWM5OWEwMGIxM2JiZDRlZjVjID0gJCgnICAgICAgICAgPGRpdiBpZD0iaHRtbF81NGVlMjlhNTlmYmU0MWVjOTlhMDBiMTNiYmQ0ZWY1YyIgICAgICAgICAgICAgICAgIHN0eWxlPSJ3aWR0aDogMTAwLjAlOyBoZWlnaHQ6IDEwMC4wJTsiPiAgICAgICAgICAgICAgICAgU3dpdHplcmxhbmQ8L2Rpdj4gICAgICAgICAgICAgICAgICcpWzBdOwogICAgICAgICAgICAgICAgcG9wdXBfODNkZTFhMzhkNjJhNDYzZGFmNDY0YThjMmJlNTQzNDAuc2V0Q29udGVudChodG1sXzU0ZWUyOWE1OWZiZTQxZWM5OWEwMGIxM2JiZDRlZjVjKTsKICAgICAgICAgICAgCgogICAgICAgICAgICBjaXJjbGVfbWFya2VyXzRiZTcyZjU3NDVjMTRhMDVhNjBhMDExYzk0OGJiOWQyLmJpbmRQb3B1cChwb3B1cF84M2RlMWEzOGQ2MmE0NjNkYWY0NjRhOGMyYmU1NDM0MCk7CgogICAgICAgICAgICAKICAgICAgICAKICAgICAgICAKICAgICAgICAgICAgCgogICAgICAgICAgICB2YXIgY2lyY2xlX21hcmtlcl9mN2U0MzFiYzk1OTc0MzcyOGQwZDY1ZjBkZjU2ZGRhNSA9IEwuY2lyY2xlKAogICAgICAgICAgICAgICAgWy0zMy40NTY5NCwtNzAuNjQ4MjddLAogICAgICAgICAgICAgICAgMTY5MTYuOTA1MjQ4ODI2NzgsCiAgICAgICAgICAgICAgICB7CiAgICAgICAgICAgICAgICAgICAgY29sb3I6ICdOb25lJywKICAgICAgICAgICAgICAgICAgICBmaWxsQ29sb3I6ICdncmVlbicsCiAgICAgICAgICAgICAgICAgICAgZmlsbE9wYWNpdHk6IDAuNgogICAgICAgICAgICAgICAgICAgIH0KICAgICAgICAgICAgICAgICkKICAgICAgICAgICAgICAgIC5hZGRUbyhtYXBfM2RiYzQzYmFkYzUxNDJiMWI3MDlmZTU3MzJlMzdmZjcpOwogICAgICAgICAgICAKICAgICAgICAKICAgICAgICAgICAgCiAgICAgICAgICAgIHZhciBwb3B1cF8yYjgzOWI0MDg1Mjk0ZmFjYTE0NTI1NjE4YTFhYmQxNSA9IEwucG9wdXAoe21heFdpZHRoOiAnMzAwJ30pOwoKICAgICAgICAgICAgCiAgICAgICAgICAgICAgICB2YXIgaHRtbF84MjM4YmQ1MDk1Y2I0NWYwOTY4NjhmYzM4MjRhNzc5YyA9ICQoJyAgICAgICAgIDxkaXYgaWQ9Imh0bWxfODIzOGJkNTA5NWNiNDVmMDk2ODY4ZmMzODI0YTc3OWMiICAgICAgICAgICAgICAgICBzdHlsZT0id2lkdGg6IDEwMC4wJTsgaGVpZ2h0OiAxMDAuMCU7Ij4gICAgICAgICAgICAgICAgIENoaWxlPC9kaXY+ICAgICAgICAgICAgICAgICAnKVswXTsKICAgICAgICAgICAgICAgIHBvcHVwXzJiODM5YjQwODUyOTRmYWNhMTQ1MjU2MThhMWFiZDE1LnNldENvbnRlbnQoaHRtbF84MjM4YmQ1MDk1Y2I0NWYwOTY4NjhmYzM4MjRhNzc5Yyk7CiAgICAgICAgICAgIAoKICAgICAgICAgICAgY2lyY2xlX21hcmtlcl9mN2U0MzFiYzk1OTc0MzcyOGQwZDY1ZjBkZjU2ZGRhNS5iaW5kUG9wdXAocG9wdXBfMmI4MzliNDA4NTI5NGZhY2ExNDUyNTYxOGExYWJkMTUpOwoKICAgICAgICAgICAgCiAgICAgICAgCiAgICAgICAgCiAgICAgICAgICAgIAoKICAgICAgICAgICAgdmFyIGNpcmNsZV9tYXJrZXJfNzIwNDBjYmRlYTZhNDRkNTkwNTA5NjM0MzM1ZDBiZmEgPSBMLmNpcmNsZSgKICAgICAgICAgICAgICAgIFszNS4wLDEwNS4wXSwKICAgICAgICAgICAgICAgIDQxMjQ0MC43OTc5MTM5MTg0LAogICAgICAgICAgICAgICAgewogICAgICAgICAgICAgICAgICAgIGNvbG9yOiAnTm9uZScsCiAgICAgICAgICAgICAgICAgICAgZmlsbENvbG9yOiAncmVkJywKICAgICAgICAgICAgICAgICAgICBmaWxsT3BhY2l0eTogMC42CiAgICAgICAgICAgICAgICAgICAgfQogICAgICAgICAgICAgICAgKQogICAgICAgICAgICAgICAgLmFkZFRvKG1hcF8zZGJjNDNiYWRjNTE0MmIxYjcwOWZlNTczMmUzN2ZmNyk7CiAgICAgICAgICAgIAogICAgICAgIAogICAgICAgICAgICAKICAgICAgICAgICAgdmFyIHBvcHVwXzQ1MjRhM2Q0MTViYTQ5YzRhNDNjNmU1MGIzYjFjZjI3ID0gTC5wb3B1cCh7bWF4V2lkdGg6ICczMDAnfSk7CgogICAgICAgICAgICAKICAgICAgICAgICAgICAgIHZhciBodG1sX2QxM2ZiYWE4Yjg2ZTQ0M2M4MTdlMGZlNDE3NDBkNDA3ID0gJCgnICAgICAgICAgPGRpdiBpZD0iaHRtbF9kMTNmYmFhOGI4NmU0NDNjODE3ZTBmZTQxNzQwZDQwNyIgICAgICAgICAgICAgICAgIHN0eWxlPSJ3aWR0aDogMTAwLjAlOyBoZWlnaHQ6IDEwMC4wJTsiPiAgICAgICAgICAgICAgICAgQ2hpbmE8L2Rpdj4gICAgICAgICAgICAgICAgICcpWzBdOwogICAgICAgICAgICAgICAgcG9wdXBfNDUyNGEzZDQxNWJhNDljNGE0M2M2ZTUwYjNiMWNmMjcuc2V0Q29udGVudChodG1sX2QxM2ZiYWE4Yjg2ZTQ0M2M4MTdlMGZlNDE3NDBkNDA3KTsKICAgICAgICAgICAgCgogICAgICAgICAgICBjaXJjbGVfbWFya2VyXzcyMDQwY2JkZWE2YTQ0ZDU5MDUwOTYzNDMzNWQwYmZhLmJpbmRQb3B1cChwb3B1cF80NTI0YTNkNDE1YmE0OWM0YTQzYzZlNTBiM2IxY2YyNyk7CgogICAgICAgICAgICAKICAgICAgICAKICAgICAgICAKICAgICAgICAgICAgCgogICAgICAgICAgICB2YXIgY2lyY2xlX21hcmtlcl9mYjg2NTAyNTBkN2M0NzdmOWIwMWZmOWYxNjg4OWI4NyA9IEwuY2lyY2xlKAogICAgICAgICAgICAgICAgWzguMCwtNS41XSwKICAgICAgICAgICAgICAgIDExOTU2MC40MzA1NDM3NzEyMiwKICAgICAgICAgICAgICAgIHsKICAgICAgICAgICAgICAgICAgICBjb2xvcjogJ05vbmUnLAogICAgICAgICAgICAgICAgICAgIGZpbGxDb2xvcjogJ2JsdWUnLAogICAgICAgICAgICAgICAgICAgIGZpbGxPcGFjaXR5OiAwLjYKICAgICAgICAgICAgICAgICAgICB9CiAgICAgICAgICAgICAgICApCiAgICAgICAgICAgICAgICAuYWRkVG8obWFwXzNkYmM0M2JhZGM1MTQyYjFiNzA5ZmU1NzMyZTM3ZmY3KTsKICAgICAgICAgICAgCiAgICAgICAgCiAgICAgICAgICAgIAogICAgICAgICAgICB2YXIgcG9wdXBfOTNiOGMzZjY5MzkxNDg0NzhmNGZhNjE4ZDdkOWRlZWEgPSBMLnBvcHVwKHttYXhXaWR0aDogJzMwMCd9KTsKCiAgICAgICAgICAgIAogICAgICAgICAgICAgICAgdmFyIGh0bWxfNGVhMzAyNzM4MDM3NDM0ZTlmN2QwZTY1OWY4ZjgyODQgPSAkKCcgICAgICAgICA8ZGl2IGlkPSJodG1sXzRlYTMwMjczODAzNzQzNGU5ZjdkMGU2NTlmOGY4Mjg0IiAgICAgICAgICAgICAgICAgc3R5bGU9IndpZHRoOiAxMDAuMCU7IGhlaWdodDogMTAwLjAlOyI+ICAgICAgICAgICAgICAgICBDb3RlIGQmIzM5O0l2b2lyZTwvZGl2PiAgICAgICAgICAgICAgICAgJylbMF07CiAgICAgICAgICAgICAgICBwb3B1cF85M2I4YzNmNjkzOTE0ODQ3OGY0ZmE2MThkN2Q5ZGVlYS5zZXRDb250ZW50KGh0bWxfNGVhMzAyNzM4MDM3NDM0ZTlmN2QwZTY1OWY4ZjgyODQpOwogICAgICAgICAgICAKCiAgICAgICAgICAgIGNpcmNsZV9tYXJrZXJfZmI4NjUwMjUwZDdjNDc3ZjliMDFmZjlmMTY4ODliODcuYmluZFBvcHVwKHBvcHVwXzkzYjhjM2Y2OTM5MTQ4NDc4ZjRmYTYxOGQ3ZDlkZWVhKTsKCiAgICAgICAgICAgIAogICAgICAgIAogICAgICAgIAogICAgICAgICAgICAKCiAgICAgICAgICAgIHZhciBjaXJjbGVfbWFya2VyX2IwMmIwNzEwYWJhYTQzODU5YzVkZTE5Yzg2MDVmNjhlID0gTC5jaXJjbGUoCiAgICAgICAgICAgICAgICBbNi4wLDEyLjVdLAogICAgICAgICAgICAgICAgMTA3MzMzLjA2NDY3ODU5MTI1LAogICAgICAgICAgICAgICAgewogICAgICAgICAgICAgICAgICAgIGNvbG9yOiAnTm9uZScsCiAgICAgICAgICAgICAgICAgICAgZmlsbENvbG9yOiAnYmx1ZScsCiAgICAgICAgICAgICAgICAgICAgZmlsbE9wYWNpdHk6IDAuNgogICAgICAgICAgICAgICAgICAgIH0KICAgICAgICAgICAgICAgICkKICAgICAgICAgICAgICAgIC5hZGRUbyhtYXBfM2RiYzQzYmFkYzUxNDJiMWI3MDlmZTU3MzJlMzdmZjcpOwogICAgICAgICAgICAKICAgICAgICAKICAgICAgICAgICAgCiAgICAgICAgICAgIHZhciBwb3B1cF9kOWQzODM0MWFlNjk0NzA0YjIwMTFjNzNkNjhjMmRlNiA9IEwucG9wdXAoe21heFdpZHRoOiAnMzAwJ30pOwoKICAgICAgICAgICAgCiAgICAgICAgICAgICAgICB2YXIgaHRtbF83NjE2MDI4OGE1MGE0MWQzYmZlNTM2ODZlYjVkZmRiZCA9ICQoJyAgICAgICAgIDxkaXYgaWQ9Imh0bWxfNzYxNjAyODhhNTBhNDFkM2JmZTUzNjg2ZWI1ZGZkYmQiICAgICAgICAgICAgICAgICBzdHlsZT0id2lkdGg6IDEwMC4wJTsgaGVpZ2h0OiAxMDAuMCU7Ij4gICAgICAgICAgICAgICAgIENhbWVyb29uPC9kaXY+ICAgICAgICAgICAgICAgICAnKVswXTsKICAgICAgICAgICAgICAgIHBvcHVwX2Q5ZDM4MzQxYWU2OTQ3MDRiMjAxMWM3M2Q2OGMyZGU2LnNldENvbnRlbnQoaHRtbF83NjE2MDI4OGE1MGE0MWQzYmZlNTM2ODZlYjVkZmRiZCk7CiAgICAgICAgICAgIAoKICAgICAgICAgICAgY2lyY2xlX21hcmtlcl9iMDJiMDcxMGFiYWE0Mzg1OWM1ZGUxOWM4NjA1ZjY4ZS5iaW5kUG9wdXAocG9wdXBfZDlkMzgzNDFhZTY5NDcwNGIyMDExYzczZDY4YzJkZTYpOwoKICAgICAgICAgICAgCiAgICAgICAgCiAgICAgICAgCiAgICAgICAgICAgIAoKICAgICAgICAgICAgdmFyIGNpcmNsZV9tYXJrZXJfZTZiZDQxOWFmM2M5NDQxM2JmNzNkMzBhN2U4MjQ4MTIgPSBMLmNpcmNsZSgKICAgICAgICAgICAgICAgIFstMi41LDIzLjVdLAogICAgICAgICAgICAgICAgMzQyMzYxLjI5OTI2NTQwNzQzLAogICAgICAgICAgICAgICAgewogICAgICAgICAgICAgICAgICAgIGNvbG9yOiAnTm9uZScsCiAgICAgICAgICAgICAgICAgICAgZmlsbENvbG9yOiAnYmx1ZScsCiAgICAgICAgICAgICAgICAgICAgZmlsbE9wYWNpdHk6IDAuNgogICAgICAgICAgICAgICAgICAgIH0KICAgICAgICAgICAgICAgICkKICAgICAgICAgICAgICAgIC5hZGRUbyhtYXBfM2RiYzQzYmFkYzUxNDJiMWI3MDlmZTU3MzJlMzdmZjcpOwogICAgICAgICAgICAKICAgICAgICAKICAgICAgICAgICAgCiAgICAgICAgICAgIHZhciBwb3B1cF81NjllZDhlMmYyNjY0NTdmODhkMjk3ZGQwMDQxNjFmOSA9IEwucG9wdXAoe21heFdpZHRoOiAnMzAwJ30pOwoKICAgICAgICAgICAgCiAgICAgICAgICAgICAgICB2YXIgaHRtbF9hNTg3YmY4NzI2NDg0ZTkyYWJkZTRiNjE2YzlkNTVmNSA9ICQoJyAgICAgICAgIDxkaXYgaWQ9Imh0bWxfYTU4N2JmODcyNjQ4NGU5MmFiZGU0YjYxNmM5ZDU1ZjUiICAgICAgICAgICAgICAgICBzdHlsZT0id2lkdGg6IDEwMC4wJTsgaGVpZ2h0OiAxMDAuMCU7Ij4gICAgICAgICAgICAgICAgIENvbmdvLCBEZW0uIFJlcC48L2Rpdj4gICAgICAgICAgICAgICAgICcpWzBdOwogICAgICAgICAgICAgICAgcG9wdXBfNTY5ZWQ4ZTJmMjY2NDU3Zjg4ZDI5N2RkMDA0MTYxZjkuc2V0Q29udGVudChodG1sX2E1ODdiZjg3MjY0ODRlOTJhYmRlNGI2MTZjOWQ1NWY1KTsKICAgICAgICAgICAgCgogICAgICAgICAgICBjaXJjbGVfbWFya2VyX2U2YmQ0MTlhZjNjOTQ0MTNiZjczZDMwYTdlODI0ODEyLmJpbmRQb3B1cChwb3B1cF81NjllZDhlMmYyNjY0NTdmODhkMjk3ZGQwMDQxNjFmOSk7CgogICAgICAgICAgICAKICAgICAgICAKICAgICAgICAKICAgICAgICAgICAgCgogICAgICAgICAgICB2YXIgY2lyY2xlX21hcmtlcl9hZDY5NjYyNGNjNjI0NmUyOWJkNzVhYWUzYzBlYjYzYiA9IEwuY2lyY2xlKAogICAgICAgICAgICAgICAgWy0xLjAsMTUuNV0sCiAgICAgICAgICAgICAgICA1MjAwMi4yNjk2NDE4NzQ3NSwKICAgICAgICAgICAgICAgIHsKICAgICAgICAgICAgICAgICAgICBjb2xvcjogJ05vbmUnLAogICAgICAgICAgICAgICAgICAgIGZpbGxDb2xvcjogJ2JsdWUnLAogICAgICAgICAgICAgICAgICAgIGZpbGxPcGFjaXR5OiAwLjYKICAgICAgICAgICAgICAgICAgICB9CiAgICAgICAgICAgICAgICApCiAgICAgICAgICAgICAgICAuYWRkVG8obWFwXzNkYmM0M2JhZGM1MTQyYjFiNzA5ZmU1NzMyZTM3ZmY3KTsKICAgICAgICAgICAgCiAgICAgICAgCiAgICAgICAgICAgIAogICAgICAgICAgICB2YXIgcG9wdXBfNWE5MjQ3ODE4MjJiNDEzZTk4YjY0NGVkMzM3MTI1N2IgPSBMLnBvcHVwKHttYXhXaWR0aDogJzMwMCd9KTsKCiAgICAgICAgICAgIAogICAgICAgICAgICAgICAgdmFyIGh0bWxfNjk1MmYzODI1NmJiNGNiZGFkMmFmNzFkNjAzMjQ1YjIgPSAkKCcgICAgICAgICA8ZGl2IGlkPSJodG1sXzY5NTJmMzgyNTZiYjRjYmRhZDJhZjcxZDYwMzI0NWIyIiAgICAgICAgICAgICAgICAgc3R5bGU9IndpZHRoOiAxMDAuMCU7IGhlaWdodDogMTAwLjAlOyI+ICAgICAgICAgICAgICAgICBDb25nbywgUmVwLjwvZGl2PiAgICAgICAgICAgICAgICAgJylbMF07CiAgICAgICAgICAgICAgICBwb3B1cF81YTkyNDc4MTgyMmI0MTNlOThiNjQ0ZWQzMzcxMjU3Yi5zZXRDb250ZW50KGh0bWxfNjk1MmYzODI1NmJiNGNiZGFkMmFmNzFkNjAzMjQ1YjIpOwogICAgICAgICAgICAKCiAgICAgICAgICAgIGNpcmNsZV9tYXJrZXJfYWQ2OTY2MjRjYzYyNDZlMjliZDc1YWFlM2MwZWI2M2IuYmluZFBvcHVwKHBvcHVwXzVhOTI0NzgxODIyYjQxM2U5OGI2NDRlZDMzNzEyNTdiKTsKCiAgICAgICAgICAgIAogICAgICAgIAogICAgICAgIAogICAgICAgICAgICAKCiAgICAgICAgICAgIHZhciBjaXJjbGVfbWFya2VyXzkzMzJhNDM2NDU1MTRkOGY5YmE2NGQyOTNjNGFmNzBjID0gTC5jaXJjbGUoCiAgICAgICAgICAgICAgICBbNC4wLC03My4yNV0sCiAgICAgICAgICAgICAgICA3MjM3OC43ODI3MjI0NDU4OSwKICAgICAgICAgICAgICAgIHsKICAgICAgICAgICAgICAgICAgICBjb2xvcjogJ05vbmUnLAogICAgICAgICAgICAgICAgICAgIGZpbGxDb2xvcjogJ2dyZWVuJywKICAgICAgICAgICAgICAgICAgICBmaWxsT3BhY2l0eTogMC42CiAgICAgICAgICAgICAgICAgICAgfQogICAgICAgICAgICAgICAgKQogICAgICAgICAgICAgICAgLmFkZFRvKG1hcF8zZGJjNDNiYWRjNTE0MmIxYjcwOWZlNTczMmUzN2ZmNyk7CiAgICAgICAgICAgIAogICAgICAgIAogICAgICAgICAgICAKICAgICAgICAgICAgdmFyIHBvcHVwX2NmZTdiZTI3YTRjOTQwMzBhYjMwYWRiM2UxYjNjYTRlID0gTC5wb3B1cCh7bWF4V2lkdGg6ICczMDAnfSk7CgogICAgICAgICAgICAKICAgICAgICAgICAgICAgIHZhciBodG1sXzRjNDk5ZjYwN2MzZjQ3Y2ViZGJhNGZlZDVjZGE5Y2E1ID0gJCgnICAgICAgICAgPGRpdiBpZD0iaHRtbF80YzQ5OWY2MDdjM2Y0N2NlYmRiYTRmZWQ1Y2RhOWNhNSIgICAgICAgICAgICAgICAgIHN0eWxlPSJ3aWR0aDogMTAwLjAlOyBoZWlnaHQ6IDEwMC4wJTsiPiAgICAgICAgICAgICAgICAgQ29sb21iaWE8L2Rpdj4gICAgICAgICAgICAgICAgICcpWzBdOwogICAgICAgICAgICAgICAgcG9wdXBfY2ZlN2JlMjdhNGM5NDAzMGFiMzBhZGIzZTFiM2NhNGUuc2V0Q29udGVudChodG1sXzRjNDk5ZjYwN2MzZjQ3Y2ViZGJhNGZlZDVjZGE5Y2E1KTsKICAgICAgICAgICAgCgogICAgICAgICAgICBjaXJjbGVfbWFya2VyXzkzMzJhNDM2NDU1MTRkOGY5YmE2NGQyOTNjNGFmNzBjLmJpbmRQb3B1cChwb3B1cF9jZmU3YmUyN2E0Yzk0MDMwYWIzMGFkYjNlMWIzY2E0ZSk7CgogICAgICAgICAgICAKICAgICAgICAKICAgICAgICAKICAgICAgICAgICAgCgogICAgICAgICAgICB2YXIgY2lyY2xlX21hcmtlcl9mNjQxMTlkYTcyMzY0ZDZiYTZhZjU5Njg0MzJhZGUzOCA9IEwuY2lyY2xlKAogICAgICAgICAgICAgICAgWy0xMi4yMzMzMyw0NC40NDU1M10sCiAgICAgICAgICAgICAgICAyNTU1MC45MDcyNjA0ODA4NiwKICAgICAgICAgICAgICAgIHsKICAgICAgICAgICAgICAgICAgICBjb2xvcjogJ05vbmUnLAogICAgICAgICAgICAgICAgICAgIGZpbGxDb2xvcjogJ2JsdWUnLAogICAgICAgICAgICAgICAgICAgIGZpbGxPcGFjaXR5OiAwLjYKICAgICAgICAgICAgICAgICAgICB9CiAgICAgICAgICAgICAgICApCiAgICAgICAgICAgICAgICAuYWRkVG8obWFwXzNkYmM0M2JhZGM1MTQyYjFiNzA5ZmU1NzMyZTM3ZmY3KTsKICAgICAgICAgICAgCiAgICAgICAgCiAgICAgICAgICAgIAogICAgICAgICAgICB2YXIgcG9wdXBfYWZlYWFjNGIyMDBiNGFhNGIxYjQ2NzU4ODFlODg5Y2MgPSBMLnBvcHVwKHttYXhXaWR0aDogJzMwMCd9KTsKCiAgICAgICAgICAgIAogICAgICAgICAgICAgICAgdmFyIGh0bWxfOGI3YWViODYyMzJjNDkyNGFiYTMzZTY1MDA3NWJiN2YgPSAkKCcgICAgICAgICA8ZGl2IGlkPSJodG1sXzhiN2FlYjg2MjMyYzQ5MjRhYmEzM2U2NTAwNzViYjdmIiAgICAgICAgICAgICAgICAgc3R5bGU9IndpZHRoOiAxMDAuMCU7IGhlaWdodDogMTAwLjAlOyI+ICAgICAgICAgICAgICAgICBDb21vcm9zPC9kaXY+ICAgICAgICAgICAgICAgICAnKVswXTsKICAgICAgICAgICAgICAgIHBvcHVwX2FmZWFhYzRiMjAwYjRhYTRiMWI0Njc1ODgxZTg4OWNjLnNldENvbnRlbnQoaHRtbF84YjdhZWI4NjIzMmM0OTI0YWJhMzNlNjUwMDc1YmI3Zik7CiAgICAgICAgICAgIAoKICAgICAgICAgICAgY2lyY2xlX21hcmtlcl9mNjQxMTlkYTcyMzY0ZDZiYTZhZjU5Njg0MzJhZGUzOC5iaW5kUG9wdXAocG9wdXBfYWZlYWFjNGIyMDBiNGFhNGIxYjQ2NzU4ODFlODg5Y2MpOwoKICAgICAgICAgICAgCiAgICAgICAgCiAgICAgICAgCiAgICAgICAgICAgIAoKICAgICAgICAgICAgdmFyIGNpcmNsZV9tYXJrZXJfNzc5NjBmYTQwNDEzNDY5MGJlN2MzYTUwYjEwMjkxMmYgPSBMLmNpcmNsZSgKICAgICAgICAgICAgICAgIFsxNi4wLC0yNC4wXSwKICAgICAgICAgICAgICAgIDExNjc2LjM3NzIwODI0MDk5MiwKICAgICAgICAgICAgICAgIHsKICAgICAgICAgICAgICAgICAgICBjb2xvcjogJ05vbmUnLAogICAgICAgICAgICAgICAgICAgIGZpbGxDb2xvcjogJ2JsdWUnLAogICAgICAgICAgICAgICAgICAgIGZpbGxPcGFjaXR5OiAwLjYKICAgICAgICAgICAgICAgICAgICB9CiAgICAgICAgICAgICAgICApCiAgICAgICAgICAgICAgICAuYWRkVG8obWFwXzNkYmM0M2JhZGM1MTQyYjFiNzA5ZmU1NzMyZTM3ZmY3KTsKICAgICAgICAgICAgCiAgICAgICAgCiAgICAgICAgICAgIAogICAgICAgICAgICB2YXIgcG9wdXBfM2FkYTYwZTNlMTdlNDBmZjhhZmI5NmZiZTY0ZmM2YTMgPSBMLnBvcHVwKHttYXhXaWR0aDogJzMwMCd9KTsKCiAgICAgICAgICAgIAogICAgICAgICAgICAgICAgdmFyIGh0bWxfNWE5OGQ4NDViNDlkNDk1M2E5OTk1NGVkNTM2ZTY3NjUgPSAkKCcgICAgICAgICA8ZGl2IGlkPSJodG1sXzVhOThkODQ1YjQ5ZDQ5NTNhOTk5NTRlZDUzNmU2NzY1IiAgICAgICAgICAgICAgICAgc3R5bGU9IndpZHRoOiAxMDAuMCU7IGhlaWdodDogMTAwLjAlOyI+ICAgICAgICAgICAgICAgICBDYXBlIFZlcmRlPC9kaXY+ICAgICAgICAgICAgICAgICAnKVswXTsKICAgICAgICAgICAgICAgIHBvcHVwXzNhZGE2MGUzZTE3ZTQwZmY4YWZiOTZmYmU2NGZjNmEzLnNldENvbnRlbnQoaHRtbF81YTk4ZDg0NWI0OWQ0OTUzYTk5OTU0ZWQ1MzZlNjc2NSk7CiAgICAgICAgICAgIAoKICAgICAgICAgICAgY2lyY2xlX21hcmtlcl83Nzk2MGZhNDA0MTM0NjkwYmU3YzNhNTBiMTAyOTEyZi5iaW5kUG9wdXAocG9wdXBfM2FkYTYwZTNlMTdlNDBmZjhhZmI5NmZiZTY0ZmM2YTMpOwoKICAgICAgICAgICAgCiAgICAgICAgCiAgICAgICAgCiAgICAgICAgICAgIAoKICAgICAgICAgICAgdmFyIGNpcmNsZV9tYXJrZXJfZGNjYjYyNmY3MmRhNDNlMTg1NzI1YjlkYjIwNGZlMzYgPSBMLmNpcmNsZSgKICAgICAgICAgICAgICAgIFsxMC4wLC04NC4wXSwKICAgICAgICAgICAgICAgIDExMTUwLjkzNjQxNzYwODYwNCwKICAgICAgICAgICAgICAgIHsKICAgICAgICAgICAgICAgICAgICBjb2xvcjogJ05vbmUnLAogICAgICAgICAgICAgICAgICAgIGZpbGxDb2xvcjogJ2dyZWVuJywKICAgICAgICAgICAgICAgICAgICBmaWxsT3BhY2l0eTogMC42CiAgICAgICAgICAgICAgICAgICAgfQogICAgICAgICAgICAgICAgKQogICAgICAgICAgICAgICAgLmFkZFRvKG1hcF8zZGJjNDNiYWRjNTE0MmIxYjcwOWZlNTczMmUzN2ZmNyk7CiAgICAgICAgICAgIAogICAgICAgIAogICAgICAgICAgICAKICAgICAgICAgICAgdmFyIHBvcHVwXzFlZmQ4YzI2YzI4NDRmYTA4NDk2MGQxM2ZkZDUxNmE5ID0gTC5wb3B1cCh7bWF4V2lkdGg6ICczMDAnfSk7CgogICAgICAgICAgICAKICAgICAgICAgICAgICAgIHZhciBodG1sXzRjN2FiZjYxNWMxMzQ2NjM4OWEyYjNjNmY2YTA3NzZjID0gJCgnICAgICAgICAgPGRpdiBpZD0iaHRtbF80YzdhYmY2MTVjMTM0NjYzODlhMmIzYzZmNmEwNzc2YyIgICAgICAgICAgICAgICAgIHN0eWxlPSJ3aWR0aDogMTAwLjAlOyBoZWlnaHQ6IDEwMC4wJTsiPiAgICAgICAgICAgICAgICAgQ29zdGEgUmljYTwvZGl2PiAgICAgICAgICAgICAgICAgJylbMF07CiAgICAgICAgICAgICAgICBwb3B1cF8xZWZkOGMyNmMyODQ0ZmEwODQ5NjBkMTNmZGQ1MTZhOS5zZXRDb250ZW50KGh0bWxfNGM3YWJmNjE1YzEzNDY2Mzg5YTJiM2M2ZjZhMDc3NmMpOwogICAgICAgICAgICAKCiAgICAgICAgICAgIGNpcmNsZV9tYXJrZXJfZGNjYjYyNmY3MmRhNDNlMTg1NzI1YjlkYjIwNGZlMzYuYmluZFBvcHVwKHBvcHVwXzFlZmQ4YzI2YzI4NDRmYTA4NDk2MGQxM2ZkZDUxNmE5KTsKCiAgICAgICAgICAgIAogICAgICAgIAogICAgICAgIAogICAgICAgICAgICAKCiAgICAgICAgICAgIHZhciBjaXJjbGVfbWFya2VyXzdkYmNlNDI5YjYxZjRhZDNiOTBiZTgzYWRhZWYzY2NhID0gTC5jaXJjbGUoCiAgICAgICAgICAgICAgICBbNDkuNzUsMTUuMF0sCiAgICAgICAgICAgICAgICAyNTI3LjMwODMzNDMzNzczNDMsCiAgICAgICAgICAgICAgICB7CiAgICAgICAgICAgICAgICAgICAgY29sb3I6ICdOb25lJywKICAgICAgICAgICAgICAgICAgICBmaWxsQ29sb3I6ICdibGFjaycsCiAgICAgICAgICAgICAgICAgICAgZmlsbE9wYWNpdHk6IDAuNgogICAgICAgICAgICAgICAgICAgIH0KICAgICAgICAgICAgICAgICkKICAgICAgICAgICAgICAgIC5hZGRUbyhtYXBfM2RiYzQzYmFkYzUxNDJiMWI3MDlmZTU3MzJlMzdmZjcpOwogICAgICAgICAgICAKICAgICAgICAKICAgICAgICAgICAgCiAgICAgICAgICAgIHZhciBwb3B1cF83YmZjN2Q5NDc3Zjk0ZTM5YjQ1NGUyZWNhYzI0MGNkNSA9IEwucG9wdXAoe21heFdpZHRoOiAnMzAwJ30pOwoKICAgICAgICAgICAgCiAgICAgICAgICAgICAgICB2YXIgaHRtbF80MGRhZjFiYTE4ZDU0ZjJiYjJjMWZhNDM1Nzc4NzMzZSA9ICQoJyAgICAgICAgIDxkaXYgaWQ9Imh0bWxfNDBkYWYxYmExOGQ1NGYyYmIyYzFmYTQzNTc3ODczM2UiICAgICAgICAgICAgICAgICBzdHlsZT0id2lkdGg6IDEwMC4wJTsgaGVpZ2h0OiAxMDAuMCU7Ij4gICAgICAgICAgICAgICAgIEN6ZWNoIFJlcHVibGljPC9kaXY+ICAgICAgICAgICAgICAgICAnKVswXTsKICAgICAgICAgICAgICAgIHBvcHVwXzdiZmM3ZDk0NzdmOTRlMzliNDU0ZTJlY2FjMjQwY2Q1LnNldENvbnRlbnQoaHRtbF80MGRhZjFiYTE4ZDU0ZjJiYjJjMWZhNDM1Nzc4NzMzZSk7CiAgICAgICAgICAgIAoKICAgICAgICAgICAgY2lyY2xlX21hcmtlcl83ZGJjZTQyOWI2MWY0YWQzYjkwYmU4M2FkYWVmM2NjYS5iaW5kUG9wdXAocG9wdXBfN2JmYzdkOTQ3N2Y5NGUzOWI0NTRlMmVjYWMyNDBjZDUpOwoKICAgICAgICAgICAgCiAgICAgICAgCiAgICAgICAgCiAgICAgICAgICAgIAoKICAgICAgICAgICAgdmFyIGNpcmNsZV9tYXJrZXJfNWQ3ZjZiMDg2ODdkNDZmMTg5YTY5YzE1MzU3MWU4N2UgPSBMLmNpcmNsZSgKICAgICAgICAgICAgICAgIFs1MS41LDEwLjVdLAogICAgICAgICAgICAgICAgMjM1NDEuMTYyODAxNTcyMjg1LAogICAgICAgICAgICAgICAgewogICAgICAgICAgICAgICAgICAgIGNvbG9yOiAnTm9uZScsCiAgICAgICAgICAgICAgICAgICAgZmlsbENvbG9yOiAnYmxhY2snLAogICAgICAgICAgICAgICAgICAgIGZpbGxPcGFjaXR5OiAwLjYKICAgICAgICAgICAgICAgICAgICB9CiAgICAgICAgICAgICAgICApCiAgICAgICAgICAgICAgICAuYWRkVG8obWFwXzNkYmM0M2JhZGM1MTQyYjFiNzA5ZmU1NzMyZTM3ZmY3KTsKICAgICAgICAgICAgCiAgICAgICAgCiAgICAgICAgICAgIAogICAgICAgICAgICB2YXIgcG9wdXBfYTY2ZDBhMWU1MmMxNGNiMWE3YjE4ODg4MTRmMjE1YTcgPSBMLnBvcHVwKHttYXhXaWR0aDogJzMwMCd9KTsKCiAgICAgICAgICAgIAogICAgICAgICAgICAgICAgdmFyIGh0bWxfYTZjZmZmOWRhZGFlNGFjMmEwMzY1YzA3YjZjOWQwY2QgPSAkKCcgICAgICAgICA8ZGl2IGlkPSJodG1sX2E2Y2ZmZjlkYWRhZTRhYzJhMDM2NWMwN2I2YzlkMGNkIiAgICAgICAgICAgICAgICAgc3R5bGU9IndpZHRoOiAxMDAuMCU7IGhlaWdodDogMTAwLjAlOyI+ICAgICAgICAgICAgICAgICBHZXJtYW55PC9kaXY+ICAgICAgICAgICAgICAgICAnKVswXTsKICAgICAgICAgICAgICAgIHBvcHVwX2E2NmQwYTFlNTJjMTRjYjFhN2IxODg4ODE0ZjIxNWE3LnNldENvbnRlbnQoaHRtbF9hNmNmZmY5ZGFkYWU0YWMyYTAzNjVjMDdiNmM5ZDBjZCk7CiAgICAgICAgICAgIAoKICAgICAgICAgICAgY2lyY2xlX21hcmtlcl81ZDdmNmIwODY4N2Q0NmYxODlhNjljMTUzNTcxZTg3ZS5iaW5kUG9wdXAocG9wdXBfYTY2ZDBhMWU1MmMxNGNiMWE3YjE4ODg4MTRmMjE1YTcpOwoKICAgICAgICAgICAgCiAgICAgICAgCiAgICAgICAgCiAgICAgICAgICAgIAoKICAgICAgICAgICAgdmFyIGNpcmNsZV9tYXJrZXJfY2Y2NmMzNWRmY2MyNDAxZmJkZGNmMjI0Yzk5OWRlYjcgPSBMLmNpcmNsZSgKICAgICAgICAgICAgICAgIFsxMS41ODkwMSw0My4xNDUwM10sCiAgICAgICAgICAgICAgICAxNzgwNC44NzkwODkxNzUxNSwKICAgICAgICAgICAgICAgIHsKICAgICAgICAgICAgICAgICAgICBjb2xvcjogJ05vbmUnLAogICAgICAgICAgICAgICAgICAgIGZpbGxDb2xvcjogJ2JsdWUnLAogICAgICAgICAgICAgICAgICAgIGZpbGxPcGFjaXR5OiAwLjYKICAgICAgICAgICAgICAgICAgICB9CiAgICAgICAgICAgICAgICApCiAgICAgICAgICAgICAgICAuYWRkVG8obWFwXzNkYmM0M2JhZGM1MTQyYjFiNzA5ZmU1NzMyZTM3ZmY3KTsKICAgICAgICAgICAgCiAgICAgICAgCiAgICAgICAgICAgIAogICAgICAgICAgICB2YXIgcG9wdXBfMDM2ZjBjOTIxZGJkNDY5ZDk2NDhkYjliOWRjZjE4MDMgPSBMLnBvcHVwKHttYXhXaWR0aDogJzMwMCd9KTsKCiAgICAgICAgICAgIAogICAgICAgICAgICAgICAgdmFyIGh0bWxfNTcxNTI4MDBlN2FhNDRkMjhkZDExMTBiMDgwMjUxYmMgPSAkKCcgICAgICAgICA8ZGl2IGlkPSJodG1sXzU3MTUyODAwZTdhYTQ0ZDI4ZGQxMTEwYjA4MDI1MWJjIiAgICAgICAgICAgICAgICAgc3R5bGU9IndpZHRoOiAxMDAuMCU7IGhlaWdodDogMTAwLjAlOyI+ICAgICAgICAgICAgICAgICBEamlib3V0aTwvZGl2PiAgICAgICAgICAgICAgICAgJylbMF07CiAgICAgICAgICAgICAgICBwb3B1cF8wMzZmMGM5MjFkYmQ0NjlkOTY0OGRiOWI5ZGNmMTgwMy5zZXRDb250ZW50KGh0bWxfNTcxNTI4MDBlN2FhNDRkMjhkZDExMTBiMDgwMjUxYmMpOwogICAgICAgICAgICAKCiAgICAgICAgICAgIGNpcmNsZV9tYXJrZXJfY2Y2NmMzNWRmY2MyNDAxZmJkZGNmMjI0Yzk5OWRlYjcuYmluZFBvcHVwKHBvcHVwXzAzNmYwYzkyMWRiZDQ2OWQ5NjQ4ZGI5YjlkY2YxODAzKTsKCiAgICAgICAgICAgIAogICAgICAgIAogICAgICAgIAogICAgICAgICAgICAKCiAgICAgICAgICAgIHZhciBjaXJjbGVfbWFya2VyXzRmNTIzZmJkODk0YTQzMDBiZjBjZWRlNDc3MWQxNGU1ID0gTC5jaXJjbGUoCiAgICAgICAgICAgICAgICBbNTYuMCwxMC4wXSwKICAgICAgICAgICAgICAgIDg2ODEuMjg1NzgxMzEzOTQ3LAogICAgICAgICAgICAgICAgewogICAgICAgICAgICAgICAgICAgIGNvbG9yOiAnTm9uZScsCiAgICAgICAgICAgICAgICAgICAgZmlsbENvbG9yOiAnYmxhY2snLAogICAgICAgICAgICAgICAgICAgIGZpbGxPcGFjaXR5OiAwLjYKICAgICAgICAgICAgICAgICAgICB9CiAgICAgICAgICAgICAgICApCiAgICAgICAgICAgICAgICAuYWRkVG8obWFwXzNkYmM0M2JhZGM1MTQyYjFiNzA5ZmU1NzMyZTM3ZmY3KTsKICAgICAgICAgICAgCiAgICAgICAgCiAgICAgICAgICAgIAogICAgICAgICAgICB2YXIgcG9wdXBfOWQwOTIxYWE0YmIzNGViZDk0NmI1OTE5M2ViZjc3YjQgPSBMLnBvcHVwKHttYXhXaWR0aDogJzMwMCd9KTsKCiAgICAgICAgICAgIAogICAgICAgICAgICAgICAgdmFyIGh0bWxfZDc4ZjBjYTkzNDVhNDI5NWIzNDU4MWE1YTkwNzVhMjkgPSAkKCcgICAgICAgICA8ZGl2IGlkPSJodG1sX2Q3OGYwY2E5MzQ1YTQyOTViMzQ1ODFhNWE5MDc1YTI5IiAgICAgICAgICAgICAgICAgc3R5bGU9IndpZHRoOiAxMDAuMCU7IGhlaWdodDogMTAwLjAlOyI+ICAgICAgICAgICAgICAgICBEZW5tYXJrPC9kaXY+ICAgICAgICAgICAgICAgICAnKVswXTsKICAgICAgICAgICAgICAgIHBvcHVwXzlkMDkyMWFhNGJiMzRlYmQ5NDZiNTkxOTNlYmY3N2I0LnNldENvbnRlbnQoaHRtbF9kNzhmMGNhOTM0NWE0Mjk1YjM0NTgxYTVhOTA3NWEyOSk7CiAgICAgICAgICAgIAoKICAgICAgICAgICAgY2lyY2xlX21hcmtlcl80ZjUyM2ZiZDg5NGE0MzAwYmYwY2VkZTQ3NzFkMTRlNS5iaW5kUG9wdXAocG9wdXBfOWQwOTIxYWE0YmIzNGViZDk0NmI1OTE5M2ViZjc3YjQpOwoKICAgICAgICAgICAgCiAgICAgICAgCiAgICAgICAgCiAgICAgICAgICAgIAoKICAgICAgICAgICAgdmFyIGNpcmNsZV9tYXJrZXJfMDM4MmU1ZDRkMGFhNDMwYTgyZGUxYmU0MWZmZjBjOGUgPSBMLmNpcmNsZSgKICAgICAgICAgICAgICAgIFsxOS4wLC03MC42NjY2N10sCiAgICAgICAgICAgICAgICAyMTI0My42OTc1MTM4ODI0ODIsCiAgICAgICAgICAgICAgICB7CiAgICAgICAgICAgICAgICAgICAgY29sb3I6ICdOb25lJywKICAgICAgICAgICAgICAgICAgICBmaWxsQ29sb3I6ICdncmVlbicsCiAgICAgICAgICAgICAgICAgICAgZmlsbE9wYWNpdHk6IDAuNgogICAgICAgICAgICAgICAgICAgIH0KICAgICAgICAgICAgICAgICkKICAgICAgICAgICAgICAgIC5hZGRUbyhtYXBfM2RiYzQzYmFkYzUxNDJiMWI3MDlmZTU3MzJlMzdmZjcpOwogICAgICAgICAgICAKICAgICAgICAKICAgICAgICAgICAgCiAgICAgICAgICAgIHZhciBwb3B1cF81YWEyOGY5ZDI0NzA0NjdlOTFjNzkwMDkzMmUwM2ZiNyA9IEwucG9wdXAoe21heFdpZHRoOiAnMzAwJ30pOwoKICAgICAgICAgICAgCiAgICAgICAgICAgICAgICB2YXIgaHRtbF9hODFjODZkNzZkNzI0Nzk2ODY4ZmNlNGIyNTZjNjRkZCA9ICQoJyAgICAgICAgIDxkaXYgaWQ9Imh0bWxfYTgxYzg2ZDc2ZDcyNDc5Njg2OGZjZTRiMjU2YzY0ZGQiICAgICAgICAgICAgICAgICBzdHlsZT0id2lkdGg6IDEwMC4wJTsgaGVpZ2h0OiAxMDAuMCU7Ij4gICAgICAgICAgICAgICAgIERvbWluaWNhbiBSZXB1YmxpYzwvZGl2PiAgICAgICAgICAgICAgICAgJylbMF07CiAgICAgICAgICAgICAgICBwb3B1cF81YWEyOGY5ZDI0NzA0NjdlOTFjNzkwMDkzMmUwM2ZiNy5zZXRDb250ZW50KGh0bWxfYTgxYzg2ZDc2ZDcyNDc5Njg2OGZjZTRiMjU2YzY0ZGQpOwogICAgICAgICAgICAKCiAgICAgICAgICAgIGNpcmNsZV9tYXJrZXJfMDM4MmU1ZDRkMGFhNDMwYTgyZGUxYmU0MWZmZjBjOGUuYmluZFBvcHVwKHBvcHVwXzVhYTI4ZjlkMjQ3MDQ2N2U5MWM3OTAwOTMyZTAzZmI3KTsKCiAgICAgICAgICAgIAogICAgICAgIAogICAgICAgIAogICAgICAgICAgICAKCiAgICAgICAgICAgIHZhciBjaXJjbGVfbWFya2VyXzYwMzViZDJhODliODQ5Y2FhYTliNDBjZTM3ZTFmZDFkID0gTC5jaXJjbGUoCiAgICAgICAgICAgICAgICBbMjguMCwzLjBdLAogICAgICAgICAgICAgICAgNjgyNTYuNjEwMzExNDM5MzMsCiAgICAgICAgICAgICAgICB7CiAgICAgICAgICAgICAgICAgICAgY29sb3I6ICdOb25lJywKICAgICAgICAgICAgICAgICAgICBmaWxsQ29sb3I6ICdibHVlJywKICAgICAgICAgICAgICAgICAgICBmaWxsT3BhY2l0eTogMC42CiAgICAgICAgICAgICAgICAgICAgfQogICAgICAgICAgICAgICAgKQogICAgICAgICAgICAgICAgLmFkZFRvKG1hcF8zZGJjNDNiYWRjNTE0MmIxYjcwOWZlNTczMmUzN2ZmNyk7CiAgICAgICAgICAgIAogICAgICAgIAogICAgICAgICAgICAKICAgICAgICAgICAgdmFyIHBvcHVwXzRjM2NmYjIzY2NlZDQxMDI4MWI0OTc4M2FlMjZhNzU4ID0gTC5wb3B1cCh7bWF4V2lkdGg6ICczMDAnfSk7CgogICAgICAgICAgICAKICAgICAgICAgICAgICAgIHZhciBodG1sXzEyOWU1YmQ4ZTQwNTRmYjBhZDA3OTBjOTg3OWVlMGM3ID0gJCgnICAgICAgICAgPGRpdiBpZD0iaHRtbF8xMjllNWJkOGU0MDU0ZmIwYWQwNzkwYzk4NzllZTBjNyIgICAgICAgICAgICAgICAgIHN0eWxlPSJ3aWR0aDogMTAwLjAlOyBoZWlnaHQ6IDEwMC4wJTsiPiAgICAgICAgICAgICAgICAgQWxnZXJpYTwvZGl2PiAgICAgICAgICAgICAgICAgJylbMF07CiAgICAgICAgICAgICAgICBwb3B1cF80YzNjZmIyM2NjZWQ0MTAyODFiNDk3ODNhZTI2YTc1OC5zZXRDb250ZW50KGh0bWxfMTI5ZTViZDhlNDA1NGZiMGFkMDc5MGM5ODc5ZWUwYzcpOwogICAgICAgICAgICAKCiAgICAgICAgICAgIGNpcmNsZV9tYXJrZXJfNjAzNWJkMmE4OWI4NDljYWFhOWI0MGNlMzdlMWZkMWQuYmluZFBvcHVwKHBvcHVwXzRjM2NmYjIzY2NlZDQxMDI4MWI0OTc4M2FlMjZhNzU4KTsKCiAgICAgICAgICAgIAogICAgICAgIAogICAgICAgIAogICAgICAgICAgICAKCiAgICAgICAgICAgIHZhciBjaXJjbGVfbWFya2VyX2M2YTllYjk4MjRiMDQ2MDQ5NjkxZTdkMDcwNDNlMWJiID0gTC5jaXJjbGUoCiAgICAgICAgICAgICAgICBbLTEuMjUsLTc4LjI1XSwKICAgICAgICAgICAgICAgIDM0NTc0Ljk1OTkxNDQ0OTA0LAogICAgICAgICAgICAgICAgewogICAgICAgICAgICAgICAgICAgIGNvbG9yOiAnTm9uZScsCiAgICAgICAgICAgICAgICAgICAgZmlsbENvbG9yOiAnZ3JlZW4nLAogICAgICAgICAgICAgICAgICAgIGZpbGxPcGFjaXR5OiAwLjYKICAgICAgICAgICAgICAgICAgICB9CiAgICAgICAgICAgICAgICApCiAgICAgICAgICAgICAgICAuYWRkVG8obWFwXzNkYmM0M2JhZGM1MTQyYjFiNzA5ZmU1NzMyZTM3ZmY3KTsKICAgICAgICAgICAgCiAgICAgICAgCiAgICAgICAgICAgIAogICAgICAgICAgICB2YXIgcG9wdXBfMTA2ZmEwMTcyZTc1NDU0OWI5YzJkMDc3MTdkNjcwYWEgPSBMLnBvcHVwKHttYXhXaWR0aDogJzMwMCd9KTsKCiAgICAgICAgICAgIAogICAgICAgICAgICAgICAgdmFyIGh0bWxfYzNmMjRjYTlmZTQ1NDNiNzlmMDBkMjNjOTBiMjM3NTEgPSAkKCcgICAgICAgICA8ZGl2IGlkPSJodG1sX2MzZjI0Y2E5ZmU0NTQzYjc5ZjAwZDIzYzkwYjIzNzUxIiAgICAgICAgICAgICAgICAgc3R5bGU9IndpZHRoOiAxMDAuMCU7IGhlaWdodDogMTAwLjAlOyI+ICAgICAgICAgICAgICAgICBFY3VhZG9yPC9kaXY+ICAgICAgICAgICAgICAgICAnKVswXTsKICAgICAgICAgICAgICAgIHBvcHVwXzEwNmZhMDE3MmU3NTQ1NDliOWMyZDA3NzE3ZDY3MGFhLnNldENvbnRlbnQoaHRtbF9jM2YyNGNhOWZlNDU0M2I3OWYwMGQyM2M5MGIyMzc1MSk7CiAgICAgICAgICAgIAoKICAgICAgICAgICAgY2lyY2xlX21hcmtlcl9jNmE5ZWI5ODI0YjA0NjA0OTY5MWU3ZDA3MDQzZTFiYi5iaW5kUG9wdXAocG9wdXBfMTA2ZmEwMTcyZTc1NDU0OWI5YzJkMDc3MTdkNjcwYWEpOwoKICAgICAgICAgICAgCiAgICAgICAgCiAgICAgICAgCiAgICAgICAgICAgIAoKICAgICAgICAgICAgdmFyIGNpcmNsZV9tYXJrZXJfN2MwZWNiZDM0Y2Y4NGQwMzhjODY1ZDk2ZWQ5M2E4MmYgPSBMLmNpcmNsZSgKICAgICAgICAgICAgICAgIFsyNy4wLDMwLjBdLAogICAgICAgICAgICAgICAgNTI4NDguODE2OTkzNjExOSwKICAgICAgICAgICAgICAgIHsKICAgICAgICAgICAgICAgICAgICBjb2xvcjogJ05vbmUnLAogICAgICAgICAgICAgICAgICAgIGZpbGxDb2xvcjogJ2JsdWUnLAogICAgICAgICAgICAgICAgICAgIGZpbGxPcGFjaXR5OiAwLjYKICAgICAgICAgICAgICAgICAgICB9CiAgICAgICAgICAgICAgICApCiAgICAgICAgICAgICAgICAuYWRkVG8obWFwXzNkYmM0M2JhZGM1MTQyYjFiNzA5ZmU1NzMyZTM3ZmY3KTsKICAgICAgICAgICAgCiAgICAgICAgCiAgICAgICAgICAgIAogICAgICAgICAgICB2YXIgcG9wdXBfMWJjOGM5NWE2OTVmNDA4MThjZTc2NGFmYWYzZWYxZmQgPSBMLnBvcHVwKHttYXhXaWR0aDogJzMwMCd9KTsKCiAgICAgICAgICAgIAogICAgICAgICAgICAgICAgdmFyIGh0bWxfZGZhOGQ2MmFhODUyNGU0M2JjM2EwMGY1ZTU1OTNiOTYgPSAkKCcgICAgICAgICA8ZGl2IGlkPSJodG1sX2RmYThkNjJhYTg1MjRlNDNiYzNhMDBmNWU1NTkzYjk2IiAgICAgICAgICAgICAgICAgc3R5bGU9IndpZHRoOiAxMDAuMCU7IGhlaWdodDogMTAwLjAlOyI+ICAgICAgICAgICAgICAgICBFZ3lwdDwvZGl2PiAgICAgICAgICAgICAgICAgJylbMF07CiAgICAgICAgICAgICAgICBwb3B1cF8xYmM4Yzk1YTY5NWY0MDgxOGNlNzY0YWZhZjNlZjFmZC5zZXRDb250ZW50KGh0bWxfZGZhOGQ2MmFhODUyNGU0M2JjM2EwMGY1ZTU1OTNiOTYpOwogICAgICAgICAgICAKCiAgICAgICAgICAgIGNpcmNsZV9tYXJrZXJfN2MwZWNiZDM0Y2Y4NGQwMzhjODY1ZDk2ZWQ5M2E4MmYuYmluZFBvcHVwKHBvcHVwXzFiYzhjOTVhNjk1ZjQwODE4Y2U3NjRhZmFmM2VmMWZkKTsKCiAgICAgICAgICAgIAogICAgICAgIAogICAgICAgIAogICAgICAgICAgICAKCiAgICAgICAgICAgIHZhciBjaXJjbGVfbWFya2VyX2Q5ZmQzOGI2NDgwMDRjOGNiMjg2OTI0Zjg4NWVjNzI2ID0gTC5jaXJjbGUoCiAgICAgICAgICAgICAgICBbNDAuMCwtNC4wXSwKICAgICAgICAgICAgICAgIDQ3MDA4LjEzMDcyOTEzNjI3NSwKICAgICAgICAgICAgICAgIHsKICAgICAgICAgICAgICAgICAgICBjb2xvcjogJ05vbmUnLAogICAgICAgICAgICAgICAgICAgIGZpbGxDb2xvcjogJ2JsYWNrJywKICAgICAgICAgICAgICAgICAgICBmaWxsT3BhY2l0eTogMC42CiAgICAgICAgICAgICAgICAgICAgfQogICAgICAgICAgICAgICAgKQogICAgICAgICAgICAgICAgLmFkZFRvKG1hcF8zZGJjNDNiYWRjNTE0MmIxYjcwOWZlNTczMmUzN2ZmNyk7CiAgICAgICAgICAgIAogICAgICAgIAogICAgICAgICAgICAKICAgICAgICAgICAgdmFyIHBvcHVwXzQwNDNjOGQxMjUwNjRmM2M4YmQ1ODA0MDE2OWI5OTFjID0gTC5wb3B1cCh7bWF4V2lkdGg6ICczMDAnfSk7CgogICAgICAgICAgICAKICAgICAgICAgICAgICAgIHZhciBodG1sXzJjZTZiODgxYmQ5NDRlYjg4YmVhYWJkMjkxNmNlMTZhID0gJCgnICAgICAgICAgPGRpdiBpZD0iaHRtbF8yY2U2Yjg4MWJkOTQ0ZWI4OGJlYWFiZDI5MTZjZTE2YSIgICAgICAgICAgICAgICAgIHN0eWxlPSJ3aWR0aDogMTAwLjAlOyBoZWlnaHQ6IDEwMC4wJTsiPiAgICAgICAgICAgICAgICAgU3BhaW48L2Rpdj4gICAgICAgICAgICAgICAgICcpWzBdOwogICAgICAgICAgICAgICAgcG9wdXBfNDA0M2M4ZDEyNTA2NGYzYzhiZDU4MDQwMTY5Yjk5MWMuc2V0Q29udGVudChodG1sXzJjZTZiODgxYmQ5NDRlYjg4YmVhYWJkMjkxNmNlMTZhKTsKICAgICAgICAgICAgCgogICAgICAgICAgICBjaXJjbGVfbWFya2VyX2Q5ZmQzOGI2NDgwMDRjOGNiMjg2OTI0Zjg4NWVjNzI2LmJpbmRQb3B1cChwb3B1cF80MDQzYzhkMTI1MDY0ZjNjOGJkNTgwNDAxNjliOTkxYyk7CgogICAgICAgICAgICAKICAgICAgICAKICAgICAgICAKICAgICAgICAgICAgCgogICAgICAgICAgICB2YXIgY2lyY2xlX21hcmtlcl9lZTNlYzJiNWNhNTc0Y2Y5YjdhNmM4N2MyOTc4NTU3NSA9IEwuY2lyY2xlKAogICAgICAgICAgICAgICAgWzU5LjAsMjYuMF0sCiAgICAgICAgICAgICAgICA1MTQzLjI0MTY0NTYyOTg4LAogICAgICAgICAgICAgICAgewogICAgICAgICAgICAgICAgICAgIGNvbG9yOiAnTm9uZScsCiAgICAgICAgICAgICAgICAgICAgZmlsbENvbG9yOiAnYmxhY2snLAogICAgICAgICAgICAgICAgICAgIGZpbGxPcGFjaXR5OiAwLjYKICAgICAgICAgICAgICAgICAgICB9CiAgICAgICAgICAgICAgICApCiAgICAgICAgICAgICAgICAuYWRkVG8obWFwXzNkYmM0M2JhZGM1MTQyYjFiNzA5ZmU1NzMyZTM3ZmY3KTsKICAgICAgICAgICAgCiAgICAgICAgCiAgICAgICAgICAgIAogICAgICAgICAgICB2YXIgcG9wdXBfMTA0ZWU2YTU5Njc4NDQ1MThhMDNhOGNhYmY2YmRhMjQgPSBMLnBvcHVwKHttYXhXaWR0aDogJzMwMCd9KTsKCiAgICAgICAgICAgIAogICAgICAgICAgICAgICAgdmFyIGh0bWxfMjI2MzMwMTc3YWU4NDk1Y2E1YjliZDhhZDY3M2IyMGEgPSAkKCcgICAgICAgICA8ZGl2IGlkPSJodG1sXzIyNjMzMDE3N2FlODQ5NWNhNWI5YmQ4YWQ2NzNiMjBhIiAgICAgICAgICAgICAgICAgc3R5bGU9IndpZHRoOiAxMDAuMCU7IGhlaWdodDogMTAwLjAlOyI+ICAgICAgICAgICAgICAgICBFc3RvbmlhPC9kaXY+ICAgICAgICAgICAgICAgICAnKVswXTsKICAgICAgICAgICAgICAgIHBvcHVwXzEwNGVlNmE1OTY3ODQ0NTE4YTAzYThjYWJmNmJkYTI0LnNldENvbnRlbnQoaHRtbF8yMjYzMzAxNzdhZTg0OTVjYTViOWJkOGFkNjczYjIwYSk7CiAgICAgICAgICAgIAoKICAgICAgICAgICAgY2lyY2xlX21hcmtlcl9lZTNlYzJiNWNhNTc0Y2Y5YjdhNmM4N2MyOTc4NTU3NS5iaW5kUG9wdXAocG9wdXBfMTA0ZWU2YTU5Njc4NDQ1MThhMDNhOGNhYmY2YmRhMjQpOwoKICAgICAgICAgICAgCiAgICAgICAgCiAgICAgICAgCiAgICAgICAgICAgIAoKICAgICAgICAgICAgdmFyIGNpcmNsZV9tYXJrZXJfMTYxYzE0ZjFlOGEwNDgzY2E5NDU5ZmUxMWM3NWQyM2MgPSBMLmNpcmNsZSgKICAgICAgICAgICAgICAgIFs5LjAsMzkuNV0sCiAgICAgICAgICAgICAgICAyNTU0OTcuOTMzMzc1NzM2NTgsCiAgICAgICAgICAgICAgICB7CiAgICAgICAgICAgICAgICAgICAgY29sb3I6ICdOb25lJywKICAgICAgICAgICAgICAgICAgICBmaWxsQ29sb3I6ICdibHVlJywKICAgICAgICAgICAgICAgICAgICBmaWxsT3BhY2l0eTogMC42CiAgICAgICAgICAgICAgICAgICAgfQogICAgICAgICAgICAgICAgKQogICAgICAgICAgICAgICAgLmFkZFRvKG1hcF8zZGJjNDNiYWRjNTE0MmIxYjcwOWZlNTczMmUzN2ZmNyk7CiAgICAgICAgICAgIAogICAgICAgIAogICAgICAgICAgICAKICAgICAgICAgICAgdmFyIHBvcHVwXzM3NTZmMjRhY2FmNjQwOGZhYWRjZGFhZjNkN2Y1MjQ0ID0gTC5wb3B1cCh7bWF4V2lkdGg6ICczMDAnfSk7CgogICAgICAgICAgICAKICAgICAgICAgICAgICAgIHZhciBodG1sXzI4OTVkZGRmMGZmMTQwZGE4MWEyNWRmNzlhM2MyYzBlID0gJCgnICAgICAgICAgPGRpdiBpZD0iaHRtbF8yODk1ZGRkZjBmZjE0MGRhODFhMjVkZjc5YTNjMmMwZSIgICAgICAgICAgICAgICAgIHN0eWxlPSJ3aWR0aDogMTAwLjAlOyBoZWlnaHQ6IDEwMC4wJTsiPiAgICAgICAgICAgICAgICAgRXRoaW9waWE8L2Rpdj4gICAgICAgICAgICAgICAgICcpWzBdOwogICAgICAgICAgICAgICAgcG9wdXBfMzc1NmYyNGFjYWY2NDA4ZmFhZGNkYWFmM2Q3ZjUyNDQuc2V0Q29udGVudChodG1sXzI4OTVkZGRmMGZmMTQwZGE4MWEyNWRmNzlhM2MyYzBlKTsKICAgICAgICAgICAgCgogICAgICAgICAgICBjaXJjbGVfbWFya2VyXzE2MWMxNGYxZThhMDQ4M2NhOTQ1OWZlMTFjNzVkMjNjLmJpbmRQb3B1cChwb3B1cF8zNzU2ZjI0YWNhZjY0MDhmYWFkY2RhYWYzZDdmNTI0NCk7CgogICAgICAgICAgICAKICAgICAgICAKICAgICAgICAKICAgICAgICAgICAgCgogICAgICAgICAgICB2YXIgY2lyY2xlX21hcmtlcl9lZTU4YTg1N2NkZjU0YjNhYjIwYTMxMGJhZTA2ZDlkOCA9IEwuY2lyY2xlKAogICAgICAgICAgICAgICAgWzY0LjAsMjYuMF0sCiAgICAgICAgICAgICAgICAwLjAsCiAgICAgICAgICAgICAgICB7CiAgICAgICAgICAgICAgICAgICAgY29sb3I6ICdOb25lJywKICAgICAgICAgICAgICAgICAgICBmaWxsQ29sb3I6ICdibGFjaycsCiAgICAgICAgICAgICAgICAgICAgZmlsbE9wYWNpdHk6IDAuNgogICAgICAgICAgICAgICAgICAgIH0KICAgICAgICAgICAgICAgICkKICAgICAgICAgICAgICAgIC5hZGRUbyhtYXBfM2RiYzQzYmFkYzUxNDJiMWI3MDlmZTU3MzJlMzdmZjcpOwogICAgICAgICAgICAKICAgICAgICAKICAgICAgICAgICAgCiAgICAgICAgICAgIHZhciBwb3B1cF8zZGY4YTRmZDY5ZTc0Y2I2YWQ2OTdiMGI3YWUwMTAyMSA9IEwucG9wdXAoe21heFdpZHRoOiAnMzAwJ30pOwoKICAgICAgICAgICAgCiAgICAgICAgICAgICAgICB2YXIgaHRtbF84MDMzMGY1ZDlhNDc0ZDIzODZlZjAyNDY0NDdhNDkyNSA9ICQoJyAgICAgICAgIDxkaXYgaWQ9Imh0bWxfODAzMzBmNWQ5YTQ3NGQyMzg2ZWYwMjQ2NDQ3YTQ5MjUiICAgICAgICAgICAgICAgICBzdHlsZT0id2lkdGg6IDEwMC4wJTsgaGVpZ2h0OiAxMDAuMCU7Ij4gICAgICAgICAgICAgICAgIEZpbmxhbmQ8L2Rpdj4gICAgICAgICAgICAgICAgICcpWzBdOwogICAgICAgICAgICAgICAgcG9wdXBfM2RmOGE0ZmQ2OWU3NGNiNmFkNjk3YjBiN2FlMDEwMjEuc2V0Q29udGVudChodG1sXzgwMzMwZjVkOWE0NzRkMjM4NmVmMDI0NjQ0N2E0OTI1KTsKICAgICAgICAgICAgCgogICAgICAgICAgICBjaXJjbGVfbWFya2VyX2VlNThhODU3Y2RmNTRiM2FiMjBhMzEwYmFlMDZkOWQ4LmJpbmRQb3B1cChwb3B1cF8zZGY4YTRmZDY5ZTc0Y2I2YWQ2OTdiMGI3YWUwMTAyMSk7CgogICAgICAgICAgICAKICAgICAgICAKICAgICAgICAKICAgICAgICAgICAgCgogICAgICAgICAgICB2YXIgY2lyY2xlX21hcmtlcl83MmEzZDFlYWUxMjc0YzEyOGEzNTBhMzMyY2ZmYTZlNiA9IEwuY2lyY2xlKAogICAgICAgICAgICAgICAgWy0xOC4wLDE3OC4wXSwKICAgICAgICAgICAgICAgIDEwMTIyLjU1NDY2ODUzNTgxMywKICAgICAgICAgICAgICAgIHsKICAgICAgICAgICAgICAgICAgICBjb2xvcjogJ05vbmUnLAogICAgICAgICAgICAgICAgICAgIGZpbGxDb2xvcjogJ3JlZCcsCiAgICAgICAgICAgICAgICAgICAgZmlsbE9wYWNpdHk6IDAuNgogICAgICAgICAgICAgICAgICAgIH0KICAgICAgICAgICAgICAgICkKICAgICAgICAgICAgICAgIC5hZGRUbyhtYXBfM2RiYzQzYmFkYzUxNDJiMWI3MDlmZTU3MzJlMzdmZjcpOwogICAgICAgICAgICAKICAgICAgICAKICAgICAgICAgICAgCiAgICAgICAgICAgIHZhciBwb3B1cF9mZjMzZjZjZTIzNGM0YjE4YmJiMTM4YmQ4MjljNmI1NiA9IEwucG9wdXAoe21heFdpZHRoOiAnMzAwJ30pOwoKICAgICAgICAgICAgCiAgICAgICAgICAgICAgICB2YXIgaHRtbF8zMjVmYWQ2YTJiYTY0MDI0ODZkODViMjI1YTZhYjU4ZiA9ICQoJyAgICAgICAgIDxkaXYgaWQ9Imh0bWxfMzI1ZmFkNmEyYmE2NDAyNDg2ZDg1YjIyNWE2YWI1OGYiICAgICAgICAgICAgICAgICBzdHlsZT0id2lkdGg6IDEwMC4wJTsgaGVpZ2h0OiAxMDAuMCU7Ij4gICAgICAgICAgICAgICAgIEZpamk8L2Rpdj4gICAgICAgICAgICAgICAgICcpWzBdOwogICAgICAgICAgICAgICAgcG9wdXBfZmYzM2Y2Y2UyMzRjNGIxOGJiYjEzOGJkODI5YzZiNTYuc2V0Q29udGVudChodG1sXzMyNWZhZDZhMmJhNjQwMjQ4NmQ4NWIyMjVhNmFiNThmKTsKICAgICAgICAgICAgCgogICAgICAgICAgICBjaXJjbGVfbWFya2VyXzcyYTNkMWVhZTEyNzRjMTI4YTM1MGEzMzJjZmZhNmU2LmJpbmRQb3B1cChwb3B1cF9mZjMzZjZjZTIzNGM0YjE4YmJiMTM4YmQ4MjljNmI1Nik7CgogICAgICAgICAgICAKICAgICAgICAKICAgICAgICAKICAgICAgICAgICAgCgogICAgICAgICAgICB2YXIgY2lyY2xlX21hcmtlcl9iMWNhM2UyNzUzMzc0OTVlOTIzYjAyOGE1YzIzMTUyZiA9IEwuY2lyY2xlKAogICAgICAgICAgICAgICAgWzQ2LjAsMi4wXSwKICAgICAgICAgICAgICAgIDIwNTE5LjExNTQ2MjI4ODIzNSwKICAgICAgICAgICAgICAgIHsKICAgICAgICAgICAgICAgICAgICBjb2xvcjogJ05vbmUnLAogICAgICAgICAgICAgICAgICAgIGZpbGxDb2xvcjogJ2JsYWNrJywKICAgICAgICAgICAgICAgICAgICBmaWxsT3BhY2l0eTogMC42CiAgICAgICAgICAgICAgICAgICAgfQogICAgICAgICAgICAgICAgKQogICAgICAgICAgICAgICAgLmFkZFRvKG1hcF8zZGJjNDNiYWRjNTE0MmIxYjcwOWZlNTczMmUzN2ZmNyk7CiAgICAgICAgICAgIAogICAgICAgIAogICAgICAgICAgICAKICAgICAgICAgICAgdmFyIHBvcHVwXzkxNGY3OGI2MzA1MTQ2YTc4YTYyMTBlNDgzZGM0MzU1ID0gTC5wb3B1cCh7bWF4V2lkdGg6ICczMDAnfSk7CgogICAgICAgICAgICAKICAgICAgICAgICAgICAgIHZhciBodG1sXzEyNmY3NmExOTgwZTRjNDM5YTc3NmI5ZWFiODRhY2IxID0gJCgnICAgICAgICAgPGRpdiBpZD0iaHRtbF8xMjZmNzZhMTk4MGU0YzQzOWE3NzZiOWVhYjg0YWNiMSIgICAgICAgICAgICAgICAgIHN0eWxlPSJ3aWR0aDogMTAwLjAlOyBoZWlnaHQ6IDEwMC4wJTsiPiAgICAgICAgICAgICAgICAgRnJhbmNlPC9kaXY+ICAgICAgICAgICAgICAgICAnKVswXTsKICAgICAgICAgICAgICAgIHBvcHVwXzkxNGY3OGI2MzA1MTQ2YTc4YTYyMTBlNDgzZGM0MzU1LnNldENvbnRlbnQoaHRtbF8xMjZmNzZhMTk4MGU0YzQzOWE3NzZiOWVhYjg0YWNiMSk7CiAgICAgICAgICAgIAoKICAgICAgICAgICAgY2lyY2xlX21hcmtlcl9iMWNhM2UyNzUzMzc0OTVlOTIzYjAyOGE1YzIzMTUyZi5iaW5kUG9wdXAocG9wdXBfOTE0Zjc4YjYzMDUxNDZhNzhhNjIxMGU0ODNkYzQzNTUpOwoKICAgICAgICAgICAgCiAgICAgICAgCiAgICAgICAgCiAgICAgICAgICAgIAoKICAgICAgICAgICAgdmFyIGNpcmNsZV9tYXJrZXJfMGNkOWM4NjdkMGJlNDJjY2I0MTM0MmU2NzU3ZGMyZTYgPSBMLmNpcmNsZSgKICAgICAgICAgICAgICAgIFs2LjkyMzk5OTk5OTk5OTk5OTUsMTU4LjE2Ml0sCiAgICAgICAgICAgICAgICA4MDg3LjQ1MTgxNjc2MzcxNiwKICAgICAgICAgICAgICAgIHsKICAgICAgICAgICAgICAgICAgICBjb2xvcjogJ05vbmUnLAogICAgICAgICAgICAgICAgICAgIGZpbGxDb2xvcjogJ3JlZCcsCiAgICAgICAgICAgICAgICAgICAgZmlsbE9wYWNpdHk6IDAuNgogICAgICAgICAgICAgICAgICAgIH0KICAgICAgICAgICAgICAgICkKICAgICAgICAgICAgICAgIC5hZGRUbyhtYXBfM2RiYzQzYmFkYzUxNDJiMWI3MDlmZTU3MzJlMzdmZjcpOwogICAgICAgICAgICAKICAgICAgICAKICAgICAgICAgICAgCiAgICAgICAgICAgIHZhciBwb3B1cF9jMTgwMDc1ZGYwMjE0NjdlYjUyYWFmY2E0N2E5NmZiOSA9IEwucG9wdXAoe21heFdpZHRoOiAnMzAwJ30pOwoKICAgICAgICAgICAgCiAgICAgICAgICAgICAgICB2YXIgaHRtbF9hOTE5ZTZmOTU0NjY0NzkxOGRkYmJlMWYxMTliOGIxNCA9ICQoJyAgICAgICAgIDxkaXYgaWQ9Imh0bWxfYTkxOWU2Zjk1NDY2NDc5MThkZGJiZTFmMTE5YjhiMTQiICAgICAgICAgICAgICAgICBzdHlsZT0id2lkdGg6IDEwMC4wJTsgaGVpZ2h0OiAxMDAuMCU7Ij4gICAgICAgICAgICAgICAgIE1pY3JvbmVzaWEsIEZlZC4gU3RzLjwvZGl2PiAgICAgICAgICAgICAgICAgJylbMF07CiAgICAgICAgICAgICAgICBwb3B1cF9jMTgwMDc1ZGYwMjE0NjdlYjUyYWFmY2E0N2E5NmZiOS5zZXRDb250ZW50KGh0bWxfYTkxOWU2Zjk1NDY2NDc5MThkZGJiZTFmMTE5YjhiMTQpOwogICAgICAgICAgICAKCiAgICAgICAgICAgIGNpcmNsZV9tYXJrZXJfMGNkOWM4NjdkMGJlNDJjY2I0MTM0MmU2NzU3ZGMyZTYuYmluZFBvcHVwKHBvcHVwX2MxODAwNzVkZjAyMTQ2N2ViNTJhYWZjYTQ3YTk2ZmI5KTsKCiAgICAgICAgICAgIAogICAgICAgIAogICAgICAgIAogICAgICAgICAgICAKCiAgICAgICAgICAgIHZhciBjaXJjbGVfbWFya2VyXzZkYTkyNjhkMmY0NDQ0NTk5NTliNzFlZDgzNDIxMGRiID0gTC5jaXJjbGUoCiAgICAgICAgICAgICAgICBbLTEuMCwxMS43NV0sCiAgICAgICAgICAgICAgICAxMzc5NC41MzgzNjAzNDM5ODYsCiAgICAgICAgICAgICAgICB7CiAgICAgICAgICAgICAgICAgICAgY29sb3I6ICdOb25lJywKICAgICAgICAgICAgICAgICAgICBmaWxsQ29sb3I6ICdibHVlJywKICAgICAgICAgICAgICAgICAgICBmaWxsT3BhY2l0eTogMC42CiAgICAgICAgICAgICAgICAgICAgfQogICAgICAgICAgICAgICAgKQogICAgICAgICAgICAgICAgLmFkZFRvKG1hcF8zZGJjNDNiYWRjNTE0MmIxYjcwOWZlNTczMmUzN2ZmNyk7CiAgICAgICAgICAgIAogICAgICAgIAogICAgICAgICAgICAKICAgICAgICAgICAgdmFyIHBvcHVwXzgwYTJkMDg2OGMwMzRkMjg4ZWVhMWNlMTUxNzEwMTRiID0gTC5wb3B1cCh7bWF4V2lkdGg6ICczMDAnfSk7CgogICAgICAgICAgICAKICAgICAgICAgICAgICAgIHZhciBodG1sXzMyMzE1MTgxMzVhYzQ2ZTZhNzNmZmNmMDZjZGZiY2M0ID0gJCgnICAgICAgICAgPGRpdiBpZD0iaHRtbF8zMjMxNTE4MTM1YWM0NmU2YTczZmZjZjA2Y2RmYmNjNCIgICAgICAgICAgICAgICAgIHN0eWxlPSJ3aWR0aDogMTAwLjAlOyBoZWlnaHQ6IDEwMC4wJTsiPiAgICAgICAgICAgICAgICAgR2Fib248L2Rpdj4gICAgICAgICAgICAgICAgICcpWzBdOwogICAgICAgICAgICAgICAgcG9wdXBfODBhMmQwODY4YzAzNGQyODhlZWExY2UxNTE3MTAxNGIuc2V0Q29udGVudChodG1sXzMyMzE1MTgxMzVhYzQ2ZTZhNzNmZmNmMDZjZGZiY2M0KTsKICAgICAgICAgICAgCgogICAgICAgICAgICBjaXJjbGVfbWFya2VyXzZkYTkyNjhkMmY0NDQ0NTk5NTliNzFlZDgzNDIxMGRiLmJpbmRQb3B1cChwb3B1cF84MGEyZDA4NjhjMDM0ZDI4OGVlYTFjZTE1MTcxMDE0Yik7CgogICAgICAgICAgICAKICAgICAgICAKICAgICAgICAKICAgICAgICAgICAgCgogICAgICAgICAgICB2YXIgY2lyY2xlX21hcmtlcl81MTcxYTkyMTRjOTE0MmY5OWIyY2RkYjVhY2UxMTc3NyA9IEwuY2lyY2xlKAogICAgICAgICAgICAgICAgWzU0Ljc1ODQ0LC0yLjY5NTMwOTk5OTk5OTk5OTddLAogICAgICAgICAgICAgICAgMzU4MjcuNTg0MTM0MzU2MjYsCiAgICAgICAgICAgICAgICB7CiAgICAgICAgICAgICAgICAgICAgY29sb3I6ICdOb25lJywKICAgICAgICAgICAgICAgICAgICBmaWxsQ29sb3I6ICdibGFjaycsCiAgICAgICAgICAgICAgICAgICAgZmlsbE9wYWNpdHk6IDAuNgogICAgICAgICAgICAgICAgICAgIH0KICAgICAgICAgICAgICAgICkKICAgICAgICAgICAgICAgIC5hZGRUbyhtYXBfM2RiYzQzYmFkYzUxNDJiMWI3MDlmZTU3MzJlMzdmZjcpOwogICAgICAgICAgICAKICAgICAgICAKICAgICAgICAgICAgCiAgICAgICAgICAgIHZhciBwb3B1cF8wNTRmN2U2MGFlMmM0ZjFhYWNkOGU2YTQ1YjYyODU2ZSA9IEwucG9wdXAoe21heFdpZHRoOiAnMzAwJ30pOwoKICAgICAgICAgICAgCiAgICAgICAgICAgICAgICB2YXIgaHRtbF8xYzg3NWM5MTYyOTI0ZDNmYmUzNDg1NTUyZWNlZDUyMSA9ICQoJyAgICAgICAgIDxkaXYgaWQ9Imh0bWxfMWM4NzVjOTE2MjkyNGQzZmJlMzQ4NTU1MmVjZWQ1MjEiICAgICAgICAgICAgICAgICBzdHlsZT0id2lkdGg6IDEwMC4wJTsgaGVpZ2h0OiAxMDAuMCU7Ij4gICAgICAgICAgICAgICAgIFVuaXRlZCBLaW5nZG9tPC9kaXY+ICAgICAgICAgICAgICAgICAnKVswXTsKICAgICAgICAgICAgICAgIHBvcHVwXzA1NGY3ZTYwYWUyYzRmMWFhY2Q4ZTZhNDViNjI4NTZlLnNldENvbnRlbnQoaHRtbF8xYzg3NWM5MTYyOTI0ZDNmYmUzNDg1NTUyZWNlZDUyMSk7CiAgICAgICAgICAgIAoKICAgICAgICAgICAgY2lyY2xlX21hcmtlcl81MTcxYTkyMTRjOTE0MmY5OWIyY2RkYjVhY2UxMTc3Ny5iaW5kUG9wdXAocG9wdXBfMDU0ZjdlNjBhZTJjNGYxYWFjZDhlNmE0NWI2Mjg1NmUpOwoKICAgICAgICAgICAgCiAgICAgICAgCiAgICAgICAgCiAgICAgICAgICAgIAoKICAgICAgICAgICAgdmFyIGNpcmNsZV9tYXJrZXJfYjQxNDNmZmFkMjdjNGYzMzllOGJlMzViMzhhM2JlOWIgPSBMLmNpcmNsZSgKICAgICAgICAgICAgICAgIFs0MS45OTk5OCw0My40OTk5XSwKICAgICAgICAgICAgICAgIDM0ODk3LjI0NjQyNzg2MzY1LAogICAgICAgICAgICAgICAgewogICAgICAgICAgICAgICAgICAgIGNvbG9yOiAnTm9uZScsCiAgICAgICAgICAgICAgICAgICAgZmlsbENvbG9yOiAnYmxhY2snLAogICAgICAgICAgICAgICAgICAgIGZpbGxPcGFjaXR5OiAwLjYKICAgICAgICAgICAgICAgICAgICB9CiAgICAgICAgICAgICAgICApCiAgICAgICAgICAgICAgICAuYWRkVG8obWFwXzNkYmM0M2JhZGM1MTQyYjFiNzA5ZmU1NzMyZTM3ZmY3KTsKICAgICAgICAgICAgCiAgICAgICAgCiAgICAgICAgICAgIAogICAgICAgICAgICB2YXIgcG9wdXBfMTVhZWQ2OWFkMGI4NDJjNTg4N2M5YzhhYzQ5NDkwZTggPSBMLnBvcHVwKHttYXhXaWR0aDogJzMwMCd9KTsKCiAgICAgICAgICAgIAogICAgICAgICAgICAgICAgdmFyIGh0bWxfOTlmNjMyYzdmYjIyNGU4NTljOTIwNTU4Y2QyN2RlMTEgPSAkKCcgICAgICAgICA8ZGl2IGlkPSJodG1sXzk5ZjYzMmM3ZmIyMjRlODU5YzkyMDU1OGNkMjdkZTExIiAgICAgICAgICAgICAgICAgc3R5bGU9IndpZHRoOiAxMDAuMCU7IGhlaWdodDogMTAwLjAlOyI+ICAgICAgICAgICAgICAgICBHZW9yZ2lhPC9kaXY+ICAgICAgICAgICAgICAgICAnKVswXTsKICAgICAgICAgICAgICAgIHBvcHVwXzE1YWVkNjlhZDBiODQyYzU4ODdjOWM4YWM0OTQ5MGU4LnNldENvbnRlbnQoaHRtbF85OWY2MzJjN2ZiMjI0ZTg1OWM5MjA1NThjZDI3ZGUxMSk7CiAgICAgICAgICAgIAoKICAgICAgICAgICAgY2lyY2xlX21hcmtlcl9iNDE0M2ZmYWQyN2M0ZjMzOWU4YmUzNWIzOGEzYmU5Yi5iaW5kUG9wdXAocG9wdXBfMTVhZWQ2OWFkMGI4NDJjNTg4N2M5YzhhYzQ5NDkwZTgpOwoKICAgICAgICAgICAgCiAgICAgICAgCiAgICAgICAgCiAgICAgICAgICAgIAoKICAgICAgICAgICAgdmFyIGNpcmNsZV9tYXJrZXJfMTY5NGE5NDI2NDgzNDkwYzhkNTExNzQxMjNlMTQ2NWYgPSBMLmNpcmNsZSgKICAgICAgICAgICAgICAgIFs4LjEsLTEuMl0sCiAgICAgICAgICAgICAgICAxMTg2OTUuMzYyMTY3Mzg1MDMsCiAgICAgICAgICAgICAgICB7CiAgICAgICAgICAgICAgICAgICAgY29sb3I6ICdOb25lJywKICAgICAgICAgICAgICAgICAgICBmaWxsQ29sb3I6ICdibHVlJywKICAgICAgICAgICAgICAgICAgICBmaWxsT3BhY2l0eTogMC42CiAgICAgICAgICAgICAgICAgICAgfQogICAgICAgICAgICAgICAgKQogICAgICAgICAgICAgICAgLmFkZFRvKG1hcF8zZGJjNDNiYWRjNTE0MmIxYjcwOWZlNTczMmUzN2ZmNyk7CiAgICAgICAgICAgIAogICAgICAgIAogICAgICAgICAgICAKICAgICAgICAgICAgdmFyIHBvcHVwXzA2MzM3YjFlZjI4ZTQzYzk5NjAxMWYxNDQzNjMwMzQ3ID0gTC5wb3B1cCh7bWF4V2lkdGg6ICczMDAnfSk7CgogICAgICAgICAgICAKICAgICAgICAgICAgICAgIHZhciBodG1sXzUxNjk0ZGFhYWYxNjQwMWM4MDlkOTUyODFmOTUzYjhiID0gJCgnICAgICAgICAgPGRpdiBpZD0iaHRtbF81MTY5NGRhYWFmMTY0MDFjODA5ZDk1MjgxZjk1M2I4YiIgICAgICAgICAgICAgICAgIHN0eWxlPSJ3aWR0aDogMTAwLjAlOyBoZWlnaHQ6IDEwMC4wJTsiPiAgICAgICAgICAgICAgICAgR2hhbmE8L2Rpdj4gICAgICAgICAgICAgICAgICcpWzBdOwogICAgICAgICAgICAgICAgcG9wdXBfMDYzMzdiMWVmMjhlNDNjOTk2MDExZjE0NDM2MzAzNDcuc2V0Q29udGVudChodG1sXzUxNjk0ZGFhYWYxNjQwMWM4MDlkOTUyODFmOTUzYjhiKTsKICAgICAgICAgICAgCgogICAgICAgICAgICBjaXJjbGVfbWFya2VyXzE2OTRhOTQyNjQ4MzQ5MGM4ZDUxMTc0MTIzZTE0NjVmLmJpbmRQb3B1cChwb3B1cF8wNjMzN2IxZWYyOGU0M2M5OTYwMTFmMTQ0MzYzMDM0Nyk7CgogICAgICAgICAgICAKICAgICAgICAKICAgICAgICAKICAgICAgICAgICAgCgogICAgICAgICAgICB2YXIgY2lyY2xlX21hcmtlcl81M2FjODM3NDZmMzc0ZjgzOTRmM2E1MWUxN2ZiYjQ3OCA9IEwuY2lyY2xlKAogICAgICAgICAgICAgICAgWzEwLjgzMzMzLC0xMC42NjY2N10sCiAgICAgICAgICAgICAgICA5NTUwMS4xMzU0NTk0MjAwMiwKICAgICAgICAgICAgICAgIHsKICAgICAgICAgICAgICAgICAgICBjb2xvcjogJ05vbmUnLAogICAgICAgICAgICAgICAgICAgIGZpbGxDb2xvcjogJ2JsdWUnLAogICAgICAgICAgICAgICAgICAgIGZpbGxPcGFjaXR5OiAwLjYKICAgICAgICAgICAgICAgICAgICB9CiAgICAgICAgICAgICAgICApCiAgICAgICAgICAgICAgICAuYWRkVG8obWFwXzNkYmM0M2JhZGM1MTQyYjFiNzA5ZmU1NzMyZTM3ZmY3KTsKICAgICAgICAgICAgCiAgICAgICAgCiAgICAgICAgICAgIAogICAgICAgICAgICB2YXIgcG9wdXBfYjQ5OGQ0Mjc0MDc3NDAxOGIzZjc5MWRhZDY4NzhmNmQgPSBMLnBvcHVwKHttYXhXaWR0aDogJzMwMCd9KTsKCiAgICAgICAgICAgIAogICAgICAgICAgICAgICAgdmFyIGh0bWxfNDdmYjE3MzY4ZDYxNGE0ZjkzMTBlNTk0NjFhOWRjMjUgPSAkKCcgICAgICAgICA8ZGl2IGlkPSJodG1sXzQ3ZmIxNzM2OGQ2MTRhNGY5MzEwZTU5NDYxYTlkYzI1IiAgICAgICAgICAgICAgICAgc3R5bGU9IndpZHRoOiAxMDAuMCU7IGhlaWdodDogMTAwLjAlOyI+ICAgICAgICAgICAgICAgICBHdWluZWE8L2Rpdj4gICAgICAgICAgICAgICAgICcpWzBdOwogICAgICAgICAgICAgICAgcG9wdXBfYjQ5OGQ0Mjc0MDc3NDAxOGIzZjc5MWRhZDY4NzhmNmQuc2V0Q29udGVudChodG1sXzQ3ZmIxNzM2OGQ2MTRhNGY5MzEwZTU5NDYxYTlkYzI1KTsKICAgICAgICAgICAgCgogICAgICAgICAgICBjaXJjbGVfbWFya2VyXzUzYWM4Mzc0NmYzNzRmODM5NGYzYTUxZTE3ZmJiNDc4LmJpbmRQb3B1cChwb3B1cF9iNDk4ZDQyNzQwNzc0MDE4YjNmNzkxZGFkNjg3OGY2ZCk7CgogICAgICAgICAgICAKICAgICAgICAKICAgICAgICAKICAgICAgICAgICAgCgogICAgICAgICAgICB2YXIgY2lyY2xlX21hcmtlcl9mOTQyNTQzZDJlYTI0NGRhYmY3YzQ1YTY3MzM0Mzk3OSA9IEwuY2lyY2xlKAogICAgICAgICAgICAgICAgWzEzLjUsLTE1LjVdLAogICAgICAgICAgICAgICAgMzM5NjcuMDIwODE1ODAwMjksCiAgICAgICAgICAgICAgICB7CiAgICAgICAgICAgICAgICAgICAgY29sb3I6ICdOb25lJywKICAgICAgICAgICAgICAgICAgICBmaWxsQ29sb3I6ICdibHVlJywKICAgICAgICAgICAgICAgICAgICBmaWxsT3BhY2l0eTogMC42CiAgICAgICAgICAgICAgICAgICAgfQogICAgICAgICAgICAgICAgKQogICAgICAgICAgICAgICAgLmFkZFRvKG1hcF8zZGJjNDNiYWRjNTE0MmIxYjcwOWZlNTczMmUzN2ZmNyk7CiAgICAgICAgICAgIAogICAgICAgIAogICAgICAgICAgICAKICAgICAgICAgICAgdmFyIHBvcHVwXzdmMGNmOTUyNzllZjRjY2JiYWY0MTdjMmJkNWY1ZTBmID0gTC5wb3B1cCh7bWF4V2lkdGg6ICczMDAnfSk7CgogICAgICAgICAgICAKICAgICAgICAgICAgICAgIHZhciBodG1sXzRiYTU1MjM4ODViMzQ0MWM4NWZjOGQ5MmE2ZWU1NzgzID0gJCgnICAgICAgICAgPGRpdiBpZD0iaHRtbF80YmE1NTIzODg1YjM0NDFjODVmYzhkOTJhNmVlNTc4MyIgICAgICAgICAgICAgICAgIHN0eWxlPSJ3aWR0aDogMTAwLjAlOyBoZWlnaHQ6IDEwMC4wJTsiPiAgICAgICAgICAgICAgICAgR2FtYmlhPC9kaXY+ICAgICAgICAgICAgICAgICAnKVswXTsKICAgICAgICAgICAgICAgIHBvcHVwXzdmMGNmOTUyNzllZjRjY2JiYWY0MTdjMmJkNWY1ZTBmLnNldENvbnRlbnQoaHRtbF80YmE1NTIzODg1YjM0NDFjODVmYzhkOTJhNmVlNTc4Myk7CiAgICAgICAgICAgIAoKICAgICAgICAgICAgY2lyY2xlX21hcmtlcl9mOTQyNTQzZDJlYTI0NGRhYmY3YzQ1YTY3MzM0Mzk3OS5iaW5kUG9wdXAocG9wdXBfN2YwY2Y5NTI3OWVmNGNjYmJhZjQxN2MyYmQ1ZjVlMGYpOwoKICAgICAgICAgICAgCiAgICAgICAgCiAgICAgICAgCiAgICAgICAgICAgIAoKICAgICAgICAgICAgdmFyIGNpcmNsZV9tYXJrZXJfYmZiZTI5YmE2YzFlNDFlYWI5MjUyMmZhODFkMmUxMWQgPSBMLmNpcmNsZSgKICAgICAgICAgICAgICAgIFsxMi4wLC0xNS4wXSwKICAgICAgICAgICAgICAgIDQwMjQxLjI2OTA5Mzk2MTgsCiAgICAgICAgICAgICAgICB7CiAgICAgICAgICAgICAgICAgICAgY29sb3I6ICdOb25lJywKICAgICAgICAgICAgICAgICAgICBmaWxsQ29sb3I6ICdibHVlJywKICAgICAgICAgICAgICAgICAgICBmaWxsT3BhY2l0eTogMC42CiAgICAgICAgICAgICAgICAgICAgfQogICAgICAgICAgICAgICAgKQogICAgICAgICAgICAgICAgLmFkZFRvKG1hcF8zZGJjNDNiYWRjNTE0MmIxYjcwOWZlNTczMmUzN2ZmNyk7CiAgICAgICAgICAgIAogICAgICAgIAogICAgICAgICAgICAKICAgICAgICAgICAgdmFyIHBvcHVwX2MzZjE2NDc3NzRhZTQzZWFhYWVjNmY3M2FjMGI4N2E1ID0gTC5wb3B1cCh7bWF4V2lkdGg6ICczMDAnfSk7CgogICAgICAgICAgICAKICAgICAgICAgICAgICAgIHZhciBodG1sXzQ4Y2FmMGE2NTU2NzRmODliY2EyNzc4ZDFmNjRmNjQzID0gJCgnICAgICAgICAgPGRpdiBpZD0iaHRtbF80OGNhZjBhNjU1Njc0Zjg5YmNhMjc3OGQxZjY0ZjY0MyIgICAgICAgICAgICAgICAgIHN0eWxlPSJ3aWR0aDogMTAwLjAlOyBoZWlnaHQ6IDEwMC4wJTsiPiAgICAgICAgICAgICAgICAgR3VpbmVhLUJpc3NhdTwvZGl2PiAgICAgICAgICAgICAgICAgJylbMF07CiAgICAgICAgICAgICAgICBwb3B1cF9jM2YxNjQ3Nzc0YWU0M2VhYWFlYzZmNzNhYzBiODdhNS5zZXRDb250ZW50KGh0bWxfNDhjYWYwYTY1NTY3NGY4OWJjYTI3NzhkMWY2NGY2NDMpOwogICAgICAgICAgICAKCiAgICAgICAgICAgIGNpcmNsZV9tYXJrZXJfYmZiZTI5YmE2YzFlNDFlYWI5MjUyMmZhODFkMmUxMWQuYmluZFBvcHVwKHBvcHVwX2MzZjE2NDc3NzRhZTQzZWFhYWVjNmY3M2FjMGI4N2E1KTsKCiAgICAgICAgICAgIAogICAgICAgIAogICAgICAgIAogICAgICAgICAgICAKCiAgICAgICAgICAgIHZhciBjaXJjbGVfbWFya2VyX2QyMWE4ZTllMTBhYjQ2M2E5YTNjYjgxYmYwNTFmZTg5ID0gTC5jaXJjbGUoCiAgICAgICAgICAgICAgICBbMzkuMCwyMi4wXSwKICAgICAgICAgICAgICAgIDE3NjE1LjYyNjg2NTY2NTg3NiwKICAgICAgICAgICAgICAgIHsKICAgICAgICAgICAgICAgICAgICBjb2xvcjogJ05vbmUnLAogICAgICAgICAgICAgICAgICAgIGZpbGxDb2xvcjogJ2JsYWNrJywKICAgICAgICAgICAgICAgICAgICBmaWxsT3BhY2l0eTogMC42CiAgICAgICAgICAgICAgICAgICAgfQogICAgICAgICAgICAgICAgKQogICAgICAgICAgICAgICAgLmFkZFRvKG1hcF8zZGJjNDNiYWRjNTE0MmIxYjcwOWZlNTczMmUzN2ZmNyk7CiAgICAgICAgICAgIAogICAgICAgIAogICAgICAgICAgICAKICAgICAgICAgICAgdmFyIHBvcHVwX2JjYWQ4MTEzMDY4NjQ3MzFiMTQ4YTViNzM0OTcxODhlID0gTC5wb3B1cCh7bWF4V2lkdGg6ICczMDAnfSk7CgogICAgICAgICAgICAKICAgICAgICAgICAgICAgIHZhciBodG1sXzgzZmIzY2U4ODA2ODQ2NTY4NTU5YWQ0MzQ1N2YxNWEzID0gJCgnICAgICAgICAgPGRpdiBpZD0iaHRtbF84M2ZiM2NlODgwNjg0NjU2ODU1OWFkNDM0NTdmMTVhMyIgICAgICAgICAgICAgICAgIHN0eWxlPSJ3aWR0aDogMTAwLjAlOyBoZWlnaHQ6IDEwMC4wJTsiPiAgICAgICAgICAgICAgICAgR3JlZWNlPC9kaXY+ICAgICAgICAgICAgICAgICAnKVswXTsKICAgICAgICAgICAgICAgIHBvcHVwX2JjYWQ4MTEzMDY4NjQ3MzFiMTQ4YTViNzM0OTcxODhlLnNldENvbnRlbnQoaHRtbF84M2ZiM2NlODgwNjg0NjU2ODU1OWFkNDM0NTdmMTVhMyk7CiAgICAgICAgICAgIAoKICAgICAgICAgICAgY2lyY2xlX21hcmtlcl9kMjFhOGU5ZTEwYWI0NjNhOWEzY2I4MWJmMDUxZmU4OS5iaW5kUG9wdXAocG9wdXBfYmNhZDgxMTMwNjg2NDczMWIxNDhhNWI3MzQ5NzE4OGUpOwoKICAgICAgICAgICAgCiAgICAgICAgCiAgICAgICAgCiAgICAgICAgICAgIAoKICAgICAgICAgICAgdmFyIGNpcmNsZV9tYXJrZXJfM2UwYzUwN2M0NjYxNGQ0YmExYTZjNDkwNzJkNTYxNTggPSBMLmNpcmNsZSgKICAgICAgICAgICAgICAgIFsxNC42NDA3MjAwMDAwMDAwMDIsLTkwLjUxMzI2OTk5OTk5OTk5XSwKICAgICAgICAgICAgICAgIDYzOTUyLjg4NDQzMzYyMDg1LAogICAgICAgICAgICAgICAgewogICAgICAgICAgICAgICAgICAgIGNvbG9yOiAnTm9uZScsCiAgICAgICAgICAgICAgICAgICAgZmlsbENvbG9yOiAnZ3JlZW4nLAogICAgICAgICAgICAgICAgICAgIGZpbGxPcGFjaXR5OiAwLjYKICAgICAgICAgICAgICAgICAgICB9CiAgICAgICAgICAgICAgICApCiAgICAgICAgICAgICAgICAuYWRkVG8obWFwXzNkYmM0M2JhZGM1MTQyYjFiNzA5ZmU1NzMyZTM3ZmY3KTsKICAgICAgICAgICAgCiAgICAgICAgCiAgICAgICAgICAgIAogICAgICAgICAgICB2YXIgcG9wdXBfZGExYTY4ZDNkMWU0NDdiMDkzMDg3OTg3ZmE5ZGQ0YTMgPSBMLnBvcHVwKHttYXhXaWR0aDogJzMwMCd9KTsKCiAgICAgICAgICAgIAogICAgICAgICAgICAgICAgdmFyIGh0bWxfZDI3ZTVlZDFlN2MyNGNlMzk1ZTRhOWM4ZTJiYmVlMjYgPSAkKCcgICAgICAgICA8ZGl2IGlkPSJodG1sX2QyN2U1ZWQxZTdjMjRjZTM5NWU0YTljOGUyYmJlZTI2IiAgICAgICAgICAgICAgICAgc3R5bGU9IndpZHRoOiAxMDAuMCU7IGhlaWdodDogMTAwLjAlOyI+ICAgICAgICAgICAgICAgICBHdWF0ZW1hbGE8L2Rpdj4gICAgICAgICAgICAgICAgICcpWzBdOwogICAgICAgICAgICAgICAgcG9wdXBfZGExYTY4ZDNkMWU0NDdiMDkzMDg3OTg3ZmE5ZGQ0YTMuc2V0Q29udGVudChodG1sX2QyN2U1ZWQxZTdjMjRjZTM5NWU0YTljOGUyYmJlZTI2KTsKICAgICAgICAgICAgCgogICAgICAgICAgICBjaXJjbGVfbWFya2VyXzNlMGM1MDdjNDY2MTRkNGJhMWE2YzQ5MDcyZDU2MTU4LmJpbmRQb3B1cChwb3B1cF9kYTFhNjhkM2QxZTQ0N2IwOTMwODc5ODdmYTlkZDRhMyk7CgogICAgICAgICAgICAKICAgICAgICAKICAgICAgICAKICAgICAgICAgICAgCgogICAgICAgICAgICB2YXIgY2lyY2xlX21hcmtlcl9kMjM0MjhiMjAyYTM0NDM0YTAyMTAyNTU4Y2YxZjU3YSA9IEwuY2lyY2xlKAogICAgICAgICAgICAgICAgWzUuMCwtNTkuMF0sCiAgICAgICAgICAgICAgICAxMTUyNC41NzYzNjM4Mjg4MjYsCiAgICAgICAgICAgICAgICB7CiAgICAgICAgICAgICAgICAgICAgY29sb3I6ICdOb25lJywKICAgICAgICAgICAgICAgICAgICBmaWxsQ29sb3I6ICdncmVlbicsCiAgICAgICAgICAgICAgICAgICAgZmlsbE9wYWNpdHk6IDAuNgogICAgICAgICAgICAgICAgICAgIH0KICAgICAgICAgICAgICAgICkKICAgICAgICAgICAgICAgIC5hZGRUbyhtYXBfM2RiYzQzYmFkYzUxNDJiMWI3MDlmZTU3MzJlMzdmZjcpOwogICAgICAgICAgICAKICAgICAgICAKICAgICAgICAgICAgCiAgICAgICAgICAgIHZhciBwb3B1cF8xMTAyMjRkMGY0OGY0OGZlOGJmNGY2Yjk5NzFmYWQ3MSA9IEwucG9wdXAoe21heFdpZHRoOiAnMzAwJ30pOwoKICAgICAgICAgICAgCiAgICAgICAgICAgICAgICB2YXIgaHRtbF80MjAxNGI3ODljMzM0NThhYWFjNTM4Y2RkZDM3ODQ1MCA9ICQoJyAgICAgICAgIDxkaXYgaWQ9Imh0bWxfNDIwMTRiNzg5YzMzNDU4YWFhYzUzOGNkZGQzNzg0NTAiICAgICAgICAgICAgICAgICBzdHlsZT0id2lkdGg6IDEwMC4wJTsgaGVpZ2h0OiAxMDAuMCU7Ij4gICAgICAgICAgICAgICAgIEd1eWFuYTwvZGl2PiAgICAgICAgICAgICAgICAgJylbMF07CiAgICAgICAgICAgICAgICBwb3B1cF8xMTAyMjRkMGY0OGY0OGZlOGJmNGY2Yjk5NzFmYWQ3MS5zZXRDb250ZW50KGh0bWxfNDIwMTRiNzg5YzMzNDU4YWFhYzUzOGNkZGQzNzg0NTApOwogICAgICAgICAgICAKCiAgICAgICAgICAgIGNpcmNsZV9tYXJrZXJfZDIzNDI4YjIwMmEzNDQzNGEwMjEwMjU1OGNmMWY1N2EuYmluZFBvcHVwKHBvcHVwXzExMDIyNGQwZjQ4ZjQ4ZmU4YmY0ZjZiOTk3MWZhZDcxKTsKCiAgICAgICAgICAgIAogICAgICAgIAogICAgICAgIAogICAgICAgICAgICAKCiAgICAgICAgICAgIHZhciBjaXJjbGVfbWFya2VyXzExNzJmYWQwZjY4NDQ3NDZhNGM1YjA3YjEzMjQzMWVlID0gTC5jaXJjbGUoCiAgICAgICAgICAgICAgICBbMTUuMCwtODYuNV0sCiAgICAgICAgICAgICAgICA1MDA1OS41MTAwMjkyMTk2MTUsCiAgICAgICAgICAgICAgICB7CiAgICAgICAgICAgICAgICAgICAgY29sb3I6ICdOb25lJywKICAgICAgICAgICAgICAgICAgICBmaWxsQ29sb3I6ICdncmVlbicsCiAgICAgICAgICAgICAgICAgICAgZmlsbE9wYWNpdHk6IDAuNgogICAgICAgICAgICAgICAgICAgIH0KICAgICAgICAgICAgICAgICkKICAgICAgICAgICAgICAgIC5hZGRUbyhtYXBfM2RiYzQzYmFkYzUxNDJiMWI3MDlmZTU3MzJlMzdmZjcpOwogICAgICAgICAgICAKICAgICAgICAKICAgICAgICAgICAgCiAgICAgICAgICAgIHZhciBwb3B1cF8xMDY0ZmM1NmZmNWY0MWVhOTg5YmJmMGU0YmVmZTM0MCA9IEwucG9wdXAoe21heFdpZHRoOiAnMzAwJ30pOwoKICAgICAgICAgICAgCiAgICAgICAgICAgICAgICB2YXIgaHRtbF9lYzhhYzU3ZGFiNjM0MzU3YWNiMWRhNGNlZmZiYjRiOSA9ICQoJyAgICAgICAgIDxkaXYgaWQ9Imh0bWxfZWM4YWM1N2RhYjYzNDM1N2FjYjFkYTRjZWZmYmI0YjkiICAgICAgICAgICAgICAgICBzdHlsZT0id2lkdGg6IDEwMC4wJTsgaGVpZ2h0OiAxMDAuMCU7Ij4gICAgICAgICAgICAgICAgIEhvbmR1cmFzPC9kaXY+ICAgICAgICAgICAgICAgICAnKVswXTsKICAgICAgICAgICAgICAgIHBvcHVwXzEwNjRmYzU2ZmY1ZjQxZWE5ODliYmYwZTRiZWZlMzQwLnNldENvbnRlbnQoaHRtbF9lYzhhYzU3ZGFiNjM0MzU3YWNiMWRhNGNlZmZiYjRiOSk7CiAgICAgICAgICAgIAoKICAgICAgICAgICAgY2lyY2xlX21hcmtlcl8xMTcyZmFkMGY2ODQ0NzQ2YTRjNWIwN2IxMzI0MzFlZS5iaW5kUG9wdXAocG9wdXBfMTA2NGZjNTZmZjVmNDFlYTk4OWJiZjBlNGJlZmUzNDApOwoKICAgICAgICAgICAgCiAgICAgICAgCiAgICAgICAgCiAgICAgICAgICAgIAoKICAgICAgICAgICAgdmFyIGNpcmNsZV9tYXJrZXJfMjUwN2ZjYWQ2MDdmNDRmN2FlMzQxNmY0MzVjN2I2YjkgPSBMLmNpcmNsZSgKICAgICAgICAgICAgICAgIFs0NS4xNjY2NywxNS41XSwKICAgICAgICAgICAgICAgIDAuMCwKICAgICAgICAgICAgICAgIHsKICAgICAgICAgICAgICAgICAgICBjb2xvcjogJ05vbmUnLAogICAgICAgICAgICAgICAgICAgIGZpbGxDb2xvcjogJ2JsYWNrJywKICAgICAgICAgICAgICAgICAgICBmaWxsT3BhY2l0eTogMC42CiAgICAgICAgICAgICAgICAgICAgfQogICAgICAgICAgICAgICAgKQogICAgICAgICAgICAgICAgLmFkZFRvKG1hcF8zZGJjNDNiYWRjNTE0MmIxYjcwOWZlNTczMmUzN2ZmNyk7CiAgICAgICAgICAgIAogICAgICAgIAogICAgICAgICAgICAKICAgICAgICAgICAgdmFyIHBvcHVwXzgyMTQyZjk0ODhmNzQ2YzY4MTk3Yjg1MWE1OTllNzcwID0gTC5wb3B1cCh7bWF4V2lkdGg6ICczMDAnfSk7CgogICAgICAgICAgICAKICAgICAgICAgICAgICAgIHZhciBodG1sXzkyZmZkMDEyYTY3NDQ1Mzc5ZTVhNzkxNDQ0MjZkZTRiID0gJCgnICAgICAgICAgPGRpdiBpZD0iaHRtbF85MmZmZDAxMmE2NzQ0NTM3OWU1YTc5MTQ0NDI2ZGU0YiIgICAgICAgICAgICAgICAgIHN0eWxlPSJ3aWR0aDogMTAwLjAlOyBoZWlnaHQ6IDEwMC4wJTsiPiAgICAgICAgICAgICAgICAgQ3JvYXRpYTwvZGl2PiAgICAgICAgICAgICAgICAgJylbMF07CiAgICAgICAgICAgICAgICBwb3B1cF84MjE0MmY5NDg4Zjc0NmM2ODE5N2I4NTFhNTk5ZTc3MC5zZXRDb250ZW50KGh0bWxfOTJmZmQwMTJhNjc0NDUzNzllNWE3OTE0NDQyNmRlNGIpOwogICAgICAgICAgICAKCiAgICAgICAgICAgIGNpcmNsZV9tYXJrZXJfMjUwN2ZjYWQ2MDdmNDRmN2FlMzQxNmY0MzVjN2I2YjkuYmluZFBvcHVwKHBvcHVwXzgyMTQyZjk0ODhmNzQ2YzY4MTk3Yjg1MWE1OTllNzcwKTsKCiAgICAgICAgICAgIAogICAgICAgIAogICAgICAgIAogICAgICAgICAgICAKCiAgICAgICAgICAgIHZhciBjaXJjbGVfbWFya2VyXzA4MjY3MTU5YWY2ZDRjNTA5ZTk3YTIyZjNmYTU3ODkxID0gTC5jaXJjbGUoCiAgICAgICAgICAgICAgICBbMTkuMCwtNzIuNDE2NjddLAogICAgICAgICAgICAgICAgMTExODIzLjg4OTQzODQ4NTA5LAogICAgICAgICAgICAgICAgewogICAgICAgICAgICAgICAgICAgIGNvbG9yOiAnTm9uZScsCiAgICAgICAgICAgICAgICAgICAgZmlsbENvbG9yOiAnZ3JlZW4nLAogICAgICAgICAgICAgICAgICAgIGZpbGxPcGFjaXR5OiAwLjYKICAgICAgICAgICAgICAgICAgICB9CiAgICAgICAgICAgICAgICApCiAgICAgICAgICAgICAgICAuYWRkVG8obWFwXzNkYmM0M2JhZGM1MTQyYjFiNzA5ZmU1NzMyZTM3ZmY3KTsKICAgICAgICAgICAgCiAgICAgICAgCiAgICAgICAgICAgIAogICAgICAgICAgICB2YXIgcG9wdXBfYzY0NmYzNGM0NTk0NDYyZDhlNDZjMDU1ZWFlMGE3YWEgPSBMLnBvcHVwKHttYXhXaWR0aDogJzMwMCd9KTsKCiAgICAgICAgICAgIAogICAgICAgICAgICAgICAgdmFyIGh0bWxfMmI3ZThhOTEwMzMyNGYzNTk4OTc0Y2I1MGRkY2M4MzAgPSAkKCcgICAgICAgICA8ZGl2IGlkPSJodG1sXzJiN2U4YTkxMDMzMjRmMzU5ODk3NGNiNTBkZGNjODMwIiAgICAgICAgICAgICAgICAgc3R5bGU9IndpZHRoOiAxMDAuMCU7IGhlaWdodDogMTAwLjAlOyI+ICAgICAgICAgICAgICAgICBIYWl0aTwvZGl2PiAgICAgICAgICAgICAgICAgJylbMF07CiAgICAgICAgICAgICAgICBwb3B1cF9jNjQ2ZjM0YzQ1OTQ0NjJkOGU0NmMwNTVlYWUwYTdhYS5zZXRDb250ZW50KGh0bWxfMmI3ZThhOTEwMzMyNGYzNTk4OTc0Y2I1MGRkY2M4MzApOwogICAgICAgICAgICAKCiAgICAgICAgICAgIGNpcmNsZV9tYXJrZXJfMDgyNjcxNTlhZjZkNGM1MDllOTdhMjJmM2ZhNTc4OTEuYmluZFBvcHVwKHBvcHVwX2M2NDZmMzRjNDU5NDQ2MmQ4ZTQ2YzA1NWVhZTBhN2FhKTsKCiAgICAgICAgICAgIAogICAgICAgIAogICAgICAgIAogICAgICAgICAgICAKCiAgICAgICAgICAgIHZhciBjaXJjbGVfbWFya2VyXzM2ZWY4YmJhMWQyZjQ3OTBhMzIyNjRjMTliNzI3ZjlkID0gTC5jaXJjbGUoCiAgICAgICAgICAgICAgICBbNDcuMCwyMC4wXSwKICAgICAgICAgICAgICAgIDMxODUuMzI2MjUxNzI3Mzk2NSwKICAgICAgICAgICAgICAgIHsKICAgICAgICAgICAgICAgICAgICBjb2xvcjogJ05vbmUnLAogICAgICAgICAgICAgICAgICAgIGZpbGxDb2xvcjogJ2JsYWNrJywKICAgICAgICAgICAgICAgICAgICBmaWxsT3BhY2l0eTogMC42CiAgICAgICAgICAgICAgICAgICAgfQogICAgICAgICAgICAgICAgKQogICAgICAgICAgICAgICAgLmFkZFRvKG1hcF8zZGJjNDNiYWRjNTE0MmIxYjcwOWZlNTczMmUzN2ZmNyk7CiAgICAgICAgICAgIAogICAgICAgIAogICAgICAgICAgICAKICAgICAgICAgICAgdmFyIHBvcHVwXzk3NDc2MGE0M2U4NDQ4OTdhMmYyZWY4N2RjMjhhMGFmID0gTC5wb3B1cCh7bWF4V2lkdGg6ICczMDAnfSk7CgogICAgICAgICAgICAKICAgICAgICAgICAgICAgIHZhciBodG1sXzQ4MDU0NmFhYmNlOTQwYThhYzAwNGZjMzQ4ODkxZTk5ID0gJCgnICAgICAgICAgPGRpdiBpZD0iaHRtbF80ODA1NDZhYWJjZTk0MGE4YWMwMDRmYzM0ODg5MWU5OSIgICAgICAgICAgICAgICAgIHN0eWxlPSJ3aWR0aDogMTAwLjAlOyBoZWlnaHQ6IDEwMC4wJTsiPiAgICAgICAgICAgICAgICAgSHVuZ2FyeTwvZGl2PiAgICAgICAgICAgICAgICAgJylbMF07CiAgICAgICAgICAgICAgICBwb3B1cF85NzQ3NjBhNDNlODQ0ODk3YTJmMmVmODdkYzI4YTBhZi5zZXRDb250ZW50KGh0bWxfNDgwNTQ2YWFiY2U5NDBhOGFjMDA0ZmMzNDg4OTFlOTkpOwogICAgICAgICAgICAKCiAgICAgICAgICAgIGNpcmNsZV9tYXJrZXJfMzZlZjhiYmExZDJmNDc5MGEzMjI2NGMxOWI3MjdmOWQuYmluZFBvcHVwKHBvcHVwXzk3NDc2MGE0M2U4NDQ4OTdhMmYyZWY4N2RjMjhhMGFmKTsKCiAgICAgICAgICAgIAogICAgICAgIAogICAgICAgIAogICAgICAgICAgICAKCiAgICAgICAgICAgIHZhciBjaXJjbGVfbWFya2VyXzRlMzgzYWMzNjU3ZjQ4YjY4ZmEyNjU2NDAxN2YyMTNiID0gTC5jaXJjbGUoCiAgICAgICAgICAgICAgICBbLTUuMCwxMjAuMF0sCiAgICAgICAgICAgICAgICAyODE2MzIuNTc5MDY4OTIxMywKICAgICAgICAgICAgICAgIHsKICAgICAgICAgICAgICAgICAgICBjb2xvcjogJ05vbmUnLAogICAgICAgICAgICAgICAgICAgIGZpbGxDb2xvcjogJ3JlZCcsCiAgICAgICAgICAgICAgICAgICAgZmlsbE9wYWNpdHk6IDAuNgogICAgICAgICAgICAgICAgICAgIH0KICAgICAgICAgICAgICAgICkKICAgICAgICAgICAgICAgIC5hZGRUbyhtYXBfM2RiYzQzYmFkYzUxNDJiMWI3MDlmZTU3MzJlMzdmZjcpOwogICAgICAgICAgICAKICAgICAgICAKICAgICAgICAgICAgCiAgICAgICAgICAgIHZhciBwb3B1cF81ZDM3ZDI3YzhiMzk0NTNiODVhZjRlODhkZmViMzcyMCA9IEwucG9wdXAoe21heFdpZHRoOiAnMzAwJ30pOwoKICAgICAgICAgICAgCiAgICAgICAgICAgICAgICB2YXIgaHRtbF82ZGZmNmM5ZmEzNTA0YTEzYTJjYjRhMzdlNGE0MjNjZiA9ICQoJyAgICAgICAgIDxkaXYgaWQ9Imh0bWxfNmRmZjZjOWZhMzUwNGExM2EyY2I0YTM3ZTRhNDIzY2YiICAgICAgICAgICAgICAgICBzdHlsZT0id2lkdGg6IDEwMC4wJTsgaGVpZ2h0OiAxMDAuMCU7Ij4gICAgICAgICAgICAgICAgIEluZG9uZXNpYTwvZGl2PiAgICAgICAgICAgICAgICAgJylbMF07CiAgICAgICAgICAgICAgICBwb3B1cF81ZDM3ZDI3YzhiMzk0NTNiODVhZjRlODhkZmViMzcyMC5zZXRDb250ZW50KGh0bWxfNmRmZjZjOWZhMzUwNGExM2EyY2I0YTM3ZTRhNDIzY2YpOwogICAgICAgICAgICAKCiAgICAgICAgICAgIGNpcmNsZV9tYXJrZXJfNGUzODNhYzM2NTdmNDhiNjhmYTI2NTY0MDE3ZjIxM2IuYmluZFBvcHVwKHBvcHVwXzVkMzdkMjdjOGIzOTQ1M2I4NWFmNGU4OGRmZWIzNzIwKTsKCiAgICAgICAgICAgIAogICAgICAgIAogICAgICAgIAogICAgICAgICAgICAKCiAgICAgICAgICAgIHZhciBjaXJjbGVfbWFya2VyXzM4YTY0MWQwY2I3ZTQwOGM5YzMxZGFiZTk1NzhjZjI1ID0gTC5jaXJjbGUoCiAgICAgICAgICAgICAgICBbMjIuMCw3OS4wXSwKICAgICAgICAgICAgICAgIDc2Nzc1Ni4xMDUzMDkyNTc5LAogICAgICAgICAgICAgICAgewogICAgICAgICAgICAgICAgICAgIGNvbG9yOiAnTm9uZScsCiAgICAgICAgICAgICAgICAgICAgZmlsbENvbG9yOiAncmVkJywKICAgICAgICAgICAgICAgICAgICBmaWxsT3BhY2l0eTogMC42CiAgICAgICAgICAgICAgICAgICAgfQogICAgICAgICAgICAgICAgKQogICAgICAgICAgICAgICAgLmFkZFRvKG1hcF8zZGJjNDNiYWRjNTE0MmIxYjcwOWZlNTczMmUzN2ZmNyk7CiAgICAgICAgICAgIAogICAgICAgIAogICAgICAgICAgICAKICAgICAgICAgICAgdmFyIHBvcHVwXzllZTE2YjUwMDBhZTQ1Mjk5OTg5NzJkZmY0OThlNzE3ID0gTC5wb3B1cCh7bWF4V2lkdGg6ICczMDAnfSk7CgogICAgICAgICAgICAKICAgICAgICAgICAgICAgIHZhciBodG1sXzE5ODBlOTgwNmY1ZTQyNjdiZDJiZjQ0OWE4MmEzMjE4ID0gJCgnICAgICAgICAgPGRpdiBpZD0iaHRtbF8xOTgwZTk4MDZmNWU0MjY3YmQyYmY0NDlhODJhMzIxOCIgICAgICAgICAgICAgICAgIHN0eWxlPSJ3aWR0aDogMTAwLjAlOyBoZWlnaHQ6IDEwMC4wJTsiPiAgICAgICAgICAgICAgICAgSW5kaWE8L2Rpdj4gICAgICAgICAgICAgICAgICcpWzBdOwogICAgICAgICAgICAgICAgcG9wdXBfOWVlMTZiNTAwMGFlNDUyOTk5ODk3MmRmZjQ5OGU3MTcuc2V0Q29udGVudChodG1sXzE5ODBlOTgwNmY1ZTQyNjdiZDJiZjQ0OWE4MmEzMjE4KTsKICAgICAgICAgICAgCgogICAgICAgICAgICBjaXJjbGVfbWFya2VyXzM4YTY0MWQwY2I3ZTQwOGM5YzMxZGFiZTk1NzhjZjI1LmJpbmRQb3B1cChwb3B1cF85ZWUxNmI1MDAwYWU0NTI5OTk4OTcyZGZmNDk4ZTcxNyk7CgogICAgICAgICAgICAKICAgICAgICAKICAgICAgICAKICAgICAgICAgICAgCgogICAgICAgICAgICB2YXIgY2lyY2xlX21hcmtlcl8wMGE2ZTRjYjY2MTI0NDA5OGY2ZmIzMjQ5YjU0NjRiMCA9IEwuY2lyY2xlKAogICAgICAgICAgICAgICAgWzUzLjAsLTguMF0sCiAgICAgICAgICAgICAgICA1ODAzLjcyNDE3NDE4ODM5NSwKICAgICAgICAgICAgICAgIHsKICAgICAgICAgICAgICAgICAgICBjb2xvcjogJ05vbmUnLAogICAgICAgICAgICAgICAgICAgIGZpbGxDb2xvcjogJ2JsYWNrJywKICAgICAgICAgICAgICAgICAgICBmaWxsT3BhY2l0eTogMC42CiAgICAgICAgICAgICAgICAgICAgfQogICAgICAgICAgICAgICAgKQogICAgICAgICAgICAgICAgLmFkZFRvKG1hcF8zZGJjNDNiYWRjNTE0MmIxYjcwOWZlNTczMmUzN2ZmNyk7CiAgICAgICAgICAgIAogICAgICAgIAogICAgICAgICAgICAKICAgICAgICAgICAgdmFyIHBvcHVwXzY0Mzk4NjlmODU0MTQ5ZGNhMDA3NDEwMjI4NTAzZGYwID0gTC5wb3B1cCh7bWF4V2lkdGg6ICczMDAnfSk7CgogICAgICAgICAgICAKICAgICAgICAgICAgICAgIHZhciBodG1sX2NiMDJmZWJiNzY0MTQ3M2Y4YzEzZmNhZjEyODE0ODQ2ID0gJCgnICAgICAgICAgPGRpdiBpZD0iaHRtbF9jYjAyZmViYjc2NDE0NzNmOGMxM2ZjYWYxMjgxNDg0NiIgICAgICAgICAgICAgICAgIHN0eWxlPSJ3aWR0aDogMTAwLjAlOyBoZWlnaHQ6IDEwMC4wJTsiPiAgICAgICAgICAgICAgICAgSXJlbGFuZDwvZGl2PiAgICAgICAgICAgICAgICAgJylbMF07CiAgICAgICAgICAgICAgICBwb3B1cF82NDM5ODY5Zjg1NDE0OWRjYTAwNzQxMDIyODUwM2RmMC5zZXRDb250ZW50KGh0bWxfY2IwMmZlYmI3NjQxNDczZjhjMTNmY2FmMTI4MTQ4NDYpOwogICAgICAgICAgICAKCiAgICAgICAgICAgIGNpcmNsZV9tYXJrZXJfMDBhNmU0Y2I2NjEyNDQwOThmNmZiMzI0OWI1NDY0YjAuYmluZFBvcHVwKHBvcHVwXzY0Mzk4NjlmODU0MTQ5ZGNhMDA3NDEwMjI4NTAzZGYwKTsKCiAgICAgICAgICAgIAogICAgICAgIAogICAgICAgIAogICAgICAgICAgICAKCiAgICAgICAgICAgIHZhciBjaXJjbGVfbWFya2VyXzEzMTRmZmEyNDRkNzQxNTA4YTUxNzllOTFiZDU5MWJhID0gTC5jaXJjbGUoCiAgICAgICAgICAgICAgICBbMzIuMCw1My4wXSwKICAgICAgICAgICAgICAgIDQ2NzA5LjcxNzIwNjc5MzM2NCwKICAgICAgICAgICAgICAgIHsKICAgICAgICAgICAgICAgICAgICBjb2xvcjogJ05vbmUnLAogICAgICAgICAgICAgICAgICAgIGZpbGxDb2xvcjogJ3JlZCcsCiAgICAgICAgICAgICAgICAgICAgZmlsbE9wYWNpdHk6IDAuNgogICAgICAgICAgICAgICAgICAgIH0KICAgICAgICAgICAgICAgICkKICAgICAgICAgICAgICAgIC5hZGRUbyhtYXBfM2RiYzQzYmFkYzUxNDJiMWI3MDlmZTU3MzJlMzdmZjcpOwogICAgICAgICAgICAKICAgICAgICAKICAgICAgICAgICAgCiAgICAgICAgICAgIHZhciBwb3B1cF83YzZiMzkwZmY3MDY0M2E2YTU3NTdlNzcyMDBhNDYxMyA9IEwucG9wdXAoe21heFdpZHRoOiAnMzAwJ30pOwoKICAgICAgICAgICAgCiAgICAgICAgICAgICAgICB2YXIgaHRtbF9kOGUxMjBlOWEwZmQ0NjYyOWUzYzdmMDdjYmRjYjcyMCA9ICQoJyAgICAgICAgIDxkaXYgaWQ9Imh0bWxfZDhlMTIwZTlhMGZkNDY2MjllM2M3ZjA3Y2JkY2I3MjAiICAgICAgICAgICAgICAgICBzdHlsZT0id2lkdGg6IDEwMC4wJTsgaGVpZ2h0OiAxMDAuMCU7Ij4gICAgICAgICAgICAgICAgIElyYW48L2Rpdj4gICAgICAgICAgICAgICAgICcpWzBdOwogICAgICAgICAgICAgICAgcG9wdXBfN2M2YjM5MGZmNzA2NDNhNmE1NzU3ZTc3MjAwYTQ2MTMuc2V0Q29udGVudChodG1sX2Q4ZTEyMGU5YTBmZDQ2NjI5ZTNjN2YwN2NiZGNiNzIwKTsKICAgICAgICAgICAgCgogICAgICAgICAgICBjaXJjbGVfbWFya2VyXzEzMTRmZmEyNDRkNzQxNTA4YTUxNzllOTFiZDU5MWJhLmJpbmRQb3B1cChwb3B1cF83YzZiMzkwZmY3MDY0M2E2YTU3NTdlNzcyMDBhNDYxMyk7CgogICAgICAgICAgICAKICAgICAgICAKICAgICAgICAKICAgICAgICAgICAgCgogICAgICAgICAgICB2YXIgY2lyY2xlX21hcmtlcl84NTA4YzUzMmUyYWI0OTAxODkwMjQ4NmY1YjYwYjUwMiA9IEwuY2lyY2xlKAogICAgICAgICAgICAgICAgWzMzLjAsNDQuMF0sCiAgICAgICAgICAgICAgICA0OTQ1NC44NDcyODMzOTYwNywKICAgICAgICAgICAgICAgIHsKICAgICAgICAgICAgICAgICAgICBjb2xvcjogJ05vbmUnLAogICAgICAgICAgICAgICAgICAgIGZpbGxDb2xvcjogJ3JlZCcsCiAgICAgICAgICAgICAgICAgICAgZmlsbE9wYWNpdHk6IDAuNgogICAgICAgICAgICAgICAgICAgIH0KICAgICAgICAgICAgICAgICkKICAgICAgICAgICAgICAgIC5hZGRUbyhtYXBfM2RiYzQzYmFkYzUxNDJiMWI3MDlmZTU3MzJlMzdmZjcpOwogICAgICAgICAgICAKICAgICAgICAKICAgICAgICAgICAgCiAgICAgICAgICAgIHZhciBwb3B1cF81ZTI3NjljN2FiYTE0OTAwYmI0NmZkYjkxNTU1OTg4OCA9IEwucG9wdXAoe21heFdpZHRoOiAnMzAwJ30pOwoKICAgICAgICAgICAgCiAgICAgICAgICAgICAgICB2YXIgaHRtbF8zOWRkOWFmMzAxNGI0NTFiOTNkOTMxM2JkOTk2ZTNjMiA9ICQoJyAgICAgICAgIDxkaXYgaWQ9Imh0bWxfMzlkZDlhZjMwMTRiNDUxYjkzZDkzMTNiZDk5NmUzYzIiICAgICAgICAgICAgICAgICBzdHlsZT0id2lkdGg6IDEwMC4wJTsgaGVpZ2h0OiAxMDAuMCU7Ij4gICAgICAgICAgICAgICAgIElyYXE8L2Rpdj4gICAgICAgICAgICAgICAgICcpWzBdOwogICAgICAgICAgICAgICAgcG9wdXBfNWUyNzY5YzdhYmExNDkwMGJiNDZmZGI5MTU1NTk4ODguc2V0Q29udGVudChodG1sXzM5ZGQ5YWYzMDE0YjQ1MWI5M2Q5MzEzYmQ5OTZlM2MyKTsKICAgICAgICAgICAgCgogICAgICAgICAgICBjaXJjbGVfbWFya2VyXzg1MDhjNTMyZTJhYjQ5MDE4OTAyNDg2ZjViNjBiNTAyLmJpbmRQb3B1cChwb3B1cF81ZTI3NjljN2FiYTE0OTAwYmI0NmZkYjkxNTU1OTg4OCk7CgogICAgICAgICAgICAKICAgICAgICAKICAgICAgICAKICAgICAgICAgICAgCgogICAgICAgICAgICB2YXIgY2lyY2xlX21hcmtlcl8wMDdiYWMxZTU4NDg0ZTIwYmUxZDcxZmQ1YTIyOWYzNiA9IEwuY2lyY2xlKAogICAgICAgICAgICAgICAgWzMxLjUsMzQuNzVdLAogICAgICAgICAgICAgICAgNzY1Ny44NTA1MjUzNDQwNTcsCiAgICAgICAgICAgICAgICB7CiAgICAgICAgICAgICAgICAgICAgY29sb3I6ICdOb25lJywKICAgICAgICAgICAgICAgICAgICBmaWxsQ29sb3I6ICdyZWQnLAogICAgICAgICAgICAgICAgICAgIGZpbGxPcGFjaXR5OiAwLjYKICAgICAgICAgICAgICAgICAgICB9CiAgICAgICAgICAgICAgICApCiAgICAgICAgICAgICAgICAuYWRkVG8obWFwXzNkYmM0M2JhZGM1MTQyYjFiNzA5ZmU1NzMyZTM3ZmY3KTsKICAgICAgICAgICAgCiAgICAgICAgCiAgICAgICAgICAgIAogICAgICAgICAgICB2YXIgcG9wdXBfYTU2MzYwNGZjNDFhNDljNDhkNTFhMGMwOGY4YjViNjEgPSBMLnBvcHVwKHttYXhXaWR0aDogJzMwMCd9KTsKCiAgICAgICAgICAgIAogICAgICAgICAgICAgICAgdmFyIGh0bWxfZjFiNTdkNWYyYjU3NGQzZWI1Zjc0MDA5Nzk0ZGEwNjYgPSAkKCcgICAgICAgICA8ZGl2IGlkPSJodG1sX2YxYjU3ZDVmMmI1NzRkM2ViNWY3NDAwOTc5NGRhMDY2IiAgICAgICAgICAgICAgICAgc3R5bGU9IndpZHRoOiAxMDAuMCU7IGhlaWdodDogMTAwLjAlOyI+ICAgICAgICAgICAgICAgICBJc3JhZWw8L2Rpdj4gICAgICAgICAgICAgICAgICcpWzBdOwogICAgICAgICAgICAgICAgcG9wdXBfYTU2MzYwNGZjNDFhNDljNDhkNTFhMGMwOGY4YjViNjEuc2V0Q29udGVudChodG1sX2YxYjU3ZDVmMmI1NzRkM2ViNWY3NDAwOTc5NGRhMDY2KTsKICAgICAgICAgICAgCgogICAgICAgICAgICBjaXJjbGVfbWFya2VyXzAwN2JhYzFlNTg0ODRlMjBiZTFkNzFmZDVhMjI5ZjM2LmJpbmRQb3B1cChwb3B1cF9hNTYzNjA0ZmM0MWE0OWM0OGQ1MWEwYzA4ZjhiNWI2MSk7CgogICAgICAgICAgICAKICAgICAgICAKICAgICAgICAKICAgICAgICAgICAgCgogICAgICAgICAgICB2YXIgY2lyY2xlX21hcmtlcl83MDAwYmEwOWQ2ZjE0ZmM4YjkzODkxMTM4NmUwODA3NiA9IEwuY2lyY2xlKAogICAgICAgICAgICAgICAgWzQyLjgzMzMzLDEyLjgzMzMzXSwKICAgICAgICAgICAgICAgIDQwMzc0Ljg5NTc0NjQ1OTgwNiwKICAgICAgICAgICAgICAgIHsKICAgICAgICAgICAgICAgICAgICBjb2xvcjogJ05vbmUnLAogICAgICAgICAgICAgICAgICAgIGZpbGxDb2xvcjogJ2JsYWNrJywKICAgICAgICAgICAgICAgICAgICBmaWxsT3BhY2l0eTogMC42CiAgICAgICAgICAgICAgICAgICAgfQogICAgICAgICAgICAgICAgKQogICAgICAgICAgICAgICAgLmFkZFRvKG1hcF8zZGJjNDNiYWRjNTE0MmIxYjcwOWZlNTczMmUzN2ZmNyk7CiAgICAgICAgICAgIAogICAgICAgIAogICAgICAgICAgICAKICAgICAgICAgICAgdmFyIHBvcHVwXzJjMjgwMDA1OWRiNjQ2YjE4YjljYTYwNzg1MWQ4YzA4ID0gTC5wb3B1cCh7bWF4V2lkdGg6ICczMDAnfSk7CgogICAgICAgICAgICAKICAgICAgICAgICAgICAgIHZhciBodG1sX2JjNTI5ZjNlZTI1NjQyMjg5ZmE5Y2E1YmJkOTA2YWYzID0gJCgnICAgICAgICAgPGRpdiBpZD0iaHRtbF9iYzUyOWYzZWUyNTY0MjI4OWZhOWNhNWJiZDkwNmFmMyIgICAgICAgICAgICAgICAgIHN0eWxlPSJ3aWR0aDogMTAwLjAlOyBoZWlnaHQ6IDEwMC4wJTsiPiAgICAgICAgICAgICAgICAgSXRhbHk8L2Rpdj4gICAgICAgICAgICAgICAgICcpWzBdOwogICAgICAgICAgICAgICAgcG9wdXBfMmMyODAwMDU5ZGI2NDZiMThiOWNhNjA3ODUxZDhjMDguc2V0Q29udGVudChodG1sX2JjNTI5ZjNlZTI1NjQyMjg5ZmE5Y2E1YmJkOTA2YWYzKTsKICAgICAgICAgICAgCgogICAgICAgICAgICBjaXJjbGVfbWFya2VyXzcwMDBiYTA5ZDZmMTRmYzhiOTM4OTExMzg2ZTA4MDc2LmJpbmRQb3B1cChwb3B1cF8yYzI4MDAwNTlkYjY0NmIxOGI5Y2E2MDc4NTFkOGMwOCk7CgogICAgICAgICAgICAKICAgICAgICAKICAgICAgICAKICAgICAgICAgICAgCgogICAgICAgICAgICB2YXIgY2lyY2xlX21hcmtlcl8yNTNhNzNmNTlkNjI0YTU4ODZjZTIxMmM3ZjlkODI3ZSA9IEwuY2lyY2xlKAogICAgICAgICAgICAgICAgWzE4LjE2NjY3LC03Ny4yNV0sCiAgICAgICAgICAgICAgICAzNjUxLjI3OTQxMTg4NTQ4MzYsCiAgICAgICAgICAgICAgICB7CiAgICAgICAgICAgICAgICAgICAgY29sb3I6ICdOb25lJywKICAgICAgICAgICAgICAgICAgICBmaWxsQ29sb3I6ICdncmVlbicsCiAgICAgICAgICAgICAgICAgICAgZmlsbE9wYWNpdHk6IDAuNgogICAgICAgICAgICAgICAgICAgIH0KICAgICAgICAgICAgICAgICkKICAgICAgICAgICAgICAgIC5hZGRUbyhtYXBfM2RiYzQzYmFkYzUxNDJiMWI3MDlmZTU3MzJlMzdmZjcpOwogICAgICAgICAgICAKICAgICAgICAKICAgICAgICAgICAgCiAgICAgICAgICAgIHZhciBwb3B1cF83OTNiZmIwODBlZTM0ZjFjYTIxNzI3MTU5ZTNlZmVhZSA9IEwucG9wdXAoe21heFdpZHRoOiAnMzAwJ30pOwoKICAgICAgICAgICAgCiAgICAgICAgICAgICAgICB2YXIgaHRtbF9iYmNlMDA4YjAzMWI0YTE0YjgyN2FiYmI3ODQ5ZmI4MiA9ICQoJyAgICAgICAgIDxkaXYgaWQ9Imh0bWxfYmJjZTAwOGIwMzFiNGExNGI4MjdhYmJiNzg0OWZiODIiICAgICAgICAgICAgICAgICBzdHlsZT0id2lkdGg6IDEwMC4wJTsgaGVpZ2h0OiAxMDAuMCU7Ij4gICAgICAgICAgICAgICAgIEphbWFpY2E8L2Rpdj4gICAgICAgICAgICAgICAgICcpWzBdOwogICAgICAgICAgICAgICAgcG9wdXBfNzkzYmZiMDgwZWUzNGYxY2EyMTcyNzE1OWUzZWZlYWUuc2V0Q29udGVudChodG1sX2JiY2UwMDhiMDMxYjRhMTRiODI3YWJiYjc4NDlmYjgyKTsKICAgICAgICAgICAgCgogICAgICAgICAgICBjaXJjbGVfbWFya2VyXzI1M2E3M2Y1OWQ2MjRhNTg4NmNlMjEyYzdmOWQ4MjdlLmJpbmRQb3B1cChwb3B1cF83OTNiZmIwODBlZTM0ZjFjYTIxNzI3MTU5ZTNlZmVhZSk7CgogICAgICAgICAgICAKICAgICAgICAKICAgICAgICAKICAgICAgICAgICAgCgogICAgICAgICAgICB2YXIgY2lyY2xlX21hcmtlcl80MTg1N2JhYzhlMTM0MDU4ODNlOTE3ZGJiNDY4MzE3YyA9IEwuY2lyY2xlKAogICAgICAgICAgICAgICAgWzMxLjAsMzYuMF0sCiAgICAgICAgICAgICAgICAzMjUwLjUwMzUwNDEwODcwNywKICAgICAgICAgICAgICAgIHsKICAgICAgICAgICAgICAgICAgICBjb2xvcjogJ05vbmUnLAogICAgICAgICAgICAgICAgICAgIGZpbGxDb2xvcjogJ3JlZCcsCiAgICAgICAgICAgICAgICAgICAgZmlsbE9wYWNpdHk6IDAuNgogICAgICAgICAgICAgICAgICAgIH0KICAgICAgICAgICAgICAgICkKICAgICAgICAgICAgICAgIC5hZGRUbyhtYXBfM2RiYzQzYmFkYzUxNDJiMWI3MDlmZTU3MzJlMzdmZjcpOwogICAgICAgICAgICAKICAgICAgICAKICAgICAgICAgICAgCiAgICAgICAgICAgIHZhciBwb3B1cF80NWM1N2NlZDY2YjI0ZjY3ODI4MzgyZGZmZGVmOGE3NiA9IEwucG9wdXAoe21heFdpZHRoOiAnMzAwJ30pOwoKICAgICAgICAgICAgCiAgICAgICAgICAgICAgICB2YXIgaHRtbF80NzYzMjg0NGYzNjY0NjQxODYwNTA2YTZiNGU1YmI2YiA9ICQoJyAgICAgICAgIDxkaXYgaWQ9Imh0bWxfNDc2MzI4NDRmMzY2NDY0MTg2MDUwNmE2YjRlNWJiNmIiICAgICAgICAgICAgICAgICBzdHlsZT0id2lkdGg6IDEwMC4wJTsgaGVpZ2h0OiAxMDAuMCU7Ij4gICAgICAgICAgICAgICAgIEpvcmRhbjwvZGl2PiAgICAgICAgICAgICAgICAgJylbMF07CiAgICAgICAgICAgICAgICBwb3B1cF80NWM1N2NlZDY2YjI0ZjY3ODI4MzgyZGZmZGVmOGE3Ni5zZXRDb250ZW50KGh0bWxfNDc2MzI4NDRmMzY2NDY0MTg2MDUwNmE2YjRlNWJiNmIpOwogICAgICAgICAgICAKCiAgICAgICAgICAgIGNpcmNsZV9tYXJrZXJfNDE4NTdiYWM4ZTEzNDA1ODgzZTkxN2RiYjQ2ODMxN2MuYmluZFBvcHVwKHBvcHVwXzQ1YzU3Y2VkNjZiMjRmNjc4MjgzODJkZmZkZWY4YTc2KTsKCiAgICAgICAgICAgIAogICAgICAgIAogICAgICAgIAogICAgICAgICAgICAKCiAgICAgICAgICAgIHZhciBjaXJjbGVfbWFya2VyXzZkN2UwMzIyZmM2NjQyNmQ5YjlkYWQwZDk2M2ZiNGNhID0gTC5jaXJjbGUoCiAgICAgICAgICAgICAgICBbMzUuNjg1MzU5OTk5OTk5OTk2LDEzOS43NTMwOV0sCiAgICAgICAgICAgICAgICAzMDA1MC4xNzI4ODkxOTE0NzUsCiAgICAgICAgICAgICAgICB7CiAgICAgICAgICAgICAgICAgICAgY29sb3I6ICdOb25lJywKICAgICAgICAgICAgICAgICAgICBmaWxsQ29sb3I6ICdyZWQnLAogICAgICAgICAgICAgICAgICAgIGZpbGxPcGFjaXR5OiAwLjYKICAgICAgICAgICAgICAgICAgICB9CiAgICAgICAgICAgICAgICApCiAgICAgICAgICAgICAgICAuYWRkVG8obWFwXzNkYmM0M2JhZGM1MTQyYjFiNzA5ZmU1NzMyZTM3ZmY3KTsKICAgICAgICAgICAgCiAgICAgICAgCiAgICAgICAgICAgIAogICAgICAgICAgICB2YXIgcG9wdXBfOTBiMDJmODgyOGFhNGI5M2FhNDUxMGI0Yjk0ZGUyZjEgPSBMLnBvcHVwKHttYXhXaWR0aDogJzMwMCd9KTsKCiAgICAgICAgICAgIAogICAgICAgICAgICAgICAgdmFyIGh0bWxfZGVjNzc5OTJiNTNkNGI4ZWI0MzQwYTI5MzdhZmE3YjMgPSAkKCcgICAgICAgICA8ZGl2IGlkPSJodG1sX2RlYzc3OTkyYjUzZDRiOGViNDM0MGEyOTM3YWZhN2IzIiAgICAgICAgICAgICAgICAgc3R5bGU9IndpZHRoOiAxMDAuMCU7IGhlaWdodDogMTAwLjAlOyI+ICAgICAgICAgICAgICAgICBKYXBhbjwvZGl2PiAgICAgICAgICAgICAgICAgJylbMF07CiAgICAgICAgICAgICAgICBwb3B1cF85MGIwMmY4ODI4YWE0YjkzYWE0NTEwYjRiOTRkZTJmMS5zZXRDb250ZW50KGh0bWxfZGVjNzc5OTJiNTNkNGI4ZWI0MzQwYTI5MzdhZmE3YjMpOwogICAgICAgICAgICAKCiAgICAgICAgICAgIGNpcmNsZV9tYXJrZXJfNmQ3ZTAzMjJmYzY2NDI2ZDliOWRhZDBkOTYzZmI0Y2EuYmluZFBvcHVwKHBvcHVwXzkwYjAyZjg4MjhhYTRiOTNhYTQ1MTBiNGI5NGRlMmYxKTsKCiAgICAgICAgICAgIAogICAgICAgIAogICAgICAgIAogICAgICAgICAgICAKCiAgICAgICAgICAgIHZhciBjaXJjbGVfbWFya2VyXzRlNDdkZDc1NDNhNTQ4ZDdiMjEzZDQyNDRkMzkwYmEwID0gTC5jaXJjbGUoCiAgICAgICAgICAgICAgICBbNDguMCw2OC4wXSwKICAgICAgICAgICAgICAgIDQ0NTMuMTU0MTcwMDc3NDY5LAogICAgICAgICAgICAgICAgewogICAgICAgICAgICAgICAgICAgIGNvbG9yOiAnTm9uZScsCiAgICAgICAgICAgICAgICAgICAgZmlsbENvbG9yOiAncmVkJywKICAgICAgICAgICAgICAgICAgICBmaWxsT3BhY2l0eTogMC42CiAgICAgICAgICAgICAgICAgICAgfQogICAgICAgICAgICAgICAgKQogICAgICAgICAgICAgICAgLmFkZFRvKG1hcF8zZGJjNDNiYWRjNTE0MmIxYjcwOWZlNTczMmUzN2ZmNyk7CiAgICAgICAgICAgIAogICAgICAgIAogICAgICAgICAgICAKICAgICAgICAgICAgdmFyIHBvcHVwXzgyM2FmZWMzM2Y5MTQ1OThiZTliMzMxZGVjY2ZiODNkID0gTC5wb3B1cCh7bWF4V2lkdGg6ICczMDAnfSk7CgogICAgICAgICAgICAKICAgICAgICAgICAgICAgIHZhciBodG1sXzZlYWVkYWJjYTUwYTQ0YWY5ZWRlYmFiMWQ5ODA5MDY1ID0gJCgnICAgICAgICAgPGRpdiBpZD0iaHRtbF82ZWFlZGFiY2E1MGE0NGFmOWVkZWJhYjFkOTgwOTA2NSIgICAgICAgICAgICAgICAgIHN0eWxlPSJ3aWR0aDogMTAwLjAlOyBoZWlnaHQ6IDEwMC4wJTsiPiAgICAgICAgICAgICAgICAgS2F6YWtoc3RhbjwvZGl2PiAgICAgICAgICAgICAgICAgJylbMF07CiAgICAgICAgICAgICAgICBwb3B1cF84MjNhZmVjMzNmOTE0NTk4YmU5YjMzMWRlY2NmYjgzZC5zZXRDb250ZW50KGh0bWxfNmVhZWRhYmNhNTBhNDRhZjllZGViYWIxZDk4MDkwNjUpOwogICAgICAgICAgICAKCiAgICAgICAgICAgIGNpcmNsZV9tYXJrZXJfNGU0N2RkNzU0M2E1NDhkN2IyMTNkNDI0NGQzOTBiYTAuYmluZFBvcHVwKHBvcHVwXzgyM2FmZWMzM2Y5MTQ1OThiZTliMzMxZGVjY2ZiODNkKTsKCiAgICAgICAgICAgIAogICAgICAgIAogICAgICAgIAogICAgICAgICAgICAKCiAgICAgICAgICAgIHZhciBjaXJjbGVfbWFya2VyXzc0ZTAzNzViZDRlMTQ4YWM4OTEwZTEwNWU0ZTdmNTYyID0gTC5jaXJjbGUoCiAgICAgICAgICAgICAgICBbMS4wLDM4LjBdLAogICAgICAgICAgICAgICAgMTg4MjYyLjk0OTkzMTQ2ODE3LAogICAgICAgICAgICAgICAgewogICAgICAgICAgICAgICAgICAgIGNvbG9yOiAnTm9uZScsCiAgICAgICAgICAgICAgICAgICAgZmlsbENvbG9yOiAnYmx1ZScsCiAgICAgICAgICAgICAgICAgICAgZmlsbE9wYWNpdHk6IDAuNgogICAgICAgICAgICAgICAgICAgIH0KICAgICAgICAgICAgICAgICkKICAgICAgICAgICAgICAgIC5hZGRUbyhtYXBfM2RiYzQzYmFkYzUxNDJiMWI3MDlmZTU3MzJlMzdmZjcpOwogICAgICAgICAgICAKICAgICAgICAKICAgICAgICAgICAgCiAgICAgICAgICAgIHZhciBwb3B1cF82NTc4NTA3NjI3Y2E0YjJiYjFkMWY4MWMyYzBmOWViMCA9IEwucG9wdXAoe21heFdpZHRoOiAnMzAwJ30pOwoKICAgICAgICAgICAgCiAgICAgICAgICAgICAgICB2YXIgaHRtbF9hY2I2MGMxOTIzNjc0NGM1OGI4OTdlMjVkZjNmMGNkMCA9ICQoJyAgICAgICAgIDxkaXYgaWQ9Imh0bWxfYWNiNjBjMTkyMzY3NDRjNThiODk3ZTI1ZGYzZjBjZDAiICAgICAgICAgICAgICAgICBzdHlsZT0id2lkdGg6IDEwMC4wJTsgaGVpZ2h0OiAxMDAuMCU7Ij4gICAgICAgICAgICAgICAgIEtlbnlhPC9kaXY+ICAgICAgICAgICAgICAgICAnKVswXTsKICAgICAgICAgICAgICAgIHBvcHVwXzY1Nzg1MDc2MjdjYTRiMmJiMWQxZjgxYzJjMGY5ZWIwLnNldENvbnRlbnQoaHRtbF9hY2I2MGMxOTIzNjc0NGM1OGI4OTdlMjVkZjNmMGNkMCk7CiAgICAgICAgICAgIAoKICAgICAgICAgICAgY2lyY2xlX21hcmtlcl83NGUwMzc1YmQ0ZTE0OGFjODkxMGUxMDVlNGU3ZjU2Mi5iaW5kUG9wdXAocG9wdXBfNjU3ODUwNzYyN2NhNGIyYmIxZDFmODFjMmMwZjllYjApOwoKICAgICAgICAgICAgCiAgICAgICAgCiAgICAgICAgCiAgICAgICAgICAgIAoKICAgICAgICAgICAgdmFyIGNpcmNsZV9tYXJrZXJfNjcxN2Y3OGIxMTZkNDI2NWE4MzI3NjhjYWU5MWQ0MmMgPSBMLmNpcmNsZSgKICAgICAgICAgICAgICAgIFs0MS41LDc1LjBdLAogICAgICAgICAgICAgICAgMjM3ODcuNzM4ODU4MTE4ODAyLAogICAgICAgICAgICAgICAgewogICAgICAgICAgICAgICAgICAgIGNvbG9yOiAnTm9uZScsCiAgICAgICAgICAgICAgICAgICAgZmlsbENvbG9yOiAncmVkJywKICAgICAgICAgICAgICAgICAgICBmaWxsT3BhY2l0eTogMC42CiAgICAgICAgICAgICAgICAgICAgfQogICAgICAgICAgICAgICAgKQogICAgICAgICAgICAgICAgLmFkZFRvKG1hcF8zZGJjNDNiYWRjNTE0MmIxYjcwOWZlNTczMmUzN2ZmNyk7CiAgICAgICAgICAgIAogICAgICAgIAogICAgICAgICAgICAKICAgICAgICAgICAgdmFyIHBvcHVwXzQyYjQ4YzU5YmU0OTRiNjI5ODgwOTYzZmZiM2ZkMjk0ID0gTC5wb3B1cCh7bWF4V2lkdGg6ICczMDAnfSk7CgogICAgICAgICAgICAKICAgICAgICAgICAgICAgIHZhciBodG1sX2NkN2MyOWRlNWI2ZDRiZDZhOTlhMjI0YmM2MGRkOTg4ID0gJCgnICAgICAgICAgPGRpdiBpZD0iaHRtbF9jZDdjMjlkZTViNmQ0YmQ2YTk5YTIyNGJjNjBkZDk4OCIgICAgICAgICAgICAgICAgIHN0eWxlPSJ3aWR0aDogMTAwLjAlOyBoZWlnaHQ6IDEwMC4wJTsiPiAgICAgICAgICAgICAgICAgS3lyZ3l6IFJlcHVibGljPC9kaXY+ICAgICAgICAgICAgICAgICAnKVswXTsKICAgICAgICAgICAgICAgIHBvcHVwXzQyYjQ4YzU5YmU0OTRiNjI5ODgwOTYzZmZiM2ZkMjk0LnNldENvbnRlbnQoaHRtbF9jZDdjMjlkZTViNmQ0YmQ2YTk5YTIyNGJjNjBkZDk4OCk7CiAgICAgICAgICAgIAoKICAgICAgICAgICAgY2lyY2xlX21hcmtlcl82NzE3Zjc4YjExNmQ0MjY1YTgzMjc2OGNhZTkxZDQyYy5iaW5kUG9wdXAocG9wdXBfNDJiNDhjNTliZTQ5NGI2Mjk4ODA5NjNmZmIzZmQyOTQpOwoKICAgICAgICAgICAgCiAgICAgICAgCiAgICAgICAgCiAgICAgICAgICAgIAoKICAgICAgICAgICAgdmFyIGNpcmNsZV9tYXJrZXJfNWZiZTU3NTUyZDQ0NDRhMGJlM2I0MWJlMGNkZTYzY2IgPSBMLmNpcmNsZSgKICAgICAgICAgICAgICAgIFsxMy4wLDEwNS4wXSwKICAgICAgICAgICAgICAgIDU0MDg1LjMzNjU0MDUxOTA1LAogICAgICAgICAgICAgICAgewogICAgICAgICAgICAgICAgICAgIGNvbG9yOiAnTm9uZScsCiAgICAgICAgICAgICAgICAgICAgZmlsbENvbG9yOiAncmVkJywKICAgICAgICAgICAgICAgICAgICBmaWxsT3BhY2l0eTogMC42CiAgICAgICAgICAgICAgICAgICAgfQogICAgICAgICAgICAgICAgKQogICAgICAgICAgICAgICAgLmFkZFRvKG1hcF8zZGJjNDNiYWRjNTE0MmIxYjcwOWZlNTczMmUzN2ZmNyk7CiAgICAgICAgICAgIAogICAgICAgIAogICAgICAgICAgICAKICAgICAgICAgICAgdmFyIHBvcHVwXzAxNzdiNTJiMmQ0MzRjMDdhZWE3ZTI0NDYxMDJjNGJkID0gTC5wb3B1cCh7bWF4V2lkdGg6ICczMDAnfSk7CgogICAgICAgICAgICAKICAgICAgICAgICAgICAgIHZhciBodG1sX2U0YTllMTM3ZTlkYzRiMTRiOGY3NmQ0NTMwZTRjOWRjID0gJCgnICAgICAgICAgPGRpdiBpZD0iaHRtbF9lNGE5ZTEzN2U5ZGM0YjE0YjhmNzZkNDUzMGU0YzlkYyIgICAgICAgICAgICAgICAgIHN0eWxlPSJ3aWR0aDogMTAwLjAlOyBoZWlnaHQ6IDEwMC4wJTsiPiAgICAgICAgICAgICAgICAgQ2FtYm9kaWE8L2Rpdj4gICAgICAgICAgICAgICAgICcpWzBdOwogICAgICAgICAgICAgICAgcG9wdXBfMDE3N2I1MmIyZDQzNGMwN2FlYTdlMjQ0NjEwMmM0YmQuc2V0Q29udGVudChodG1sX2U0YTllMTM3ZTlkYzRiMTRiOGY3NmQ0NTMwZTRjOWRjKTsKICAgICAgICAgICAgCgogICAgICAgICAgICBjaXJjbGVfbWFya2VyXzVmYmU1NzU1MmQ0NDQ0YTBiZTNiNDFiZTBjZGU2M2NiLmJpbmRQb3B1cChwb3B1cF8wMTc3YjUyYjJkNDM0YzA3YWVhN2UyNDQ2MTAyYzRiZCk7CgogICAgICAgICAgICAKICAgICAgICAKICAgICAgICAKICAgICAgICAgICAgCgogICAgICAgICAgICB2YXIgY2lyY2xlX21hcmtlcl8xMjk0Y2Q4YjExNzk0YTExYmE5YzNhNDY5MzdhY2QyMiA9IEwuY2lyY2xlKAogICAgICAgICAgICAgICAgWzE4LjAsMTA1LjBdLAogICAgICAgICAgICAgICAgNjE5NTkuMTgwODMwNzAwNzksCiAgICAgICAgICAgICAgICB7CiAgICAgICAgICAgICAgICAgICAgY29sb3I6ICdOb25lJywKICAgICAgICAgICAgICAgICAgICBmaWxsQ29sb3I6ICdyZWQnLAogICAgICAgICAgICAgICAgICAgIGZpbGxPcGFjaXR5OiAwLjYKICAgICAgICAgICAgICAgICAgICB9CiAgICAgICAgICAgICAgICApCiAgICAgICAgICAgICAgICAuYWRkVG8obWFwXzNkYmM0M2JhZGM1MTQyYjFiNzA5ZmU1NzMyZTM3ZmY3KTsKICAgICAgICAgICAgCiAgICAgICAgCiAgICAgICAgICAgIAogICAgICAgICAgICB2YXIgcG9wdXBfOGQyZjlhZjBmNzNmNGI1NDljZGU2N2YzM2UxMDg0ZjEgPSBMLnBvcHVwKHttYXhXaWR0aDogJzMwMCd9KTsKCiAgICAgICAgICAgIAogICAgICAgICAgICAgICAgdmFyIGh0bWxfNWUzZTQ1NWI3MTczNGI4ZWEwYTA5MGU4YzkwM2U0MjMgPSAkKCcgICAgICAgICA8ZGl2IGlkPSJodG1sXzVlM2U0NTViNzE3MzRiOGVhMGEwOTBlOGM5MDNlNDIzIiAgICAgICAgICAgICAgICAgc3R5bGU9IndpZHRoOiAxMDAuMCU7IGhlaWdodDogMTAwLjAlOyI+ICAgICAgICAgICAgICAgICBMYW88L2Rpdj4gICAgICAgICAgICAgICAgICcpWzBdOwogICAgICAgICAgICAgICAgcG9wdXBfOGQyZjlhZjBmNzNmNGI1NDljZGU2N2YzM2UxMDg0ZjEuc2V0Q29udGVudChodG1sXzVlM2U0NTViNzE3MzRiOGVhMGEwOTBlOGM5MDNlNDIzKTsKICAgICAgICAgICAgCgogICAgICAgICAgICBjaXJjbGVfbWFya2VyXzEyOTRjZDhiMTE3OTRhMTFiYTljM2E0NjkzN2FjZDIyLmJpbmRQb3B1cChwb3B1cF84ZDJmOWFmMGY3M2Y0YjU0OWNkZTY3ZjMzZTEwODRmMSk7CgogICAgICAgICAgICAKICAgICAgICAKICAgICAgICAKICAgICAgICAgICAgCgogICAgICAgICAgICB2YXIgY2lyY2xlX21hcmtlcl9mOWQ4MTRkYTBiM2I0YjljOGU3ZDRiODJjMWY4YzRmNiA9IEwuY2lyY2xlKAogICAgICAgICAgICAgICAgWzYuNSwtOS41XSwKICAgICAgICAgICAgICAgIDgxOTYzLjU1MzM0NzIzODY2LAogICAgICAgICAgICAgICAgewogICAgICAgICAgICAgICAgICAgIGNvbG9yOiAnTm9uZScsCiAgICAgICAgICAgICAgICAgICAgZmlsbENvbG9yOiAnYmx1ZScsCiAgICAgICAgICAgICAgICAgICAgZmlsbE9wYWNpdHk6IDAuNgogICAgICAgICAgICAgICAgICAgIH0KICAgICAgICAgICAgICAgICkKICAgICAgICAgICAgICAgIC5hZGRUbyhtYXBfM2RiYzQzYmFkYzUxNDJiMWI3MDlmZTU3MzJlMzdmZjcpOwogICAgICAgICAgICAKICAgICAgICAKICAgICAgICAgICAgCiAgICAgICAgICAgIHZhciBwb3B1cF80ZDM2NzRiNTMzYjI0YzRiYWViOTExZTY4MGQwYzYxZCA9IEwucG9wdXAoe21heFdpZHRoOiAnMzAwJ30pOwoKICAgICAgICAgICAgCiAgICAgICAgICAgICAgICB2YXIgaHRtbF81ZDJmZmQyNzIwZDk0ODAzYTI0NjhhMzIyZTE3NjM5ZCA9ICQoJyAgICAgICAgIDxkaXYgaWQ9Imh0bWxfNWQyZmZkMjcyMGQ5NDgwM2EyNDY4YTMyMmUxNzYzOWQiICAgICAgICAgICAgICAgICBzdHlsZT0id2lkdGg6IDEwMC4wJTsgaGVpZ2h0OiAxMDAuMCU7Ij4gICAgICAgICAgICAgICAgIExpYmVyaWE8L2Rpdj4gICAgICAgICAgICAgICAgICcpWzBdOwogICAgICAgICAgICAgICAgcG9wdXBfNGQzNjc0YjUzM2IyNGM0YmFlYjkxMWU2ODBkMGM2MWQuc2V0Q29udGVudChodG1sXzVkMmZmZDI3MjBkOTQ4MDNhMjQ2OGEzMjJlMTc2MzlkKTsKICAgICAgICAgICAgCgogICAgICAgICAgICBjaXJjbGVfbWFya2VyX2Y5ZDgxNGRhMGIzYjRiOWM4ZTdkNGI4MmMxZjhjNGY2LmJpbmRQb3B1cChwb3B1cF80ZDM2NzRiNTMzYjI0YzRiYWViOTExZTY4MGQwYzYxZCk7CgogICAgICAgICAgICAKICAgICAgICAKICAgICAgICAKICAgICAgICAgICAgCgogICAgICAgICAgICB2YXIgY2lyY2xlX21hcmtlcl84Zjg2NjQ3M2M1NzM0ODhiOTg4NWYxN2Y2OGQwYjYwNSA9IEwuY2lyY2xlKAogICAgICAgICAgICAgICAgWzEzLjg4MzMyOTk5OTk5OTk5OSwtNjAuOTY2NjY5OTk5OTk5OTldLAogICAgICAgICAgICAgICAgODY4MC4yMzUzMDgwODg2MDQsCiAgICAgICAgICAgICAgICB7CiAgICAgICAgICAgICAgICAgICAgY29sb3I6ICdOb25lJywKICAgICAgICAgICAgICAgICAgICBmaWxsQ29sb3I6ICdncmVlbicsCiAgICAgICAgICAgICAgICAgICAgZmlsbE9wYWNpdHk6IDAuNgogICAgICAgICAgICAgICAgICAgIH0KICAgICAgICAgICAgICAgICkKICAgICAgICAgICAgICAgIC5hZGRUbyhtYXBfM2RiYzQzYmFkYzUxNDJiMWI3MDlmZTU3MzJlMzdmZjcpOwogICAgICAgICAgICAKICAgICAgICAKICAgICAgICAgICAgCiAgICAgICAgICAgIHZhciBwb3B1cF83MDcyYjlkY2FhZTI0NDc2YmJkYTEyZTAyN2RmYzQ2ZCA9IEwucG9wdXAoe21heFdpZHRoOiAnMzAwJ30pOwoKICAgICAgICAgICAgCiAgICAgICAgICAgICAgICB2YXIgaHRtbF8wODA4NGY5MDA2OWQ0OTNjOWJhMzEyMTVkY2U4YjQ4ZCA9ICQoJyAgICAgICAgIDxkaXYgaWQ9Imh0bWxfMDgwODRmOTAwNjlkNDkzYzliYTMxMjE1ZGNlOGI0OGQiICAgICAgICAgICAgICAgICBzdHlsZT0id2lkdGg6IDEwMC4wJTsgaGVpZ2h0OiAxMDAuMCU7Ij4gICAgICAgICAgICAgICAgIFN0LiBMdWNpYTwvZGl2PiAgICAgICAgICAgICAgICAgJylbMF07CiAgICAgICAgICAgICAgICBwb3B1cF83MDcyYjlkY2FhZTI0NDc2YmJkYTEyZTAyN2RmYzQ2ZC5zZXRDb250ZW50KGh0bWxfMDgwODRmOTAwNjlkNDkzYzliYTMxMjE1ZGNlOGI0OGQpOwogICAgICAgICAgICAKCiAgICAgICAgICAgIGNpcmNsZV9tYXJrZXJfOGY4NjY0NzNjNTczNDg4Yjk4ODVmMTdmNjhkMGI2MDUuYmluZFBvcHVwKHBvcHVwXzcwNzJiOWRjYWFlMjQ0NzZiYmRhMTJlMDI3ZGZjNDZkKTsKCiAgICAgICAgICAgIAogICAgICAgIAogICAgICAgIAogICAgICAgICAgICAKCiAgICAgICAgICAgIHZhciBjaXJjbGVfbWFya2VyX2IwNTY0ZDZjM2I3OTRjNjU4MDU1OTU4ZGRmYmVhNjQwID0gTC5jaXJjbGUoCiAgICAgICAgICAgICAgICBbNy43NSw4MC43NV0sCiAgICAgICAgICAgICAgICA0MTAxOC4xMjg3NzkyMjU5OCwKICAgICAgICAgICAgICAgIHsKICAgICAgICAgICAgICAgICAgICBjb2xvcjogJ05vbmUnLAogICAgICAgICAgICAgICAgICAgIGZpbGxDb2xvcjogJ3JlZCcsCiAgICAgICAgICAgICAgICAgICAgZmlsbE9wYWNpdHk6IDAuNgogICAgICAgICAgICAgICAgICAgIH0KICAgICAgICAgICAgICAgICkKICAgICAgICAgICAgICAgIC5hZGRUbyhtYXBfM2RiYzQzYmFkYzUxNDJiMWI3MDlmZTU3MzJlMzdmZjcpOwogICAgICAgICAgICAKICAgICAgICAKICAgICAgICAgICAgCiAgICAgICAgICAgIHZhciBwb3B1cF9hZjBmMTc3ZjQ4MTk0M2QxYTAwMmZiOWYyZmRmYjJiNyA9IEwucG9wdXAoe21heFdpZHRoOiAnMzAwJ30pOwoKICAgICAgICAgICAgCiAgICAgICAgICAgICAgICB2YXIgaHRtbF8xODRlOWNlYzQzMDk0MWY0OTllNTlkY2E5MTdjYjlmOCA9ICQoJyAgICAgICAgIDxkaXYgaWQ9Imh0bWxfMTg0ZTljZWM0MzA5NDFmNDk5ZTU5ZGNhOTE3Y2I5ZjgiICAgICAgICAgICAgICAgICBzdHlsZT0id2lkdGg6IDEwMC4wJTsgaGVpZ2h0OiAxMDAuMCU7Ij4gICAgICAgICAgICAgICAgIFNyaSBMYW5rYTwvZGl2PiAgICAgICAgICAgICAgICAgJylbMF07CiAgICAgICAgICAgICAgICBwb3B1cF9hZjBmMTc3ZjQ4MTk0M2QxYTAwMmZiOWYyZmRmYjJiNy5zZXRDb250ZW50KGh0bWxfMTg0ZTljZWM0MzA5NDFmNDk5ZTU5ZGNhOTE3Y2I5ZjgpOwogICAgICAgICAgICAKCiAgICAgICAgICAgIGNpcmNsZV9tYXJrZXJfYjA1NjRkNmMzYjc5NGM2NTgwNTU5NThkZGZiZWE2NDAuYmluZFBvcHVwKHBvcHVwX2FmMGYxNzdmNDgxOTQzZDFhMDAyZmI5ZjJmZGZiMmI3KTsKCiAgICAgICAgICAgIAogICAgICAgIAogICAgICAgIAogICAgICAgICAgICAKCiAgICAgICAgICAgIHZhciBjaXJjbGVfbWFya2VyXzBiNTc2MGVlNGI1NTQwNzZiY2EyYzA4MThjZWI4YjhiID0gTC5jaXJjbGUoCiAgICAgICAgICAgICAgICBbLTI5LjUsMjguMjVdLAogICAgICAgICAgICAgICAgNDc4NTkuODk5OTY4ODI1NzEsCiAgICAgICAgICAgICAgICB7CiAgICAgICAgICAgICAgICAgICAgY29sb3I6ICdOb25lJywKICAgICAgICAgICAgICAgICAgICBmaWxsQ29sb3I6ICdibHVlJywKICAgICAgICAgICAgICAgICAgICBmaWxsT3BhY2l0eTogMC42CiAgICAgICAgICAgICAgICAgICAgfQogICAgICAgICAgICAgICAgKQogICAgICAgICAgICAgICAgLmFkZFRvKG1hcF8zZGJjNDNiYWRjNTE0MmIxYjcwOWZlNTczMmUzN2ZmNyk7CiAgICAgICAgICAgIAogICAgICAgIAogICAgICAgICAgICAKICAgICAgICAgICAgdmFyIHBvcHVwX2YzYWNjOTUzM2FiMjQ2ZDc4MmRjYTUzZTEzZWFmN2I4ID0gTC5wb3B1cCh7bWF4V2lkdGg6ICczMDAnfSk7CgogICAgICAgICAgICAKICAgICAgICAgICAgICAgIHZhciBodG1sXzA0OTFlMTI4MDBkMzQyNTc5ZTEwMDc0MzQ1ZTUzOWZiID0gJCgnICAgICAgICAgPGRpdiBpZD0iaHRtbF8wNDkxZTEyODAwZDM0MjU3OWUxMDA3NDM0NWU1MzlmYiIgICAgICAgICAgICAgICAgIHN0eWxlPSJ3aWR0aDogMTAwLjAlOyBoZWlnaHQ6IDEwMC4wJTsiPiAgICAgICAgICAgICAgICAgTGVzb3RobzwvZGl2PiAgICAgICAgICAgICAgICAgJylbMF07CiAgICAgICAgICAgICAgICBwb3B1cF9mM2FjYzk1MzNhYjI0NmQ3ODJkY2E1M2UxM2VhZjdiOC5zZXRDb250ZW50KGh0bWxfMDQ5MWUxMjgwMGQzNDI1NzllMTAwNzQzNDVlNTM5ZmIpOwogICAgICAgICAgICAKCiAgICAgICAgICAgIGNpcmNsZV9tYXJrZXJfMGI1NzYwZWU0YjU1NDA3NmJjYTJjMDgxOGNlYjhiOGIuYmluZFBvcHVwKHBvcHVwX2YzYWNjOTUzM2FiMjQ2ZDc4MmRjYTUzZTEzZWFmN2I4KTsKCiAgICAgICAgICAgIAogICAgICAgIAogICAgICAgIAogICAgICAgICAgICAKCiAgICAgICAgICAgIHZhciBjaXJjbGVfbWFya2VyXzdhOTEwOTQ2Nzk4NzRjNzI4NzI1ZTBjOGMxZWY3M2I2ID0gTC5jaXJjbGUoCiAgICAgICAgICAgICAgICBbNTUuNDE2NjY5OTk5OTk5OTk2LDI0LjBdLAogICAgICAgICAgICAgICAgNzI0Ny40MDY1NDMwNDYxMzQsCiAgICAgICAgICAgICAgICB7CiAgICAgICAgICAgICAgICAgICAgY29sb3I6ICdOb25lJywKICAgICAgICAgICAgICAgICAgICBmaWxsQ29sb3I6ICdibGFjaycsCiAgICAgICAgICAgICAgICAgICAgZmlsbE9wYWNpdHk6IDAuNgogICAgICAgICAgICAgICAgICAgIH0KICAgICAgICAgICAgICAgICkKICAgICAgICAgICAgICAgIC5hZGRUbyhtYXBfM2RiYzQzYmFkYzUxNDJiMWI3MDlmZTU3MzJlMzdmZjcpOwogICAgICAgICAgICAKICAgICAgICAKICAgICAgICAgICAgCiAgICAgICAgICAgIHZhciBwb3B1cF82ZWFlNjJjNWJjMWU0YTFmYTM2NzRlYjc4MjFmZDVjMiA9IEwucG9wdXAoe21heFdpZHRoOiAnMzAwJ30pOwoKICAgICAgICAgICAgCiAgICAgICAgICAgICAgICB2YXIgaHRtbF8yNjIwOThhMDRiMjM0MWIwOTJhYWYxOTc2MTNlOGZhMSA9ICQoJyAgICAgICAgIDxkaXYgaWQ9Imh0bWxfMjYyMDk4YTA0YjIzNDFiMDkyYWFmMTk3NjEzZThmYTEiICAgICAgICAgICAgICAgICBzdHlsZT0id2lkdGg6IDEwMC4wJTsgaGVpZ2h0OiAxMDAuMCU7Ij4gICAgICAgICAgICAgICAgIExpdGh1YW5pYTwvZGl2PiAgICAgICAgICAgICAgICAgJylbMF07CiAgICAgICAgICAgICAgICBwb3B1cF82ZWFlNjJjNWJjMWU0YTFmYTM2NzRlYjc4MjFmZDVjMi5zZXRDb250ZW50KGh0bWxfMjYyMDk4YTA0YjIzNDFiMDkyYWFmMTk3NjEzZThmYTEpOwogICAgICAgICAgICAKCiAgICAgICAgICAgIGNpcmNsZV9tYXJrZXJfN2E5MTA5NDY3OTg3NGM3Mjg3MjVlMGM4YzFlZjczYjYuYmluZFBvcHVwKHBvcHVwXzZlYWU2MmM1YmMxZTRhMWZhMzY3NGViNzgyMWZkNWMyKTsKCiAgICAgICAgICAgIAogICAgICAgIAogICAgICAgIAogICAgICAgICAgICAKCiAgICAgICAgICAgIHZhciBjaXJjbGVfbWFya2VyXzdlNDVlMmJjZGViMzQzODBiNTYwNzJjNjgyYzFhNjViID0gTC5jaXJjbGUoCiAgICAgICAgICAgICAgICBbNTcuMCwyNS4wXSwKICAgICAgICAgICAgICAgIDY3MzIuNjg2NzY5NjI2ODk4LAogICAgICAgICAgICAgICAgewogICAgICAgICAgICAgICAgICAgIGNvbG9yOiAnTm9uZScsCiAgICAgICAgICAgICAgICAgICAgZmlsbENvbG9yOiAnYmxhY2snLAogICAgICAgICAgICAgICAgICAgIGZpbGxPcGFjaXR5OiAwLjYKICAgICAgICAgICAgICAgICAgICB9CiAgICAgICAgICAgICAgICApCiAgICAgICAgICAgICAgICAuYWRkVG8obWFwXzNkYmM0M2JhZGM1MTQyYjFiNzA5ZmU1NzMyZTM3ZmY3KTsKICAgICAgICAgICAgCiAgICAgICAgCiAgICAgICAgICAgIAogICAgICAgICAgICB2YXIgcG9wdXBfMGRmMmI1Mzk2ZWQwNGNkNjhhZDBlMjRjODYyZDQ1ZjMgPSBMLnBvcHVwKHttYXhXaWR0aDogJzMwMCd9KTsKCiAgICAgICAgICAgIAogICAgICAgICAgICAgICAgdmFyIGh0bWxfNGJiZTdlYTg4OGJhNDM4MmFjZmUwOGE3ODI2OTdmNzcgPSAkKCcgICAgICAgICA8ZGl2IGlkPSJodG1sXzRiYmU3ZWE4ODhiYTQzODJhY2ZlMDhhNzgyNjk3Zjc3IiAgICAgICAgICAgICAgICAgc3R5bGU9IndpZHRoOiAxMDAuMCU7IGhlaWdodDogMTAwLjAlOyI+ICAgICAgICAgICAgICAgICBMYXR2aWE8L2Rpdj4gICAgICAgICAgICAgICAgICcpWzBdOwogICAgICAgICAgICAgICAgcG9wdXBfMGRmMmI1Mzk2ZWQwNGNkNjhhZDBlMjRjODYyZDQ1ZjMuc2V0Q29udGVudChodG1sXzRiYmU3ZWE4ODhiYTQzODJhY2ZlMDhhNzgyNjk3Zjc3KTsKICAgICAgICAgICAgCgogICAgICAgICAgICBjaXJjbGVfbWFya2VyXzdlNDVlMmJjZGViMzQzODBiNTYwNzJjNjgyYzFhNjViLmJpbmRQb3B1cChwb3B1cF8wZGYyYjUzOTZlZDA0Y2Q2OGFkMGUyNGM4NjJkNDVmMyk7CgogICAgICAgICAgICAKICAgICAgICAKICAgICAgICAKICAgICAgICAgICAgCgogICAgICAgICAgICB2YXIgY2lyY2xlX21hcmtlcl9hN2E2ZWE1N2Q0Zjg0Zjk2ODMwM2Y2YTJlNjFiZGU1ZCA9IEwuY2lyY2xlKAogICAgICAgICAgICAgICAgWzMyLjAsLTYuMF0sCiAgICAgICAgICAgICAgICA0MDg5MS44MzI4NzI4Mjc4NSwKICAgICAgICAgICAgICAgIHsKICAgICAgICAgICAgICAgICAgICBjb2xvcjogJ05vbmUnLAogICAgICAgICAgICAgICAgICAgIGZpbGxDb2xvcjogJ2JsdWUnLAogICAgICAgICAgICAgICAgICAgIGZpbGxPcGFjaXR5OiAwLjYKICAgICAgICAgICAgICAgICAgICB9CiAgICAgICAgICAgICAgICApCiAgICAgICAgICAgICAgICAuYWRkVG8obWFwXzNkYmM0M2JhZGM1MTQyYjFiNzA5ZmU1NzMyZTM3ZmY3KTsKICAgICAgICAgICAgCiAgICAgICAgCiAgICAgICAgICAgIAogICAgICAgICAgICB2YXIgcG9wdXBfY2IzMzhmNjA2MWNjNGQyNTlhM2FjYmVmN2E1MDQyZDMgPSBMLnBvcHVwKHttYXhXaWR0aDogJzMwMCd9KTsKCiAgICAgICAgICAgIAogICAgICAgICAgICAgICAgdmFyIGh0bWxfNWMwNDk3YjRlM2UxNGFmY2IyZWMxNDYzZGVhNWU4MDMgPSAkKCcgICAgICAgICA8ZGl2IGlkPSJodG1sXzVjMDQ5N2I0ZTNlMTRhZmNiMmVjMTQ2M2RlYTVlODAzIiAgICAgICAgICAgICAgICAgc3R5bGU9IndpZHRoOiAxMDAuMCU7IGhlaWdodDogMTAwLjAlOyI+ICAgICAgICAgICAgICAgICBNb3JvY2NvPC9kaXY+ICAgICAgICAgICAgICAgICAnKVswXTsKICAgICAgICAgICAgICAgIHBvcHVwX2NiMzM4ZjYwNjFjYzRkMjU5YTNhY2JlZjdhNTA0MmQzLnNldENvbnRlbnQoaHRtbF81YzA0OTdiNGUzZTE0YWZjYjJlYzE0NjNkZWE1ZTgwMyk7CiAgICAgICAgICAgIAoKICAgICAgICAgICAgY2lyY2xlX21hcmtlcl9hN2E2ZWE1N2Q0Zjg0Zjk2ODMwM2Y2YTJlNjFiZGU1ZC5iaW5kUG9wdXAocG9wdXBfY2IzMzhmNjA2MWNjNGQyNTlhM2FjYmVmN2E1MDQyZDMpOwoKICAgICAgICAgICAgCiAgICAgICAgCiAgICAgICAgCiAgICAgICAgICAgIAoKICAgICAgICAgICAgdmFyIGNpcmNsZV9tYXJrZXJfMDZjMmE0ZjhiZjMwNDViMTk0OTY1Nzk1NjVjY2I0ZjIgPSBMLmNpcmNsZSgKICAgICAgICAgICAgICAgIFs0Ny4yNSwyOC41ODMzM10sCiAgICAgICAgICAgICAgICA0MzYzLjA1MjE0MDcyOTI4OCwKICAgICAgICAgICAgICAgIHsKICAgICAgICAgICAgICAgICAgICBjb2xvcjogJ05vbmUnLAogICAgICAgICAgICAgICAgICAgIGZpbGxDb2xvcjogJ2JsYWNrJywKICAgICAgICAgICAgICAgICAgICBmaWxsT3BhY2l0eTogMC42CiAgICAgICAgICAgICAgICAgICAgfQogICAgICAgICAgICAgICAgKQogICAgICAgICAgICAgICAgLmFkZFRvKG1hcF8zZGJjNDNiYWRjNTE0MmIxYjcwOWZlNTczMmUzN2ZmNyk7CiAgICAgICAgICAgIAogICAgICAgIAogICAgICAgICAgICAKICAgICAgICAgICAgdmFyIHBvcHVwXzg2MmM4Nzk3NzNhYjRiYjViY2NiNWMwYTFmZTZlYTVkID0gTC5wb3B1cCh7bWF4V2lkdGg6ICczMDAnfSk7CgogICAgICAgICAgICAKICAgICAgICAgICAgICAgIHZhciBodG1sX2YwNzcxNzZhMGFmNjRjMDk4YTc5OGNhZWUyMWFlMjkwID0gJCgnICAgICAgICAgPGRpdiBpZD0iaHRtbF9mMDc3MTc2YTBhZjY0YzA5OGE3OThjYWVlMjFhZTI5MCIgICAgICAgICAgICAgICAgIHN0eWxlPSJ3aWR0aDogMTAwLjAlOyBoZWlnaHQ6IDEwMC4wJTsiPiAgICAgICAgICAgICAgICAgTW9sZG92YTwvZGl2PiAgICAgICAgICAgICAgICAgJylbMF07CiAgICAgICAgICAgICAgICBwb3B1cF84NjJjODc5NzczYWI0YmI1YmNjYjVjMGExZmU2ZWE1ZC5zZXRDb250ZW50KGh0bWxfZjA3NzE3NmEwYWY2NGMwOThhNzk4Y2FlZTIxYWUyOTApOwogICAgICAgICAgICAKCiAgICAgICAgICAgIGNpcmNsZV9tYXJrZXJfMDZjMmE0ZjhiZjMwNDViMTk0OTY1Nzk1NjVjY2I0ZjIuYmluZFBvcHVwKHBvcHVwXzg2MmM4Nzk3NzNhYjRiYjViY2NiNWMwYTFmZTZlYTVkKTsKCiAgICAgICAgICAgIAogICAgICAgIAogICAgICAgIAogICAgICAgICAgICAKCiAgICAgICAgICAgIHZhciBjaXJjbGVfbWFya2VyX2Y0ODE2MDZlYmZhMTRjNzc4MGM2MTVjZDI2NzkxNTYyID0gTC5jaXJjbGUoCiAgICAgICAgICAgICAgICBbLTIwLjAsNDcuMF0sCiAgICAgICAgICAgICAgICAxOTM1MTcuODg3MzY2MjM5ODMsCiAgICAgICAgICAgICAgICB7CiAgICAgICAgICAgICAgICAgICAgY29sb3I6ICdOb25lJywKICAgICAgICAgICAgICAgICAgICBmaWxsQ29sb3I6ICdibHVlJywKICAgICAgICAgICAgICAgICAgICBmaWxsT3BhY2l0eTogMC42CiAgICAgICAgICAgICAgICAgICAgfQogICAgICAgICAgICAgICAgKQogICAgICAgICAgICAgICAgLmFkZFRvKG1hcF8zZGJjNDNiYWRjNTE0MmIxYjcwOWZlNTczMmUzN2ZmNyk7CiAgICAgICAgICAgIAogICAgICAgIAogICAgICAgICAgICAKICAgICAgICAgICAgdmFyIHBvcHVwXzYzZDNhMmI1OGFhYjQ4Nzc4OWJmZTBhMDM3NzFlN2ZiID0gTC5wb3B1cCh7bWF4V2lkdGg6ICczMDAnfSk7CgogICAgICAgICAgICAKICAgICAgICAgICAgICAgIHZhciBodG1sXzJiNTgyODJiNDY5OTQ4MmRhNDNiMDhkMzM1YWU1OTVkID0gJCgnICAgICAgICAgPGRpdiBpZD0iaHRtbF8yYjU4MjgyYjQ2OTk0ODJkYTQzYjA4ZDMzNWFlNTk1ZCIgICAgICAgICAgICAgICAgIHN0eWxlPSJ3aWR0aDogMTAwLjAlOyBoZWlnaHQ6IDEwMC4wJTsiPiAgICAgICAgICAgICAgICAgTWFkYWdhc2NhcjwvZGl2PiAgICAgICAgICAgICAgICAgJylbMF07CiAgICAgICAgICAgICAgICBwb3B1cF82M2QzYTJiNThhYWI0ODc3ODliZmUwYTAzNzcxZTdmYi5zZXRDb250ZW50KGh0bWxfMmI1ODI4MmI0Njk5NDgyZGE0M2IwOGQzMzVhZTU5NWQpOwogICAgICAgICAgICAKCiAgICAgICAgICAgIGNpcmNsZV9tYXJrZXJfZjQ4MTYwNmViZmExNGM3NzgwYzYxNWNkMjY3OTE1NjIuYmluZFBvcHVwKHBvcHVwXzYzZDNhMmI1OGFhYjQ4Nzc4OWJmZTBhMDM3NzFlN2ZiKTsKCiAgICAgICAgICAgIAogICAgICAgIAogICAgICAgIAogICAgICAgICAgICAKCiAgICAgICAgICAgIHZhciBjaXJjbGVfbWFya2VyXzdiNWFmNzU0YmRiNTQ5YjE4YzNjODg0ZjA0MzZiYWYwID0gTC5jaXJjbGUoCiAgICAgICAgICAgICAgICBbMy4yLDczLjBdLAogICAgICAgICAgICAgICAgMzE1OC4xNzMwOTgxMjk5NTA2LAogICAgICAgICAgICAgICAgewogICAgICAgICAgICAgICAgICAgIGNvbG9yOiAnTm9uZScsCiAgICAgICAgICAgICAgICAgICAgZmlsbENvbG9yOiAncmVkJywKICAgICAgICAgICAgICAgICAgICBmaWxsT3BhY2l0eTogMC42CiAgICAgICAgICAgICAgICAgICAgfQogICAgICAgICAgICAgICAgKQogICAgICAgICAgICAgICAgLmFkZFRvKG1hcF8zZGJjNDNiYWRjNTE0MmIxYjcwOWZlNTczMmUzN2ZmNyk7CiAgICAgICAgICAgIAogICAgICAgIAogICAgICAgICAgICAKICAgICAgICAgICAgdmFyIHBvcHVwXzFiY2RkOTFlMjJjOTRiZTg4YWY2ZGZjODQ1ZGM5NDEyID0gTC5wb3B1cCh7bWF4V2lkdGg6ICczMDAnfSk7CgogICAgICAgICAgICAKICAgICAgICAgICAgICAgIHZhciBodG1sXzBlMjk0NmQyZDJkYjQzM2U4NzQ5NDJkMWI1OTk5NzZhID0gJCgnICAgICAgICAgPGRpdiBpZD0iaHRtbF8wZTI5NDZkMmQyZGI0MzNlODc0OTQyZDFiNTk5OTc2YSIgICAgICAgICAgICAgICAgIHN0eWxlPSJ3aWR0aDogMTAwLjAlOyBoZWlnaHQ6IDEwMC4wJTsiPiAgICAgICAgICAgICAgICAgTWFsZGl2ZXM8L2Rpdj4gICAgICAgICAgICAgICAgICcpWzBdOwogICAgICAgICAgICAgICAgcG9wdXBfMWJjZGQ5MWUyMmM5NGJlODhhZjZkZmM4NDVkYzk0MTIuc2V0Q29udGVudChodG1sXzBlMjk0NmQyZDJkYjQzM2U4NzQ5NDJkMWI1OTk5NzZhKTsKICAgICAgICAgICAgCgogICAgICAgICAgICBjaXJjbGVfbWFya2VyXzdiNWFmNzU0YmRiNTQ5YjE4YzNjODg0ZjA0MzZiYWYwLmJpbmRQb3B1cChwb3B1cF8xYmNkZDkxZTIyYzk0YmU4OGFmNmRmYzg0NWRjOTQxMik7CgogICAgICAgICAgICAKICAgICAgICAKICAgICAgICAKICAgICAgICAgICAgCgogICAgICAgICAgICB2YXIgY2lyY2xlX21hcmtlcl9kMTdiODViYTIxN2U0N2UyYWVkY2Y1MWJiN2YwNDIzZiA9IEwuY2lyY2xlKAogICAgICAgICAgICAgICAgWzE5LjQyODQ3LC05OS4xMjc2NTk5OTk5OTk5OV0sCiAgICAgICAgICAgICAgICA0OTc1Ny40NjU5MDE3MjA5NywKICAgICAgICAgICAgICAgIHsKICAgICAgICAgICAgICAgICAgICBjb2xvcjogJ05vbmUnLAogICAgICAgICAgICAgICAgICAgIGZpbGxDb2xvcjogJ2dyZWVuJywKICAgICAgICAgICAgICAgICAgICBmaWxsT3BhY2l0eTogMC42CiAgICAgICAgICAgICAgICAgICAgfQogICAgICAgICAgICAgICAgKQogICAgICAgICAgICAgICAgLmFkZFRvKG1hcF8zZGJjNDNiYWRjNTE0MmIxYjcwOWZlNTczMmUzN2ZmNyk7CiAgICAgICAgICAgIAogICAgICAgIAogICAgICAgICAgICAKICAgICAgICAgICAgdmFyIHBvcHVwXzkyMDE3MDE5NWQxZTQ4YTA5NzgwZDVhNmRiMDQ3MDIxID0gTC5wb3B1cCh7bWF4V2lkdGg6ICczMDAnfSk7CgogICAgICAgICAgICAKICAgICAgICAgICAgICAgIHZhciBodG1sXzYyMTAyZThjMmM0MzQ4NzFiNTQyYzkxYzVkMTAwMjFlID0gJCgnICAgICAgICAgPGRpdiBpZD0iaHRtbF82MjEwMmU4YzJjNDM0ODcxYjU0MmM5MWM1ZDEwMDIxZSIgICAgICAgICAgICAgICAgIHN0eWxlPSJ3aWR0aDogMTAwLjAlOyBoZWlnaHQ6IDEwMC4wJTsiPiAgICAgICAgICAgICAgICAgTWV4aWNvPC9kaXY+ICAgICAgICAgICAgICAgICAnKVswXTsKICAgICAgICAgICAgICAgIHBvcHVwXzkyMDE3MDE5NWQxZTQ4YTA5NzgwZDVhNmRiMDQ3MDIxLnNldENvbnRlbnQoaHRtbF82MjEwMmU4YzJjNDM0ODcxYjU0MmM5MWM1ZDEwMDIxZSk7CiAgICAgICAgICAgIAoKICAgICAgICAgICAgY2lyY2xlX21hcmtlcl9kMTdiODViYTIxN2U0N2UyYWVkY2Y1MWJiN2YwNDIzZi5iaW5kUG9wdXAocG9wdXBfOTIwMTcwMTk1ZDFlNDhhMDk3ODBkNWE2ZGIwNDcwMjEpOwoKICAgICAgICAgICAgCiAgICAgICAgCiAgICAgICAgCiAgICAgICAgICAgIAoKICAgICAgICAgICAgdmFyIGNpcmNsZV9tYXJrZXJfZmQwNTVhYzdhZDY0NGJhNWJmZDRlMDE5ZDY4MWRmMzMgPSBMLmNpcmNsZSgKICAgICAgICAgICAgICAgIFs0MS42NjY2NywyMS43NV0sCiAgICAgICAgICAgICAgICAzNDIwLjkwNTgzMTg5NDUzMTMsCiAgICAgICAgICAgICAgICB7CiAgICAgICAgICAgICAgICAgICAgY29sb3I6ICdOb25lJywKICAgICAgICAgICAgICAgICAgICBmaWxsQ29sb3I6ICdibGFjaycsCiAgICAgICAgICAgICAgICAgICAgZmlsbE9wYWNpdHk6IDAuNgogICAgICAgICAgICAgICAgICAgIH0KICAgICAgICAgICAgICAgICkKICAgICAgICAgICAgICAgIC5hZGRUbyhtYXBfM2RiYzQzYmFkYzUxNDJiMWI3MDlmZTU3MzJlMzdmZjcpOwogICAgICAgICAgICAKICAgICAgICAKICAgICAgICAgICAgCiAgICAgICAgICAgIHZhciBwb3B1cF9jNGE3MGIyOTY5NGQ0OTRlYTMzY2VhMjNlNjUwNGJiNyA9IEwucG9wdXAoe21heFdpZHRoOiAnMzAwJ30pOwoKICAgICAgICAgICAgCiAgICAgICAgICAgICAgICB2YXIgaHRtbF8xMDhkMDg1MmRmNDk0ZDg2OTA1Y2NlZmExZmUyYTNhMyA9ICQoJyAgICAgICAgIDxkaXYgaWQ9Imh0bWxfMTA4ZDA4NTJkZjQ5NGQ4NjkwNWNjZWZhMWZlMmEzYTMiICAgICAgICAgICAgICAgICBzdHlsZT0id2lkdGg6IDEwMC4wJTsgaGVpZ2h0OiAxMDAuMCU7Ij4gICAgICAgICAgICAgICAgIE1hY2Vkb25pYSwgRllSPC9kaXY+ICAgICAgICAgICAgICAgICAnKVswXTsKICAgICAgICAgICAgICAgIHBvcHVwX2M0YTcwYjI5Njk0ZDQ5NGVhMzNjZWEyM2U2NTA0YmI3LnNldENvbnRlbnQoaHRtbF8xMDhkMDg1MmRmNDk0ZDg2OTA1Y2NlZmExZmUyYTNhMyk7CiAgICAgICAgICAgIAoKICAgICAgICAgICAgY2lyY2xlX21hcmtlcl9mZDA1NWFjN2FkNjQ0YmE1YmZkNGUwMTlkNjgxZGYzMy5iaW5kUG9wdXAocG9wdXBfYzRhNzBiMjk2OTRkNDk0ZWEzM2NlYTIzZTY1MDRiYjcpOwoKICAgICAgICAgICAgCiAgICAgICAgCiAgICAgICAgCiAgICAgICAgICAgIAoKICAgICAgICAgICAgdmFyIGNpcmNsZV9tYXJrZXJfZjgyNTQzMDM5ZGU2NGIwODhkYWZkZDFhNzIyN2Q0ZGEgPSBMLmNpcmNsZSgKICAgICAgICAgICAgICAgIFsxOC4wLC0yLjBdLAogICAgICAgICAgICAgICAgMTI0NzIwLjMyMDc5NzQ5NjIzLAogICAgICAgICAgICAgICAgewogICAgICAgICAgICAgICAgICAgIGNvbG9yOiAnTm9uZScsCiAgICAgICAgICAgICAgICAgICAgZmlsbENvbG9yOiAnYmx1ZScsCiAgICAgICAgICAgICAgICAgICAgZmlsbE9wYWNpdHk6IDAuNgogICAgICAgICAgICAgICAgICAgIH0KICAgICAgICAgICAgICAgICkKICAgICAgICAgICAgICAgIC5hZGRUbyhtYXBfM2RiYzQzYmFkYzUxNDJiMWI3MDlmZTU3MzJlMzdmZjcpOwogICAgICAgICAgICAKICAgICAgICAKICAgICAgICAgICAgCiAgICAgICAgICAgIHZhciBwb3B1cF9iOWI3MjAxMTFlODE0ZDZmYTUyZmVjM2MyOTE2YjRjNyA9IEwucG9wdXAoe21heFdpZHRoOiAnMzAwJ30pOwoKICAgICAgICAgICAgCiAgICAgICAgICAgICAgICB2YXIgaHRtbF8wMTlhZDE0MTdkYzY0Zjk3YmIxZTIxMWVmMjcyYTFmNSA9ICQoJyAgICAgICAgIDxkaXYgaWQ9Imh0bWxfMDE5YWQxNDE3ZGM2NGY5N2JiMWUyMTFlZjI3MmExZjUiICAgICAgICAgICAgICAgICBzdHlsZT0id2lkdGg6IDEwMC4wJTsgaGVpZ2h0OiAxMDAuMCU7Ij4gICAgICAgICAgICAgICAgIE1hbGk8L2Rpdj4gICAgICAgICAgICAgICAgICcpWzBdOwogICAgICAgICAgICAgICAgcG9wdXBfYjliNzIwMTExZTgxNGQ2ZmE1MmZlYzNjMjkxNmI0Yzcuc2V0Q29udGVudChodG1sXzAxOWFkMTQxN2RjNjRmOTdiYjFlMjExZWYyNzJhMWY1KTsKICAgICAgICAgICAgCgogICAgICAgICAgICBjaXJjbGVfbWFya2VyX2Y4MjU0MzAzOWRlNjRiMDg4ZGFmZGQxYTcyMjdkNGRhLmJpbmRQb3B1cChwb3B1cF9iOWI3MjAxMTFlODE0ZDZmYTUyZmVjM2MyOTE2YjRjNyk7CgogICAgICAgICAgICAKICAgICAgICAKICAgICAgICAKICAgICAgICAgICAgCgogICAgICAgICAgICB2YXIgY2lyY2xlX21hcmtlcl85YzBjNzQ0ZDg0Zjc0MTBhYjY4ZmI1YTZhMGViMTg5MCA9IEwuY2lyY2xlKAogICAgICAgICAgICAgICAgWzQyLjc1LDE5LjI1XSwKICAgICAgICAgICAgICAgIDE2MjYuODA5NTUxNDY1MDMzLAogICAgICAgICAgICAgICAgewogICAgICAgICAgICAgICAgICAgIGNvbG9yOiAnTm9uZScsCiAgICAgICAgICAgICAgICAgICAgZmlsbENvbG9yOiAnYmxhY2snLAogICAgICAgICAgICAgICAgICAgIGZpbGxPcGFjaXR5OiAwLjYKICAgICAgICAgICAgICAgICAgICB9CiAgICAgICAgICAgICAgICApCiAgICAgICAgICAgICAgICAuYWRkVG8obWFwXzNkYmM0M2JhZGM1MTQyYjFiNzA5ZmU1NzMyZTM3ZmY3KTsKICAgICAgICAgICAgCiAgICAgICAgCiAgICAgICAgICAgIAogICAgICAgICAgICB2YXIgcG9wdXBfMjliZjhkYjNhM2E5NDllNmE5NTUxMDIyNTM3YmRlMDAgPSBMLnBvcHVwKHttYXhXaWR0aDogJzMwMCd9KTsKCiAgICAgICAgICAgIAogICAgICAgICAgICAgICAgdmFyIGh0bWxfMzVkNDg3ZTRmNGUyNDYzZjk5YTI4ZjIyZDQxZGJlNzIgPSAkKCcgICAgICAgICA8ZGl2IGlkPSJodG1sXzM1ZDQ4N2U0ZjRlMjQ2M2Y5OWEyOGYyMmQ0MWRiZTcyIiAgICAgICAgICAgICAgICAgc3R5bGU9IndpZHRoOiAxMDAuMCU7IGhlaWdodDogMTAwLjAlOyI+ICAgICAgICAgICAgICAgICBNb250ZW5lZ3JvPC9kaXY+ICAgICAgICAgICAgICAgICAnKVswXTsKICAgICAgICAgICAgICAgIHBvcHVwXzI5YmY4ZGIzYTNhOTQ5ZTZhOTU1MTAyMjUzN2JkZTAwLnNldENvbnRlbnQoaHRtbF8zNWQ0ODdlNGY0ZTI0NjNmOTlhMjhmMjJkNDFkYmU3Mik7CiAgICAgICAgICAgIAoKICAgICAgICAgICAgY2lyY2xlX21hcmtlcl85YzBjNzQ0ZDg0Zjc0MTBhYjY4ZmI1YTZhMGViMTg5MC5iaW5kUG9wdXAocG9wdXBfMjliZjhkYjNhM2E5NDllNmE5NTUxMDIyNTM3YmRlMDApOwoKICAgICAgICAgICAgCiAgICAgICAgCiAgICAgICAgCiAgICAgICAgICAgIAoKICAgICAgICAgICAgdmFyIGNpcmNsZV9tYXJrZXJfNjg4MDczMjBiNDA1NDljMjk2MzU0OWUxMDIzN2RiM2MgPSBMLmNpcmNsZSgKICAgICAgICAgICAgICAgIFstMTguMjUsMzUuMF0sCiAgICAgICAgICAgICAgICAxNzI5NzcuNjY5Nzk0NTk1NTQsCiAgICAgICAgICAgICAgICB7CiAgICAgICAgICAgICAgICAgICAgY29sb3I6ICdOb25lJywKICAgICAgICAgICAgICAgICAgICBmaWxsQ29sb3I6ICdibHVlJywKICAgICAgICAgICAgICAgICAgICBmaWxsT3BhY2l0eTogMC42CiAgICAgICAgICAgICAgICAgICAgfQogICAgICAgICAgICAgICAgKQogICAgICAgICAgICAgICAgLmFkZFRvKG1hcF8zZGJjNDNiYWRjNTE0MmIxYjcwOWZlNTczMmUzN2ZmNyk7CiAgICAgICAgICAgIAogICAgICAgIAogICAgICAgICAgICAKICAgICAgICAgICAgdmFyIHBvcHVwX2IzN2U3MGRiYTkyOTQ1MTJhYTVmMGE1NmJjMDE4ZTRiID0gTC5wb3B1cCh7bWF4V2lkdGg6ICczMDAnfSk7CgogICAgICAgICAgICAKICAgICAgICAgICAgICAgIHZhciBodG1sXzI2ODAwODU3ZmJmYzQ3YmY4NzdkMGZhZGYwZmJmN2Y4ID0gJCgnICAgICAgICAgPGRpdiBpZD0iaHRtbF8yNjgwMDg1N2ZiZmM0N2JmODc3ZDBmYWRmMGZiZjdmOCIgICAgICAgICAgICAgICAgIHN0eWxlPSJ3aWR0aDogMTAwLjAlOyBoZWlnaHQ6IDEwMC4wJTsiPiAgICAgICAgICAgICAgICAgTW96YW1iaXF1ZTwvZGl2PiAgICAgICAgICAgICAgICAgJylbMF07CiAgICAgICAgICAgICAgICBwb3B1cF9iMzdlNzBkYmE5Mjk0NTEyYWE1ZjBhNTZiYzAxOGU0Yi5zZXRDb250ZW50KGh0bWxfMjY4MDA4NTdmYmZjNDdiZjg3N2QwZmFkZjBmYmY3ZjgpOwogICAgICAgICAgICAKCiAgICAgICAgICAgIGNpcmNsZV9tYXJrZXJfNjg4MDczMjBiNDA1NDljMjk2MzU0OWUxMDIzN2RiM2MuYmluZFBvcHVwKHBvcHVwX2IzN2U3MGRiYTkyOTQ1MTJhYTVmMGE1NmJjMDE4ZTRiKTsKCiAgICAgICAgICAgIAogICAgICAgIAogICAgICAgIAogICAgICAgICAgICAKCiAgICAgICAgICAgIHZhciBjaXJjbGVfbWFya2VyXzQ3NGE0YmFkN2U2YTRiNTViN2Y5MWY3NmJjN2JjYjU3ID0gTC5jaXJjbGUoCiAgICAgICAgICAgICAgICBbMjAuMjUsLTEwLjVdLAogICAgICAgICAgICAgICAgNDEyOTMuNjM4Njg1Mjk4Njc2LAogICAgICAgICAgICAgICAgewogICAgICAgICAgICAgICAgICAgIGNvbG9yOiAnTm9uZScsCiAgICAgICAgICAgICAgICAgICAgZmlsbENvbG9yOiAnYmx1ZScsCiAgICAgICAgICAgICAgICAgICAgZmlsbE9wYWNpdHk6IDAuNgogICAgICAgICAgICAgICAgICAgIH0KICAgICAgICAgICAgICAgICkKICAgICAgICAgICAgICAgIC5hZGRUbyhtYXBfM2RiYzQzYmFkYzUxNDJiMWI3MDlmZTU3MzJlMzdmZjcpOwogICAgICAgICAgICAKICAgICAgICAKICAgICAgICAgICAgCiAgICAgICAgICAgIHZhciBwb3B1cF8zNGJmN2YwZjYxZDY0Mzc4YWU4NDlkNWUzMzMxMDE5ZSA9IEwucG9wdXAoe21heFdpZHRoOiAnMzAwJ30pOwoKICAgICAgICAgICAgCiAgICAgICAgICAgICAgICB2YXIgaHRtbF9mNzM1NTRjM2NmZDM0MDljYTBjM2FkY2JhNmJkZTZkMCA9ICQoJyAgICAgICAgIDxkaXYgaWQ9Imh0bWxfZjczNTU0YzNjZmQzNDA5Y2EwYzNhZGNiYTZiZGU2ZDAiICAgICAgICAgICAgICAgICBzdHlsZT0id2lkdGg6IDEwMC4wJTsgaGVpZ2h0OiAxMDAuMCU7Ij4gICAgICAgICAgICAgICAgIE1hdXJpdGFuaWE8L2Rpdj4gICAgICAgICAgICAgICAgICcpWzBdOwogICAgICAgICAgICAgICAgcG9wdXBfMzRiZjdmMGY2MWQ2NDM3OGFlODQ5ZDVlMzMzMTAxOWUuc2V0Q29udGVudChodG1sX2Y3MzU1NGMzY2ZkMzQwOWNhMGMzYWRjYmE2YmRlNmQwKTsKICAgICAgICAgICAgCgogICAgICAgICAgICBjaXJjbGVfbWFya2VyXzQ3NGE0YmFkN2U2YTRiNTViN2Y5MWY3NmJjN2JjYjU3LmJpbmRQb3B1cChwb3B1cF8zNGJmN2YwZjYxZDY0Mzc4YWU4NDlkNWUzMzMxMDE5ZSk7CgogICAgICAgICAgICAKICAgICAgICAKICAgICAgICAKICAgICAgICAgICAgCgogICAgICAgICAgICB2YXIgY2lyY2xlX21hcmtlcl84MWFiZWQwNmJmYWY0OGZkYWQ4NWNjNDVmY2RjNjI1YiA9IEwuY2lyY2xlKAogICAgICAgICAgICAgICAgWy0xMy41LDM0LjBdLAogICAgICAgICAgICAgICAgMTQ2OTYwLjY0NDM3NDQ0NCwKICAgICAgICAgICAgICAgIHsKICAgICAgICAgICAgICAgICAgICBjb2xvcjogJ05vbmUnLAogICAgICAgICAgICAgICAgICAgIGZpbGxDb2xvcjogJ2JsdWUnLAogICAgICAgICAgICAgICAgICAgIGZpbGxPcGFjaXR5OiAwLjYKICAgICAgICAgICAgICAgICAgICB9CiAgICAgICAgICAgICAgICApCiAgICAgICAgICAgICAgICAuYWRkVG8obWFwXzNkYmM0M2JhZGM1MTQyYjFiNzA5ZmU1NzMyZTM3ZmY3KTsKICAgICAgICAgICAgCiAgICAgICAgCiAgICAgICAgICAgIAogICAgICAgICAgICB2YXIgcG9wdXBfOTRmZDJjNGVkZGQ5NDlmMzk4MGJkMmNiN2EyYWE5NDEgPSBMLnBvcHVwKHttYXhXaWR0aDogJzMwMCd9KTsKCiAgICAgICAgICAgIAogICAgICAgICAgICAgICAgdmFyIGh0bWxfZTc0NzE2ODQ4N2MwNDU1MWE3OGJhOTAyMTFiOThhMzggPSAkKCcgICAgICAgICA8ZGl2IGlkPSJodG1sX2U3NDcxNjg0ODdjMDQ1NTFhNzhiYTkwMjExYjk4YTM4IiAgICAgICAgICAgICAgICAgc3R5bGU9IndpZHRoOiAxMDAuMCU7IGhlaWdodDogMTAwLjAlOyI+ICAgICAgICAgICAgICAgICBNYWxhd2k8L2Rpdj4gICAgICAgICAgICAgICAgICcpWzBdOwogICAgICAgICAgICAgICAgcG9wdXBfOTRmZDJjNGVkZGQ5NDlmMzk4MGJkMmNiN2EyYWE5NDEuc2V0Q29udGVudChodG1sX2U3NDcxNjg0ODdjMDQ1NTFhNzhiYTkwMjExYjk4YTM4KTsKICAgICAgICAgICAgCgogICAgICAgICAgICBjaXJjbGVfbWFya2VyXzgxYWJlZDA2YmZhZjQ4ZmRhZDg1Y2M0NWZjZGM2MjViLmJpbmRQb3B1cChwb3B1cF85NGZkMmM0ZWRkZDk0OWYzOTgwYmQyY2I3YTJhYTk0MSk7CgogICAgICAgICAgICAKICAgICAgICAKICAgICAgICAKICAgICAgICAgICAgCgogICAgICAgICAgICB2YXIgY2lyY2xlX21hcmtlcl84MjgwZGFjYWE0ZDQ0YTNhYTA2ZDI0ZGZjMjYxMTg5NCA9IEwuY2lyY2xlKAogICAgICAgICAgICAgICAgWzIuNSwxMTIuNV0sCiAgICAgICAgICAgICAgICAwLjAsCiAgICAgICAgICAgICAgICB7CiAgICAgICAgICAgICAgICAgICAgY29sb3I6ICdOb25lJywKICAgICAgICAgICAgICAgICAgICBmaWxsQ29sb3I6ICdyZWQnLAogICAgICAgICAgICAgICAgICAgIGZpbGxPcGFjaXR5OiAwLjYKICAgICAgICAgICAgICAgICAgICB9CiAgICAgICAgICAgICAgICApCiAgICAgICAgICAgICAgICAuYWRkVG8obWFwXzNkYmM0M2JhZGM1MTQyYjFiNzA5ZmU1NzMyZTM3ZmY3KTsKICAgICAgICAgICAgCiAgICAgICAgCiAgICAgICAgICAgIAogICAgICAgICAgICB2YXIgcG9wdXBfNjhhYjRkOWYyODYyNGRlMThlMzM4NDVmMTBmNjMxMWQgPSBMLnBvcHVwKHttYXhXaWR0aDogJzMwMCd9KTsKCiAgICAgICAgICAgIAogICAgICAgICAgICAgICAgdmFyIGh0bWxfYmI0YjhlZDIxNjk5NDdhZWE2ODI0NzI2MzRkNGRmYWMgPSAkKCcgICAgICAgICA8ZGl2IGlkPSJodG1sX2JiNGI4ZWQyMTY5OTQ3YWVhNjgyNDcyNjM0ZDRkZmFjIiAgICAgICAgICAgICAgICAgc3R5bGU9IndpZHRoOiAxMDAuMCU7IGhlaWdodDogMTAwLjAlOyI+ICAgICAgICAgICAgICAgICBNYWxheXNpYTwvZGl2PiAgICAgICAgICAgICAgICAgJylbMF07CiAgICAgICAgICAgICAgICBwb3B1cF82OGFiNGQ5ZjI4NjI0ZGUxOGUzMzg0NWYxMGY2MzExZC5zZXRDb250ZW50KGh0bWxfYmI0YjhlZDIxNjk5NDdhZWE2ODI0NzI2MzRkNGRmYWMpOwogICAgICAgICAgICAKCiAgICAgICAgICAgIGNpcmNsZV9tYXJrZXJfODI4MGRhY2FhNGQ0NGEzYWEwNmQyNGRmYzI2MTE4OTQuYmluZFBvcHVwKHBvcHVwXzY4YWI0ZDlmMjg2MjRkZTE4ZTMzODQ1ZjEwZjYzMTFkKTsKCiAgICAgICAgICAgIAogICAgICAgIAogICAgICAgIAogICAgICAgICAgICAKCiAgICAgICAgICAgIHZhciBjaXJjbGVfbWFya2VyX2VjYmQzN2ZlYmYyZTRmODE4NzE5ZWI4ODU1YTJmMDJhID0gTC5jaXJjbGUoCiAgICAgICAgICAgICAgICBbLTIyLjAsMTcuMF0sCiAgICAgICAgICAgICAgICAzMjM0OC4zMDM4NDg1NjgzMDYsCiAgICAgICAgICAgICAgICB7CiAgICAgICAgICAgICAgICAgICAgY29sb3I6ICdOb25lJywKICAgICAgICAgICAgICAgICAgICBmaWxsQ29sb3I6ICdibHVlJywKICAgICAgICAgICAgICAgICAgICBmaWxsT3BhY2l0eTogMC42CiAgICAgICAgICAgICAgICAgICAgfQogICAgICAgICAgICAgICAgKQogICAgICAgICAgICAgICAgLmFkZFRvKG1hcF8zZGJjNDNiYWRjNTE0MmIxYjcwOWZlNTczMmUzN2ZmNyk7CiAgICAgICAgICAgIAogICAgICAgIAogICAgICAgICAgICAKICAgICAgICAgICAgdmFyIHBvcHVwXzE1ODM5Y2RiNDM2MDQ4MThiMDliZmFjNDFlMDQ0YmJlID0gTC5wb3B1cCh7bWF4V2lkdGg6ICczMDAnfSk7CgogICAgICAgICAgICAKICAgICAgICAgICAgICAgIHZhciBodG1sXzY0NjRiMTljZjU0MDRmYzViZTJkNmU1OTQxNTgzM2NjID0gJCgnICAgICAgICAgPGRpdiBpZD0iaHRtbF82NDY0YjE5Y2Y1NDA0ZmM1YmUyZDZlNTk0MTU4MzNjYyIgICAgICAgICAgICAgICAgIHN0eWxlPSJ3aWR0aDogMTAwLjAlOyBoZWlnaHQ6IDEwMC4wJTsiPiAgICAgICAgICAgICAgICAgTmFtaWJpYTwvZGl2PiAgICAgICAgICAgICAgICAgJylbMF07CiAgICAgICAgICAgICAgICBwb3B1cF8xNTgzOWNkYjQzNjA0ODE4YjA5YmZhYzQxZTA0NGJiZS5zZXRDb250ZW50KGh0bWxfNjQ2NGIxOWNmNTQwNGZjNWJlMmQ2ZTU5NDE1ODMzY2MpOwogICAgICAgICAgICAKCiAgICAgICAgICAgIGNpcmNsZV9tYXJrZXJfZWNiZDM3ZmViZjJlNGY4MTg3MTllYjg4NTVhMmYwMmEuYmluZFBvcHVwKHBvcHVwXzE1ODM5Y2RiNDM2MDQ4MThiMDliZmFjNDFlMDQ0YmJlKTsKCiAgICAgICAgICAgIAogICAgICAgIAogICAgICAgIAogICAgICAgICAgICAKCiAgICAgICAgICAgIHZhciBjaXJjbGVfbWFya2VyXzdjMDAzOWUzZTU5NTQyNDNhNmFkOTdkZDVmOWNiOGE5ID0gTC5jaXJjbGUoCiAgICAgICAgICAgICAgICBbMTguMCw5LjBdLAogICAgICAgICAgICAgICAgMTE2MDc0LjE0MzA1MzA1MTUsCiAgICAgICAgICAgICAgICB7CiAgICAgICAgICAgICAgICAgICAgY29sb3I6ICdOb25lJywKICAgICAgICAgICAgICAgICAgICBmaWxsQ29sb3I6ICdibHVlJywKICAgICAgICAgICAgICAgICAgICBmaWxsT3BhY2l0eTogMC42CiAgICAgICAgICAgICAgICAgICAgfQogICAgICAgICAgICAgICAgKQogICAgICAgICAgICAgICAgLmFkZFRvKG1hcF8zZGJjNDNiYWRjNTE0MmIxYjcwOWZlNTczMmUzN2ZmNyk7CiAgICAgICAgICAgIAogICAgICAgIAogICAgICAgICAgICAKICAgICAgICAgICAgdmFyIHBvcHVwXzg4MWM0ZDEwYTFkZjQyOTc5MWQyMWI2MDI5NDZhNmM0ID0gTC5wb3B1cCh7bWF4V2lkdGg6ICczMDAnfSk7CgogICAgICAgICAgICAKICAgICAgICAgICAgICAgIHZhciBodG1sXzVkOTRmODBhNTdhMjQ0ZjM4YTc5NDJhMWU5ODQ4ZjRjID0gJCgnICAgICAgICAgPGRpdiBpZD0iaHRtbF81ZDk0ZjgwYTU3YTI0NGYzOGE3OTQyYTFlOTg0OGY0YyIgICAgICAgICAgICAgICAgIHN0eWxlPSJ3aWR0aDogMTAwLjAlOyBoZWlnaHQ6IDEwMC4wJTsiPiAgICAgICAgICAgICAgICAgTmlnZXI8L2Rpdj4gICAgICAgICAgICAgICAgICcpWzBdOwogICAgICAgICAgICAgICAgcG9wdXBfODgxYzRkMTBhMWRmNDI5NzkxZDIxYjYwMjk0NmE2YzQuc2V0Q29udGVudChodG1sXzVkOTRmODBhNTdhMjQ0ZjM4YTc5NDJhMWU5ODQ4ZjRjKTsKICAgICAgICAgICAgCgogICAgICAgICAgICBjaXJjbGVfbWFya2VyXzdjMDAzOWUzZTU5NTQyNDNhNmFkOTdkZDVmOWNiOGE5LmJpbmRQb3B1cChwb3B1cF84ODFjNGQxMGExZGY0Mjk3OTFkMjFiNjAyOTQ2YTZjNCk7CgogICAgICAgICAgICAKICAgICAgICAKICAgICAgICAKICAgICAgICAgICAgCgogICAgICAgICAgICB2YXIgY2lyY2xlX21hcmtlcl8yODFkN2Y3ZGNiYzU0NTA5OGFmZTllOTk1MTgwNWE0ZiA9IEwuY2lyY2xlKAogICAgICAgICAgICAgICAgWzEwLjAsOC4wXSwKICAgICAgICAgICAgICAgIDQ0NzY1NS40NDk5MjEzMDAzNCwKICAgICAgICAgICAgICAgIHsKICAgICAgICAgICAgICAgICAgICBjb2xvcjogJ05vbmUnLAogICAgICAgICAgICAgICAgICAgIGZpbGxDb2xvcjogJ2JsdWUnLAogICAgICAgICAgICAgICAgICAgIGZpbGxPcGFjaXR5OiAwLjYKICAgICAgICAgICAgICAgICAgICB9CiAgICAgICAgICAgICAgICApCiAgICAgICAgICAgICAgICAuYWRkVG8obWFwXzNkYmM0M2JhZGM1MTQyYjFiNzA5ZmU1NzMyZTM3ZmY3KTsKICAgICAgICAgICAgCiAgICAgICAgCiAgICAgICAgICAgIAogICAgICAgICAgICB2YXIgcG9wdXBfZDYyZDdjYWIxMTVmNGY2ODgzYzA0ZDNjN2M4NjM1ZDkgPSBMLnBvcHVwKHttYXhXaWR0aDogJzMwMCd9KTsKCiAgICAgICAgICAgIAogICAgICAgICAgICAgICAgdmFyIGh0bWxfYWExMGY3YWY5ZGYyNGU1YTgyMWU4YWQyOWI2YzY5NmIgPSAkKCcgICAgICAgICA8ZGl2IGlkPSJodG1sX2FhMTBmN2FmOWRmMjRlNWE4MjFlOGFkMjliNmM2OTZiIiAgICAgICAgICAgICAgICAgc3R5bGU9IndpZHRoOiAxMDAuMCU7IGhlaWdodDogMTAwLjAlOyI+ICAgICAgICAgICAgICAgICBOaWdlcmlhPC9kaXY+ICAgICAgICAgICAgICAgICAnKVswXTsKICAgICAgICAgICAgICAgIHBvcHVwX2Q2MmQ3Y2FiMTE1ZjRmNjg4M2MwNGQzYzdjODYzNWQ5LnNldENvbnRlbnQoaHRtbF9hYTEwZjdhZjlkZjI0ZTVhODIxZThhZDI5YjZjNjk2Yik7CiAgICAgICAgICAgIAoKICAgICAgICAgICAgY2lyY2xlX21hcmtlcl8yODFkN2Y3ZGNiYzU0NTA5OGFmZTllOTk1MTgwNWE0Zi5iaW5kUG9wdXAocG9wdXBfZDYyZDdjYWIxMTVmNGY2ODgzYzA0ZDNjN2M4NjM1ZDkpOwoKICAgICAgICAgICAgCiAgICAgICAgCiAgICAgICAgCiAgICAgICAgICAgIAoKICAgICAgICAgICAgdmFyIGNpcmNsZV9tYXJrZXJfNzhmNGFkZTBhMTY5NDA0OTk2MzdlYzNmNzJjYWI2NjAgPSBMLmNpcmNsZSgKICAgICAgICAgICAgICAgIFsxMy4wLC04NS4wXSwKICAgICAgICAgICAgICAgIDMxNTExLjEwMzIxOTYzNjQ1OCwKICAgICAgICAgICAgICAgIHsKICAgICAgICAgICAgICAgICAgICBjb2xvcjogJ05vbmUnLAogICAgICAgICAgICAgICAgICAgIGZpbGxDb2xvcjogJ2dyZWVuJywKICAgICAgICAgICAgICAgICAgICBmaWxsT3BhY2l0eTogMC42CiAgICAgICAgICAgICAgICAgICAgfQogICAgICAgICAgICAgICAgKQogICAgICAgICAgICAgICAgLmFkZFRvKG1hcF8zZGJjNDNiYWRjNTE0MmIxYjcwOWZlNTczMmUzN2ZmNyk7CiAgICAgICAgICAgIAogICAgICAgIAogICAgICAgICAgICAKICAgICAgICAgICAgdmFyIHBvcHVwXzYzMGUyZTI1YTg5NTRjZjU5YzA0ZmQ3Njc3NjQ1NTg1ID0gTC5wb3B1cCh7bWF4V2lkdGg6ICczMDAnfSk7CgogICAgICAgICAgICAKICAgICAgICAgICAgICAgIHZhciBodG1sXzFiNjk0ZDBmYmY4ZDQxMmViYjg4ZDc0NWQyYzM0ZDZjID0gJCgnICAgICAgICAgPGRpdiBpZD0iaHRtbF8xYjY5NGQwZmJmOGQ0MTJlYmI4OGQ3NDVkMmMzNGQ2YyIgICAgICAgICAgICAgICAgIHN0eWxlPSJ3aWR0aDogMTAwLjAlOyBoZWlnaHQ6IDEwMC4wJTsiPiAgICAgICAgICAgICAgICAgTmljYXJhZ3VhPC9kaXY+ICAgICAgICAgICAgICAgICAnKVswXTsKICAgICAgICAgICAgICAgIHBvcHVwXzYzMGUyZTI1YTg5NTRjZjU5YzA0ZmQ3Njc3NjQ1NTg1LnNldENvbnRlbnQoaHRtbF8xYjY5NGQwZmJmOGQ0MTJlYmI4OGQ3NDVkMmMzNGQ2Yyk7CiAgICAgICAgICAgIAoKICAgICAgICAgICAgY2lyY2xlX21hcmtlcl83OGY0YWRlMGExNjk0MDQ5OTYzN2VjM2Y3MmNhYjY2MC5iaW5kUG9wdXAocG9wdXBfNjMwZTJlMjVhODk1NGNmNTljMDRmZDc2Nzc2NDU1ODUpOwoKICAgICAgICAgICAgCiAgICAgICAgCiAgICAgICAgCiAgICAgICAgICAgIAoKICAgICAgICAgICAgdmFyIGNpcmNsZV9tYXJrZXJfOWQ3OWM0OTgxYWVjNGRiYzg3YzNkZTEyMTU5MmJlY2QgPSBMLmNpcmNsZSgKICAgICAgICAgICAgICAgIFs1Mi4yNSw1Ljc1XSwKICAgICAgICAgICAgICAgIDEwODYwLjg1MjcyODc4NzQ0MiwKICAgICAgICAgICAgICAgIHsKICAgICAgICAgICAgICAgICAgICBjb2xvcjogJ05vbmUnLAogICAgICAgICAgICAgICAgICAgIGZpbGxDb2xvcjogJ2JsYWNrJywKICAgICAgICAgICAgICAgICAgICBmaWxsT3BhY2l0eTogMC42CiAgICAgICAgICAgICAgICAgICAgfQogICAgICAgICAgICAgICAgKQogICAgICAgICAgICAgICAgLmFkZFRvKG1hcF8zZGJjNDNiYWRjNTE0MmIxYjcwOWZlNTczMmUzN2ZmNyk7CiAgICAgICAgICAgIAogICAgICAgIAogICAgICAgICAgICAKICAgICAgICAgICAgdmFyIHBvcHVwXzkxMGViNjhlZThkMzQxYjA5NGJhM2Q3MDFhNDI4NGZlID0gTC5wb3B1cCh7bWF4V2lkdGg6ICczMDAnfSk7CgogICAgICAgICAgICAKICAgICAgICAgICAgICAgIHZhciBodG1sXzEwNDE5NWU3ZDRkZDQ0ZjFhOWJiMDkyMDdkNzJlZjgzID0gJCgnICAgICAgICAgPGRpdiBpZD0iaHRtbF8xMDQxOTVlN2Q0ZGQ0NGYxYTliYjA5MjA3ZDcyZWY4MyIgICAgICAgICAgICAgICAgIHN0eWxlPSJ3aWR0aDogMTAwLjAlOyBoZWlnaHQ6IDEwMC4wJTsiPiAgICAgICAgICAgICAgICAgTmV0aGVybGFuZHM8L2Rpdj4gICAgICAgICAgICAgICAgICcpWzBdOwogICAgICAgICAgICAgICAgcG9wdXBfOTEwZWI2OGVlOGQzNDFiMDk0YmEzZDcwMWE0Mjg0ZmUuc2V0Q29udGVudChodG1sXzEwNDE5NWU3ZDRkZDQ0ZjFhOWJiMDkyMDdkNzJlZjgzKTsKICAgICAgICAgICAgCgogICAgICAgICAgICBjaXJjbGVfbWFya2VyXzlkNzljNDk4MWFlYzRkYmM4N2MzZGUxMjE1OTJiZWNkLmJpbmRQb3B1cChwb3B1cF85MTBlYjY4ZWU4ZDM0MWIwOTRiYTNkNzAxYTQyODRmZSk7CgogICAgICAgICAgICAKICAgICAgICAKICAgICAgICAKICAgICAgICAgICAgCgogICAgICAgICAgICB2YXIgY2lyY2xlX21hcmtlcl8yMDg5N2FmMzQ0NDA0NTdhODhhYjEzYWQzZDRhNDZkMyA9IEwuY2lyY2xlKAogICAgICAgICAgICAgICAgWzYyLjAsMTAuMF0sCiAgICAgICAgICAgICAgICA4MTQ5LjEwNjA5NzE2NTU2NywKICAgICAgICAgICAgICAgIHsKICAgICAgICAgICAgICAgICAgICBjb2xvcjogJ05vbmUnLAogICAgICAgICAgICAgICAgICAgIGZpbGxDb2xvcjogJ2JsYWNrJywKICAgICAgICAgICAgICAgICAgICBmaWxsT3BhY2l0eTogMC42CiAgICAgICAgICAgICAgICAgICAgfQogICAgICAgICAgICAgICAgKQogICAgICAgICAgICAgICAgLmFkZFRvKG1hcF8zZGJjNDNiYWRjNTE0MmIxYjcwOWZlNTczMmUzN2ZmNyk7CiAgICAgICAgICAgIAogICAgICAgIAogICAgICAgICAgICAKICAgICAgICAgICAgdmFyIHBvcHVwXzY5YzkzZTcyOTJiZjQwYjc4MzNkMDdjODZjY2VkMWY5ID0gTC5wb3B1cCh7bWF4V2lkdGg6ICczMDAnfSk7CgogICAgICAgICAgICAKICAgICAgICAgICAgICAgIHZhciBodG1sXzg2NGJkOWY1ODk5YzQxYzdhMmQyZGFmYmUwYTM4YmNlID0gJCgnICAgICAgICAgPGRpdiBpZD0iaHRtbF84NjRiZDlmNTg5OWM0MWM3YTJkMmRhZmJlMGEzOGJjZSIgICAgICAgICAgICAgICAgIHN0eWxlPSJ3aWR0aDogMTAwLjAlOyBoZWlnaHQ6IDEwMC4wJTsiPiAgICAgICAgICAgICAgICAgTm9yd2F5PC9kaXY+ICAgICAgICAgICAgICAgICAnKVswXTsKICAgICAgICAgICAgICAgIHBvcHVwXzY5YzkzZTcyOTJiZjQwYjc4MzNkMDdjODZjY2VkMWY5LnNldENvbnRlbnQoaHRtbF84NjRiZDlmNTg5OWM0MWM3YTJkMmRhZmJlMGEzOGJjZSk7CiAgICAgICAgICAgIAoKICAgICAgICAgICAgY2lyY2xlX21hcmtlcl8yMDg5N2FmMzQ0NDA0NTdhODhhYjEzYWQzZDRhNDZkMy5iaW5kUG9wdXAocG9wdXBfNjljOTNlNzI5MmJmNDBiNzgzM2QwN2M4NmNjZWQxZjkpOwoKICAgICAgICAgICAgCiAgICAgICAgCiAgICAgICAgCiAgICAgICAgICAgIAoKICAgICAgICAgICAgdmFyIGNpcmNsZV9tYXJrZXJfMzlkOTAxNTVlYjBlNDlkODliNDk5ZGFjM2M3OWJiOGIgPSBMLmNpcmNsZSgKICAgICAgICAgICAgICAgIFsyOC4wLDg0LjBdLAogICAgICAgICAgICAgICAgMTEzNzA2Ljk2NTY3NTk2MzUsCiAgICAgICAgICAgICAgICB7CiAgICAgICAgICAgICAgICAgICAgY29sb3I6ICdOb25lJywKICAgICAgICAgICAgICAgICAgICBmaWxsQ29sb3I6ICdyZWQnLAogICAgICAgICAgICAgICAgICAgIGZpbGxPcGFjaXR5OiAwLjYKICAgICAgICAgICAgICAgICAgICB9CiAgICAgICAgICAgICAgICApCiAgICAgICAgICAgICAgICAuYWRkVG8obWFwXzNkYmM0M2JhZGM1MTQyYjFiNzA5ZmU1NzMyZTM3ZmY3KTsKICAgICAgICAgICAgCiAgICAgICAgCiAgICAgICAgICAgIAogICAgICAgICAgICB2YXIgcG9wdXBfMTBjMmQ5NmMyNDMxNGNmNDg1YmE3MDI2NmIxZDBiMjAgPSBMLnBvcHVwKHttYXhXaWR0aDogJzMwMCd9KTsKCiAgICAgICAgICAgIAogICAgICAgICAgICAgICAgdmFyIGh0bWxfMWM4NGYzNDM0ZjUxNDE1YWEzMTc2ODkyNDA2ZGNhN2IgPSAkKCcgICAgICAgICA8ZGl2IGlkPSJodG1sXzFjODRmMzQzNGY1MTQxNWFhMzE3Njg5MjQwNmRjYTdiIiAgICAgICAgICAgICAgICAgc3R5bGU9IndpZHRoOiAxMDAuMCU7IGhlaWdodDogMTAwLjAlOyI+ICAgICAgICAgICAgICAgICBOZXBhbDwvZGl2PiAgICAgICAgICAgICAgICAgJylbMF07CiAgICAgICAgICAgICAgICBwb3B1cF8xMGMyZDk2YzI0MzE0Y2Y0ODViYTcwMjY2YjFkMGIyMC5zZXRDb250ZW50KGh0bWxfMWM4NGYzNDM0ZjUxNDE1YWEzMTc2ODkyNDA2ZGNhN2IpOwogICAgICAgICAgICAKCiAgICAgICAgICAgIGNpcmNsZV9tYXJrZXJfMzlkOTAxNTVlYjBlNDlkODliNDk5ZGFjM2M3OWJiOGIuYmluZFBvcHVwKHBvcHVwXzEwYzJkOTZjMjQzMTRjZjQ4NWJhNzAyNjZiMWQwYjIwKTsKCiAgICAgICAgICAgIAogICAgICAgIAogICAgICAgIAogICAgICAgICAgICAKCiAgICAgICAgICAgIHZhciBjaXJjbGVfbWFya2VyXzk2ZTY5MDQwYTc0ODQxMjc5ZjA3YmM4Y2U1MTJkZGFiID0gTC5jaXJjbGUoCiAgICAgICAgICAgICAgICBbMzAuMCw3MC4wXSwKICAgICAgICAgICAgICAgIDIwOTUyMi4zNjU3NDQwMDUwNCwKICAgICAgICAgICAgICAgIHsKICAgICAgICAgICAgICAgICAgICBjb2xvcjogJ05vbmUnLAogICAgICAgICAgICAgICAgICAgIGZpbGxDb2xvcjogJ3JlZCcsCiAgICAgICAgICAgICAgICAgICAgZmlsbE9wYWNpdHk6IDAuNgogICAgICAgICAgICAgICAgICAgIH0KICAgICAgICAgICAgICAgICkKICAgICAgICAgICAgICAgIC5hZGRUbyhtYXBfM2RiYzQzYmFkYzUxNDJiMWI3MDlmZTU3MzJlMzdmZjcpOwogICAgICAgICAgICAKICAgICAgICAKICAgICAgICAgICAgCiAgICAgICAgICAgIHZhciBwb3B1cF9hOTQyYmIxYmUwOTU0OTMxOGYwMDJhMjQyYTc0YzgxZCA9IEwucG9wdXAoe21heFdpZHRoOiAnMzAwJ30pOwoKICAgICAgICAgICAgCiAgICAgICAgICAgICAgICB2YXIgaHRtbF82MWViZjMyM2E1YzQ0OGViOTZhMzMyODYxZGE2OWE4OSA9ICQoJyAgICAgICAgIDxkaXYgaWQ9Imh0bWxfNjFlYmYzMjNhNWM0NDhlYjk2YTMzMjg2MWRhNjlhODkiICAgICAgICAgICAgICAgICBzdHlsZT0id2lkdGg6IDEwMC4wJTsgaGVpZ2h0OiAxMDAuMCU7Ij4gICAgICAgICAgICAgICAgIFBha2lzdGFuPC9kaXY+ICAgICAgICAgICAgICAgICAnKVswXTsKICAgICAgICAgICAgICAgIHBvcHVwX2E5NDJiYjFiZTA5NTQ5MzE4ZjAwMmEyNDJhNzRjODFkLnNldENvbnRlbnQoaHRtbF82MWViZjMyM2E1YzQ0OGViOTZhMzMyODYxZGE2OWE4OSk7CiAgICAgICAgICAgIAoKICAgICAgICAgICAgY2lyY2xlX21hcmtlcl85NmU2OTA0MGE3NDg0MTI3OWYwN2JjOGNlNTEyZGRhYi5iaW5kUG9wdXAocG9wdXBfYTk0MmJiMWJlMDk1NDkzMThmMDAyYTI0MmE3NGM4MWQpOwoKICAgICAgICAgICAgCiAgICAgICAgCiAgICAgICAgCiAgICAgICAgICAgIAoKICAgICAgICAgICAgdmFyIGNpcmNsZV9tYXJrZXJfYzI0M2QzYTYwZTJmNDk1OTg2MmM2NmMwZDA1ODI5NjIgPSBMLmNpcmNsZSgKICAgICAgICAgICAgICAgIFs4Ljk5MzYsLTc5LjUxOTczMDAwMDAwMDAxXSwKICAgICAgICAgICAgICAgIDE3MTA5LjQ0NTA3OTYwNzI1LAogICAgICAgICAgICAgICAgewogICAgICAgICAgICAgICAgICAgIGNvbG9yOiAnTm9uZScsCiAgICAgICAgICAgICAgICAgICAgZmlsbENvbG9yOiAnZ3JlZW4nLAogICAgICAgICAgICAgICAgICAgIGZpbGxPcGFjaXR5OiAwLjYKICAgICAgICAgICAgICAgICAgICB9CiAgICAgICAgICAgICAgICApCiAgICAgICAgICAgICAgICAuYWRkVG8obWFwXzNkYmM0M2JhZGM1MTQyYjFiNzA5ZmU1NzMyZTM3ZmY3KTsKICAgICAgICAgICAgCiAgICAgICAgCiAgICAgICAgICAgIAogICAgICAgICAgICB2YXIgcG9wdXBfYjAwNGM4YjEzN2RlNDI1NGE2NmNhMDRjZWNlNGE2MDggPSBMLnBvcHVwKHttYXhXaWR0aDogJzMwMCd9KTsKCiAgICAgICAgICAgIAogICAgICAgICAgICAgICAgdmFyIGh0bWxfOWE5MDYzM2M4NDllNDcwOGJiZjJhMzM1Yjc3ZGI0NTIgPSAkKCcgICAgICAgICA8ZGl2IGlkPSJodG1sXzlhOTA2MzNjODQ5ZTQ3MDhiYmYyYTMzNWI3N2RiNDUyIiAgICAgICAgICAgICAgICAgc3R5bGU9IndpZHRoOiAxMDAuMCU7IGhlaWdodDogMTAwLjAlOyI+ICAgICAgICAgICAgICAgICBQYW5hbWE8L2Rpdj4gICAgICAgICAgICAgICAgICcpWzBdOwogICAgICAgICAgICAgICAgcG9wdXBfYjAwNGM4YjEzN2RlNDI1NGE2NmNhMDRjZWNlNGE2MDguc2V0Q29udGVudChodG1sXzlhOTA2MzNjODQ5ZTQ3MDhiYmYyYTMzNWI3N2RiNDUyKTsKICAgICAgICAgICAgCgogICAgICAgICAgICBjaXJjbGVfbWFya2VyX2MyNDNkM2E2MGUyZjQ5NTk4NjJjNjZjMGQwNTgyOTYyLmJpbmRQb3B1cChwb3B1cF9iMDA0YzhiMTM3ZGU0MjU0YTY2Y2EwNGNlY2U0YTYwOCk7CgogICAgICAgICAgICAKICAgICAgICAKICAgICAgICAKICAgICAgICAgICAgCgogICAgICAgICAgICB2YXIgY2lyY2xlX21hcmtlcl85MDM3YWUxNDhlZmQ0OGI2YWYzNDE4OTVkOTI2YTI5MiA9IEwuY2lyY2xlKAogICAgICAgICAgICAgICAgWy0xMC4wLC03NS4yNV0sCiAgICAgICAgICAgICAgICA0MTQ3NS42MTkzODA5MzU4OTYsCiAgICAgICAgICAgICAgICB7CiAgICAgICAgICAgICAgICAgICAgY29sb3I6ICdOb25lJywKICAgICAgICAgICAgICAgICAgICBmaWxsQ29sb3I6ICdncmVlbicsCiAgICAgICAgICAgICAgICAgICAgZmlsbE9wYWNpdHk6IDAuNgogICAgICAgICAgICAgICAgICAgIH0KICAgICAgICAgICAgICAgICkKICAgICAgICAgICAgICAgIC5hZGRUbyhtYXBfM2RiYzQzYmFkYzUxNDJiMWI3MDlmZTU3MzJlMzdmZjcpOwogICAgICAgICAgICAKICAgICAgICAKICAgICAgICAgICAgCiAgICAgICAgICAgIHZhciBwb3B1cF9mMTIwZjJiNWQzYmQ0MGQzODEzN2Y1MjYxOTZmZTNkYyA9IEwucG9wdXAoe21heFdpZHRoOiAnMzAwJ30pOwoKICAgICAgICAgICAgCiAgICAgICAgICAgICAgICB2YXIgaHRtbF9kZWQ4YTk5ZjM0ZWQ0MjlhOGFmMjZlOGQwNWUxNDkxZiA9ICQoJyAgICAgICAgIDxkaXYgaWQ9Imh0bWxfZGVkOGE5OWYzNGVkNDI5YThhZjI2ZThkMDVlMTQ5MWYiICAgICAgICAgICAgICAgICBzdHlsZT0id2lkdGg6IDEwMC4wJTsgaGVpZ2h0OiAxMDAuMCU7Ij4gICAgICAgICAgICAgICAgIFBlcnU8L2Rpdj4gICAgICAgICAgICAgICAgICcpWzBdOwogICAgICAgICAgICAgICAgcG9wdXBfZjEyMGYyYjVkM2JkNDBkMzgxMzdmNTI2MTk2ZmUzZGMuc2V0Q29udGVudChodG1sX2RlZDhhOTlmMzRlZDQyOWE4YWYyNmU4ZDA1ZTE0OTFmKTsKICAgICAgICAgICAgCgogICAgICAgICAgICBjaXJjbGVfbWFya2VyXzkwMzdhZTE0OGVmZDQ4YjZhZjM0MTg5NWQ5MjZhMjkyLmJpbmRQb3B1cChwb3B1cF9mMTIwZjJiNWQzYmQ0MGQzODEzN2Y1MjYxOTZmZTNkYyk7CgogICAgICAgICAgICAKICAgICAgICAKICAgICAgICAKICAgICAgICAgICAgCgogICAgICAgICAgICB2YXIgY2lyY2xlX21hcmtlcl81OTUyNmM5Zjk4YzU0MTZlYWZiY2Y3OTY4ZjhhZjE5MiA9IEwuY2lyY2xlKAogICAgICAgICAgICAgICAgWzEzLjAsMTIyLjBdLAogICAgICAgICAgICAgICAgMTg5MDY3LjM2OTU3OTE2MTM3LAogICAgICAgICAgICAgICAgewogICAgICAgICAgICAgICAgICAgIGNvbG9yOiAnTm9uZScsCiAgICAgICAgICAgICAgICAgICAgZmlsbENvbG9yOiAncmVkJywKICAgICAgICAgICAgICAgICAgICBmaWxsT3BhY2l0eTogMC42CiAgICAgICAgICAgICAgICAgICAgfQogICAgICAgICAgICAgICAgKQogICAgICAgICAgICAgICAgLmFkZFRvKG1hcF8zZGJjNDNiYWRjNTE0MmIxYjcwOWZlNTczMmUzN2ZmNyk7CiAgICAgICAgICAgIAogICAgICAgIAogICAgICAgICAgICAKICAgICAgICAgICAgdmFyIHBvcHVwXzQ0YzJiMTYxNTIxMTRkNGU5YjdiN2FkNjJkNWU0MmRlID0gTC5wb3B1cCh7bWF4V2lkdGg6ICczMDAnfSk7CgogICAgICAgICAgICAKICAgICAgICAgICAgICAgIHZhciBodG1sX2E1Y2EyMzFkMWIxNDRkYWU4NDQ5NGRkOTc3NGYzNWEyID0gJCgnICAgICAgICAgPGRpdiBpZD0iaHRtbF9hNWNhMjMxZDFiMTQ0ZGFlODQ0OTRkZDk3NzRmMzVhMiIgICAgICAgICAgICAgICAgIHN0eWxlPSJ3aWR0aDogMTAwLjAlOyBoZWlnaHQ6IDEwMC4wJTsiPiAgICAgICAgICAgICAgICAgUGhpbGlwcGluZXM8L2Rpdj4gICAgICAgICAgICAgICAgICcpWzBdOwogICAgICAgICAgICAgICAgcG9wdXBfNDRjMmIxNjE1MjExNGQ0ZTliN2I3YWQ2MmQ1ZTQyZGUuc2V0Q29udGVudChodG1sX2E1Y2EyMzFkMWIxNDRkYWU4NDQ5NGRkOTc3NGYzNWEyKTsKICAgICAgICAgICAgCgogICAgICAgICAgICBjaXJjbGVfbWFya2VyXzU5NTI2YzlmOThjNTQxNmVhZmJjZjc5NjhmOGFmMTkyLmJpbmRQb3B1cChwb3B1cF80NGMyYjE2MTUyMTE0ZDRlOWI3YjdhZDYyZDVlNDJkZSk7CgogICAgICAgICAgICAKICAgICAgICAKICAgICAgICAKICAgICAgICAgICAgCgogICAgICAgICAgICB2YXIgY2lyY2xlX21hcmtlcl9lMTc3ZWIzMzQ0OGI0OGI2OGNjMDViNWM5N2VlMDkzOCA9IEwuY2lyY2xlKAogICAgICAgICAgICAgICAgWy02LjAsMTQ3LjBdLAogICAgICAgICAgICAgICAgNzA0NzEuMzM1ODg5NTczMTQsCiAgICAgICAgICAgICAgICB7CiAgICAgICAgICAgICAgICAgICAgY29sb3I6ICdOb25lJywKICAgICAgICAgICAgICAgICAgICBmaWxsQ29sb3I6ICdyZWQnLAogICAgICAgICAgICAgICAgICAgIGZpbGxPcGFjaXR5OiAwLjYKICAgICAgICAgICAgICAgICAgICB9CiAgICAgICAgICAgICAgICApCiAgICAgICAgICAgICAgICAuYWRkVG8obWFwXzNkYmM0M2JhZGM1MTQyYjFiNzA5ZmU1NzMyZTM3ZmY3KTsKICAgICAgICAgICAgCiAgICAgICAgCiAgICAgICAgICAgIAogICAgICAgICAgICB2YXIgcG9wdXBfMGM4NTI4YjA1YTcxNDRlMjgwZDc0NzQ3YmNlNGJhMDkgPSBMLnBvcHVwKHttYXhXaWR0aDogJzMwMCd9KTsKCiAgICAgICAgICAgIAogICAgICAgICAgICAgICAgdmFyIGh0bWxfZDNiMmI0MjI4ZWMzNDFmYzhhZDYzMmUzMzkwNjUwMzcgPSAkKCcgICAgICAgICA8ZGl2IGlkPSJodG1sX2QzYjJiNDIyOGVjMzQxZmM4YWQ2MzJlMzM5MDY1MDM3IiAgICAgICAgICAgICAgICAgc3R5bGU9IndpZHRoOiAxMDAuMCU7IGhlaWdodDogMTAwLjAlOyI+ICAgICAgICAgICAgICAgICBQYXB1YSBOZXcgR3VpbmVhPC9kaXY+ICAgICAgICAgICAgICAgICAnKVswXTsKICAgICAgICAgICAgICAgIHBvcHVwXzBjODUyOGIwNWE3MTQ0ZTI4MGQ3NDc0N2JjZTRiYTA5LnNldENvbnRlbnQoaHRtbF9kM2IyYjQyMjhlYzM0MWZjOGFkNjMyZTMzOTA2NTAzNyk7CiAgICAgICAgICAgIAoKICAgICAgICAgICAgY2lyY2xlX21hcmtlcl9lMTc3ZWIzMzQ0OGI0OGI2OGNjMDViNWM5N2VlMDkzOC5iaW5kUG9wdXAocG9wdXBfMGM4NTI4YjA1YTcxNDRlMjgwZDc0NzQ3YmNlNGJhMDkpOwoKICAgICAgICAgICAgCiAgICAgICAgCiAgICAgICAgCiAgICAgICAgICAgIAoKICAgICAgICAgICAgdmFyIGNpcmNsZV9tYXJrZXJfMzljNGMxMGE5MzBhNDQ5ZGExMTQwNDVlYWZlNDAyMjUgPSBMLmNpcmNsZSgKICAgICAgICAgICAgICAgIFs1Mi4wLDIwLjBdLAogICAgICAgICAgICAgICAgMC4wLAogICAgICAgICAgICAgICAgewogICAgICAgICAgICAgICAgICAgIGNvbG9yOiAnTm9uZScsCiAgICAgICAgICAgICAgICAgICAgZmlsbENvbG9yOiAnYmxhY2snLAogICAgICAgICAgICAgICAgICAgIGZpbGxPcGFjaXR5OiAwLjYKICAgICAgICAgICAgICAgICAgICB9CiAgICAgICAgICAgICAgICApCiAgICAgICAgICAgICAgICAuYWRkVG8obWFwXzNkYmM0M2JhZGM1MTQyYjFiNzA5ZmU1NzMyZTM3ZmY3KTsKICAgICAgICAgICAgCiAgICAgICAgCiAgICAgICAgICAgIAogICAgICAgICAgICB2YXIgcG9wdXBfOTMyZDQxZTcyZTFiNDU4MGE2NGQ4Y2UwMmNhZTgyZGEgPSBMLnBvcHVwKHttYXhXaWR0aDogJzMwMCd9KTsKCiAgICAgICAgICAgIAogICAgICAgICAgICAgICAgdmFyIGh0bWxfZDcyN2QwMDlhMmEzNDkwMThlNjRiMjI5YjlhMjA4MzIgPSAkKCcgICAgICAgICA8ZGl2IGlkPSJodG1sX2Q3MjdkMDA5YTJhMzQ5MDE4ZTY0YjIyOWI5YTIwODMyIiAgICAgICAgICAgICAgICAgc3R5bGU9IndpZHRoOiAxMDAuMCU7IGhlaWdodDogMTAwLjAlOyI+ICAgICAgICAgICAgICAgICBQb2xhbmQ8L2Rpdj4gICAgICAgICAgICAgICAgICcpWzBdOwogICAgICAgICAgICAgICAgcG9wdXBfOTMyZDQxZTcyZTFiNDU4MGE2NGQ4Y2UwMmNhZTgyZGEuc2V0Q29udGVudChodG1sX2Q3MjdkMDA5YTJhMzQ5MDE4ZTY0YjIyOWI5YTIwODMyKTsKICAgICAgICAgICAgCgogICAgICAgICAgICBjaXJjbGVfbWFya2VyXzM5YzRjMTBhOTMwYTQ0OWRhMTE0MDQ1ZWFmZTQwMjI1LmJpbmRQb3B1cChwb3B1cF85MzJkNDFlNzJlMWI0NTgwYTY0ZDhjZTAyY2FlODJkYSk7CgogICAgICAgICAgICAKICAgICAgICAKICAgICAgICAKICAgICAgICAgICAgCgogICAgICAgICAgICB2YXIgY2lyY2xlX21hcmtlcl9kZDdhZDczN2NkYjI0NGZiYTkyM2IwY2YwN2QzYjg4YiA9IEwuY2lyY2xlKAogICAgICAgICAgICAgICAgWy0yMy4zMzMzMywtNTguMF0sCiAgICAgICAgICAgICAgICAxOTUyNi42NDQ2NjQ2NDE1MDYsCiAgICAgICAgICAgICAgICB7CiAgICAgICAgICAgICAgICAgICAgY29sb3I6ICdOb25lJywKICAgICAgICAgICAgICAgICAgICBmaWxsQ29sb3I6ICdncmVlbicsCiAgICAgICAgICAgICAgICAgICAgZmlsbE9wYWNpdHk6IDAuNgogICAgICAgICAgICAgICAgICAgIH0KICAgICAgICAgICAgICAgICkKICAgICAgICAgICAgICAgIC5hZGRUbyhtYXBfM2RiYzQzYmFkYzUxNDJiMWI3MDlmZTU3MzJlMzdmZjcpOwogICAgICAgICAgICAKICAgICAgICAKICAgICAgICAgICAgCiAgICAgICAgICAgIHZhciBwb3B1cF9lMzAzZmIzZjQyZDE0Mjg2ODg1MmRmNjc0ZWVkNTEyNCA9IEwucG9wdXAoe21heFdpZHRoOiAnMzAwJ30pOwoKICAgICAgICAgICAgCiAgICAgICAgICAgICAgICB2YXIgaHRtbF8yY2UxYjAxYWE1NTc0ZmI1ODYyN2Y1MWU2NjVmMTBkNSA9ICQoJyAgICAgICAgIDxkaXYgaWQ9Imh0bWxfMmNlMWIwMWFhNTU3NGZiNTg2MjdmNTFlNjY1ZjEwZDUiICAgICAgICAgICAgICAgICBzdHlsZT0id2lkdGg6IDEwMC4wJTsgaGVpZ2h0OiAxMDAuMCU7Ij4gICAgICAgICAgICAgICAgIFBhcmFndWF5PC9kaXY+ICAgICAgICAgICAgICAgICAnKVswXTsKICAgICAgICAgICAgICAgIHBvcHVwX2UzMDNmYjNmNDJkMTQyODY4ODUyZGY2NzRlZWQ1MTI0LnNldENvbnRlbnQoaHRtbF8yY2UxYjAxYWE1NTc0ZmI1ODYyN2Y1MWU2NjVmMTBkNSk7CiAgICAgICAgICAgIAoKICAgICAgICAgICAgY2lyY2xlX21hcmtlcl9kZDdhZDczN2NkYjI0NGZiYTkyM2IwY2YwN2QzYjg4Yi5iaW5kUG9wdXAocG9wdXBfZTMwM2ZiM2Y0MmQxNDI4Njg4NTJkZjY3NGVlZDUxMjQpOwoKICAgICAgICAgICAgCiAgICAgICAgCiAgICAgICAgCiAgICAgICAgICAgIAoKICAgICAgICAgICAgdmFyIGNpcmNsZV9tYXJrZXJfZjBiZTY2YTYwYmIyNGJiMGFkZTM1MmVlN2Q3MzMyNWUgPSBMLmNpcmNsZSgKICAgICAgICAgICAgICAgIFszMS45MjE1NzAwMDAwMDAwMDMsMzUuMjAzMjldLAogICAgICAgICAgICAgICAgMjU2OC4yNjk2NjE2ODIwMDMsCiAgICAgICAgICAgICAgICB7CiAgICAgICAgICAgICAgICAgICAgY29sb3I6ICdOb25lJywKICAgICAgICAgICAgICAgICAgICBmaWxsQ29sb3I6ICdyZWQnLAogICAgICAgICAgICAgICAgICAgIGZpbGxPcGFjaXR5OiAwLjYKICAgICAgICAgICAgICAgICAgICB9CiAgICAgICAgICAgICAgICApCiAgICAgICAgICAgICAgICAuYWRkVG8obWFwXzNkYmM0M2JhZGM1MTQyYjFiNzA5ZmU1NzMyZTM3ZmY3KTsKICAgICAgICAgICAgCiAgICAgICAgCiAgICAgICAgICAgIAogICAgICAgICAgICB2YXIgcG9wdXBfMzcyM2QwMzQ2MjViNDJkYzhiYmJlMGRmMTVkZjU2MDEgPSBMLnBvcHVwKHttYXhXaWR0aDogJzMwMCd9KTsKCiAgICAgICAgICAgIAogICAgICAgICAgICAgICAgdmFyIGh0bWxfN2NjZjI3ZmVlODUyNDE3Yzg3OGRiYjE4OGRlODJhMTkgPSAkKCcgICAgICAgICA8ZGl2IGlkPSJodG1sXzdjY2YyN2ZlZTg1MjQxN2M4NzhkYmIxODhkZTgyYTE5IiAgICAgICAgICAgICAgICAgc3R5bGU9IndpZHRoOiAxMDAuMCU7IGhlaWdodDogMTAwLjAlOyI+ICAgICAgICAgICAgICAgICBQYWxlc3RpbmU8L2Rpdj4gICAgICAgICAgICAgICAgICcpWzBdOwogICAgICAgICAgICAgICAgcG9wdXBfMzcyM2QwMzQ2MjViNDJkYzhiYmJlMGRmMTVkZjU2MDEuc2V0Q29udGVudChodG1sXzdjY2YyN2ZlZTg1MjQxN2M4NzhkYmIxODhkZTgyYTE5KTsKICAgICAgICAgICAgCgogICAgICAgICAgICBjaXJjbGVfbWFya2VyX2YwYmU2NmE2MGJiMjRiYjBhZGUzNTJlZTdkNzMzMjVlLmJpbmRQb3B1cChwb3B1cF8zNzIzZDAzNDYyNWI0MmRjOGJiYmUwZGYxNWRmNTYwMSk7CgogICAgICAgICAgICAKICAgICAgICAKICAgICAgICAKICAgICAgICAgICAgCgogICAgICAgICAgICB2YXIgY2lyY2xlX21hcmtlcl8xY2VmMmM3NjBiZWY0MGU0YjJmNjM1YTcwMTcxYzM4OCA9IEwuY2lyY2xlKAogICAgICAgICAgICAgICAgWzQ2LjAsMjUuMF0sCiAgICAgICAgICAgICAgICAwLjAsCiAgICAgICAgICAgICAgICB7CiAgICAgICAgICAgICAgICAgICAgY29sb3I6ICdOb25lJywKICAgICAgICAgICAgICAgICAgICBmaWxsQ29sb3I6ICdibGFjaycsCiAgICAgICAgICAgICAgICAgICAgZmlsbE9wYWNpdHk6IDAuNgogICAgICAgICAgICAgICAgICAgIH0KICAgICAgICAgICAgICAgICkKICAgICAgICAgICAgICAgIC5hZGRUbyhtYXBfM2RiYzQzYmFkYzUxNDJiMWI3MDlmZTU3MzJlMzdmZjcpOwogICAgICAgICAgICAKICAgICAgICAKICAgICAgICAgICAgCiAgICAgICAgICAgIHZhciBwb3B1cF9iNzk2OGRlZTI0YzY0NWI0ODVkNTllZWU2MmYxNDFiMiA9IEwucG9wdXAoe21heFdpZHRoOiAnMzAwJ30pOwoKICAgICAgICAgICAgCiAgICAgICAgICAgICAgICB2YXIgaHRtbF9iOGMwMzk4NzUyMmQ0NjJiYjhiYTcwMzM3NzE5YzZhZiA9ICQoJyAgICAgICAgIDxkaXYgaWQ9Imh0bWxfYjhjMDM5ODc1MjJkNDYyYmI4YmE3MDMzNzcxOWM2YWYiICAgICAgICAgICAgICAgICBzdHlsZT0id2lkdGg6IDEwMC4wJTsgaGVpZ2h0OiAxMDAuMCU7Ij4gICAgICAgICAgICAgICAgIFJvbWFuaWE8L2Rpdj4gICAgICAgICAgICAgICAgICcpWzBdOwogICAgICAgICAgICAgICAgcG9wdXBfYjc5NjhkZWUyNGM2NDViNDg1ZDU5ZWVlNjJmMTQxYjIuc2V0Q29udGVudChodG1sX2I4YzAzOTg3NTIyZDQ2MmJiOGJhNzAzMzc3MTljNmFmKTsKICAgICAgICAgICAgCgogICAgICAgICAgICBjaXJjbGVfbWFya2VyXzFjZWYyYzc2MGJlZjQwZTRiMmY2MzVhNzAxNzFjMzg4LmJpbmRQb3B1cChwb3B1cF9iNzk2OGRlZTI0YzY0NWI0ODVkNTllZWU2MmYxNDFiMik7CgogICAgICAgICAgICAKICAgICAgICAKICAgICAgICAKICAgICAgICAgICAgCgogICAgICAgICAgICB2YXIgY2lyY2xlX21hcmtlcl8xYTM2ZTA5MTIyYWI0YWQxODFmZGRmYTFkNjYyOTFiNiA9IEwuY2lyY2xlKAogICAgICAgICAgICAgICAgWzYwLjAsMTAwLjBdLAogICAgICAgICAgICAgICAgOTMyOC45MjM3MDQxNDQ1MjUsCiAgICAgICAgICAgICAgICB7CiAgICAgICAgICAgICAgICAgICAgY29sb3I6ICdOb25lJywKICAgICAgICAgICAgICAgICAgICBmaWxsQ29sb3I6ICdibGFjaycsCiAgICAgICAgICAgICAgICAgICAgZmlsbE9wYWNpdHk6IDAuNgogICAgICAgICAgICAgICAgICAgIH0KICAgICAgICAgICAgICAgICkKICAgICAgICAgICAgICAgIC5hZGRUbyhtYXBfM2RiYzQzYmFkYzUxNDJiMWI3MDlmZTU3MzJlMzdmZjcpOwogICAgICAgICAgICAKICAgICAgICAKICAgICAgICAgICAgCiAgICAgICAgICAgIHZhciBwb3B1cF8yYjBkNTZiNWIwMzM0ZWQyYTBhN2ExMDVlYzA1YjU1ZiA9IEwucG9wdXAoe21heFdpZHRoOiAnMzAwJ30pOwoKICAgICAgICAgICAgCiAgICAgICAgICAgICAgICB2YXIgaHRtbF82OTY3YzM3NDc4NDk0NTQyYjRmNGFiYjBmMTAxM2Q4YSA9ICQoJyAgICAgICAgIDxkaXYgaWQ9Imh0bWxfNjk2N2MzNzQ3ODQ5NDU0MmI0ZjRhYmIwZjEwMTNkOGEiICAgICAgICAgICAgICAgICBzdHlsZT0id2lkdGg6IDEwMC4wJTsgaGVpZ2h0OiAxMDAuMCU7Ij4gICAgICAgICAgICAgICAgIFJ1c3NpYTwvZGl2PiAgICAgICAgICAgICAgICAgJylbMF07CiAgICAgICAgICAgICAgICBwb3B1cF8yYjBkNTZiNWIwMzM0ZWQyYTBhN2ExMDVlYzA1YjU1Zi5zZXRDb250ZW50KGh0bWxfNjk2N2MzNzQ3ODQ5NDU0MmI0ZjRhYmIwZjEwMTNkOGEpOwogICAgICAgICAgICAKCiAgICAgICAgICAgIGNpcmNsZV9tYXJrZXJfMWEzNmUwOTEyMmFiNGFkMTgxZmRkZmExZDY2MjkxYjYuYmluZFBvcHVwKHBvcHVwXzJiMGQ1NmI1YjAzMzRlZDJhMGE3YTEwNWVjMDViNTVmKTsKCiAgICAgICAgICAgIAogICAgICAgIAogICAgICAgIAogICAgICAgICAgICAKCiAgICAgICAgICAgIHZhciBjaXJjbGVfbWFya2VyX2FkNWYxYzljNGFiODRlMjJhNmU2MDMzOGViN2VhNDUzID0gTC5jaXJjbGUoCiAgICAgICAgICAgICAgICBbLTIuMCwzMC4wXSwKICAgICAgICAgICAgICAgIDExNDY1NC4wNTQ1MDkyNjcxNSwKICAgICAgICAgICAgICAgIHsKICAgICAgICAgICAgICAgICAgICBjb2xvcjogJ05vbmUnLAogICAgICAgICAgICAgICAgICAgIGZpbGxDb2xvcjogJ2JsdWUnLAogICAgICAgICAgICAgICAgICAgIGZpbGxPcGFjaXR5OiAwLjYKICAgICAgICAgICAgICAgICAgICB9CiAgICAgICAgICAgICAgICApCiAgICAgICAgICAgICAgICAuYWRkVG8obWFwXzNkYmM0M2JhZGM1MTQyYjFiNzA5ZmU1NzMyZTM3ZmY3KTsKICAgICAgICAgICAgCiAgICAgICAgCiAgICAgICAgICAgIAogICAgICAgICAgICB2YXIgcG9wdXBfMTQ1MGQzMjZlNzczNDI4YzgyYWE4Mjk4MmZhY2JiYTUgPSBMLnBvcHVwKHttYXhXaWR0aDogJzMwMCd9KTsKCiAgICAgICAgICAgIAogICAgICAgICAgICAgICAgdmFyIGh0bWxfYjU3NTQzZTA5NWU5NGZiZjg0MDVmYWFhMjc1NzFiNTkgPSAkKCcgICAgICAgICA8ZGl2IGlkPSJodG1sX2I1NzU0M2UwOTVlOTRmYmY4NDA1ZmFhYTI3NTcxYjU5IiAgICAgICAgICAgICAgICAgc3R5bGU9IndpZHRoOiAxMDAuMCU7IGhlaWdodDogMTAwLjAlOyI+ICAgICAgICAgICAgICAgICBSd2FuZGE8L2Rpdj4gICAgICAgICAgICAgICAgICcpWzBdOwogICAgICAgICAgICAgICAgcG9wdXBfMTQ1MGQzMjZlNzczNDI4YzgyYWE4Mjk4MmZhY2JiYTUuc2V0Q29udGVudChodG1sX2I1NzU0M2UwOTVlOTRmYmY4NDA1ZmFhYTI3NTcxYjU5KTsKICAgICAgICAgICAgCgogICAgICAgICAgICBjaXJjbGVfbWFya2VyX2FkNWYxYzljNGFiODRlMjJhNmU2MDMzOGViN2VhNDUzLmJpbmRQb3B1cChwb3B1cF8xNDUwZDMyNmU3NzM0MjhjODJhYTgyOTgyZmFjYmJhNSk7CgogICAgICAgICAgICAKICAgICAgICAKICAgICAgICAKICAgICAgICAgICAgCgogICAgICAgICAgICB2YXIgY2lyY2xlX21hcmtlcl81OGM4YTdhMzIzMjA0MDBhOTQ2M2I1MmUzYzQzNDFmNCA9IEwuY2lyY2xlKAogICAgICAgICAgICAgICAgWzE2LjAsMzAuMF0sCiAgICAgICAgICAgICAgICAxMjAzNzYuMjU1OTYxNjIxOTIsCiAgICAgICAgICAgICAgICB7CiAgICAgICAgICAgICAgICAgICAgY29sb3I6ICdOb25lJywKICAgICAgICAgICAgICAgICAgICBmaWxsQ29sb3I6ICdibHVlJywKICAgICAgICAgICAgICAgICAgICBmaWxsT3BhY2l0eTogMC42CiAgICAgICAgICAgICAgICAgICAgfQogICAgICAgICAgICAgICAgKQogICAgICAgICAgICAgICAgLmFkZFRvKG1hcF8zZGJjNDNiYWRjNTE0MmIxYjcwOWZlNTczMmUzN2ZmNyk7CiAgICAgICAgICAgIAogICAgICAgIAogICAgICAgICAgICAKICAgICAgICAgICAgdmFyIHBvcHVwXzFmMTZjNzJhMTQ3MTQ4YWI4YzYwYTU4OWVmNGNhYWJkID0gTC5wb3B1cCh7bWF4V2lkdGg6ICczMDAnfSk7CgogICAgICAgICAgICAKICAgICAgICAgICAgICAgIHZhciBodG1sXzk0OTE3NjFlZTljNjRhY2RiZmRiNzM0MTM2NTRkMmNiID0gJCgnICAgICAgICAgPGRpdiBpZD0iaHRtbF85NDkxNzYxZWU5YzY0YWNkYmZkYjczNDEzNjU0ZDJjYiIgICAgICAgICAgICAgICAgIHN0eWxlPSJ3aWR0aDogMTAwLjAlOyBoZWlnaHQ6IDEwMC4wJTsiPiAgICAgICAgICAgICAgICAgU3VkYW48L2Rpdj4gICAgICAgICAgICAgICAgICcpWzBdOwogICAgICAgICAgICAgICAgcG9wdXBfMWYxNmM3MmExNDcxNDhhYjhjNjBhNTg5ZWY0Y2FhYmQuc2V0Q29udGVudChodG1sXzk0OTE3NjFlZTljNjRhY2RiZmRiNzM0MTM2NTRkMmNiKTsKICAgICAgICAgICAgCgogICAgICAgICAgICBjaXJjbGVfbWFya2VyXzU4YzhhN2EzMjMyMDQwMGE5NDYzYjUyZTNjNDM0MWY0LmJpbmRQb3B1cChwb3B1cF8xZjE2YzcyYTE0NzE0OGFiOGM2MGE1ODllZjRjYWFiZCk7CgogICAgICAgICAgICAKICAgICAgICAKICAgICAgICAKICAgICAgICAgICAgCgogICAgICAgICAgICB2YXIgY2lyY2xlX21hcmtlcl9jMmUyMTdkNTBhM2I0OTZmYjRlMTllM2Q0NjUyOGYwNyA9IEwuY2lyY2xlKAogICAgICAgICAgICAgICAgWzE0LjUsLTE0LjI1XSwKICAgICAgICAgICAgICAgIDk0NTY2LjI1MTE3NTc2MzQzLAogICAgICAgICAgICAgICAgewogICAgICAgICAgICAgICAgICAgIGNvbG9yOiAnTm9uZScsCiAgICAgICAgICAgICAgICAgICAgZmlsbENvbG9yOiAnYmx1ZScsCiAgICAgICAgICAgICAgICAgICAgZmlsbE9wYWNpdHk6IDAuNgogICAgICAgICAgICAgICAgICAgIH0KICAgICAgICAgICAgICAgICkKICAgICAgICAgICAgICAgIC5hZGRUbyhtYXBfM2RiYzQzYmFkYzUxNDJiMWI3MDlmZTU3MzJlMzdmZjcpOwogICAgICAgICAgICAKICAgICAgICAKICAgICAgICAgICAgCiAgICAgICAgICAgIHZhciBwb3B1cF9mNGRjNWEzOGMyYTE0NTljOTQ3MWM1OGIzZjM1NjZiZSA9IEwucG9wdXAoe21heFdpZHRoOiAnMzAwJ30pOwoKICAgICAgICAgICAgCiAgICAgICAgICAgICAgICB2YXIgaHRtbF80MmFiN2ZhNmI3MzI0NWQ3OTZmYTU5YjE4MjI1OWQ3ZCA9ICQoJyAgICAgICAgIDxkaXYgaWQ9Imh0bWxfNDJhYjdmYTZiNzMyNDVkNzk2ZmE1OWIxODIyNTlkN2QiICAgICAgICAgICAgICAgICBzdHlsZT0id2lkdGg6IDEwMC4wJTsgaGVpZ2h0OiAxMDAuMCU7Ij4gICAgICAgICAgICAgICAgIFNlbmVnYWw8L2Rpdj4gICAgICAgICAgICAgICAgICcpWzBdOwogICAgICAgICAgICAgICAgcG9wdXBfZjRkYzVhMzhjMmExNDU5Yzk0NzFjNThiM2YzNTY2YmUuc2V0Q29udGVudChodG1sXzQyYWI3ZmE2YjczMjQ1ZDc5NmZhNTliMTgyMjU5ZDdkKTsKICAgICAgICAgICAgCgogICAgICAgICAgICBjaXJjbGVfbWFya2VyX2MyZTIxN2Q1MGEzYjQ5NmZiNGUxOWUzZDQ2NTI4ZjA3LmJpbmRQb3B1cChwb3B1cF9mNGRjNWEzOGMyYTE0NTljOTQ3MWM1OGIzZjM1NjZiZSk7CgogICAgICAgICAgICAKICAgICAgICAKICAgICAgICAKICAgICAgICAgICAgCgogICAgICAgICAgICB2YXIgY2lyY2xlX21hcmtlcl83MzM0ZTk2Yzg2ODg0OTg5OTFhN2U1NTRjYmQ1MDFhMyA9IEwuY2lyY2xlKAogICAgICAgICAgICAgICAgWzguNSwtMTEuNV0sCiAgICAgICAgICAgICAgICA4MTQxMy44NTAyMTMyNjk4OCwKICAgICAgICAgICAgICAgIHsKICAgICAgICAgICAgICAgICAgICBjb2xvcjogJ05vbmUnLAogICAgICAgICAgICAgICAgICAgIGZpbGxDb2xvcjogJ2JsdWUnLAogICAgICAgICAgICAgICAgICAgIGZpbGxPcGFjaXR5OiAwLjYKICAgICAgICAgICAgICAgICAgICB9CiAgICAgICAgICAgICAgICApCiAgICAgICAgICAgICAgICAuYWRkVG8obWFwXzNkYmM0M2JhZGM1MTQyYjFiNzA5ZmU1NzMyZTM3ZmY3KTsKICAgICAgICAgICAgCiAgICAgICAgCiAgICAgICAgICAgIAogICAgICAgICAgICB2YXIgcG9wdXBfZGZkMWQ2ZDIyMmZmNGMxNzkzYTZkYzBmNWQ4ZDBkZjggPSBMLnBvcHVwKHttYXhXaWR0aDogJzMwMCd9KTsKCiAgICAgICAgICAgIAogICAgICAgICAgICAgICAgdmFyIGh0bWxfMjQzYTJjOWIxOGViNGNlNjgyMWYxMzYyYjIyZDAyNGQgPSAkKCcgICAgICAgICA8ZGl2IGlkPSJodG1sXzI0M2EyYzliMThlYjRjZTY4MjFmMTM2MmIyMmQwMjRkIiAgICAgICAgICAgICAgICAgc3R5bGU9IndpZHRoOiAxMDAuMCU7IGhlaWdodDogMTAwLjAlOyI+ICAgICAgICAgICAgICAgICBTaWVycmEgTGVvbmU8L2Rpdj4gICAgICAgICAgICAgICAgICcpWzBdOwogICAgICAgICAgICAgICAgcG9wdXBfZGZkMWQ2ZDIyMmZmNGMxNzkzYTZkYzBmNWQ4ZDBkZjguc2V0Q29udGVudChodG1sXzI0M2EyYzliMThlYjRjZTY4MjFmMTM2MmIyMmQwMjRkKTsKICAgICAgICAgICAgCgogICAgICAgICAgICBjaXJjbGVfbWFya2VyXzczMzRlOTZjODY4ODQ5ODk5MWE3ZTU1NGNiZDUwMWEzLmJpbmRQb3B1cChwb3B1cF9kZmQxZDZkMjIyZmY0YzE3OTNhNmRjMGY1ZDhkMGRmOCk7CgogICAgICAgICAgICAKICAgICAgICAKICAgICAgICAKICAgICAgICAgICAgCgogICAgICAgICAgICB2YXIgY2lyY2xlX21hcmtlcl9jYmM1YjRlMjkzNWI0Y2UyOTM2YjVjMWQ0ZjUyMGEyZCA9IEwuY2lyY2xlKAogICAgICAgICAgICAgICAgWzEzLjgzMzMyOTk5OTk5OTk5OCwtODguOTE2NjddLAogICAgICAgICAgICAgICAgMTc1OTQuNzM1NTIxNjU4OTE3LAogICAgICAgICAgICAgICAgewogICAgICAgICAgICAgICAgICAgIGNvbG9yOiAnTm9uZScsCiAgICAgICAgICAgICAgICAgICAgZmlsbENvbG9yOiAnZ3JlZW4nLAogICAgICAgICAgICAgICAgICAgIGZpbGxPcGFjaXR5OiAwLjYKICAgICAgICAgICAgICAgICAgICB9CiAgICAgICAgICAgICAgICApCiAgICAgICAgICAgICAgICAuYWRkVG8obWFwXzNkYmM0M2JhZGM1MTQyYjFiNzA5ZmU1NzMyZTM3ZmY3KTsKICAgICAgICAgICAgCiAgICAgICAgCiAgICAgICAgICAgIAogICAgICAgICAgICB2YXIgcG9wdXBfNjBlZTg0ODFmMTIwNDE4M2FkNTY5ODY4YWY4NGU0ZWEgPSBMLnBvcHVwKHttYXhXaWR0aDogJzMwMCd9KTsKCiAgICAgICAgICAgIAogICAgICAgICAgICAgICAgdmFyIGh0bWxfMDZmYjU4OTAwMDE0NDUwN2I4MDc5MWY3ZGQxNGY0ZDAgPSAkKCcgICAgICAgICA8ZGl2IGlkPSJodG1sXzA2ZmI1ODkwMDAxNDQ1MDdiODA3OTFmN2RkMTRmNGQwIiAgICAgICAgICAgICAgICAgc3R5bGU9IndpZHRoOiAxMDAuMCU7IGhlaWdodDogMTAwLjAlOyI+ICAgICAgICAgICAgICAgICBFbCBTYWx2YWRvcjwvZGl2PiAgICAgICAgICAgICAgICAgJylbMF07CiAgICAgICAgICAgICAgICBwb3B1cF82MGVlODQ4MWYxMjA0MTgzYWQ1Njk4NjhhZjg0ZTRlYS5zZXRDb250ZW50KGh0bWxfMDZmYjU4OTAwMDE0NDUwN2I4MDc5MWY3ZGQxNGY0ZDApOwogICAgICAgICAgICAKCiAgICAgICAgICAgIGNpcmNsZV9tYXJrZXJfY2JjNWI0ZTI5MzViNGNlMjkzNmI1YzFkNGY1MjBhMmQuYmluZFBvcHVwKHBvcHVwXzYwZWU4NDgxZjEyMDQxODNhZDU2OTg2OGFmODRlNGVhKTsKCiAgICAgICAgICAgIAogICAgICAgIAogICAgICAgIAogICAgICAgICAgICAKCiAgICAgICAgICAgIHZhciBjaXJjbGVfbWFya2VyX2EyMWJjNGU2ZjJmMDRiZGNhYTg4NjZjOWE5ODlmYWQ5ID0gTC5jaXJjbGUoCiAgICAgICAgICAgICAgICBbNDQuODE4OTIsMjAuNDU5OTc5OTk5OTk5OTk4XSwKICAgICAgICAgICAgICAgIDMwMjkuODAxODQ3OTc1NTA4LAogICAgICAgICAgICAgICAgewogICAgICAgICAgICAgICAgICAgIGNvbG9yOiAnTm9uZScsCiAgICAgICAgICAgICAgICAgICAgZmlsbENvbG9yOiAnYmxhY2snLAogICAgICAgICAgICAgICAgICAgIGZpbGxPcGFjaXR5OiAwLjYKICAgICAgICAgICAgICAgICAgICB9CiAgICAgICAgICAgICAgICApCiAgICAgICAgICAgICAgICAuYWRkVG8obWFwXzNkYmM0M2JhZGM1MTQyYjFiNzA5ZmU1NzMyZTM3ZmY3KTsKICAgICAgICAgICAgCiAgICAgICAgCiAgICAgICAgICAgIAogICAgICAgICAgICB2YXIgcG9wdXBfMWI2ZTU4MGYyZmM5NGRlNThlNTgyZTY5NzQxZDljMDMgPSBMLnBvcHVwKHttYXhXaWR0aDogJzMwMCd9KTsKCiAgICAgICAgICAgIAogICAgICAgICAgICAgICAgdmFyIGh0bWxfYjkzMWU1OGFmY2ViNGUzYWI4NmZhODI5ZTlkNGNlZTcgPSAkKCcgICAgICAgICA8ZGl2IGlkPSJodG1sX2I5MzFlNThhZmNlYjRlM2FiODZmYTgyOWU5ZDRjZWU3IiAgICAgICAgICAgICAgICAgc3R5bGU9IndpZHRoOiAxMDAuMCU7IGhlaWdodDogMTAwLjAlOyI+ICAgICAgICAgICAgICAgICBTZXJiaWE8L2Rpdj4gICAgICAgICAgICAgICAgICcpWzBdOwogICAgICAgICAgICAgICAgcG9wdXBfMWI2ZTU4MGYyZmM5NGRlNThlNTgyZTY5NzQxZDljMDMuc2V0Q29udGVudChodG1sX2I5MzFlNThhZmNlYjRlM2FiODZmYTgyOWU5ZDRjZWU3KTsKICAgICAgICAgICAgCgogICAgICAgICAgICBjaXJjbGVfbWFya2VyX2EyMWJjNGU2ZjJmMDRiZGNhYTg4NjZjOWE5ODlmYWQ5LmJpbmRQb3B1cChwb3B1cF8xYjZlNTgwZjJmYzk0ZGU1OGU1ODJlNjk3NDFkOWMwMyk7CgogICAgICAgICAgICAKICAgICAgICAKICAgICAgICAKICAgICAgICAgICAgCgogICAgICAgICAgICB2YXIgY2lyY2xlX21hcmtlcl8wYTZjZTMzMGJkN2M0NGVmYmJlNGE3NTZiNzAzMGFlZCA9IEwuY2lyY2xlKAogICAgICAgICAgICAgICAgWzEuMCw3LjBdLAogICAgICAgICAgICAgICAgMTIyNzcuMzU3MTQ1NjE3MDEsCiAgICAgICAgICAgICAgICB7CiAgICAgICAgICAgICAgICAgICAgY29sb3I6ICdOb25lJywKICAgICAgICAgICAgICAgICAgICBmaWxsQ29sb3I6ICdibHVlJywKICAgICAgICAgICAgICAgICAgICBmaWxsT3BhY2l0eTogMC42CiAgICAgICAgICAgICAgICAgICAgfQogICAgICAgICAgICAgICAgKQogICAgICAgICAgICAgICAgLmFkZFRvKG1hcF8zZGJjNDNiYWRjNTE0MmIxYjcwOWZlNTczMmUzN2ZmNyk7CiAgICAgICAgICAgIAogICAgICAgIAogICAgICAgICAgICAKICAgICAgICAgICAgdmFyIHBvcHVwXzJkOTk3ZGM3ZGZhZjQ3ZDNiZTBkNmEyNTBlMTM3NGNkID0gTC5wb3B1cCh7bWF4V2lkdGg6ICczMDAnfSk7CgogICAgICAgICAgICAKICAgICAgICAgICAgICAgIHZhciBodG1sXzJmNTRiNDkyNzRhMzQ3ZTRhZWRjNmRkNzdiMDY2NDIwID0gJCgnICAgICAgICAgPGRpdiBpZD0iaHRtbF8yZjU0YjQ5Mjc0YTM0N2U0YWVkYzZkZDc3YjA2NjQyMCIgICAgICAgICAgICAgICAgIHN0eWxlPSJ3aWR0aDogMTAwLjAlOyBoZWlnaHQ6IDEwMC4wJTsiPiAgICAgICAgICAgICAgICAgU2FvIFRvbWUgYW5kIFByaW5jaXBlPC9kaXY+ICAgICAgICAgICAgICAgICAnKVswXTsKICAgICAgICAgICAgICAgIHBvcHVwXzJkOTk3ZGM3ZGZhZjQ3ZDNiZTBkNmEyNTBlMTM3NGNkLnNldENvbnRlbnQoaHRtbF8yZjU0YjQ5Mjc0YTM0N2U0YWVkYzZkZDc3YjA2NjQyMCk7CiAgICAgICAgICAgIAoKICAgICAgICAgICAgY2lyY2xlX21hcmtlcl8wYTZjZTMzMGJkN2M0NGVmYmJlNGE3NTZiNzAzMGFlZC5iaW5kUG9wdXAocG9wdXBfMmQ5OTdkYzdkZmFmNDdkM2JlMGQ2YTI1MGUxMzc0Y2QpOwoKICAgICAgICAgICAgCiAgICAgICAgCiAgICAgICAgCiAgICAgICAgICAgIAoKICAgICAgICAgICAgdmFyIGNpcmNsZV9tYXJrZXJfZTg5NWVkY2I1NzQyNDNlOGEyOWJkMjc0YzcyM2EyYjEgPSBMLmNpcmNsZSgKICAgICAgICAgICAgICAgIFs0LjAsLTU2LjBdLAogICAgICAgICAgICAgICAgMTI3NzMuNjI5Mzg2OTAyODQzLAogICAgICAgICAgICAgICAgewogICAgICAgICAgICAgICAgICAgIGNvbG9yOiAnTm9uZScsCiAgICAgICAgICAgICAgICAgICAgZmlsbENvbG9yOiAnZ3JlZW4nLAogICAgICAgICAgICAgICAgICAgIGZpbGxPcGFjaXR5OiAwLjYKICAgICAgICAgICAgICAgICAgICB9CiAgICAgICAgICAgICAgICApCiAgICAgICAgICAgICAgICAuYWRkVG8obWFwXzNkYmM0M2JhZGM1MTQyYjFiNzA5ZmU1NzMyZTM3ZmY3KTsKICAgICAgICAgICAgCiAgICAgICAgCiAgICAgICAgICAgIAogICAgICAgICAgICB2YXIgcG9wdXBfYjc0NjU2ZDNlYzMzNGRhYWEyOGY2YzAyOTRiYTEyZWUgPSBMLnBvcHVwKHttYXhXaWR0aDogJzMwMCd9KTsKCiAgICAgICAgICAgIAogICAgICAgICAgICAgICAgdmFyIGh0bWxfOGVkMDcxODQ1YTNlNGRjMDgzMzJmMmYxOGMyYmZjM2QgPSAkKCcgICAgICAgICA8ZGl2IGlkPSJodG1sXzhlZDA3MTg0NWEzZTRkYzA4MzMyZjJmMThjMmJmYzNkIiAgICAgICAgICAgICAgICAgc3R5bGU9IndpZHRoOiAxMDAuMCU7IGhlaWdodDogMTAwLjAlOyI+ICAgICAgICAgICAgICAgICBTdXJpbmFtZTwvZGl2PiAgICAgICAgICAgICAgICAgJylbMF07CiAgICAgICAgICAgICAgICBwb3B1cF9iNzQ2NTZkM2VjMzM0ZGFhYTI4ZjZjMDI5NGJhMTJlZS5zZXRDb250ZW50KGh0bWxfOGVkMDcxODQ1YTNlNGRjMDgzMzJmMmYxOGMyYmZjM2QpOwogICAgICAgICAgICAKCiAgICAgICAgICAgIGNpcmNsZV9tYXJrZXJfZTg5NWVkY2I1NzQyNDNlOGEyOWJkMjc0YzcyM2EyYjEuYmluZFBvcHVwKHBvcHVwX2I3NDY1NmQzZWMzMzRkYWFhMjhmNmMwMjk0YmExMmVlKTsKCiAgICAgICAgICAgIAogICAgICAgIAogICAgICAgIAogICAgICAgICAgICAKCiAgICAgICAgICAgIHZhciBjaXJjbGVfbWFya2VyX2QyNDFkMDY0YzAyNzQ1ODRhMzNlYjUzZDc0YTNhNmIxID0gTC5jaXJjbGUoCiAgICAgICAgICAgICAgICBbNDguNjY2NjcsMTkuNV0sCiAgICAgICAgICAgICAgICA1NzMzLjI5MDM2MzkzOTk5NjUsCiAgICAgICAgICAgICAgICB7CiAgICAgICAgICAgICAgICAgICAgY29sb3I6ICdOb25lJywKICAgICAgICAgICAgICAgICAgICBmaWxsQ29sb3I6ICdibGFjaycsCiAgICAgICAgICAgICAgICAgICAgZmlsbE9wYWNpdHk6IDAuNgogICAgICAgICAgICAgICAgICAgIH0KICAgICAgICAgICAgICAgICkKICAgICAgICAgICAgICAgIC5hZGRUbyhtYXBfM2RiYzQzYmFkYzUxNDJiMWI3MDlmZTU3MzJlMzdmZjcpOwogICAgICAgICAgICAKICAgICAgICAKICAgICAgICAgICAgCiAgICAgICAgICAgIHZhciBwb3B1cF80NGUwZmM4MDAyMjk0YmVjYjZhNTdmMTFlNmNjM2RiMiA9IEwucG9wdXAoe21heFdpZHRoOiAnMzAwJ30pOwoKICAgICAgICAgICAgCiAgICAgICAgICAgICAgICB2YXIgaHRtbF84MDYyY2RiNDA2OTU0NzE3ODliNjkxYmU2NTJmODg1YyA9ICQoJyAgICAgICAgIDxkaXYgaWQ9Imh0bWxfODA2MmNkYjQwNjk1NDcxNzg5YjY5MWJlNjUyZjg4NWMiICAgICAgICAgICAgICAgICBzdHlsZT0id2lkdGg6IDEwMC4wJTsgaGVpZ2h0OiAxMDAuMCU7Ij4gICAgICAgICAgICAgICAgIFNsb3ZhayBSZXB1YmxpYzwvZGl2PiAgICAgICAgICAgICAgICAgJylbMF07CiAgICAgICAgICAgICAgICBwb3B1cF80NGUwZmM4MDAyMjk0YmVjYjZhNTdmMTFlNmNjM2RiMi5zZXRDb250ZW50KGh0bWxfODA2MmNkYjQwNjk1NDcxNzg5YjY5MWJlNjUyZjg4NWMpOwogICAgICAgICAgICAKCiAgICAgICAgICAgIGNpcmNsZV9tYXJrZXJfZDI0MWQwNjRjMDI3NDU4NGEzM2ViNTNkNzRhM2E2YjEuYmluZFBvcHVwKHBvcHVwXzQ0ZTBmYzgwMDIyOTRiZWNiNmE1N2YxMWU2Y2MzZGIyKTsKCiAgICAgICAgICAgIAogICAgICAgIAogICAgICAgIAogICAgICAgICAgICAKCiAgICAgICAgICAgIHZhciBjaXJjbGVfbWFya2VyXzMyY2M0YzFkNWJkNTQ4NmZhZjI0Y2JiODk3Nzk2NTNlID0gTC5jaXJjbGUoCiAgICAgICAgICAgICAgICBbNDYuMDgzMzMsMTUuMF0sCiAgICAgICAgICAgICAgICAwLjAsCiAgICAgICAgICAgICAgICB7CiAgICAgICAgICAgICAgICAgICAgY29sb3I6ICdOb25lJywKICAgICAgICAgICAgICAgICAgICBmaWxsQ29sb3I6ICdibGFjaycsCiAgICAgICAgICAgICAgICAgICAgZmlsbE9wYWNpdHk6IDAuNgogICAgICAgICAgICAgICAgICAgIH0KICAgICAgICAgICAgICAgICkKICAgICAgICAgICAgICAgIC5hZGRUbyhtYXBfM2RiYzQzYmFkYzUxNDJiMWI3MDlmZTU3MzJlMzdmZjcpOwogICAgICAgICAgICAKICAgICAgICAKICAgICAgICAgICAgCiAgICAgICAgICAgIHZhciBwb3B1cF9iMzFmM2M0MzVjYTI0Y2QzYjBkOTY2ZjcyOGQ1MDU4MSA9IEwucG9wdXAoe21heFdpZHRoOiAnMzAwJ30pOwoKICAgICAgICAgICAgCiAgICAgICAgICAgICAgICB2YXIgaHRtbF8zMGQwNmFjNWZmMmU0NGIzYTVlMmExZDAzNjAzZDEzMSA9ICQoJyAgICAgICAgIDxkaXYgaWQ9Imh0bWxfMzBkMDZhYzVmZjJlNDRiM2E1ZTJhMWQwMzYwM2QxMzEiICAgICAgICAgICAgICAgICBzdHlsZT0id2lkdGg6IDEwMC4wJTsgaGVpZ2h0OiAxMDAuMCU7Ij4gICAgICAgICAgICAgICAgIFNsb3ZlbmlhPC9kaXY+ICAgICAgICAgICAgICAgICAnKVswXTsKICAgICAgICAgICAgICAgIHBvcHVwX2IzMWYzYzQzNWNhMjRjZDNiMGQ5NjZmNzI4ZDUwNTgxLnNldENvbnRlbnQoaHRtbF8zMGQwNmFjNWZmMmU0NGIzYTVlMmExZDAzNjAzZDEzMSk7CiAgICAgICAgICAgIAoKICAgICAgICAgICAgY2lyY2xlX21hcmtlcl8zMmNjNGMxZDViZDU0ODZmYWYyNGNiYjg5Nzc5NjUzZS5iaW5kUG9wdXAocG9wdXBfYjMxZjNjNDM1Y2EyNGNkM2IwZDk2NmY3MjhkNTA1ODEpOwoKICAgICAgICAgICAgCiAgICAgICAgCiAgICAgICAgCiAgICAgICAgICAgIAoKICAgICAgICAgICAgdmFyIGNpcmNsZV9tYXJrZXJfODQzZTU0Mjc2YmM5NDc4MGEzMTYzZWEwNjE3OWY4MDIgPSBMLmNpcmNsZSgKICAgICAgICAgICAgICAgIFs2Mi4wLDE1LjBdLAogICAgICAgICAgICAgICAgODE1Ny40MzIyMjg4OTA1MjA1LAogICAgICAgICAgICAgICAgewogICAgICAgICAgICAgICAgICAgIGNvbG9yOiAnTm9uZScsCiAgICAgICAgICAgICAgICAgICAgZmlsbENvbG9yOiAnYmxhY2snLAogICAgICAgICAgICAgICAgICAgIGZpbGxPcGFjaXR5OiAwLjYKICAgICAgICAgICAgICAgICAgICB9CiAgICAgICAgICAgICAgICApCiAgICAgICAgICAgICAgICAuYWRkVG8obWFwXzNkYmM0M2JhZGM1MTQyYjFiNzA5ZmU1NzMyZTM3ZmY3KTsKICAgICAgICAgICAgCiAgICAgICAgCiAgICAgICAgICAgIAogICAgICAgICAgICB2YXIgcG9wdXBfNmI4ZGM5NGY5MWM0NDA0NWJiOTZjYjA2YThmYTc3YjMgPSBMLnBvcHVwKHttYXhXaWR0aDogJzMwMCd9KTsKCiAgICAgICAgICAgIAogICAgICAgICAgICAgICAgdmFyIGh0bWxfNmUzM2Y3NTdmZTdlNDNjMGI1N2VmZTk1ZjgzNjljMjIgPSAkKCcgICAgICAgICA8ZGl2IGlkPSJodG1sXzZlMzNmNzU3ZmU3ZTQzYzBiNTdlZmU5NWY4MzY5YzIyIiAgICAgICAgICAgICAgICAgc3R5bGU9IndpZHRoOiAxMDAuMCU7IGhlaWdodDogMTAwLjAlOyI+ICAgICAgICAgICAgICAgICBTd2VkZW48L2Rpdj4gICAgICAgICAgICAgICAgICcpWzBdOwogICAgICAgICAgICAgICAgcG9wdXBfNmI4ZGM5NGY5MWM0NDA0NWJiOTZjYjA2YThmYTc3YjMuc2V0Q29udGVudChodG1sXzZlMzNmNzU3ZmU3ZTQzYzBiNTdlZmU5NWY4MzY5YzIyKTsKICAgICAgICAgICAgCgogICAgICAgICAgICBjaXJjbGVfbWFya2VyXzg0M2U1NDI3NmJjOTQ3ODBhMzE2M2VhMDYxNzlmODAyLmJpbmRQb3B1cChwb3B1cF82YjhkYzk0ZjkxYzQ0MDQ1YmI5NmNiMDZhOGZhNzdiMyk7CgogICAgICAgICAgICAKICAgICAgICAKICAgICAgICAKICAgICAgICAgICAgCgogICAgICAgICAgICB2YXIgY2lyY2xlX21hcmtlcl80OTNiM2QyMDg4Mzc0NjMwYmYzZWEzNDg1NGNlNGYyOCA9IEwuY2lyY2xlKAogICAgICAgICAgICAgICAgWy0yNi41LDMxLjVdLAogICAgICAgICAgICAgICAgMzA4MjUuMzgzMTMwODQ3NzYsCiAgICAgICAgICAgICAgICB7CiAgICAgICAgICAgICAgICAgICAgY29sb3I6ICdOb25lJywKICAgICAgICAgICAgICAgICAgICBmaWxsQ29sb3I6ICdibHVlJywKICAgICAgICAgICAgICAgICAgICBmaWxsT3BhY2l0eTogMC42CiAgICAgICAgICAgICAgICAgICAgfQogICAgICAgICAgICAgICAgKQogICAgICAgICAgICAgICAgLmFkZFRvKG1hcF8zZGJjNDNiYWRjNTE0MmIxYjcwOWZlNTczMmUzN2ZmNyk7CiAgICAgICAgICAgIAogICAgICAgIAogICAgICAgICAgICAKICAgICAgICAgICAgdmFyIHBvcHVwX2RiOTIwODQ5Y2E3MzRlYzU5YzQ5NjI5NjBhMTA1MWQ3ID0gTC5wb3B1cCh7bWF4V2lkdGg6ICczMDAnfSk7CgogICAgICAgICAgICAKICAgICAgICAgICAgICAgIHZhciBodG1sX2RhMjNjNjY2MzIwNjQwZDNhMTRkNDQxM2QxNTgwZjQwID0gJCgnICAgICAgICAgPGRpdiBpZD0iaHRtbF9kYTIzYzY2NjMyMDY0MGQzYTE0ZDQ0MTNkMTU4MGY0MCIgICAgICAgICAgICAgICAgIHN0eWxlPSJ3aWR0aDogMTAwLjAlOyBoZWlnaHQ6IDEwMC4wJTsiPiAgICAgICAgICAgICAgICAgU3dhemlsYW5kPC9kaXY+ICAgICAgICAgICAgICAgICAnKVswXTsKICAgICAgICAgICAgICAgIHBvcHVwX2RiOTIwODQ5Y2E3MzRlYzU5YzQ5NjI5NjBhMTA1MWQ3LnNldENvbnRlbnQoaHRtbF9kYTIzYzY2NjMyMDY0MGQzYTE0ZDQ0MTNkMTU4MGY0MCk7CiAgICAgICAgICAgIAoKICAgICAgICAgICAgY2lyY2xlX21hcmtlcl80OTNiM2QyMDg4Mzc0NjMwYmYzZWEzNDg1NGNlNGYyOC5iaW5kUG9wdXAocG9wdXBfZGI5MjA4NDljYTczNGVjNTljNDk2Mjk2MGExMDUxZDcpOwoKICAgICAgICAgICAgCiAgICAgICAgCiAgICAgICAgCiAgICAgICAgICAgIAoKICAgICAgICAgICAgdmFyIGNpcmNsZV9tYXJrZXJfNWIzM2NkNGQwZmRkNDU3MDk5ZjgzMzZjYjZlMTg4YWQgPSBMLmNpcmNsZSgKICAgICAgICAgICAgICAgIFstNC41ODMzMyw1NS42NjY2Njk5OTk5OTk5OTZdLAogICAgICAgICAgICAgICAgNjg3LjEzNjYwNjM0MDYxMjYsCiAgICAgICAgICAgICAgICB7CiAgICAgICAgICAgICAgICAgICAgY29sb3I6ICdOb25lJywKICAgICAgICAgICAgICAgICAgICBmaWxsQ29sb3I6ICdibHVlJywKICAgICAgICAgICAgICAgICAgICBmaWxsT3BhY2l0eTogMC42CiAgICAgICAgICAgICAgICAgICAgfQogICAgICAgICAgICAgICAgKQogICAgICAgICAgICAgICAgLmFkZFRvKG1hcF8zZGJjNDNiYWRjNTE0MmIxYjcwOWZlNTczMmUzN2ZmNyk7CiAgICAgICAgICAgIAogICAgICAgIAogICAgICAgICAgICAKICAgICAgICAgICAgdmFyIHBvcHVwX2YwNGMzNmVjYWU5ZDQ3YzJhYmE5MGU1ODMxYmRjYWM4ID0gTC5wb3B1cCh7bWF4V2lkdGg6ICczMDAnfSk7CgogICAgICAgICAgICAKICAgICAgICAgICAgICAgIHZhciBodG1sX2QxZjZhZDBkMmNmMjRmZTU5ZmNiZGJhNGYwMzVkYTQ4ID0gJCgnICAgICAgICAgPGRpdiBpZD0iaHRtbF9kMWY2YWQwZDJjZjI0ZmU1OWZjYmRiYTRmMDM1ZGE0OCIgICAgICAgICAgICAgICAgIHN0eWxlPSJ3aWR0aDogMTAwLjAlOyBoZWlnaHQ6IDEwMC4wJTsiPiAgICAgICAgICAgICAgICAgU2V5Y2hlbGxlczwvZGl2PiAgICAgICAgICAgICAgICAgJylbMF07CiAgICAgICAgICAgICAgICBwb3B1cF9mMDRjMzZlY2FlOWQ0N2MyYWJhOTBlNTgzMWJkY2FjOC5zZXRDb250ZW50KGh0bWxfZDFmNmFkMGQyY2YyNGZlNTlmY2JkYmE0ZjAzNWRhNDgpOwogICAgICAgICAgICAKCiAgICAgICAgICAgIGNpcmNsZV9tYXJrZXJfNWIzM2NkNGQwZmRkNDU3MDk5ZjgzMzZjYjZlMTg4YWQuYmluZFBvcHVwKHBvcHVwX2YwNGMzNmVjYWU5ZDQ3YzJhYmE5MGU1ODMxYmRjYWM4KTsKCiAgICAgICAgICAgIAogICAgICAgIAogICAgICAgIAogICAgICAgICAgICAKCiAgICAgICAgICAgIHZhciBjaXJjbGVfbWFya2VyXzI5MjA2NmM5YmIzZjQ5NWI5ZjQ2NzEzN2QxNDRiN2Y1ID0gTC5jaXJjbGUoCiAgICAgICAgICAgICAgICBbMzUuMCwzOC4wXSwKICAgICAgICAgICAgICAgIDI2Nzk1LjY0MzA5MDA2OTg1LAogICAgICAgICAgICAgICAgewogICAgICAgICAgICAgICAgICAgIGNvbG9yOiAnTm9uZScsCiAgICAgICAgICAgICAgICAgICAgZmlsbENvbG9yOiAncmVkJywKICAgICAgICAgICAgICAgICAgICBmaWxsT3BhY2l0eTogMC42CiAgICAgICAgICAgICAgICAgICAgfQogICAgICAgICAgICAgICAgKQogICAgICAgICAgICAgICAgLmFkZFRvKG1hcF8zZGJjNDNiYWRjNTE0MmIxYjcwOWZlNTczMmUzN2ZmNyk7CiAgICAgICAgICAgIAogICAgICAgIAogICAgICAgICAgICAKICAgICAgICAgICAgdmFyIHBvcHVwXzNhZjdjZjE1MzdjYjQ2M2Q4MGJmY2Q4YTg0NDUzOWJkID0gTC5wb3B1cCh7bWF4V2lkdGg6ICczMDAnfSk7CgogICAgICAgICAgICAKICAgICAgICAgICAgICAgIHZhciBodG1sXzMwMTI1YzkyMzM3YzRjOTc5MTA1MzdjM2YyZTc3MmYzID0gJCgnICAgICAgICAgPGRpdiBpZD0iaHRtbF8zMDEyNWM5MjMzN2M0Yzk3OTEwNTM3YzNmMmU3NzJmMyIgICAgICAgICAgICAgICAgIHN0eWxlPSJ3aWR0aDogMTAwLjAlOyBoZWlnaHQ6IDEwMC4wJTsiPiAgICAgICAgICAgICAgICAgU3lyaWE8L2Rpdj4gICAgICAgICAgICAgICAgICcpWzBdOwogICAgICAgICAgICAgICAgcG9wdXBfM2FmN2NmMTUzN2NiNDYzZDgwYmZjZDhhODQ0NTM5YmQuc2V0Q29udGVudChodG1sXzMwMTI1YzkyMzM3YzRjOTc5MTA1MzdjM2YyZTc3MmYzKTsKICAgICAgICAgICAgCgogICAgICAgICAgICBjaXJjbGVfbWFya2VyXzI5MjA2NmM5YmIzZjQ5NWI5ZjQ2NzEzN2QxNDRiN2Y1LmJpbmRQb3B1cChwb3B1cF8zYWY3Y2YxNTM3Y2I0NjNkODBiZmNkOGE4NDQ1MzliZCk7CgogICAgICAgICAgICAKICAgICAgICAKICAgICAgICAKICAgICAgICAgICAgCgogICAgICAgICAgICB2YXIgY2lyY2xlX21hcmtlcl9jMjc4ZTM1NGNkOWQ0NmI4YTIxZGU4NGZiNTM2YjVjNCA9IEwuY2lyY2xlKAogICAgICAgICAgICAgICAgWzE1LjAsMTkuMF0sCiAgICAgICAgICAgICAgICA5MzgyOS4xODA4NTE0NTg3NiwKICAgICAgICAgICAgICAgIHsKICAgICAgICAgICAgICAgICAgICBjb2xvcjogJ05vbmUnLAogICAgICAgICAgICAgICAgICAgIGZpbGxDb2xvcjogJ2JsdWUnLAogICAgICAgICAgICAgICAgICAgIGZpbGxPcGFjaXR5OiAwLjYKICAgICAgICAgICAgICAgICAgICB9CiAgICAgICAgICAgICAgICApCiAgICAgICAgICAgICAgICAuYWRkVG8obWFwXzNkYmM0M2JhZGM1MTQyYjFiNzA5ZmU1NzMyZTM3ZmY3KTsKICAgICAgICAgICAgCiAgICAgICAgCiAgICAgICAgICAgIAogICAgICAgICAgICB2YXIgcG9wdXBfMjUyZTU3ZWUxMjcyNDVjZTg5OTRkMzdkMDdlYmYwY2EgPSBMLnBvcHVwKHttYXhXaWR0aDogJzMwMCd9KTsKCiAgICAgICAgICAgIAogICAgICAgICAgICAgICAgdmFyIGh0bWxfMmM1YmFhYTBjYmRiNDU3YmI5MjlkNGE3ZGEwNTM4OWUgPSAkKCcgICAgICAgICA8ZGl2IGlkPSJodG1sXzJjNWJhYWEwY2JkYjQ1N2JiOTI5ZDRhN2RhMDUzODllIiAgICAgICAgICAgICAgICAgc3R5bGU9IndpZHRoOiAxMDAuMCU7IGhlaWdodDogMTAwLjAlOyI+ICAgICAgICAgICAgICAgICBDaGFkPC9kaXY+ICAgICAgICAgICAgICAgICAnKVswXTsKICAgICAgICAgICAgICAgIHBvcHVwXzI1MmU1N2VlMTI3MjQ1Y2U4OTk0ZDM3ZDA3ZWJmMGNhLnNldENvbnRlbnQoaHRtbF8yYzViYWFhMGNiZGI0NTdiYjkyOWQ0YTdkYTA1Mzg5ZSk7CiAgICAgICAgICAgIAoKICAgICAgICAgICAgY2lyY2xlX21hcmtlcl9jMjc4ZTM1NGNkOWQ0NmI4YTIxZGU4NGZiNTM2YjVjNC5iaW5kUG9wdXAocG9wdXBfMjUyZTU3ZWUxMjcyNDVjZTg5OTRkMzdkMDdlYmYwY2EpOwoKICAgICAgICAgICAgCiAgICAgICAgCiAgICAgICAgCiAgICAgICAgICAgIAoKICAgICAgICAgICAgdmFyIGNpcmNsZV9tYXJrZXJfNTJiMTE5OTM0NTJhNGZlMmEzZmMyYWYzYTNiZWNjYzUgPSBMLmNpcmNsZSgKICAgICAgICAgICAgICAgIFs4LjY2NjY3LDEuMDgzMzNdLAogICAgICAgICAgICAgICAgODI0MjQuOTI5ODYwNjQ5MjQsCiAgICAgICAgICAgICAgICB7CiAgICAgICAgICAgICAgICAgICAgY29sb3I6ICdOb25lJywKICAgICAgICAgICAgICAgICAgICBmaWxsQ29sb3I6ICdibHVlJywKICAgICAgICAgICAgICAgICAgICBmaWxsT3BhY2l0eTogMC42CiAgICAgICAgICAgICAgICAgICAgfQogICAgICAgICAgICAgICAgKQogICAgICAgICAgICAgICAgLmFkZFRvKG1hcF8zZGJjNDNiYWRjNTE0MmIxYjcwOWZlNTczMmUzN2ZmNyk7CiAgICAgICAgICAgIAogICAgICAgIAogICAgICAgICAgICAKICAgICAgICAgICAgdmFyIHBvcHVwXzU0NDM1N2RhZTQ3MjRjMmVhODFhNGI4MjlkMmRlZjFmID0gTC5wb3B1cCh7bWF4V2lkdGg6ICczMDAnfSk7CgogICAgICAgICAgICAKICAgICAgICAgICAgICAgIHZhciBodG1sXzNmMTE1ZmZhYzljMTRmYzBiZDM0MmY1YzA3YTQ0ZTkzID0gJCgnICAgICAgICAgPGRpdiBpZD0iaHRtbF8zZjExNWZmYWM5YzE0ZmMwYmQzNDJmNWMwN2E0NGU5MyIgICAgICAgICAgICAgICAgIHN0eWxlPSJ3aWR0aDogMTAwLjAlOyBoZWlnaHQ6IDEwMC4wJTsiPiAgICAgICAgICAgICAgICAgVG9nbzwvZGl2PiAgICAgICAgICAgICAgICAgJylbMF07CiAgICAgICAgICAgICAgICBwb3B1cF81NDQzNTdkYWU0NzI0YzJlYTgxYTRiODI5ZDJkZWYxZi5zZXRDb250ZW50KGh0bWxfM2YxMTVmZmFjOWMxNGZjMGJkMzQyZjVjMDdhNDRlOTMpOwogICAgICAgICAgICAKCiAgICAgICAgICAgIGNpcmNsZV9tYXJrZXJfNTJiMTE5OTM0NTJhNGZlMmEzZmMyYWYzYTNiZWNjYzUuYmluZFBvcHVwKHBvcHVwXzU0NDM1N2RhZTQ3MjRjMmVhODFhNGI4MjlkMmRlZjFmKTsKCiAgICAgICAgICAgIAogICAgICAgIAogICAgICAgIAogICAgICAgICAgICAKCiAgICAgICAgICAgIHZhciBjaXJjbGVfbWFya2VyX2E0YWFjOTlmYjIyYjRhMDlhYjQwNjE5MmQ5YTE3OGZlID0gTC5jaXJjbGUoCiAgICAgICAgICAgICAgICBbMTUuNSwxMDEuMF0sCiAgICAgICAgICAgICAgICAyMDQ2OC4zNDA0ODU4MDE1NDIsCiAgICAgICAgICAgICAgICB7CiAgICAgICAgICAgICAgICAgICAgY29sb3I6ICdOb25lJywKICAgICAgICAgICAgICAgICAgICBmaWxsQ29sb3I6ICdyZWQnLAogICAgICAgICAgICAgICAgICAgIGZpbGxPcGFjaXR5OiAwLjYKICAgICAgICAgICAgICAgICAgICB9CiAgICAgICAgICAgICAgICApCiAgICAgICAgICAgICAgICAuYWRkVG8obWFwXzNkYmM0M2JhZGM1MTQyYjFiNzA5ZmU1NzMyZTM3ZmY3KTsKICAgICAgICAgICAgCiAgICAgICAgCiAgICAgICAgICAgIAogICAgICAgICAgICB2YXIgcG9wdXBfODI2MWRiOTQ3M2NiNDAxOGJjYTBhNjRmNWY0YTBlZjYgPSBMLnBvcHVwKHttYXhXaWR0aDogJzMwMCd9KTsKCiAgICAgICAgICAgIAogICAgICAgICAgICAgICAgdmFyIGh0bWxfYzQ2MjlhZjA1NTZiNDAzYjk3YWFjZGZhZTc2MDc5ZDcgPSAkKCcgICAgICAgICA8ZGl2IGlkPSJodG1sX2M0NjI5YWYwNTU2YjQwM2I5N2FhY2RmYWU3NjA3OWQ3IiAgICAgICAgICAgICAgICAgc3R5bGU9IndpZHRoOiAxMDAuMCU7IGhlaWdodDogMTAwLjAlOyI+ICAgICAgICAgICAgICAgICBUaGFpbGFuZDwvZGl2PiAgICAgICAgICAgICAgICAgJylbMF07CiAgICAgICAgICAgICAgICBwb3B1cF84MjYxZGI5NDczY2I0MDE4YmNhMGE2NGY1ZjRhMGVmNi5zZXRDb250ZW50KGh0bWxfYzQ2MjlhZjA1NTZiNDAzYjk3YWFjZGZhZTc2MDc5ZDcpOwogICAgICAgICAgICAKCiAgICAgICAgICAgIGNpcmNsZV9tYXJrZXJfYTRhYWM5OWZiMjJiNGEwOWFiNDA2MTkyZDlhMTc4ZmUuYmluZFBvcHVwKHBvcHVwXzgyNjFkYjk0NzNjYjQwMThiY2EwYTY0ZjVmNGEwZWY2KTsKCiAgICAgICAgICAgIAogICAgICAgIAogICAgICAgIAogICAgICAgICAgICAKCiAgICAgICAgICAgIHZhciBjaXJjbGVfbWFya2VyXzBiMTBiYjA5MmVlNzQ1YTI4MDM5MDVmZmI0NjI4MDdjID0gTC5jaXJjbGUoCiAgICAgICAgICAgICAgICBbMzkuMCw3MS4wXSwKICAgICAgICAgICAgICAgIDMxNTI4LjMwMDk4MTU1NTU0LAogICAgICAgICAgICAgICAgewogICAgICAgICAgICAgICAgICAgIGNvbG9yOiAnTm9uZScsCiAgICAgICAgICAgICAgICAgICAgZmlsbENvbG9yOiAncmVkJywKICAgICAgICAgICAgICAgICAgICBmaWxsT3BhY2l0eTogMC42CiAgICAgICAgICAgICAgICAgICAgfQogICAgICAgICAgICAgICAgKQogICAgICAgICAgICAgICAgLmFkZFRvKG1hcF8zZGJjNDNiYWRjNTE0MmIxYjcwOWZlNTczMmUzN2ZmNyk7CiAgICAgICAgICAgIAogICAgICAgIAogICAgICAgICAgICAKICAgICAgICAgICAgdmFyIHBvcHVwXzA4OTM2YjIzNzM0MzRjOGM5MTEzM2IwODZjNWFmNDM3ID0gTC5wb3B1cCh7bWF4V2lkdGg6ICczMDAnfSk7CgogICAgICAgICAgICAKICAgICAgICAgICAgICAgIHZhciBodG1sXzkzODcxOTljNzNlMjQyMjViZjNiMmFhYjEwN2I1YTFiID0gJCgnICAgICAgICAgPGRpdiBpZD0iaHRtbF85Mzg3MTk5YzczZTI0MjI1YmYzYjJhYWIxMDdiNWExYiIgICAgICAgICAgICAgICAgIHN0eWxlPSJ3aWR0aDogMTAwLjAlOyBoZWlnaHQ6IDEwMC4wJTsiPiAgICAgICAgICAgICAgICAgVGFqaWtpc3RhbjwvZGl2PiAgICAgICAgICAgICAgICAgJylbMF07CiAgICAgICAgICAgICAgICBwb3B1cF8wODkzNmIyMzczNDM0YzhjOTExMzNiMDg2YzVhZjQzNy5zZXRDb250ZW50KGh0bWxfOTM4NzE5OWM3M2UyNDIyNWJmM2IyYWFiMTA3YjVhMWIpOwogICAgICAgICAgICAKCiAgICAgICAgICAgIGNpcmNsZV9tYXJrZXJfMGIxMGJiMDkyZWU3NDVhMjgwMzkwNWZmYjQ2MjgwN2MuYmluZFBvcHVwKHBvcHVwXzA4OTM2YjIzNzM0MzRjOGM5MTEzM2IwODZjNWFmNDM3KTsKCiAgICAgICAgICAgIAogICAgICAgIAogICAgICAgIAogICAgICAgICAgICAKCiAgICAgICAgICAgIHZhciBjaXJjbGVfbWFya2VyXzM4NDFlNGY0YTgyZjRlN2U5OTFkYzI0ZjVmZTkyZDU5ID0gTC5jaXJjbGUoCiAgICAgICAgICAgICAgICBbMzkuNzUsNTkuNjY2NjY5OTk5OTk5OTk2XSwKICAgICAgICAgICAgICAgIDUwMzU3Ljg1MTM0MzYwNzgzLAogICAgICAgICAgICAgICAgewogICAgICAgICAgICAgICAgICAgIGNvbG9yOiAnTm9uZScsCiAgICAgICAgICAgICAgICAgICAgZmlsbENvbG9yOiAncmVkJywKICAgICAgICAgICAgICAgICAgICBmaWxsT3BhY2l0eTogMC42CiAgICAgICAgICAgICAgICAgICAgfQogICAgICAgICAgICAgICAgKQogICAgICAgICAgICAgICAgLmFkZFRvKG1hcF8zZGJjNDNiYWRjNTE0MmIxYjcwOWZlNTczMmUzN2ZmNyk7CiAgICAgICAgICAgIAogICAgICAgIAogICAgICAgICAgICAKICAgICAgICAgICAgdmFyIHBvcHVwXzJiM2Y1YmQ3YzQ1MTRkYjA5OWU3ZGRkYTA1YTY5ZTZmID0gTC5wb3B1cCh7bWF4V2lkdGg6ICczMDAnfSk7CgogICAgICAgICAgICAKICAgICAgICAgICAgICAgIHZhciBodG1sXzk1M2MyNjkzZjc3YjQ3NzhhNWI5OTFiNmE2MGI1ZWIxID0gJCgnICAgICAgICAgPGRpdiBpZD0iaHRtbF85NTNjMjY5M2Y3N2I0Nzc4YTViOTkxYjZhNjBiNWViMSIgICAgICAgICAgICAgICAgIHN0eWxlPSJ3aWR0aDogMTAwLjAlOyBoZWlnaHQ6IDEwMC4wJTsiPiAgICAgICAgICAgICAgICAgVHVya21lbmlzdGFuPC9kaXY+ICAgICAgICAgICAgICAgICAnKVswXTsKICAgICAgICAgICAgICAgIHBvcHVwXzJiM2Y1YmQ3YzQ1MTRkYjA5OWU3ZGRkYTA1YTY5ZTZmLnNldENvbnRlbnQoaHRtbF85NTNjMjY5M2Y3N2I0Nzc4YTViOTkxYjZhNjBiNWViMSk7CiAgICAgICAgICAgIAoKICAgICAgICAgICAgY2lyY2xlX21hcmtlcl8zODQxZTRmNGE4MmY0ZTdlOTkxZGMyNGY1ZmU5MmQ1OS5iaW5kUG9wdXAocG9wdXBfMmIzZjViZDdjNDUxNGRiMDk5ZTdkZGRhMDVhNjllNmYpOwoKICAgICAgICAgICAgCiAgICAgICAgCiAgICAgICAgCiAgICAgICAgICAgIAoKICAgICAgICAgICAgdmFyIGNpcmNsZV9tYXJrZXJfYWEzODA5N2ZkNzk3NDEwMTg1ODU0ZmVmNzc2MWVhNzMgPSBMLmNpcmNsZSgKICAgICAgICAgICAgICAgIFstOC44MzMzMywxMjUuNzVdLAogICAgICAgICAgICAgICAgMjczMzAuODY2MDkzODAzNjQsCiAgICAgICAgICAgICAgICB7CiAgICAgICAgICAgICAgICAgICAgY29sb3I6ICdOb25lJywKICAgICAgICAgICAgICAgICAgICBmaWxsQ29sb3I6ICdyZWQnLAogICAgICAgICAgICAgICAgICAgIGZpbGxPcGFjaXR5OiAwLjYKICAgICAgICAgICAgICAgICAgICB9CiAgICAgICAgICAgICAgICApCiAgICAgICAgICAgICAgICAuYWRkVG8obWFwXzNkYmM0M2JhZGM1MTQyYjFiNzA5ZmU1NzMyZTM3ZmY3KTsKICAgICAgICAgICAgCiAgICAgICAgCiAgICAgICAgICAgIAogICAgICAgICAgICB2YXIgcG9wdXBfMjA5MmJmMjg3YmFmNDhmZmE4MDkyZThmZDVkNGJjZGIgPSBMLnBvcHVwKHttYXhXaWR0aDogJzMwMCd9KTsKCiAgICAgICAgICAgIAogICAgICAgICAgICAgICAgdmFyIGh0bWxfYWU4YzEyM2Q5NmVhNDYzYzgzNDViNzY5MGJlNDg3NmUgPSAkKCcgICAgICAgICA8ZGl2IGlkPSJodG1sX2FlOGMxMjNkOTZlYTQ2M2M4MzQ1Yjc2OTBiZTQ4NzZlIiAgICAgICAgICAgICAgICAgc3R5bGU9IndpZHRoOiAxMDAuMCU7IGhlaWdodDogMTAwLjAlOyI+ICAgICAgICAgICAgICAgICBUaW1vci1MZXN0ZTwvZGl2PiAgICAgICAgICAgICAgICAgJylbMF07CiAgICAgICAgICAgICAgICBwb3B1cF8yMDkyYmYyODdiYWY0OGZmYTgwOTJlOGZkNWQ0YmNkYi5zZXRDb250ZW50KGh0bWxfYWU4YzEyM2Q5NmVhNDYzYzgzNDViNzY5MGJlNDg3NmUpOwogICAgICAgICAgICAKCiAgICAgICAgICAgIGNpcmNsZV9tYXJrZXJfYWEzODA5N2ZkNzk3NDEwMTg1ODU0ZmVmNzc2MWVhNzMuYmluZFBvcHVwKHBvcHVwXzIwOTJiZjI4N2JhZjQ4ZmZhODA5MmU4ZmQ1ZDRiY2RiKTsKCiAgICAgICAgICAgIAogICAgICAgIAogICAgICAgIAogICAgICAgICAgICAKCiAgICAgICAgICAgIHZhciBjaXJjbGVfbWFya2VyX2FkNzYyNTU3YjhhNDQ5M2I5ZDEwMmRhMTBhMjA4MjBjID0gTC5jaXJjbGUoCiAgICAgICAgICAgICAgICBbMTEuMCwtNjEuMF0sCiAgICAgICAgICAgICAgICAxMDU4MS4wMTUxNDUxMTI5ODYsCiAgICAgICAgICAgICAgICB7CiAgICAgICAgICAgICAgICAgICAgY29sb3I6ICdOb25lJywKICAgICAgICAgICAgICAgICAgICBmaWxsQ29sb3I6ICdncmVlbicsCiAgICAgICAgICAgICAgICAgICAgZmlsbE9wYWNpdHk6IDAuNgogICAgICAgICAgICAgICAgICAgIH0KICAgICAgICAgICAgICAgICkKICAgICAgICAgICAgICAgIC5hZGRUbyhtYXBfM2RiYzQzYmFkYzUxNDJiMWI3MDlmZTU3MzJlMzdmZjcpOwogICAgICAgICAgICAKICAgICAgICAKICAgICAgICAgICAgCiAgICAgICAgICAgIHZhciBwb3B1cF8wM2M1ZWNjYmI1ODk0NGU5OGUyMjNhMzMyYjhjMDEzZSA9IEwucG9wdXAoe21heFdpZHRoOiAnMzAwJ30pOwoKICAgICAgICAgICAgCiAgICAgICAgICAgICAgICB2YXIgaHRtbF85M2NlMDMzZjM5M2M0MGViOTQ3MzA1YTk4NjUyODFlNiA9ICQoJyAgICAgICAgIDxkaXYgaWQ9Imh0bWxfOTNjZTAzM2YzOTNjNDBlYjk0NzMwNWE5ODY1MjgxZTYiICAgICAgICAgICAgICAgICBzdHlsZT0id2lkdGg6IDEwMC4wJTsgaGVpZ2h0OiAxMDAuMCU7Ij4gICAgICAgICAgICAgICAgIFRyaW5pZGFkIGFuZCBUb2JhZ288L2Rpdj4gICAgICAgICAgICAgICAgICcpWzBdOwogICAgICAgICAgICAgICAgcG9wdXBfMDNjNWVjY2JiNTg5NDRlOThlMjIzYTMzMmI4YzAxM2Uuc2V0Q29udGVudChodG1sXzkzY2UwMzNmMzkzYzQwZWI5NDczMDVhOTg2NTI4MWU2KTsKICAgICAgICAgICAgCgogICAgICAgICAgICBjaXJjbGVfbWFya2VyX2FkNzYyNTU3YjhhNDQ5M2I5ZDEwMmRhMTBhMjA4MjBjLmJpbmRQb3B1cChwb3B1cF8wM2M1ZWNjYmI1ODk0NGU5OGUyMjNhMzMyYjhjMDEzZSk7CgogICAgICAgICAgICAKICAgICAgICAKICAgICAgICAKICAgICAgICAgICAgCgogICAgICAgICAgICB2YXIgY2lyY2xlX21hcmtlcl83ZGRiZjFmOTljNTU0NmJiOTJkM2U1NDMxYzdkNmQ3ZiA9IEwuY2lyY2xlKAogICAgICAgICAgICAgICAgWzM0LjAsOS4wXSwKICAgICAgICAgICAgICAgIDEyNjMwLjkyNzc0NzUyNjExMSwKICAgICAgICAgICAgICAgIHsKICAgICAgICAgICAgICAgICAgICBjb2xvcjogJ05vbmUnLAogICAgICAgICAgICAgICAgICAgIGZpbGxDb2xvcjogJ2JsdWUnLAogICAgICAgICAgICAgICAgICAgIGZpbGxPcGFjaXR5OiAwLjYKICAgICAgICAgICAgICAgICAgICB9CiAgICAgICAgICAgICAgICApCiAgICAgICAgICAgICAgICAuYWRkVG8obWFwXzNkYmM0M2JhZGM1MTQyYjFiNzA5ZmU1NzMyZTM3ZmY3KTsKICAgICAgICAgICAgCiAgICAgICAgCiAgICAgICAgICAgIAogICAgICAgICAgICB2YXIgcG9wdXBfZjIxNWQyMGFiODU0NDEyMDg4YmE0YmYxYTNmN2RmOTEgPSBMLnBvcHVwKHttYXhXaWR0aDogJzMwMCd9KTsKCiAgICAgICAgICAgIAogICAgICAgICAgICAgICAgdmFyIGh0bWxfYWMwMWRjODQ3MDliNDRiYjk4OGY3Nzg3M2NkMjBiZDggPSAkKCcgICAgICAgICA8ZGl2IGlkPSJodG1sX2FjMDFkYzg0NzA5YjQ0YmI5ODhmNzc4NzNjZDIwYmQ4IiAgICAgICAgICAgICAgICAgc3R5bGU9IndpZHRoOiAxMDAuMCU7IGhlaWdodDogMTAwLjAlOyI+ICAgICAgICAgICAgICAgICBUdW5pc2lhPC9kaXY+ICAgICAgICAgICAgICAgICAnKVswXTsKICAgICAgICAgICAgICAgIHBvcHVwX2YyMTVkMjBhYjg1NDQxMjA4OGJhNGJmMWEzZjdkZjkxLnNldENvbnRlbnQoaHRtbF9hYzAxZGM4NDcwOWI0NGJiOTg4Zjc3ODczY2QyMGJkOCk7CiAgICAgICAgICAgIAoKICAgICAgICAgICAgY2lyY2xlX21hcmtlcl83ZGRiZjFmOTljNTU0NmJiOTJkM2U1NDMxYzdkNmQ3Zi5iaW5kUG9wdXAocG9wdXBfZjIxNWQyMGFiODU0NDEyMDg4YmE0YmYxYTNmN2RmOTEpOwoKICAgICAgICAgICAgCiAgICAgICAgCiAgICAgICAgCiAgICAgICAgICAgIAoKICAgICAgICAgICAgdmFyIGNpcmNsZV9tYXJrZXJfNTIzZjY0OGNhNzdmNDEzNDk0ODVkODQwNjU3NGE5MWIgPSBMLmNpcmNsZSgKICAgICAgICAgICAgICAgIFszOS4wLDM1LjBdLAogICAgICAgICAgICAgICAgMTA4MjcuMDI4OTg0Mjk4NDcsCiAgICAgICAgICAgICAgICB7CiAgICAgICAgICAgICAgICAgICAgY29sb3I6ICdOb25lJywKICAgICAgICAgICAgICAgICAgICBmaWxsQ29sb3I6ICdibGFjaycsCiAgICAgICAgICAgICAgICAgICAgZmlsbE9wYWNpdHk6IDAuNgogICAgICAgICAgICAgICAgICAgIH0KICAgICAgICAgICAgICAgICkKICAgICAgICAgICAgICAgIC5hZGRUbyhtYXBfM2RiYzQzYmFkYzUxNDJiMWI3MDlmZTU3MzJlMzdmZjcpOwogICAgICAgICAgICAKICAgICAgICAKICAgICAgICAgICAgCiAgICAgICAgICAgIHZhciBwb3B1cF82YjIxNGRkYTEwMzA0YzMzYjA3ZjA4YTI4YTRhODk2OCA9IEwucG9wdXAoe21heFdpZHRoOiAnMzAwJ30pOwoKICAgICAgICAgICAgCiAgICAgICAgICAgICAgICB2YXIgaHRtbF85ZWJjMjNmMmJjYjU0ZmFiOTM1MDYwODEyYjNmNzg4NyA9ICQoJyAgICAgICAgIDxkaXYgaWQ9Imh0bWxfOWViYzIzZjJiY2I1NGZhYjkzNTA2MDgxMmIzZjc4ODciICAgICAgICAgICAgICAgICBzdHlsZT0id2lkdGg6IDEwMC4wJTsgaGVpZ2h0OiAxMDAuMCU7Ij4gICAgICAgICAgICAgICAgIFR1cmtleTwvZGl2PiAgICAgICAgICAgICAgICAgJylbMF07CiAgICAgICAgICAgICAgICBwb3B1cF82YjIxNGRkYTEwMzA0YzMzYjA3ZjA4YTI4YTRhODk2OC5zZXRDb250ZW50KGh0bWxfOWViYzIzZjJiY2I1NGZhYjkzNTA2MDgxMmIzZjc4ODcpOwogICAgICAgICAgICAKCiAgICAgICAgICAgIGNpcmNsZV9tYXJrZXJfNTIzZjY0OGNhNzdmNDEzNDk0ODVkODQwNjU3NGE5MWIuYmluZFBvcHVwKHBvcHVwXzZiMjE0ZGRhMTAzMDRjMzNiMDdmMDhhMjhhNGE4OTY4KTsKCiAgICAgICAgICAgIAogICAgICAgIAogICAgICAgIAogICAgICAgICAgICAKCiAgICAgICAgICAgIHZhciBjaXJjbGVfbWFya2VyX2MwMWQ0YTIwZWFlNTQzNDI5MTEwZmQxNzRhYTBkNjJlID0gTC5jaXJjbGUoCiAgICAgICAgICAgICAgICBbLTYuMCwzNS4wXSwKICAgICAgICAgICAgICAgIDIwMDU1MC4yNzkyNDEzMDQ2NCwKICAgICAgICAgICAgICAgIHsKICAgICAgICAgICAgICAgICAgICBjb2xvcjogJ05vbmUnLAogICAgICAgICAgICAgICAgICAgIGZpbGxDb2xvcjogJ2JsdWUnLAogICAgICAgICAgICAgICAgICAgIGZpbGxPcGFjaXR5OiAwLjYKICAgICAgICAgICAgICAgICAgICB9CiAgICAgICAgICAgICAgICApCiAgICAgICAgICAgICAgICAuYWRkVG8obWFwXzNkYmM0M2JhZGM1MTQyYjFiNzA5ZmU1NzMyZTM3ZmY3KTsKICAgICAgICAgICAgCiAgICAgICAgCiAgICAgICAgICAgIAogICAgICAgICAgICB2YXIgcG9wdXBfYmJhMGZlNjA5YTEzNDBmMDgwMGIzODAxZWMxZjU1ZDggPSBMLnBvcHVwKHttYXhXaWR0aDogJzMwMCd9KTsKCiAgICAgICAgICAgIAogICAgICAgICAgICAgICAgdmFyIGh0bWxfZDVkN2YxYTgyNTJkNDhmNmIxZDQ5ZWVkYzU4YWI3N2IgPSAkKCcgICAgICAgICA8ZGl2IGlkPSJodG1sX2Q1ZDdmMWE4MjUyZDQ4ZjZiMWQ0OWVlZGM1OGFiNzdiIiAgICAgICAgICAgICAgICAgc3R5bGU9IndpZHRoOiAxMDAuMCU7IGhlaWdodDogMTAwLjAlOyI+ICAgICAgICAgICAgICAgICBUYW56YW5pYTwvZGl2PiAgICAgICAgICAgICAgICAgJylbMF07CiAgICAgICAgICAgICAgICBwb3B1cF9iYmEwZmU2MDlhMTM0MGYwODAwYjM4MDFlYzFmNTVkOC5zZXRDb250ZW50KGh0bWxfZDVkN2YxYTgyNTJkNDhmNmIxZDQ5ZWVkYzU4YWI3N2IpOwogICAgICAgICAgICAKCiAgICAgICAgICAgIGNpcmNsZV9tYXJrZXJfYzAxZDRhMjBlYWU1NDM0MjkxMTBmZDE3NGFhMGQ2MmUuYmluZFBvcHVwKHBvcHVwX2JiYTBmZTYwOWExMzQwZjA4MDBiMzgwMWVjMWY1NWQ4KTsKCiAgICAgICAgICAgIAogICAgICAgIAogICAgICAgIAogICAgICAgICAgICAKCiAgICAgICAgICAgIHZhciBjaXJjbGVfbWFya2VyXzM5Y2Q2MjRlMDQwYzRlYjlhYTgzZDJjNjFhYWMzNTQyID0gTC5jaXJjbGUoCiAgICAgICAgICAgICAgICBbMS4yNSwzMi41XSwKICAgICAgICAgICAgICAgIDE1OTMwNi43MDQ1NTE4ODU4NCwKICAgICAgICAgICAgICAgIHsKICAgICAgICAgICAgICAgICAgICBjb2xvcjogJ05vbmUnLAogICAgICAgICAgICAgICAgICAgIGZpbGxDb2xvcjogJ2JsdWUnLAogICAgICAgICAgICAgICAgICAgIGZpbGxPcGFjaXR5OiAwLjYKICAgICAgICAgICAgICAgICAgICB9CiAgICAgICAgICAgICAgICApCiAgICAgICAgICAgICAgICAuYWRkVG8obWFwXzNkYmM0M2JhZGM1MTQyYjFiNzA5ZmU1NzMyZTM3ZmY3KTsKICAgICAgICAgICAgCiAgICAgICAgCiAgICAgICAgICAgIAogICAgICAgICAgICB2YXIgcG9wdXBfNWYyYTdhZjZkMjY1NGYzNDk4NWVmNTliNzEyYWIxNDkgPSBMLnBvcHVwKHttYXhXaWR0aDogJzMwMCd9KTsKCiAgICAgICAgICAgIAogICAgICAgICAgICAgICAgdmFyIGh0bWxfYTA3NTA0MTBiYTY1NGE5YmJlZDUyNjU2ODU4NTQ5YTMgPSAkKCcgICAgICAgICA8ZGl2IGlkPSJodG1sX2EwNzUwNDEwYmE2NTRhOWJiZWQ1MjY1Njg1ODU0OWEzIiAgICAgICAgICAgICAgICAgc3R5bGU9IndpZHRoOiAxMDAuMCU7IGhlaWdodDogMTAwLjAlOyI+ICAgICAgICAgICAgICAgICBVZ2FuZGE8L2Rpdj4gICAgICAgICAgICAgICAgICcpWzBdOwogICAgICAgICAgICAgICAgcG9wdXBfNWYyYTdhZjZkMjY1NGYzNDk4NWVmNTliNzEyYWIxNDkuc2V0Q29udGVudChodG1sX2EwNzUwNDEwYmE2NTRhOWJiZWQ1MjY1Njg1ODU0OWEzKTsKICAgICAgICAgICAgCgogICAgICAgICAgICBjaXJjbGVfbWFya2VyXzM5Y2Q2MjRlMDQwYzRlYjlhYTgzZDJjNjFhYWMzNTQyLmJpbmRQb3B1cChwb3B1cF81ZjJhN2FmNmQyNjU0ZjM0OTg1ZWY1OWI3MTJhYjE0OSk7CgogICAgICAgICAgICAKICAgICAgICAKICAgICAgICAKICAgICAgICAgICAgCgogICAgICAgICAgICB2YXIgY2lyY2xlX21hcmtlcl84YjA3YzAxYWM4NGY0NmVkYmIzYTY1NzdhOWU3NmMwYyA9IEwuY2lyY2xlKAogICAgICAgICAgICAgICAgWzQ5LjAsMzIuMF0sCiAgICAgICAgICAgICAgICAwLjAsCiAgICAgICAgICAgICAgICB7CiAgICAgICAgICAgICAgICAgICAgY29sb3I6ICdOb25lJywKICAgICAgICAgICAgICAgICAgICBmaWxsQ29sb3I6ICdibGFjaycsCiAgICAgICAgICAgICAgICAgICAgZmlsbE9wYWNpdHk6IDAuNgogICAgICAgICAgICAgICAgICAgIH0KICAgICAgICAgICAgICAgICkKICAgICAgICAgICAgICAgIC5hZGRUbyhtYXBfM2RiYzQzYmFkYzUxNDJiMWI3MDlmZTU3MzJlMzdmZjcpOwogICAgICAgICAgICAKICAgICAgICAKICAgICAgICAgICAgCiAgICAgICAgICAgIHZhciBwb3B1cF9kNjJmZmM5YWU2NzE0YzcwYTE4YTkyZmVhZmJhMGE5NiA9IEwucG9wdXAoe21heFdpZHRoOiAnMzAwJ30pOwoKICAgICAgICAgICAgCiAgICAgICAgICAgICAgICB2YXIgaHRtbF9hMTM2OWQ1MWUxM2I0YjFiYTE0YWZhNWZhZjVkY2I2NSA9ICQoJyAgICAgICAgIDxkaXYgaWQ9Imh0bWxfYTEzNjlkNTFlMTNiNGIxYmExNGFmYTVmYWY1ZGNiNjUiICAgICAgICAgICAgICAgICBzdHlsZT0id2lkdGg6IDEwMC4wJTsgaGVpZ2h0OiAxMDAuMCU7Ij4gICAgICAgICAgICAgICAgIFVrcmFpbmU8L2Rpdj4gICAgICAgICAgICAgICAgICcpWzBdOwogICAgICAgICAgICAgICAgcG9wdXBfZDYyZmZjOWFlNjcxNGM3MGExOGE5MmZlYWZiYTBhOTYuc2V0Q29udGVudChodG1sX2ExMzY5ZDUxZTEzYjRiMWJhMTRhZmE1ZmFmNWRjYjY1KTsKICAgICAgICAgICAgCgogICAgICAgICAgICBjaXJjbGVfbWFya2VyXzhiMDdjMDFhYzg0ZjQ2ZWRiYjNhNjU3N2E5ZTc2YzBjLmJpbmRQb3B1cChwb3B1cF9kNjJmZmM5YWU2NzE0YzcwYTE4YTkyZmVhZmJhMGE5Nik7CgogICAgICAgICAgICAKICAgICAgICAKICAgICAgICAKICAgICAgICAgICAgCgogICAgICAgICAgICB2YXIgY2lyY2xlX21hcmtlcl9lMTgyZTkxNGJhZDM0NjM0ODI3Njk5YmFmMjAwMTA4ZCA9IEwuY2lyY2xlKAogICAgICAgICAgICAgICAgWy0zMy4wLC01Ni4wXSwKICAgICAgICAgICAgICAgIDQ2MDQuMTczOTgwMzg0NTI4LAogICAgICAgICAgICAgICAgewogICAgICAgICAgICAgICAgICAgIGNvbG9yOiAnTm9uZScsCiAgICAgICAgICAgICAgICAgICAgZmlsbENvbG9yOiAnZ3JlZW4nLAogICAgICAgICAgICAgICAgICAgIGZpbGxPcGFjaXR5OiAwLjYKICAgICAgICAgICAgICAgICAgICB9CiAgICAgICAgICAgICAgICApCiAgICAgICAgICAgICAgICAuYWRkVG8obWFwXzNkYmM0M2JhZGM1MTQyYjFiNzA5ZmU1NzMyZTM3ZmY3KTsKICAgICAgICAgICAgCiAgICAgICAgCiAgICAgICAgICAgIAogICAgICAgICAgICB2YXIgcG9wdXBfODAxYzY2NmRjNzI4NDgwYzg4MDUyNDJiNmE0ZDU0YTEgPSBMLnBvcHVwKHttYXhXaWR0aDogJzMwMCd9KTsKCiAgICAgICAgICAgIAogICAgICAgICAgICAgICAgdmFyIGh0bWxfZjlkY2FlMThjMmNiNDA3MGJhNTdjY2ZlYmQyMWUzZTAgPSAkKCcgICAgICAgICA8ZGl2IGlkPSJodG1sX2Y5ZGNhZTE4YzJjYjQwNzBiYTU3Y2NmZWJkMjFlM2UwIiAgICAgICAgICAgICAgICAgc3R5bGU9IndpZHRoOiAxMDAuMCU7IGhlaWdodDogMTAwLjAlOyI+ICAgICAgICAgICAgICAgICBVcnVndWF5PC9kaXY+ICAgICAgICAgICAgICAgICAnKVswXTsKICAgICAgICAgICAgICAgIHBvcHVwXzgwMWM2NjZkYzcyODQ4MGM4ODA1MjQyYjZhNGQ1NGExLnNldENvbnRlbnQoaHRtbF9mOWRjYWUxOGMyY2I0MDcwYmE1N2NjZmViZDIxZTNlMCk7CiAgICAgICAgICAgIAoKICAgICAgICAgICAgY2lyY2xlX21hcmtlcl9lMTgyZTkxNGJhZDM0NjM0ODI3Njk5YmFmMjAwMTA4ZC5iaW5kUG9wdXAocG9wdXBfODAxYzY2NmRjNzI4NDgwYzg4MDUyNDJiNmE0ZDU0YTEpOwoKICAgICAgICAgICAgCiAgICAgICAgCiAgICAgICAgCiAgICAgICAgICAgIAoKICAgICAgICAgICAgdmFyIGNpcmNsZV9tYXJrZXJfNDM3ODFhMDhkYjIxNDExNjlhZWRhZWViNmE0YmFhYzUgPSBMLmNpcmNsZSgKICAgICAgICAgICAgICAgIFszOS43NiwtOTguNV0sCiAgICAgICAgICAgICAgICAxMDI0MDQuMTI0NDc4MzI0NjQsCiAgICAgICAgICAgICAgICB7CiAgICAgICAgICAgICAgICAgICAgY29sb3I6ICdOb25lJywKICAgICAgICAgICAgICAgICAgICBmaWxsQ29sb3I6ICdncmVlbicsCiAgICAgICAgICAgICAgICAgICAgZmlsbE9wYWNpdHk6IDAuNgogICAgICAgICAgICAgICAgICAgIH0KICAgICAgICAgICAgICAgICkKICAgICAgICAgICAgICAgIC5hZGRUbyhtYXBfM2RiYzQzYmFkYzUxNDJiMWI3MDlmZTU3MzJlMzdmZjcpOwogICAgICAgICAgICAKICAgICAgICAKICAgICAgICAgICAgCiAgICAgICAgICAgIHZhciBwb3B1cF9kYmNmYTA0ZjE1ZmE0MjYwYWU0MDkxMWY5ZDlhNjA3NiA9IEwucG9wdXAoe21heFdpZHRoOiAnMzAwJ30pOwoKICAgICAgICAgICAgCiAgICAgICAgICAgICAgICB2YXIgaHRtbF8wODNhMmVlNjFmYTA0OWViOGViNmEwYmYwODdiYjBhZSA9ICQoJyAgICAgICAgIDxkaXYgaWQ9Imh0bWxfMDgzYTJlZTYxZmEwNDllYjhlYjZhMGJmMDg3YmIwYWUiICAgICAgICAgICAgICAgICBzdHlsZT0id2lkdGg6IDEwMC4wJTsgaGVpZ2h0OiAxMDAuMCU7Ij4gICAgICAgICAgICAgICAgIFVuaXRlZCBTdGF0ZXM8L2Rpdj4gICAgICAgICAgICAgICAgICcpWzBdOwogICAgICAgICAgICAgICAgcG9wdXBfZGJjZmEwNGYxNWZhNDI2MGFlNDA5MTFmOWQ5YTYwNzYuc2V0Q29udGVudChodG1sXzA4M2EyZWU2MWZhMDQ5ZWI4ZWI2YTBiZjA4N2JiMGFlKTsKICAgICAgICAgICAgCgogICAgICAgICAgICBjaXJjbGVfbWFya2VyXzQzNzgxYTA4ZGIyMTQxMTY5YWVkYWVlYjZhNGJhYWM1LmJpbmRQb3B1cChwb3B1cF9kYmNmYTA0ZjE1ZmE0MjYwYWU0MDkxMWY5ZDlhNjA3Nik7CgogICAgICAgICAgICAKICAgICAgICAKICAgICAgICAKICAgICAgICAgICAgCgogICAgICAgICAgICB2YXIgY2lyY2xlX21hcmtlcl85MDAyMTc4NWNhMzQ0YTkzYTM2Yjg2NTVjOTI4ZDZjMyA9IEwuY2lyY2xlKAogICAgICAgICAgICAgICAgWzguMCwtNjYuMF0sCiAgICAgICAgICAgICAgICA2MjQxNS4wMDg5NjY2NDc3MSwKICAgICAgICAgICAgICAgIHsKICAgICAgICAgICAgICAgICAgICBjb2xvcjogJ05vbmUnLAogICAgICAgICAgICAgICAgICAgIGZpbGxDb2xvcjogJ2dyZWVuJywKICAgICAgICAgICAgICAgICAgICBmaWxsT3BhY2l0eTogMC42CiAgICAgICAgICAgICAgICAgICAgfQogICAgICAgICAgICAgICAgKQogICAgICAgICAgICAgICAgLmFkZFRvKG1hcF8zZGJjNDNiYWRjNTE0MmIxYjcwOWZlNTczMmUzN2ZmNyk7CiAgICAgICAgICAgIAogICAgICAgIAogICAgICAgICAgICAKICAgICAgICAgICAgdmFyIHBvcHVwX2Q4YzgyMGE3YWE3ZDQ3M2ZhYjZmZThiNDY2MDUzOTQyID0gTC5wb3B1cCh7bWF4V2lkdGg6ICczMDAnfSk7CgogICAgICAgICAgICAKICAgICAgICAgICAgICAgIHZhciBodG1sXzg5Mzk4MDdjOWU1YTQwNzhhNTZlYWE0ZDY0MDE3NDI3ID0gJCgnICAgICAgICAgPGRpdiBpZD0iaHRtbF84OTM5ODA3YzllNWE0MDc4YTU2ZWFhNGQ2NDAxNzQyNyIgICAgICAgICAgICAgICAgIHN0eWxlPSJ3aWR0aDogMTAwLjAlOyBoZWlnaHQ6IDEwMC4wJTsiPiAgICAgICAgICAgICAgICAgVmVuZXp1ZWxhPC9kaXY+ICAgICAgICAgICAgICAgICAnKVswXTsKICAgICAgICAgICAgICAgIHBvcHVwX2Q4YzgyMGE3YWE3ZDQ3M2ZhYjZmZThiNDY2MDUzOTQyLnNldENvbnRlbnQoaHRtbF84OTM5ODA3YzllNWE0MDc4YTU2ZWFhNGQ2NDAxNzQyNyk7CiAgICAgICAgICAgIAoKICAgICAgICAgICAgY2lyY2xlX21hcmtlcl85MDAyMTc4NWNhMzQ0YTkzYTM2Yjg2NTVjOTI4ZDZjMy5iaW5kUG9wdXAocG9wdXBfZDhjODIwYTdhYTdkNDczZmFiNmZlOGI0NjYwNTM5NDIpOwoKICAgICAgICAgICAgCiAgICAgICAgCiAgICAgICAgCiAgICAgICAgICAgIAoKICAgICAgICAgICAgdmFyIGNpcmNsZV9tYXJrZXJfNWQ2MWIxMmI5NjJjNGY2NGFmY2FjMWMyYjkwMDkxNTAgPSBMLmNpcmNsZSgKICAgICAgICAgICAgICAgIFsxNi4xNjY2NywxMDcuODMzMzNdLAogICAgICAgICAgICAgICAgNjYwOTcuMTA3MjY2NTA5ODMsCiAgICAgICAgICAgICAgICB7CiAgICAgICAgICAgICAgICAgICAgY29sb3I6ICdOb25lJywKICAgICAgICAgICAgICAgICAgICBmaWxsQ29sb3I6ICdyZWQnLAogICAgICAgICAgICAgICAgICAgIGZpbGxPcGFjaXR5OiAwLjYKICAgICAgICAgICAgICAgICAgICB9CiAgICAgICAgICAgICAgICApCiAgICAgICAgICAgICAgICAuYWRkVG8obWFwXzNkYmM0M2JhZGM1MTQyYjFiNzA5ZmU1NzMyZTM3ZmY3KTsKICAgICAgICAgICAgCiAgICAgICAgCiAgICAgICAgICAgIAogICAgICAgICAgICB2YXIgcG9wdXBfYzE1M2U0NjNhMTU2NDY1NDk3NjEwODdkMTVlM2FkNWMgPSBMLnBvcHVwKHttYXhXaWR0aDogJzMwMCd9KTsKCiAgICAgICAgICAgIAogICAgICAgICAgICAgICAgdmFyIGh0bWxfNzA2NmE0MTNlOTc1NDMzOThhZDI4YTUwMWY0ODNjZWEgPSAkKCcgICAgICAgICA8ZGl2IGlkPSJodG1sXzcwNjZhNDEzZTk3NTQzMzk4YWQyOGE1MDFmNDgzY2VhIiAgICAgICAgICAgICAgICAgc3R5bGU9IndpZHRoOiAxMDAuMCU7IGhlaWdodDogMTAwLjAlOyI+ICAgICAgICAgICAgICAgICBWaWV0bmFtPC9kaXY+ICAgICAgICAgICAgICAgICAnKVswXTsKICAgICAgICAgICAgICAgIHBvcHVwX2MxNTNlNDYzYTE1NjQ2NTQ5NzYxMDg3ZDE1ZTNhZDVjLnNldENvbnRlbnQoaHRtbF83MDY2YTQxM2U5NzU0MzM5OGFkMjhhNTAxZjQ4M2NlYSk7CiAgICAgICAgICAgIAoKICAgICAgICAgICAgY2lyY2xlX21hcmtlcl81ZDYxYjEyYjk2MmM0ZjY0YWZjYWMxYzJiOTAwOTE1MC5iaW5kUG9wdXAocG9wdXBfYzE1M2U0NjNhMTU2NDY1NDk3NjEwODdkMTVlM2FkNWMpOwoKICAgICAgICAgICAgCiAgICAgICAgCiAgICAgICAgCiAgICAgICAgICAgIAoKICAgICAgICAgICAgdmFyIGNpcmNsZV9tYXJrZXJfZDQxMTg4YmZlY2RlNGFkM2EyN2YxMjNhOTMzZmM4YzYgPSBMLmNpcmNsZSgKICAgICAgICAgICAgICAgIFsxNS41LDQ3LjVdLAogICAgICAgICAgICAgICAgNjgzNzguMDQ2MjQ0Njg5OTMsCiAgICAgICAgICAgICAgICB7CiAgICAgICAgICAgICAgICAgICAgY29sb3I6ICdOb25lJywKICAgICAgICAgICAgICAgICAgICBmaWxsQ29sb3I6ICdyZWQnLAogICAgICAgICAgICAgICAgICAgIGZpbGxPcGFjaXR5OiAwLjYKICAgICAgICAgICAgICAgICAgICB9CiAgICAgICAgICAgICAgICApCiAgICAgICAgICAgICAgICAuYWRkVG8obWFwXzNkYmM0M2JhZGM1MTQyYjFiNzA5ZmU1NzMyZTM3ZmY3KTsKICAgICAgICAgICAgCiAgICAgICAgCiAgICAgICAgICAgIAogICAgICAgICAgICB2YXIgcG9wdXBfMzdmMWFmZWEzYTNmNDk2NjhhM2FiZTMyYTAzYzBjZDkgPSBMLnBvcHVwKHttYXhXaWR0aDogJzMwMCd9KTsKCiAgICAgICAgICAgIAogICAgICAgICAgICAgICAgdmFyIGh0bWxfYmU2ZTUxOTE3MTFiNGZlMDk4Zjk3NmFjZTA1NjY3ZjUgPSAkKCcgICAgICAgICA8ZGl2IGlkPSJodG1sX2JlNmU1MTkxNzExYjRmZTA5OGY5NzZhY2UwNTY2N2Y1IiAgICAgICAgICAgICAgICAgc3R5bGU9IndpZHRoOiAxMDAuMCU7IGhlaWdodDogMTAwLjAlOyI+ICAgICAgICAgICAgICAgICBZZW1lbjwvZGl2PiAgICAgICAgICAgICAgICAgJylbMF07CiAgICAgICAgICAgICAgICBwb3B1cF8zN2YxYWZlYTNhM2Y0OTY2OGEzYWJlMzJhMDNjMGNkOS5zZXRDb250ZW50KGh0bWxfYmU2ZTUxOTE3MTFiNGZlMDk4Zjk3NmFjZTA1NjY3ZjUpOwogICAgICAgICAgICAKCiAgICAgICAgICAgIGNpcmNsZV9tYXJrZXJfZDQxMTg4YmZlY2RlNGFkM2EyN2YxMjNhOTMzZmM4YzYuYmluZFBvcHVwKHBvcHVwXzM3ZjFhZmVhM2EzZjQ5NjY4YTNhYmUzMmEwM2MwY2Q5KTsKCiAgICAgICAgICAgIAogICAgICAgIAogICAgICAgIAogICAgICAgICAgICAKCiAgICAgICAgICAgIHZhciBjaXJjbGVfbWFya2VyXzRlZmI0YmJjZDRkMTRjODliOGIyMWQwNjc4NWY3MTc5ID0gTC5jaXJjbGUoCiAgICAgICAgICAgICAgICBbLTI5LjAsMjQuMF0sCiAgICAgICAgICAgICAgICA5OTI2Ny4zMTQ5NjczNjYwNCwKICAgICAgICAgICAgICAgIHsKICAgICAgICAgICAgICAgICAgICBjb2xvcjogJ05vbmUnLAogICAgICAgICAgICAgICAgICAgIGZpbGxDb2xvcjogJ2JsdWUnLAogICAgICAgICAgICAgICAgICAgIGZpbGxPcGFjaXR5OiAwLjYKICAgICAgICAgICAgICAgICAgICB9CiAgICAgICAgICAgICAgICApCiAgICAgICAgICAgICAgICAuYWRkVG8obWFwXzNkYmM0M2JhZGM1MTQyYjFiNzA5ZmU1NzMyZTM3ZmY3KTsKICAgICAgICAgICAgCiAgICAgICAgCiAgICAgICAgICAgIAogICAgICAgICAgICB2YXIgcG9wdXBfYTIzODhjYTIxN2UzNDkyYmFiNGQ3MWRkOGQ4ZDc5ZDYgPSBMLnBvcHVwKHttYXhXaWR0aDogJzMwMCd9KTsKCiAgICAgICAgICAgIAogICAgICAgICAgICAgICAgdmFyIGh0bWxfNWE4NzhhZGEwMmI4NDgxMDlhN2ExNzVkMTQ2NmU1YzUgPSAkKCcgICAgICAgICA8ZGl2IGlkPSJodG1sXzVhODc4YWRhMDJiODQ4MTA5YTdhMTc1ZDE0NjZlNWM1IiAgICAgICAgICAgICAgICAgc3R5bGU9IndpZHRoOiAxMDAuMCU7IGhlaWdodDogMTAwLjAlOyI+ICAgICAgICAgICAgICAgICBTb3V0aCBBZnJpY2E8L2Rpdj4gICAgICAgICAgICAgICAgICcpWzBdOwogICAgICAgICAgICAgICAgcG9wdXBfYTIzODhjYTIxN2UzNDkyYmFiNGQ3MWRkOGQ4ZDc5ZDYuc2V0Q29udGVudChodG1sXzVhODc4YWRhMDJiODQ4MTA5YTdhMTc1ZDE0NjZlNWM1KTsKICAgICAgICAgICAgCgogICAgICAgICAgICBjaXJjbGVfbWFya2VyXzRlZmI0YmJjZDRkMTRjODliOGIyMWQwNjc4NWY3MTc5LmJpbmRQb3B1cChwb3B1cF9hMjM4OGNhMjE3ZTM0OTJiYWI0ZDcxZGQ4ZDhkNzlkNik7CgogICAgICAgICAgICAKICAgICAgICAKICAgICAgICAKICAgICAgICAgICAgCgogICAgICAgICAgICB2YXIgY2lyY2xlX21hcmtlcl9jYzM0MDM4ODgzMTg0M2M2YWUxYTUwZDIyMDQwOGE2YSA9IEwuY2lyY2xlKAogICAgICAgICAgICAgICAgWy0xNC4zMzMzMjk5OTk5OTk5OTgsMjguNV0sCiAgICAgICAgICAgICAgICAxNDQ3NzYuMzU3NTM0OTcwODgsCiAgICAgICAgICAgICAgICB7CiAgICAgICAgICAgICAgICAgICAgY29sb3I6ICdOb25lJywKICAgICAgICAgICAgICAgICAgICBmaWxsQ29sb3I6ICdibHVlJywKICAgICAgICAgICAgICAgICAgICBmaWxsT3BhY2l0eTogMC42CiAgICAgICAgICAgICAgICAgICAgfQogICAgICAgICAgICAgICAgKQogICAgICAgICAgICAgICAgLmFkZFRvKG1hcF8zZGJjNDNiYWRjNTE0MmIxYjcwOWZlNTczMmUzN2ZmNyk7CiAgICAgICAgICAgIAogICAgICAgIAogICAgICAgICAgICAKICAgICAgICAgICAgdmFyIHBvcHVwXzFiN2MxM2U1MWIwZDQxYTk4NDY2Y2Q3ZjY2NWNmZDdlID0gTC5wb3B1cCh7bWF4V2lkdGg6ICczMDAnfSk7CgogICAgICAgICAgICAKICAgICAgICAgICAgICAgIHZhciBodG1sX2VmZDllZDRlYTJlOTQ4Zjg5MjBmZDQxYTJmYzVhN2U4ID0gJCgnICAgICAgICAgPGRpdiBpZD0iaHRtbF9lZmQ5ZWQ0ZWEyZTk0OGY4OTIwZmQ0MWEyZmM1YTdlOCIgICAgICAgICAgICAgICAgIHN0eWxlPSJ3aWR0aDogMTAwLjAlOyBoZWlnaHQ6IDEwMC4wJTsiPiAgICAgICAgICAgICAgICAgWmFtYmlhPC9kaXY+ICAgICAgICAgICAgICAgICAnKVswXTsKICAgICAgICAgICAgICAgIHBvcHVwXzFiN2MxM2U1MWIwZDQxYTk4NDY2Y2Q3ZjY2NWNmZDdlLnNldENvbnRlbnQoaHRtbF9lZmQ5ZWQ0ZWEyZTk0OGY4OTIwZmQ0MWEyZmM1YTdlOCk7CiAgICAgICAgICAgIAoKICAgICAgICAgICAgY2lyY2xlX21hcmtlcl9jYzM0MDM4ODgzMTg0M2M2YWUxYTUwZDIyMDQwOGE2YS5iaW5kUG9wdXAocG9wdXBfMWI3YzEzZTUxYjBkNDFhOTg0NjZjZDdmNjY1Y2ZkN2UpOwoKICAgICAgICAgICAgCiAgICAgICAgCiAgICAgICAgCiAgICAgICAgCiAgICAgICAgPC9zY3JpcHQ+CiAgICAgICAg\" style=\"position:absolute;width:100%;height:100%;left:0;top:0;\"></iframe></div></div>"
      ],
      "text/plain": [
       "<datascience.maps.Map at 0x7fd9e86b7940>"
      ]
     },
     "execution_count": 114,
     "metadata": {},
     "output_type": "execute_result"
    }
   ],
   "source": [
    "# It may take a few seconds to generate this map.\n",
    "colors = {'africa': 'blue', 'europe': 'black', 'asia': 'red', 'americas': 'green'}\n",
    "scaled = poverty_map.with_column(\n",
    "    'poverty_total', 2e4 * poverty_map.column('poverty_total'),\n",
    "    'region', poverty_map.apply(colors.get, 'region')\n",
    ")\n",
    "Circle.map_table(scaled)"
   ]
  },
  {
   "cell_type": "markdown",
   "metadata": {
    "deletable": false,
    "editable": false
   },
   "source": [
    "Although people live in extreme poverty throughout the world (with more than 5 million in the United States), the largest numbers are in Asia and Africa."
   ]
  },
  {
   "cell_type": "markdown",
   "metadata": {
    "deletable": false,
    "editable": false
   },
   "source": [
    "**Question 5.** Assign `largest` to a two-column table with the `name` (not the 3-letter code) and `poverty_total` of the 10 countries with the largest number of people living in extreme poverty."
   ]
  },
  {
   "cell_type": "code",
   "execution_count": 126,
   "metadata": {
    "deletable": false
   },
   "outputs": [
    {
     "data": {
      "text/html": [
       "<table border=\"1\" class=\"dataframe\">\n",
       "    <thead>\n",
       "        <tr>\n",
       "            <th>name</th> <th>poverty_total</th>\n",
       "        </tr>\n",
       "    </thead>\n",
       "    <tbody>\n",
       "        <tr>\n",
       "            <td>India           </td> <td>2.90882e+08  </td>\n",
       "        </tr>\n",
       "        <tr>\n",
       "            <td>Nigeria         </td> <td>9.88912e+07  </td>\n",
       "        </tr>\n",
       "        <tr>\n",
       "            <td>China           </td> <td>8.39446e+07  </td>\n",
       "        </tr>\n",
       "        <tr>\n",
       "            <td>Bangladesh      </td> <td>6.55743e+07  </td>\n",
       "        </tr>\n",
       "        <tr>\n",
       "            <td>Congo, Dem. Rep.</td> <td>5.78414e+07  </td>\n",
       "        </tr>\n",
       "        <tr>\n",
       "            <td>Indonesia       </td> <td>3.91413e+07  </td>\n",
       "        </tr>\n",
       "        <tr>\n",
       "            <td>Ethiopia        </td> <td>3.2214e+07   </td>\n",
       "        </tr>\n",
       "        <tr>\n",
       "            <td>Pakistan        </td> <td>2.16636e+07  </td>\n",
       "        </tr>\n",
       "        <tr>\n",
       "            <td>Tanzania        </td> <td>1.9848e+07   </td>\n",
       "        </tr>\n",
       "        <tr>\n",
       "            <td>Madagascar      </td> <td>1.84804e+07  </td>\n",
       "        </tr>\n",
       "    </tbody>\n",
       "</table>"
      ],
      "text/plain": [
       "name             | poverty_total\n",
       "India            | 2.90882e+08\n",
       "Nigeria          | 9.88912e+07\n",
       "China            | 8.39446e+07\n",
       "Bangladesh       | 6.55743e+07\n",
       "Congo, Dem. Rep. | 5.78414e+07\n",
       "Indonesia        | 3.91413e+07\n",
       "Ethiopia         | 3.2214e+07\n",
       "Pakistan         | 2.16636e+07\n",
       "Tanzania         | 1.9848e+07\n",
       "Madagascar       | 1.84804e+07"
      ]
     },
     "execution_count": 126,
     "metadata": {},
     "output_type": "execute_result"
    }
   ],
   "source": [
    "largest = poverty_map.sort(\"poverty_total\", descending=True).select(\"name\", \"poverty_total\").take(np.arange(10))\n",
    "largest"
   ]
  },
  {
   "cell_type": "code",
   "execution_count": 127,
   "metadata": {
    "deletable": false,
    "editable": false
   },
   "outputs": [
    {
     "name": "stdout",
     "output_type": "stream",
     "text": [
      "~~~~~~~~~~~~~~~~~~~~~~~~~~~~~~~~~~~~~~~~~~~~~~~~~~~~~~~~~~~~~~~~~~~~~\n",
      "Running tests\n",
      "\n",
      "---------------------------------------------------------------------\n",
      "Test summary\n",
      "    Passed: 3\n",
      "    Failed: 0\n",
      "[ooooooooook] 100.0% passed\n",
      "\n"
     ]
    }
   ],
   "source": [
    "_ = ok.grade('q2_5')"
   ]
  },
  {
   "cell_type": "markdown",
   "metadata": {
    "deletable": false
   },
   "source": [
    "**Question 6.** Write a function called `poverty_timeline` that takes **the name of a country** as its argument. It should draw a line plot of the number of people living in poverty in that country with time on the horizontal axis. The line plot should have a point for each row in the `poverty` table for that country. To compute the population living in poverty from a poverty percentage, multiply by the population of the country **in that year**.\n",
    "\n",
    "*Hint*: The names within the `poverty_timeline` function correspond to our staff solution, but you don't need to use them. Any way that you want to draw the plot is fine, as long as it generates the correct graph.\n",
    "\n",
    "*Hint*: For the `apply` method, if you don't specify a particular column to apply your function on, the whole row is used as an input to the function. Elements inside a row can be accessed using `.item`.\n",
    "\n",
    "*Hint:* This question is long. Feel free to create cells and experiment. "
   ]
  },
  {
   "cell_type": "code",
   "execution_count": 183,
   "metadata": {
    "deletable": false,
    "manual_grade": true,
    "manual_problem_id": "global_poverty_6"
   },
   "outputs": [],
   "source": [
    "def poverty_timeline(country):\n",
    "    \"\"\"Draw a timeline of people living in extreme poverty in a country.\"\"\"\n",
    "    geo = poverty.join(\"geo\", countries, \"country\").where(\"name\", country).column(\"geo\").item(1)\n",
    "    join=poverty.join(\"geo\", population)\n",
    "    cleaned_join=join.with_column(\"match\", join.column(\"time\")==join.column(\"time_2\")).where(\"match\", True).drop(\"match\").drop(\"time_2\")\n",
    "    updated_cleaned_join=cleaned_join.with_column(\"poverty_number\", cleaned_join.column(\"extreme_poverty_percent_people_below_125_a_day\")*cleaned_join.column(\"population_total\"))\n",
    "    return updated_cleaned_join.where(\"geo\", geo).plot(\"time\", \"poverty_number\")"
   ]
  },
  {
   "cell_type": "markdown",
   "metadata": {
    "deletable": false,
    "editable": false
   },
   "source": [
    "Finally, draw the timelines below to see how the world is changing. You can check your work by comparing your graphs to the ones on [gapminder.org](https://goo.gl/lPujuh)."
   ]
  },
  {
   "cell_type": "code",
   "execution_count": 184,
   "metadata": {
    "deletable": false,
    "editable": false
   },
   "outputs": [
    {
     "data": {
      "image/png": "[encoded data removed]",
      "text/plain": [
       "<Figure size 432x288 with 1 Axes>"
      ]
     },
     "metadata": {},
     "output_type": "display_data"
    }
   ],
   "source": [
    "poverty_timeline('India')"
   ]
  },
  {
   "cell_type": "code",
   "execution_count": 185,
   "metadata": {
    "deletable": false,
    "editable": false
   },
   "outputs": [
    {
     "data": {
      "image/png": "[encoded data removed]",
      "text/plain": [
       "<Figure size 432x288 with 1 Axes>"
      ]
     },
     "metadata": {},
     "output_type": "display_data"
    }
   ],
   "source": [
    "poverty_timeline('Nigeria')"
   ]
  },
  {
   "cell_type": "code",
   "execution_count": 186,
   "metadata": {
    "deletable": false,
    "editable": false
   },
   "outputs": [
    {
     "data": {
      "image/png": "[encoded data removed]",
      "text/plain": [
       "<Figure size 432x288 with 1 Axes>"
      ]
     },
     "metadata": {},
     "output_type": "display_data"
    }
   ],
   "source": [
    "poverty_timeline('China')"
   ]
  },
  {
   "cell_type": "code",
   "execution_count": 187,
   "metadata": {
    "deletable": false,
    "editable": false
   },
   "outputs": [
    {
     "data": {
      "image/png": "[encoded data removed]",
      "text/plain": [
       "<Figure size 432x288 with 1 Axes>"
      ]
     },
     "metadata": {},
     "output_type": "display_data"
    }
   ],
   "source": [
    "poverty_timeline('United States')"
   ]
  },
  {
   "cell_type": "markdown",
   "metadata": {
    "deletable": false,
    "editable": false
   },
   "source": [
    "Although the number of people living in extreme poverty has been increasing in Nigeria and the United States, the massive decreases in China and India have shaped the overall trend that extreme poverty is decreasing worldwide, both in percentage and in absolute number. \n",
    "\n",
    "To learn more, watch [Hans Rosling in a 2015 film](https://www.gapminder.org/videos/dont-panic-end-poverty/) about the UN goal of eradicating extreme poverty from the world. \n",
    "\n",
    "Below, we've also added an interactive dropdown menu for you to visualize `poverty_timeline` graphs for other countries. Note that each dropdown menu selection may take a few seconds to run."
   ]
  },
  {
   "cell_type": "code",
   "execution_count": 188,
   "metadata": {
    "deletable": false,
    "editable": false
   },
   "outputs": [
    {
     "data": {
      "application/vnd.jupyter.widget-view+json": {
       "model_id": "3313016502fe4822900c1cd6921c63b2",
       "version_major": 2,
       "version_minor": 0
      },
      "text/plain": [
       "interactive(children=(Dropdown(description='country', options=('Angola', 'Albania', 'Argentina', 'Armenia', 'A…"
      ]
     },
     "metadata": {},
     "output_type": "display_data"
    }
   ],
   "source": [
    "# Just run this cell\n",
    "\n",
    "all_countries = poverty_map.column('name')\n",
    "_ = widgets.interact(poverty_timeline, country=list(all_countries))"
   ]
  },
  {
   "cell_type": "markdown",
   "metadata": {
    "deletable": false,
    "editable": false
   },
   "source": [
    "**You're finished!** Congratulations on mastering data visualization and table manipulation. Time to submit."
   ]
  },
  {
   "cell_type": "code",
   "execution_count": 189,
   "metadata": {
    "deletable": false,
    "editable": false
   },
   "outputs": [
    {
     "data": {
      "application/javascript": [
       "IPython.notebook.save_checkpoint();"
      ],
      "text/plain": [
       "<IPython.core.display.Javascript object>"
      ]
     },
     "metadata": {},
     "output_type": "display_data"
    },
    {
     "data": {
      "application/javascript": [
       "IPython.notebook.save_notebook();"
      ],
      "text/plain": [
       "<IPython.core.display.Javascript object>"
      ]
     },
     "metadata": {},
     "output_type": "display_data"
    },
    {
     "name": "stdout",
     "output_type": "stream",
     "text": [
      "Saving notebook... Saved 'project1.ipynb'.\n",
      "Performing authentication\n",
      "Please enter your bCourses email.\n",
      "bCourses email: haoyunhong@berkeley.edu\n",
      "\n",
      "Copy the following URL and open it in a web browser. To copy,\n",
      "highlight the URL, right-click, and select \"Copy\".\n",
      "\n",
      "https://okpy.org/client/login/\n",
      "\n",
      "After logging in, copy the code from the web page, paste it below,\n",
      "and press Enter. To paste, right-click and select \"Paste\".\n",
      "\n",
      "Paste your code here: eF3OfpAuAo6PYIkWw5y150VjzwHrx2\n",
      "Successfully logged in as haoyunhong@berkeley.edu\n",
      "Submit... 100% complete\n",
      "Submission successful for user: haoyunhong@berkeley.edu\n",
      "URL: https://okpy.org/cal/data8/sp19/project1/submissions/71LEEA\n",
      "\n"
     ]
    }
   ],
   "source": [
    "_ = ok.submit()"
   ]
  },
  {
   "cell_type": "code",
   "execution_count": null,
   "metadata": {},
   "outputs": [],
   "source": []
  }
 ],
 "metadata": {
  "kernelspec": {
   "display_name": "Python 3",
   "language": "python",
   "name": "python3"
  },
  "language_info": {
   "codemirror_mode": {
    "name": "ipython",
    "version": 3
   },
   "file_extension": ".py",
   "mimetype": "text/x-python",
   "name": "python",
   "nbconvert_exporter": "python",
   "pygments_lexer": "ipython3",
   "version": "3.6.7"
  }
 },
 "nbformat": 4,
 "nbformat_minor": 1
}
