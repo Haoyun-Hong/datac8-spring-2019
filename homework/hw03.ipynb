{
 "cells": [
  {
   "cell_type": "markdown",
   "metadata": {},
   "source": [
    "# Homework 3: Table Manipulation and Visualization"
   ]
  },
  {
   "cell_type": "markdown",
   "metadata": {},
   "source": [
    "**Reading**: \n",
    "* [Visualization](https://www.inferentialthinking.com/chapters/07/visualization.html)"
   ]
  },
  {
   "cell_type": "markdown",
   "metadata": {},
   "source": [
    "Please complete this notebook by filling in the cells provided. Before you begin, execute the following cell to load the provided tests. Each time you start your server, you will need to execute this cell again to load the tests.\n",
    "\n",
    "Homework 3 is due Thursday, 2/14 at 11:59pm. Start early so that you can come to office hours if you're stuck. Check the website for the office hours schedule.\n",
    "You will receive an early submission bonus point if you turn in your final submission by Wednesday, 2/13 at 11:59pm. Late work will not be accepted as per the [policies](http://data8.org/sp19/policies.html) of this course. \n",
    "\n",
    "Throughout this homework and all future ones, please be sure to not re-assign variables throughout the notebook! For example, if you use `max_temperature` in your answer to one question, do not reassign it later on. Moreover, please be sure to only put your written answers in the provided cells. "
   ]
  },
  {
   "cell_type": "code",
   "execution_count": 106,
   "metadata": {},
   "outputs": [
    {
     "name": "stdout",
     "output_type": "stream",
     "text": [
      "=====================================================================\n",
      "Assignment: Homework 3: Table Manipulation and Visualization\n",
      "OK, version v1.12.5\n",
      "=====================================================================\n",
      "\n"
     ]
    }
   ],
   "source": [
    "# Don't change this cell; just run it. \n",
    "\n",
    "import numpy as np\n",
    "from datascience import *\n",
    "\n",
    "\n",
    "# These lines do some fancy plotting magic.\\n\",\n",
    "import matplotlib\n",
    "%matplotlib inline\n",
    "import matplotlib.pyplot as plots\n",
    "plots.style.use('fivethirtyeight')\n",
    "\n",
    "from client.api.notebook import Notebook\n",
    "ok = Notebook('hw03.ok')"
   ]
  },
  {
   "cell_type": "markdown",
   "metadata": {},
   "source": [
    "Before continuing the assignment, select \"Save and Checkpoint\" in the File menu and then execute the submit cell below. The result will contain a link that you can use to check that your assignment has been submitted successfully. If you submit more than once before the deadline, we will only grade your final submission. If you mistakenly submit the wrong one, you can head to okpy.org and flag the correct version. There will be another submit cell at the end of the assignment when you finish!"
   ]
  },
  {
   "cell_type": "code",
   "execution_count": 107,
   "metadata": {},
   "outputs": [
    {
     "data": {
      "application/javascript": [
       "IPython.notebook.save_checkpoint();"
      ],
      "text/plain": [
       "<IPython.core.display.Javascript object>"
      ]
     },
     "metadata": {},
     "output_type": "display_data"
    },
    {
     "data": {
      "application/javascript": [
       "IPython.notebook.save_notebook();"
      ],
      "text/plain": [
       "<IPython.core.display.Javascript object>"
      ]
     },
     "metadata": {},
     "output_type": "display_data"
    },
    {
     "name": "stdout",
     "output_type": "stream",
     "text": [
      "Saving notebook... Saved 'hw03.ipynb'.\n",
      "Submit... 100% complete\n",
      "Submission successful for user: haoyunhong@berkeley.edu\n",
      "URL: https://okpy.org/cal/data8/sp19/hw03/submissions/5Q8ERB\n",
      "\n"
     ]
    }
   ],
   "source": [
    "_ = ok.submit()"
   ]
  },
  {
   "cell_type": "markdown",
   "metadata": {},
   "source": [
    "## 1. Unemployment\n"
   ]
  },
  {
   "cell_type": "markdown",
   "metadata": {},
   "source": [
    "The Federal Reserve Bank of St. Louis publishes data about jobs in the US.  Below, we've loaded data on unemployment in the United States. There are many ways of defining unemployment, and our dataset includes two notions of the unemployment rate:\n",
    "\n",
    "1. Among people who are able to work and are looking for a full-time job, the percentage who can't find a job.  This is called the Non-Employment Index, or NEI.\n",
    "2. Among people who are able to work and are looking for a full-time job, the percentage who can't find any job *or* are only working at a part-time job.  The latter group is called \"Part-Time for Economic Reasons\", so the acronym for this index is NEI-PTER.  (Economists are great at marketing.)\n",
    "\n",
    "The source of the data is [here](https://fred.stlouisfed.org/categories/33509)."
   ]
  },
  {
   "cell_type": "markdown",
   "metadata": {},
   "source": [
    "**Question 1.** The data are in a CSV file called `unemployment.csv`.  Load that file into a table called `unemployment`."
   ]
  },
  {
   "cell_type": "code",
   "execution_count": 6,
   "metadata": {},
   "outputs": [
    {
     "data": {
      "text/html": [
       "<table border=\"1\" class=\"dataframe\">\n",
       "    <thead>\n",
       "        <tr>\n",
       "            <th>Date</th> <th>NEI</th> <th>NEI-PTER</th>\n",
       "        </tr>\n",
       "    </thead>\n",
       "    <tbody>\n",
       "        <tr>\n",
       "            <td>1994-01-01</td> <td>10.0974</td> <td>11.172  </td>\n",
       "        </tr>\n",
       "        <tr>\n",
       "            <td>1994-04-01</td> <td>9.6239 </td> <td>10.7883 </td>\n",
       "        </tr>\n",
       "        <tr>\n",
       "            <td>1994-07-01</td> <td>9.3276 </td> <td>10.4831 </td>\n",
       "        </tr>\n",
       "        <tr>\n",
       "            <td>1994-10-01</td> <td>9.1071 </td> <td>10.2361 </td>\n",
       "        </tr>\n",
       "        <tr>\n",
       "            <td>1995-01-01</td> <td>8.9693 </td> <td>10.1832 </td>\n",
       "        </tr>\n",
       "        <tr>\n",
       "            <td>1995-04-01</td> <td>9.0314 </td> <td>10.1071 </td>\n",
       "        </tr>\n",
       "        <tr>\n",
       "            <td>1995-07-01</td> <td>8.9802 </td> <td>10.1084 </td>\n",
       "        </tr>\n",
       "        <tr>\n",
       "            <td>1995-10-01</td> <td>8.9932 </td> <td>10.1046 </td>\n",
       "        </tr>\n",
       "        <tr>\n",
       "            <td>1996-01-01</td> <td>9.0002 </td> <td>10.0531 </td>\n",
       "        </tr>\n",
       "        <tr>\n",
       "            <td>1996-04-01</td> <td>8.9038 </td> <td>9.9782  </td>\n",
       "        </tr>\n",
       "    </tbody>\n",
       "</table>\n",
       "<p>... (80 rows omitted)</p>"
      ],
      "text/plain": [
       "Date       | NEI     | NEI-PTER\n",
       "1994-01-01 | 10.0974 | 11.172\n",
       "1994-04-01 | 9.6239  | 10.7883\n",
       "1994-07-01 | 9.3276  | 10.4831\n",
       "1994-10-01 | 9.1071  | 10.2361\n",
       "1995-01-01 | 8.9693  | 10.1832\n",
       "1995-04-01 | 9.0314  | 10.1071\n",
       "1995-07-01 | 8.9802  | 10.1084\n",
       "1995-10-01 | 8.9932  | 10.1046\n",
       "1996-01-01 | 9.0002  | 10.0531\n",
       "1996-04-01 | 8.9038  | 9.9782\n",
       "... (80 rows omitted)"
      ]
     },
     "execution_count": 6,
     "metadata": {},
     "output_type": "execute_result"
    }
   ],
   "source": [
    "unemployment = Table.read_table(\"unemployment.csv\")\n",
    "unemployment"
   ]
  },
  {
   "cell_type": "code",
   "execution_count": 7,
   "metadata": {
    "deletable": false
   },
   "outputs": [
    {
     "name": "stdout",
     "output_type": "stream",
     "text": [
      "~~~~~~~~~~~~~~~~~~~~~~~~~~~~~~~~~~~~~~~~~~~~~~~~~~~~~~~~~~~~~~~~~~~~~\n",
      "Running tests\n",
      "\n",
      "---------------------------------------------------------------------\n",
      "Test summary\n",
      "    Passed: 1\n",
      "    Failed: 0\n",
      "[ooooooooook] 100.0% passed\n",
      "\n"
     ]
    }
   ],
   "source": [
    "_ = ok.grade('q1_1')"
   ]
  },
  {
   "cell_type": "markdown",
   "metadata": {},
   "source": [
    "**Question 2.** Sort the data in descending order by NEI, naming the sorted table `by_nei`.  Create another table called `by_nei_pter` that's sorted in descending order by NEI-PTER instead."
   ]
  },
  {
   "cell_type": "code",
   "execution_count": 9,
   "metadata": {},
   "outputs": [],
   "source": [
    "by_nei = unemployment.sort(\"NEI\", descending=True)\n",
    "by_nei_pter = unemployment.sort(\"NEI-PTER\", descending=True)"
   ]
  },
  {
   "cell_type": "code",
   "execution_count": 10,
   "metadata": {
    "deletable": false
   },
   "outputs": [
    {
     "name": "stdout",
     "output_type": "stream",
     "text": [
      "~~~~~~~~~~~~~~~~~~~~~~~~~~~~~~~~~~~~~~~~~~~~~~~~~~~~~~~~~~~~~~~~~~~~~\n",
      "Running tests\n",
      "\n",
      "---------------------------------------------------------------------\n",
      "Test summary\n",
      "    Passed: 1\n",
      "    Failed: 0\n",
      "[ooooooooook] 100.0% passed\n",
      "\n"
     ]
    }
   ],
   "source": [
    "_ = ok.grade('q1_2')"
   ]
  },
  {
   "cell_type": "markdown",
   "metadata": {},
   "source": [
    "**Question 3.** Use `take` to make a table containing the data for the 10 quarters when NEI was greatest.  Call that table `greatest_nei`.\n",
    "\n",
    "`greatest_nei` should be sorted in descending order of `NEI` starting from the greatest value. Additionally, each row of `unemployment` represents a quarter."
   ]
  },
  {
   "cell_type": "code",
   "execution_count": 13,
   "metadata": {},
   "outputs": [
    {
     "data": {
      "text/html": [
       "<table border=\"1\" class=\"dataframe\">\n",
       "    <thead>\n",
       "        <tr>\n",
       "            <th>Date</th> <th>NEI</th> <th>NEI-PTER</th>\n",
       "        </tr>\n",
       "    </thead>\n",
       "    <tbody>\n",
       "        <tr>\n",
       "            <td>2009-10-01</td> <td>10.9698</td> <td>12.8557 </td>\n",
       "        </tr>\n",
       "        <tr>\n",
       "            <td>2010-01-01</td> <td>10.9054</td> <td>12.7311 </td>\n",
       "        </tr>\n",
       "        <tr>\n",
       "            <td>2009-07-01</td> <td>10.8089</td> <td>12.7404 </td>\n",
       "        </tr>\n",
       "        <tr>\n",
       "            <td>2009-04-01</td> <td>10.7082</td> <td>12.5497 </td>\n",
       "        </tr>\n",
       "        <tr>\n",
       "            <td>2010-04-01</td> <td>10.6597</td> <td>12.5664 </td>\n",
       "        </tr>\n",
       "        <tr>\n",
       "            <td>2010-10-01</td> <td>10.5856</td> <td>12.4329 </td>\n",
       "        </tr>\n",
       "        <tr>\n",
       "            <td>2010-07-01</td> <td>10.5521</td> <td>12.3897 </td>\n",
       "        </tr>\n",
       "        <tr>\n",
       "            <td>2011-01-01</td> <td>10.5024</td> <td>12.3017 </td>\n",
       "        </tr>\n",
       "        <tr>\n",
       "            <td>2011-07-01</td> <td>10.4856</td> <td>12.2507 </td>\n",
       "        </tr>\n",
       "        <tr>\n",
       "            <td>2011-04-01</td> <td>10.4409</td> <td>12.247  </td>\n",
       "        </tr>\n",
       "    </tbody>\n",
       "</table>"
      ],
      "text/plain": [
       "Date       | NEI     | NEI-PTER\n",
       "2009-10-01 | 10.9698 | 12.8557\n",
       "2010-01-01 | 10.9054 | 12.7311\n",
       "2009-07-01 | 10.8089 | 12.7404\n",
       "2009-04-01 | 10.7082 | 12.5497\n",
       "2010-04-01 | 10.6597 | 12.5664\n",
       "2010-10-01 | 10.5856 | 12.4329\n",
       "2010-07-01 | 10.5521 | 12.3897\n",
       "2011-01-01 | 10.5024 | 12.3017\n",
       "2011-07-01 | 10.4856 | 12.2507\n",
       "2011-04-01 | 10.4409 | 12.247"
      ]
     },
     "execution_count": 13,
     "metadata": {},
     "output_type": "execute_result"
    }
   ],
   "source": [
    "greatest_nei = by_nei.take(np.arange(0, 10))\n",
    "greatest_nei"
   ]
  },
  {
   "cell_type": "code",
   "execution_count": 14,
   "metadata": {
    "deletable": false
   },
   "outputs": [
    {
     "name": "stdout",
     "output_type": "stream",
     "text": [
      "~~~~~~~~~~~~~~~~~~~~~~~~~~~~~~~~~~~~~~~~~~~~~~~~~~~~~~~~~~~~~~~~~~~~~\n",
      "Running tests\n",
      "\n",
      "---------------------------------------------------------------------\n",
      "Test summary\n",
      "    Passed: 1\n",
      "    Failed: 0\n",
      "[ooooooooook] 100.0% passed\n",
      "\n"
     ]
    }
   ],
   "source": [
    "_ = ok.grade('q1_3')"
   ]
  },
  {
   "cell_type": "markdown",
   "metadata": {},
   "source": [
    "**Question 4.** It's believed that many people became PTER (recall: \"Part-Time for Economic Reasons\") in the \"Great Recession\" of 2008-2009.  NEI-PTER is the percentage of people who are unemployed (and counted in the NEI) plus the percentage of people who are PTER.  Compute an array containing the percentage of people who were PTER in each quarter.  (The first element of the array should correspond to the first row of `unemployment`, and so on.)\n",
    "\n",
    "*Note:* Use the original `unemployment` table for this."
   ]
  },
  {
   "cell_type": "code",
   "execution_count": 15,
   "metadata": {},
   "outputs": [
    {
     "data": {
      "text/plain": [
       "array([1.0746, 1.1644, 1.1555, 1.129 , 1.2139, 1.0757, 1.1282, 1.1114,\n",
       "       1.0529, 1.0744, 1.1004, 1.0747, 1.0705, 1.0455, 1.008 , 0.9734,\n",
       "       0.9753, 0.8931, 0.9451, 0.8367, 0.8208, 0.8105, 0.8248, 0.7578,\n",
       "       0.7251, 0.7445, 0.7543, 0.7423, 0.7399, 0.7687, 0.8418, 0.9923,\n",
       "       0.9181, 0.9629, 0.9703, 0.9575, 1.0333, 1.0781, 1.0675, 1.0354,\n",
       "       1.0601, 1.01  , 1.0042, 1.0368, 0.9704, 0.923 , 0.9759, 0.93  ,\n",
       "       0.889 , 0.821 , 0.9409, 0.955 , 0.898 , 0.8948, 0.9523, 0.9579,\n",
       "       1.0149, 1.0762, 1.2873, 1.4335, 1.7446, 1.8415, 1.9315, 1.8859,\n",
       "       1.8257, 1.9067, 1.8376, 1.8473, 1.7993, 1.8061, 1.7651, 1.7927,\n",
       "       1.7286, 1.6387, 1.6808, 1.6805, 1.6629, 1.6253, 1.6477, 1.6298,\n",
       "       1.4796, 1.5131, 1.4866, 1.4345, 1.3675, 1.3097, 1.2319, 1.1735,\n",
       "       1.1844, 1.1746])"
      ]
     },
     "execution_count": 15,
     "metadata": {},
     "output_type": "execute_result"
    }
   ],
   "source": [
    "pter = unemployment.column(\"NEI-PTER\")-unemployment.column(\"NEI\")\n",
    "pter"
   ]
  },
  {
   "cell_type": "code",
   "execution_count": 16,
   "metadata": {
    "deletable": false
   },
   "outputs": [
    {
     "name": "stdout",
     "output_type": "stream",
     "text": [
      "~~~~~~~~~~~~~~~~~~~~~~~~~~~~~~~~~~~~~~~~~~~~~~~~~~~~~~~~~~~~~~~~~~~~~\n",
      "Running tests\n",
      "\n",
      "---------------------------------------------------------------------\n",
      "Test summary\n",
      "    Passed: 1\n",
      "    Failed: 0\n",
      "[ooooooooook] 100.0% passed\n",
      "\n"
     ]
    }
   ],
   "source": [
    "_ = ok.grade('q1_4')"
   ]
  },
  {
   "cell_type": "markdown",
   "metadata": {},
   "source": [
    "**Question 5.** Add `pter` as a column to `unemployment` (named \"PTER\") and sort the resulting table by that column in descending order.  Call the table `by_pter`.\n",
    "\n",
    "Try to do this with a single line of code, if you can."
   ]
  },
  {
   "cell_type": "code",
   "execution_count": 22,
   "metadata": {},
   "outputs": [
    {
     "data": {
      "text/html": [
       "<table border=\"1\" class=\"dataframe\">\n",
       "    <thead>\n",
       "        <tr>\n",
       "            <th>Date</th> <th>NEI</th> <th>NEI-PTER</th> <th>PTER</th>\n",
       "        </tr>\n",
       "    </thead>\n",
       "    <tbody>\n",
       "        <tr>\n",
       "            <td>2009-07-01</td> <td>10.8089</td> <td>12.7404 </td> <td>1.9315</td>\n",
       "        </tr>\n",
       "        <tr>\n",
       "            <td>2010-04-01</td> <td>10.6597</td> <td>12.5664 </td> <td>1.9067</td>\n",
       "        </tr>\n",
       "        <tr>\n",
       "            <td>2009-10-01</td> <td>10.9698</td> <td>12.8557 </td> <td>1.8859</td>\n",
       "        </tr>\n",
       "        <tr>\n",
       "            <td>2010-10-01</td> <td>10.5856</td> <td>12.4329 </td> <td>1.8473</td>\n",
       "        </tr>\n",
       "        <tr>\n",
       "            <td>2009-04-01</td> <td>10.7082</td> <td>12.5497 </td> <td>1.8415</td>\n",
       "        </tr>\n",
       "        <tr>\n",
       "            <td>2010-07-01</td> <td>10.5521</td> <td>12.3897 </td> <td>1.8376</td>\n",
       "        </tr>\n",
       "        <tr>\n",
       "            <td>2010-01-01</td> <td>10.9054</td> <td>12.7311 </td> <td>1.8257</td>\n",
       "        </tr>\n",
       "        <tr>\n",
       "            <td>2011-04-01</td> <td>10.4409</td> <td>12.247  </td> <td>1.8061</td>\n",
       "        </tr>\n",
       "        <tr>\n",
       "            <td>2011-01-01</td> <td>10.5024</td> <td>12.3017 </td> <td>1.7993</td>\n",
       "        </tr>\n",
       "        <tr>\n",
       "            <td>2011-10-01</td> <td>10.3287</td> <td>12.1214 </td> <td>1.7927</td>\n",
       "        </tr>\n",
       "    </tbody>\n",
       "</table>\n",
       "<p>... (80 rows omitted)</p>"
      ],
      "text/plain": [
       "Date       | NEI     | NEI-PTER | PTER\n",
       "2009-07-01 | 10.8089 | 12.7404  | 1.9315\n",
       "2010-04-01 | 10.6597 | 12.5664  | 1.9067\n",
       "2009-10-01 | 10.9698 | 12.8557  | 1.8859\n",
       "2010-10-01 | 10.5856 | 12.4329  | 1.8473\n",
       "2009-04-01 | 10.7082 | 12.5497  | 1.8415\n",
       "2010-07-01 | 10.5521 | 12.3897  | 1.8376\n",
       "2010-01-01 | 10.9054 | 12.7311  | 1.8257\n",
       "2011-04-01 | 10.4409 | 12.247   | 1.8061\n",
       "2011-01-01 | 10.5024 | 12.3017  | 1.7993\n",
       "2011-10-01 | 10.3287 | 12.1214  | 1.7927\n",
       "... (80 rows omitted)"
      ]
     },
     "execution_count": 22,
     "metadata": {},
     "output_type": "execute_result"
    }
   ],
   "source": [
    "by_pter = unemployment.with_column(\"PTER\", pter).sort(\"PTER\", descending=True)\n",
    "by_pter"
   ]
  },
  {
   "cell_type": "code",
   "execution_count": 23,
   "metadata": {
    "deletable": false
   },
   "outputs": [
    {
     "name": "stdout",
     "output_type": "stream",
     "text": [
      "~~~~~~~~~~~~~~~~~~~~~~~~~~~~~~~~~~~~~~~~~~~~~~~~~~~~~~~~~~~~~~~~~~~~~\n",
      "Running tests\n",
      "\n",
      "---------------------------------------------------------------------\n",
      "Test summary\n",
      "    Passed: 1\n",
      "    Failed: 0\n",
      "[ooooooooook] 100.0% passed\n",
      "\n"
     ]
    }
   ],
   "source": [
    "_ = ok.grade('q1_5')"
   ]
  },
  {
   "cell_type": "markdown",
   "metadata": {},
   "source": [
    "**Question 6.** Create a line plot of the PTER over time. To do this, first add the `year` array and the `pter` array to the `unemployment` table; label these columns `Year` and `PTER`, respectively. Then, generate a line plot using one of the table methods you've learned in class. Assign this new table to `pter_over_time`.\n",
    "\n",
    "**Note:** Make sure that in your `pter_over_time` table, the `Year` column comes before the `PTER` column."
   ]
  },
  {
   "cell_type": "code",
   "execution_count": 25,
   "metadata": {
    "scrolled": false
   },
   "outputs": [
    {
     "data": {
      "image/png": "[encoded data removed]",
      "text/plain": [
       "<Figure size 432x288 with 1 Axes>"
      ]
     },
     "metadata": {},
     "output_type": "display_data"
    }
   ],
   "source": [
    "year = 1994 + np.arange(by_pter.num_rows)/4\n",
    "pter_over_time = unemployment.with_column(\"Year\", year).with_column(\"PTER\", pter)\n",
    "pter_over_time.plot(\"Year\", \"PTER\")"
   ]
  },
  {
   "cell_type": "code",
   "execution_count": 26,
   "metadata": {
    "deletable": false
   },
   "outputs": [
    {
     "name": "stdout",
     "output_type": "stream",
     "text": [
      "~~~~~~~~~~~~~~~~~~~~~~~~~~~~~~~~~~~~~~~~~~~~~~~~~~~~~~~~~~~~~~~~~~~~~\n",
      "Running tests\n",
      "\n",
      "---------------------------------------------------------------------\n",
      "Test summary\n",
      "    Passed: 1\n",
      "    Failed: 0\n",
      "[ooooooooook] 100.0% passed\n",
      "\n"
     ]
    }
   ],
   "source": [
    "_ = ok.grade('q1_6')"
   ]
  },
  {
   "cell_type": "markdown",
   "metadata": {},
   "source": [
    "**Question 7.** Were PTER rates high during or directly after the Great Recession (that is to say, were PTER rates particularly high in the years 2008 through 2011)? Assign highPTER to `True` if you think PTER rates were high in this period, and `False` if you think they weren't. "
   ]
  },
  {
   "cell_type": "code",
   "execution_count": 31,
   "metadata": {},
   "outputs": [],
   "source": [
    "highPTER = True"
   ]
  },
  {
   "cell_type": "code",
   "execution_count": 32,
   "metadata": {
    "deletable": false
   },
   "outputs": [
    {
     "name": "stdout",
     "output_type": "stream",
     "text": [
      "~~~~~~~~~~~~~~~~~~~~~~~~~~~~~~~~~~~~~~~~~~~~~~~~~~~~~~~~~~~~~~~~~~~~~\n",
      "Running tests\n",
      "\n",
      "---------------------------------------------------------------------\n",
      "Test summary\n",
      "    Passed: 1\n",
      "    Failed: 0\n",
      "[ooooooooook] 100.0% passed\n",
      "\n"
     ]
    }
   ],
   "source": [
    "_ = ok.grade('q1_7')"
   ]
  },
  {
   "cell_type": "markdown",
   "metadata": {},
   "source": [
    "## 2. Birth Rates\n"
   ]
  },
  {
   "cell_type": "markdown",
   "metadata": {},
   "source": [
    "The following table gives census-based population estimates for each state on both July 1, 2015 and July 1, 2016. The last four columns describe the components of the estimated change in population during this time interval. **For all questions below, assume that the word \"states\" refers to all 52 rows including Puerto Rico & the District of Columbia.**\n",
    "\n",
    "The data was taken from [here](http://www2.census.gov/programs-surveys/popest/datasets/2010-2016/national/totals/nst-est2016-alldata.csv).\n",
    "\n",
    "If you want to read more about the different column descriptions, click [here](http://www2.census.gov/programs-surveys/popest/datasets/2010-2015/national/totals/nst-est2015-alldata.pdf)!"
   ]
  },
  {
   "cell_type": "code",
   "execution_count": 33,
   "metadata": {},
   "outputs": [
    {
     "data": {
      "text/html": [
       "<table border=\"1\" class=\"dataframe\">\n",
       "    <thead>\n",
       "        <tr>\n",
       "            <th>REGION</th> <th>NAME</th> <th>2015</th> <th>2016</th> <th>BIRTHS</th> <th>DEATHS</th> <th>MIGRATION</th> <th>OTHER</th>\n",
       "        </tr>\n",
       "    </thead>\n",
       "    <tbody>\n",
       "        <tr>\n",
       "            <td>3     </td> <td>Alabama   </td> <td>4,853,875 </td> <td>4,863,300 </td> <td>58,556 </td> <td>52,405 </td> <td>3,874    </td> <td>-600  </td>\n",
       "        </tr>\n",
       "        <tr>\n",
       "            <td>4     </td> <td>Alaska    </td> <td>737,709   </td> <td>741,894   </td> <td>11,255 </td> <td>4,511  </td> <td>-2,557   </td> <td>-2    </td>\n",
       "        </tr>\n",
       "        <tr>\n",
       "            <td>4     </td> <td>Arizona   </td> <td>6,817,565 </td> <td>6,931,071 </td> <td>87,204 </td> <td>56,564 </td> <td>76,405   </td> <td>6,461 </td>\n",
       "        </tr>\n",
       "        <tr>\n",
       "            <td>3     </td> <td>Arkansas  </td> <td>2,977,853 </td> <td>2,988,248 </td> <td>37,936 </td> <td>30,581 </td> <td>3,530    </td> <td>-490  </td>\n",
       "        </tr>\n",
       "        <tr>\n",
       "            <td>4     </td> <td>California</td> <td>38,993,940</td> <td>39,250,017</td> <td>502,848</td> <td>273,850</td> <td>33,530   </td> <td>-6,451</td>\n",
       "        </tr>\n",
       "    </tbody>\n",
       "</table>\n",
       "<p>... (47 rows omitted)</p>"
      ],
      "text/plain": [
       "<IPython.core.display.HTML object>"
      ]
     },
     "metadata": {},
     "output_type": "display_data"
    }
   ],
   "source": [
    "# Don't change this cell; just run it.\n",
    "pop = Table.read_table('nst-est2016-alldata.csv').where('SUMLEV', 40).select([1, 4, 12, 13, 27, 34, 62, 69])\n",
    "pop = pop.relabeled('POPESTIMATE2015', '2015').relabeled('POPESTIMATE2016', '2016')\n",
    "pop = pop.relabeled('BIRTHS2016', 'BIRTHS').relabeled('DEATHS2016', 'DEATHS')\n",
    "pop = pop.relabeled('NETMIG2016', 'MIGRATION').relabeled('RESIDUAL2016', 'OTHER')\n",
    "pop.set_format([2, 3, 4, 5, 6, 7], NumberFormatter(decimals=0)).show(5)"
   ]
  },
  {
   "cell_type": "markdown",
   "metadata": {},
   "source": [
    "**Question 1.** Assign `us_birth_rate` to the total US annual birth rate during this time interval. The annual birth rate for a year-long period is the total number of births in that period as a proportion of the population size at the start of the time period.\n",
    "\n",
    "**Hint:** Which year corresponds to the start of the time period?"
   ]
  },
  {
   "cell_type": "code",
   "execution_count": 43,
   "metadata": {},
   "outputs": [
    {
     "data": {
      "text/plain": [
       "0.012358536498646102"
      ]
     },
     "execution_count": 43,
     "metadata": {},
     "output_type": "execute_result"
    }
   ],
   "source": [
    "us_birth_rate = sum(pop.column(\"BIRTHS\"))/sum(pop.column(\"2015\"))\n",
    "us_birth_rate"
   ]
  },
  {
   "cell_type": "code",
   "execution_count": 44,
   "metadata": {
    "deletable": false
   },
   "outputs": [
    {
     "name": "stdout",
     "output_type": "stream",
     "text": [
      "~~~~~~~~~~~~~~~~~~~~~~~~~~~~~~~~~~~~~~~~~~~~~~~~~~~~~~~~~~~~~~~~~~~~~\n",
      "Running tests\n",
      "\n",
      "---------------------------------------------------------------------\n",
      "Test summary\n",
      "    Passed: 1\n",
      "    Failed: 0\n",
      "[ooooooooook] 100.0% passed\n",
      "\n"
     ]
    }
   ],
   "source": [
    "_ = ok.grade('q2_1')"
   ]
  },
  {
   "cell_type": "markdown",
   "metadata": {},
   "source": [
    "**Question 2.** Assign `movers` to the number of states for which the **absolute value** of the **annual rate of migration** was higher than 1%. The annual rate of migration for a year-long period is the net number of migrations (in and out) as a proportion of the population size at the start of the period. The `MIGRATION` column contains estimated annual net migration counts by state."
   ]
  },
  {
   "cell_type": "code",
   "execution_count": 49,
   "metadata": {},
   "outputs": [
    {
     "data": {
      "text/plain": [
       "9"
      ]
     },
     "execution_count": 49,
     "metadata": {},
     "output_type": "execute_result"
    }
   ],
   "source": [
    "migration_rates = pop.with_column(\"MIGRATION RATES\", abs(pop.column(\"MIGRATION\"))/pop.column(\"2015\"))\n",
    "movers = migration_rates.where(\"MIGRATION RATES\", are.above(0.01)).num_rows\n",
    "movers"
   ]
  },
  {
   "cell_type": "code",
   "execution_count": 50,
   "metadata": {
    "deletable": false,
    "scrolled": true
   },
   "outputs": [
    {
     "name": "stdout",
     "output_type": "stream",
     "text": [
      "~~~~~~~~~~~~~~~~~~~~~~~~~~~~~~~~~~~~~~~~~~~~~~~~~~~~~~~~~~~~~~~~~~~~~\n",
      "Running tests\n",
      "\n",
      "---------------------------------------------------------------------\n",
      "Test summary\n",
      "    Passed: 1\n",
      "    Failed: 0\n",
      "[ooooooooook] 100.0% passed\n",
      "\n"
     ]
    }
   ],
   "source": [
    "_ = ok.grade('q2_2')"
   ]
  },
  {
   "cell_type": "markdown",
   "metadata": {},
   "source": [
    "**Question 3.** Assign `west_births` to the total number of births that occurred in region 4 (the Western US). \n",
    "\n",
    "**Hint:** Make sure you double check the type of the values in the region column."
   ]
  },
  {
   "cell_type": "code",
   "execution_count": 59,
   "metadata": {},
   "outputs": [
    {
     "data": {
      "text/plain": [
       "979657"
      ]
     },
     "execution_count": 59,
     "metadata": {},
     "output_type": "execute_result"
    }
   ],
   "source": [
    "west_births = sum(pop.where(\"REGION\", \"4\").column(\"BIRTHS\"))\n",
    "west_births"
   ]
  },
  {
   "cell_type": "code",
   "execution_count": 60,
   "metadata": {
    "deletable": false
   },
   "outputs": [
    {
     "name": "stdout",
     "output_type": "stream",
     "text": [
      "~~~~~~~~~~~~~~~~~~~~~~~~~~~~~~~~~~~~~~~~~~~~~~~~~~~~~~~~~~~~~~~~~~~~~\n",
      "Running tests\n",
      "\n",
      "---------------------------------------------------------------------\n",
      "Test summary\n",
      "    Passed: 1\n",
      "    Failed: 0\n",
      "[ooooooooook] 100.0% passed\n",
      "\n"
     ]
    }
   ],
   "source": [
    "_ = ok.grade('q2_3')"
   ]
  },
  {
   "cell_type": "markdown",
   "metadata": {},
   "source": [
    "**Question 4.** Assign `less_than_west_births` to the number of states that had a total population in 2016 that was smaller than the *total number of births in region 4 (the Western US)* during this time interval."
   ]
  },
  {
   "cell_type": "code",
   "execution_count": 68,
   "metadata": {},
   "outputs": [
    {
     "data": {
      "text/plain": [
       "7"
      ]
     },
     "execution_count": 68,
     "metadata": {},
     "output_type": "execute_result"
    }
   ],
   "source": [
    "less_than_west_births = pop.where(\"2016\", are.below(west_births)).num_rows\n",
    "less_than_west_births"
   ]
  },
  {
   "cell_type": "code",
   "execution_count": 69,
   "metadata": {
    "deletable": false
   },
   "outputs": [
    {
     "name": "stdout",
     "output_type": "stream",
     "text": [
      "~~~~~~~~~~~~~~~~~~~~~~~~~~~~~~~~~~~~~~~~~~~~~~~~~~~~~~~~~~~~~~~~~~~~~\n",
      "Running tests\n",
      "\n",
      "---------------------------------------------------------------------\n",
      "Test summary\n",
      "    Passed: 2\n",
      "    Failed: 0\n",
      "[ooooooooook] 100.0% passed\n",
      "\n"
     ]
    }
   ],
   "source": [
    "_ = ok.grade('q2_4')"
   ]
  },
  {
   "cell_type": "markdown",
   "metadata": {},
   "source": [
    "**Question 5.** \n",
    "\n",
    "In the next question, you will be creating a visualization to understand the relationship between birth and death rates. The annual death rate for a year-long period is the total number of deaths in that period as a proportion of the population size at the start of the time period.\n",
    "\n",
    "What visualization is most appropriate to see if there is an association between birth and death rates during a given time interval?\n",
    "\n",
    "1. Line Graph\n",
    "<br>\n",
    "2. Scatter Plot\n",
    "<br>\n",
    "3. Bar Chart\n",
    "\n",
    "Assign `visualization` below to the number corresponding to the correct visualization."
   ]
  },
  {
   "cell_type": "code",
   "execution_count": 70,
   "metadata": {},
   "outputs": [],
   "source": [
    "visualization = 2"
   ]
  },
  {
   "cell_type": "code",
   "execution_count": 71,
   "metadata": {},
   "outputs": [
    {
     "name": "stdout",
     "output_type": "stream",
     "text": [
      "~~~~~~~~~~~~~~~~~~~~~~~~~~~~~~~~~~~~~~~~~~~~~~~~~~~~~~~~~~~~~~~~~~~~~\n",
      "Running tests\n",
      "\n",
      "---------------------------------------------------------------------\n",
      "Test summary\n",
      "    Passed: 1\n",
      "    Failed: 0\n",
      "[ooooooooook] 100.0% passed\n",
      "\n"
     ]
    }
   ],
   "source": [
    "_ = ok.grade('q2_5')"
   ]
  },
  {
   "cell_type": "markdown",
   "metadata": {},
   "source": [
    "**Question 6.** \n",
    "\n",
    "In the code cell below, create a visualization that will help us determine if there is an association between birth rate and death rate during this time interval. It may be helpful to create an intermediate table here."
   ]
  },
  {
   "cell_type": "code",
   "execution_count": 79,
   "metadata": {
    "deletable": false,
    "manual_problem_id": "birth_death_rates_graph"
   },
   "outputs": [
    {
     "data": {
      "image/png": "[encoded data removed]",
      "text/plain": [
       "<Figure size 360x360 with 1 Axes>"
      ]
     },
     "metadata": {},
     "output_type": "display_data"
    }
   ],
   "source": [
    "# Generate your chart in this cell\n",
    "birth_rates=pop.column(\"BIRTHS\")/pop.column(\"2015\")\n",
    "death_rates=pop.column(\"DEATHS\")/pop.column(\"2015\")\n",
    "pop_updated=pop.with_column(\"BIRTH RATES\", birth_rates).with_column(\"DEATH RATES\", death_rates)\n",
    "pop_updated.scatter(\"BIRTH RATES\", \"DEATH RATES\")"
   ]
  },
  {
   "cell_type": "markdown",
   "metadata": {},
   "source": [
    "**Question 7.** `True` or `False`: There is an association between birth rate and death rate during this time interval. \n",
    "\n",
    "Assign `assoc` to `True` or `False` in the cell below. "
   ]
  },
  {
   "cell_type": "code",
   "execution_count": 80,
   "metadata": {},
   "outputs": [],
   "source": [
    "assoc = True"
   ]
  },
  {
   "cell_type": "code",
   "execution_count": 81,
   "metadata": {
    "deletable": false
   },
   "outputs": [
    {
     "name": "stdout",
     "output_type": "stream",
     "text": [
      "~~~~~~~~~~~~~~~~~~~~~~~~~~~~~~~~~~~~~~~~~~~~~~~~~~~~~~~~~~~~~~~~~~~~~\n",
      "Running tests\n",
      "\n",
      "---------------------------------------------------------------------\n",
      "Test summary\n",
      "    Passed: 1\n",
      "    Failed: 0\n",
      "[ooooooooook] 100.0% passed\n",
      "\n"
     ]
    }
   ],
   "source": [
    "_ = ok.grade('q2_7')"
   ]
  },
  {
   "cell_type": "markdown",
   "metadata": {},
   "source": [
    "## 3. Marginal Histograms\n"
   ]
  },
  {
   "cell_type": "markdown",
   "metadata": {},
   "source": [
    "Consider the following scatter plot: ![](scatter.png)\n",
    "\n",
    "The axes of the plot represent values of two variables: $x$ and $y$. "
   ]
  },
  {
   "cell_type": "markdown",
   "metadata": {},
   "source": [
    "Suppose we have a table called `t` that has two columns in it:\n",
    "\n",
    "- `x`: a column containing the x-values of the points in the scatter plot\n",
    "- `y`: a column containing the y-values of the points in the scatter plot"
   ]
  },
  {
   "cell_type": "markdown",
   "metadata": {},
   "source": [
    "**Question 1:** Match each of the following histograms to the code that produced them. Explain your reasoning."
   ]
  },
  {
   "cell_type": "markdown",
   "metadata": {},
   "source": [
    "**Histogram A:** ![](var1.png)\n",
    "**Histogram B:** ![](var2.png)"
   ]
  },
  {
   "cell_type": "markdown",
   "metadata": {
    "deletable": false,
    "for_assignment_type": "student",
    "manual_problem_id": "hist_x"
   },
   "source": [
    "**Line 1:** `t.hist('x')`\n",
    "\n",
    "**Histogram for Line 1:** B\n",
    "\n",
    "**Explanation:** Line 1 asks for the historgram of the x value of the scatter plot. The x value of the scatter plot ranges from less than -2 to more than 2. In histogram B, the bar charts show that the value takes over the range of less than 2 to greater than 2. Thus, these two matches. "
   ]
  },
  {
   "cell_type": "markdown",
   "metadata": {
    "deletable": false,
    "for_assignment_type": "student",
    "manual_problem_id": "hist_y"
   },
   "source": [
    "**Line 2:** `t.hist('y')`\n",
    "\n",
    "**Histogram for Line 2:** A\n",
    "\n",
    "**Explanation:** Line 2 asks for the historgram of the y value of the scatter plot. The y value of the scatter plot ranges from -0.5 to -1.5 and from 0.5 to 1.5. In histogram A, the bar charts show that the value ranges from -0.5 to -1.5 and from 0.5 to 1.5. Thus, these two matches. "
   ]
  },
  {
   "cell_type": "markdown",
   "metadata": {},
   "source": [
    "## 4. Uber\n"
   ]
  },
  {
   "cell_type": "markdown",
   "metadata": {},
   "source": [
    "Below we load tables containing 200,000 weekday Uber rides in the Manila, Philippines, and Boston, Massachusetts metropolitan areas from the [Uber Movement](https://movement.uber.com) project. The `sourceid` and `dstid` columns contain codes corresponding to start and end locations of each ride. The `hod` column contains codes corresponding to the hour of the day the ride took place. The `ride time` table contains the length of the ride, in minutes."
   ]
  },
  {
   "cell_type": "code",
   "execution_count": 82,
   "metadata": {
    "for_question_type": "solution",
    "scrolled": true
   },
   "outputs": [
    {
     "name": "stdout",
     "output_type": "stream",
     "text": [
      "Boston Table\n"
     ]
    },
    {
     "data": {
      "text/html": [
       "<table border=\"1\" class=\"dataframe\">\n",
       "    <thead>\n",
       "        <tr>\n",
       "            <th>sourceid</th> <th>dstid</th> <th>hod</th> <th>ride time</th>\n",
       "        </tr>\n",
       "    </thead>\n",
       "    <tbody>\n",
       "        <tr>\n",
       "            <td>584     </td> <td>33   </td> <td>7   </td> <td>11.866   </td>\n",
       "        </tr>\n",
       "        <tr>\n",
       "            <td>1013    </td> <td>1116 </td> <td>13  </td> <td>17.7993  </td>\n",
       "        </tr>\n",
       "        <tr>\n",
       "            <td>884     </td> <td>1190 </td> <td>22  </td> <td>19.3488  </td>\n",
       "        </tr>\n",
       "        <tr>\n",
       "            <td>211     </td> <td>364  </td> <td>1   </td> <td>1.7235   </td>\n",
       "        </tr>\n",
       "    </tbody>\n",
       "</table>\n",
       "<p>... (199996 rows omitted)</p>"
      ],
      "text/plain": [
       "<IPython.core.display.HTML object>"
      ]
     },
     "metadata": {},
     "output_type": "display_data"
    },
    {
     "name": "stdout",
     "output_type": "stream",
     "text": [
      "Manila Table\n"
     ]
    },
    {
     "data": {
      "text/html": [
       "<table border=\"1\" class=\"dataframe\">\n",
       "    <thead>\n",
       "        <tr>\n",
       "            <th>sourceid</th> <th>dstid</th> <th>hod</th> <th>ride time</th>\n",
       "        </tr>\n",
       "    </thead>\n",
       "    <tbody>\n",
       "        <tr>\n",
       "            <td>544     </td> <td>5    </td> <td>22  </td> <td>22.8115  </td>\n",
       "        </tr>\n",
       "        <tr>\n",
       "            <td>302     </td> <td>240  </td> <td>21  </td> <td>7.02267  </td>\n",
       "        </tr>\n",
       "        <tr>\n",
       "            <td>278     </td> <td>99   </td> <td>16  </td> <td>21.6437  </td>\n",
       "        </tr>\n",
       "        <tr>\n",
       "            <td>720     </td> <td>775  </td> <td>18  </td> <td>13.0597  </td>\n",
       "        </tr>\n",
       "    </tbody>\n",
       "</table>\n",
       "<p>... (199996 rows omitted)</p>"
      ],
      "text/plain": [
       "<IPython.core.display.HTML object>"
      ]
     },
     "metadata": {},
     "output_type": "display_data"
    }
   ],
   "source": [
    "boston = Table.read_table(\"boston.csv\")\n",
    "manila = Table.read_table(\"manila.csv\")\n",
    "print(\"Boston Table\")\n",
    "boston.show(4)\n",
    "print(\"Manila Table\")\n",
    "manila.show(4)"
   ]
  },
  {
   "cell_type": "markdown",
   "metadata": {},
   "source": [
    "**Question 1.**\n",
    "Produce histograms of all ride times in Boston and in Manila, using the given bins. Please put the code for both of them in the following cells, and put the ride times for Boston first.  "
   ]
  },
  {
   "cell_type": "code",
   "execution_count": 86,
   "metadata": {
    "deletable": false,
    "manual_problem_id": "uber_1",
    "scrolled": true
   },
   "outputs": [
    {
     "data": {
      "image/png": "[encoded data removed]",
      "text/plain": [
       "<Figure size 432x288 with 1 Axes>"
      ]
     },
     "metadata": {},
     "output_type": "display_data"
    }
   ],
   "source": [
    "equal_bins = np.arange(0, 120, 5)\n",
    "boston.hist(\"ride time\", bins=equal_bins)"
   ]
  },
  {
   "cell_type": "code",
   "execution_count": 87,
   "metadata": {},
   "outputs": [
    {
     "data": {
      "text/plain": [
       "(0, 0.05)"
      ]
     },
     "execution_count": 87,
     "metadata": {},
     "output_type": "execute_result"
    },
    {
     "data": {
      "image/png": "[encoded data removed]",
      "text/plain": [
       "<Figure size 432x288 with 1 Axes>"
      ]
     },
     "metadata": {},
     "output_type": "display_data"
    }
   ],
   "source": [
    "manila.hist(\"ride time\", bins=equal_bins)\n",
    "\n",
    "# Don't delete the following line!\n",
    "plots.ylim(0, 0.05)"
   ]
  },
  {
   "cell_type": "markdown",
   "metadata": {},
   "source": [
    "**Question 2.** Assign `boston_under_10` and `manila_under_10` to the percentage of rides that are less than 10 minutes in their respective metropolitan areas. Use the height variables provided below in order to compute the percentages. Your solution should consist of only mathematical operations and numbers."
   ]
  },
  {
   "cell_type": "code",
   "execution_count": 100,
   "metadata": {
    "deletable": false,
    "manual_problem_id": "uber_2"
   },
   "outputs": [],
   "source": [
    "boston_under_5_height = 1.2\n",
    "manila_under_5_height = 0.6\n",
    "boston_5_to_under_10_height = 3.2\n",
    "manila_5_to_under_10_height = 1.4\n",
    "\n",
    "boston_under_10 = (boston_under_5_height+boston_5_to_under_10_height)*10\n",
    "manila_under_10 = (manila_under_5_height+manila_5_to_under_10_height)*10"
   ]
  },
  {
   "cell_type": "code",
   "execution_count": 101,
   "metadata": {},
   "outputs": [
    {
     "name": "stdout",
     "output_type": "stream",
     "text": [
      "~~~~~~~~~~~~~~~~~~~~~~~~~~~~~~~~~~~~~~~~~~~~~~~~~~~~~~~~~~~~~~~~~~~~~\n",
      "Running tests\n",
      "\n",
      "---------------------------------------------------------------------\n",
      "Test summary\n",
      "    Passed: 2\n",
      "    Failed: 0\n",
      "[ooooooooook] 100.0% passed\n",
      "\n"
     ]
    }
   ],
   "source": [
    "_ = ok.grade('q4_2')"
   ]
  },
  {
   "cell_type": "markdown",
   "metadata": {},
   "source": [
    "**Question 3.** Let's take a closer look at the distribution of ride times in Manila. Assign `manila_median_bucket` to 1, 2, 3, or 4, where each number corresponds to a bucket which contains the median time.\n",
    "\n",
    "1: 0-20   minutes  \n",
    "2: 20-40 minutes  \n",
    "3: 40-60 minutes  \n",
    "4: 60-80 minutes  \n",
    "\n",
    "The median of a sorted, nondecreasing list has half of the list elements to its left, and half to its right."
   ]
  },
  {
   "cell_type": "code",
   "execution_count": 102,
   "metadata": {},
   "outputs": [
    {
     "data": {
      "text/plain": [
       "2"
      ]
     },
     "execution_count": 102,
     "metadata": {},
     "output_type": "execute_result"
    }
   ],
   "source": [
    "manila_median_bucket = 2\n",
    "manila_median_bucket"
   ]
  },
  {
   "cell_type": "code",
   "execution_count": 103,
   "metadata": {
    "deletable": false
   },
   "outputs": [
    {
     "name": "stdout",
     "output_type": "stream",
     "text": [
      "~~~~~~~~~~~~~~~~~~~~~~~~~~~~~~~~~~~~~~~~~~~~~~~~~~~~~~~~~~~~~~~~~~~~~\n",
      "Running tests\n",
      "\n",
      "---------------------------------------------------------------------\n",
      "Test summary\n",
      "    Passed: 1\n",
      "    Failed: 0\n",
      "[ooooooooook] 100.0% passed\n",
      "\n"
     ]
    }
   ],
   "source": [
    "_ = ok.grade('q4_3')"
   ]
  },
  {
   "cell_type": "markdown",
   "metadata": {},
   "source": [
    "**Question 4.** Comment on the main difference between the two histograms. What might be causing this?\n",
    "\n",
    "**Hint:** Try thinking about external factors that may be causing the difference!"
   ]
  },
  {
   "cell_type": "markdown",
   "metadata": {
    "deletable": false,
    "for_assignment_type": "student",
    "manual_problem_id": "uber_4"
   },
   "source": [
    "**Your Answer Here**: The main differences between the two histograms are the Boston Histogram has a higher peak than Manila and has a narrower spread than Manila. From the graph shown, it seems that Boston uber riders tend to travel for a relatively shorter amount of time than Manila. This is probably because Boston is a larger city where public transportation is better. "
   ]
  },
  {
   "cell_type": "markdown",
   "metadata": {},
   "source": [
    "## 5. Submission\n"
   ]
  },
  {
   "cell_type": "markdown",
   "metadata": {
    "collapsed": true
   },
   "source": [
    "Once you're finished, select \"Save and Checkpoint\" in the File menu and then execute the `submit` cell below. The result will contain a link that you can use to check that your assignment has been submitted successfully. If you submit more than once before the deadline, we will only grade your final submission. If you mistakenly submit the wrong one, you can head to [okpy.org](https://okpy.org/) and flag the correct version. To do so, go to the website, click on this assignment, and find the version you would like to have graded. There should be an option to flag that submission for grading!"
   ]
  },
  {
   "cell_type": "code",
   "execution_count": 104,
   "metadata": {},
   "outputs": [
    {
     "data": {
      "application/javascript": [
       "IPython.notebook.save_checkpoint();"
      ],
      "text/plain": [
       "<IPython.core.display.Javascript object>"
      ]
     },
     "metadata": {},
     "output_type": "display_data"
    },
    {
     "data": {
      "application/javascript": [
       "IPython.notebook.save_notebook();"
      ],
      "text/plain": [
       "<IPython.core.display.Javascript object>"
      ]
     },
     "metadata": {},
     "output_type": "display_data"
    },
    {
     "name": "stdout",
     "output_type": "stream",
     "text": [
      "Saving notebook... Saved 'hw03.ipynb'.\n",
      "Submit... 100% complete\n",
      "Submission successful for user: haoyunhong@berkeley.edu\n",
      "URL: https://okpy.org/cal/data8/sp19/hw03/submissions/VAmy7M\n",
      "\n"
     ]
    }
   ],
   "source": [
    "_ = ok.submit()"
   ]
  },
  {
   "cell_type": "code",
   "execution_count": 105,
   "metadata": {},
   "outputs": [
    {
     "name": "stdout",
     "output_type": "stream",
     "text": [
      "Running all tests...\n",
      "~~~~~~~~~~~~~~~~~~~~~~~~~~~~~~~~~~~~~~~~~~~~~~~~~~~~~~~~~~~~~~~~~~~~~\n",
      "Running tests\n",
      "\n",
      "---------------------------------------------------------------------\n",
      "Test summary\n",
      "    Passed: 2\n",
      "    Failed: 0\n",
      "[ooooooooook] 100.0% passed\n",
      "\n",
      "~~~~~~~~~~~~~~~~~~~~~~~~~~~~~~~~~~~~~~~~~~~~~~~~~~~~~~~~~~~~~~~~~~~~~\n",
      "Running tests\n",
      "\n",
      "---------------------------------------------------------------------\n",
      "Test summary\n",
      "    Passed: 1\n",
      "    Failed: 0\n",
      "[ooooooooook] 100.0% passed\n",
      "\n",
      "~~~~~~~~~~~~~~~~~~~~~~~~~~~~~~~~~~~~~~~~~~~~~~~~~~~~~~~~~~~~~~~~~~~~~\n",
      "Running tests\n",
      "\n",
      "---------------------------------------------------------------------\n",
      "Test summary\n",
      "    Passed: 1\n",
      "    Failed: 0\n",
      "[ooooooooook] 100.0% passed\n",
      "\n",
      "~~~~~~~~~~~~~~~~~~~~~~~~~~~~~~~~~~~~~~~~~~~~~~~~~~~~~~~~~~~~~~~~~~~~~\n",
      "Running tests\n",
      "\n",
      "---------------------------------------------------------------------\n",
      "Test summary\n",
      "    Passed: 1\n",
      "    Failed: 0\n",
      "[ooooooooook] 100.0% passed\n",
      "\n",
      "~~~~~~~~~~~~~~~~~~~~~~~~~~~~~~~~~~~~~~~~~~~~~~~~~~~~~~~~~~~~~~~~~~~~~\n",
      "Running tests\n",
      "\n",
      "---------------------------------------------------------------------\n",
      "Test summary\n",
      "    Passed: 1\n",
      "    Failed: 0\n",
      "[ooooooooook] 100.0% passed\n",
      "\n",
      "~~~~~~~~~~~~~~~~~~~~~~~~~~~~~~~~~~~~~~~~~~~~~~~~~~~~~~~~~~~~~~~~~~~~~\n",
      "Running tests\n",
      "\n",
      "---------------------------------------------------------------------\n",
      "Test summary\n",
      "    Passed: 1\n",
      "    Failed: 0\n",
      "[ooooooooook] 100.0% passed\n",
      "\n",
      "~~~~~~~~~~~~~~~~~~~~~~~~~~~~~~~~~~~~~~~~~~~~~~~~~~~~~~~~~~~~~~~~~~~~~\n",
      "Running tests\n",
      "\n",
      "---------------------------------------------------------------------\n",
      "Test summary\n",
      "    Passed: 1\n",
      "    Failed: 0\n",
      "[ooooooooook] 100.0% passed\n",
      "\n",
      "~~~~~~~~~~~~~~~~~~~~~~~~~~~~~~~~~~~~~~~~~~~~~~~~~~~~~~~~~~~~~~~~~~~~~\n",
      "Running tests\n",
      "\n",
      "---------------------------------------------------------------------\n",
      "Test summary\n",
      "    Passed: 1\n",
      "    Failed: 0\n",
      "[ooooooooook] 100.0% passed\n",
      "\n",
      "~~~~~~~~~~~~~~~~~~~~~~~~~~~~~~~~~~~~~~~~~~~~~~~~~~~~~~~~~~~~~~~~~~~~~\n",
      "Running tests\n",
      "\n",
      "---------------------------------------------------------------------\n",
      "Test summary\n",
      "    Passed: 2\n",
      "    Failed: 0\n",
      "[ooooooooook] 100.0% passed\n",
      "\n",
      "~~~~~~~~~~~~~~~~~~~~~~~~~~~~~~~~~~~~~~~~~~~~~~~~~~~~~~~~~~~~~~~~~~~~~\n",
      "Running tests\n",
      "\n",
      "---------------------------------------------------------------------\n",
      "Test summary\n",
      "    Passed: 1\n",
      "    Failed: 0\n",
      "[ooooooooook] 100.0% passed\n",
      "\n",
      "~~~~~~~~~~~~~~~~~~~~~~~~~~~~~~~~~~~~~~~~~~~~~~~~~~~~~~~~~~~~~~~~~~~~~\n",
      "Running tests\n",
      "\n",
      "---------------------------------------------------------------------\n",
      "Test summary\n",
      "    Passed: 1\n",
      "    Failed: 0\n",
      "[ooooooooook] 100.0% passed\n",
      "\n",
      "~~~~~~~~~~~~~~~~~~~~~~~~~~~~~~~~~~~~~~~~~~~~~~~~~~~~~~~~~~~~~~~~~~~~~\n",
      "Running tests\n",
      "\n",
      "---------------------------------------------------------------------\n",
      "Test summary\n",
      "    Passed: 1\n",
      "    Failed: 0\n",
      "[ooooooooook] 100.0% passed\n",
      "\n",
      "~~~~~~~~~~~~~~~~~~~~~~~~~~~~~~~~~~~~~~~~~~~~~~~~~~~~~~~~~~~~~~~~~~~~~\n",
      "Running tests\n",
      "\n",
      "---------------------------------------------------------------------\n",
      "Test summary\n",
      "    Passed: 1\n",
      "    Failed: 0\n",
      "[ooooooooook] 100.0% passed\n",
      "\n",
      "~~~~~~~~~~~~~~~~~~~~~~~~~~~~~~~~~~~~~~~~~~~~~~~~~~~~~~~~~~~~~~~~~~~~~\n",
      "Running tests\n",
      "\n",
      "---------------------------------------------------------------------\n",
      "Test summary\n",
      "    Passed: 1\n",
      "    Failed: 0\n",
      "[ooooooooook] 100.0% passed\n",
      "\n",
      "~~~~~~~~~~~~~~~~~~~~~~~~~~~~~~~~~~~~~~~~~~~~~~~~~~~~~~~~~~~~~~~~~~~~~\n",
      "Running tests\n",
      "\n",
      "---------------------------------------------------------------------\n",
      "Test summary\n",
      "    Passed: 1\n",
      "    Failed: 0\n",
      "[ooooooooook] 100.0% passed\n",
      "\n",
      "Finished running all tests.\n"
     ]
    }
   ],
   "source": [
    "# For your convenience, you can run this cell to run all the tests at once!\n",
    "import os\n",
    "print(\"Running all tests...\")\n",
    "_ = [ok.grade(q[:-3]) for q in os.listdir(\"tests\") if q.startswith('q') and len(q) <= 10]\n",
    "print(\"Finished running all tests.\")"
   ]
  },
  {
   "cell_type": "code",
   "execution_count": null,
   "metadata": {},
   "outputs": [],
   "source": []
  }
 ],
 "metadata": {
  "kernelspec": {
   "display_name": "Python 3",
   "language": "python",
   "name": "python3"
  },
  "language_info": {
   "codemirror_mode": {
    "name": "ipython",
    "version": 3
   },
   "file_extension": ".py",
   "mimetype": "text/x-python",
   "name": "python",
   "nbconvert_exporter": "python",
   "pygments_lexer": "ipython3",
   "version": "3.6.7"
  }
 },
 "nbformat": 4,
 "nbformat_minor": 1
}
